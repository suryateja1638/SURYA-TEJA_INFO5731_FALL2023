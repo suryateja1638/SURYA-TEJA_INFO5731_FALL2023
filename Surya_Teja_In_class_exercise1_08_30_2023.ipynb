{
  "cells": [
    {
      "cell_type": "markdown",
      "metadata": {
        "id": "view-in-github",
        "colab_type": "text"
      },
      "source": [
        "<a href=\"https://colab.research.google.com/github/suryateja1638/SURYA-TEJA_INFO5731_FALL2023/blob/main/Surya_Teja_In_class_exercise1_08_30_2023.ipynb\" target=\"_parent\"><img src=\"https://colab.research.google.com/assets/colab-badge.svg\" alt=\"Open In Colab\"/></a>"
      ]
    },
    {
      "cell_type": "markdown",
      "metadata": {
        "id": "DymRJbxDBCnf"
      },
      "source": [
        "# **The first In-class-exercise (08/30/2023, 40 points in total)**\n",
        "This exercise is due tomorrow 08/31/203 11:59 PM.\n"
      ]
    },
    {
      "cell_type": "markdown",
      "source": [
        "(1) Write a Python program to calculate the area of a rectangle using user-input length and width."
      ],
      "metadata": {
        "id": "FBKvD6O_TY6e"
      }
    },
    {
      "cell_type": "code",
      "source": [
        "# write your answer here\n",
        "length = float(input(\"Enter the length of the rectangle: \"))\n",
        "width = float(input(\"Enter the width of the rectangle: \"))\n",
        "\n",
        "area = length * width\n",
        "\n",
        "print(f\"The area of the rectangle is: {area}\")"
      ],
      "metadata": {
        "id": "cikVKDXdTbzE",
        "colab": {
          "base_uri": "https://localhost:8080/"
        },
        "outputId": "9e036b8a-e436-42fb-ead1-c5fd21c13960"
      },
      "execution_count": 10,
      "outputs": [
        {
          "output_type": "stream",
          "name": "stdout",
          "text": [
            "Enter the length of the rectangle: 5\n",
            "Enter the width of the rectangle: 8\n",
            "The area of the rectangle is: 40.0\n"
          ]
        }
      ]
    },
    {
      "cell_type": "markdown",
      "source": [
        "(2) Create a program that takes two numbers from the user and swaps their values without using a temporary variable."
      ],
      "metadata": {
        "id": "E9RqrlwdTfvl"
      }
    },
    {
      "cell_type": "code",
      "source": [
        "\n",
        "num1 = float(input(\"Enter the first number: \"))\n",
        "num2 = float(input(\"Enter the second number: \"))\n",
        "\n",
        "# Swapping the values without a temporary variable\n",
        "num1 = num1 + num2\n",
        "num2 = num1 - num2\n",
        "num1 = num1 - num2\n",
        "\n",
        "# Display the swapped values\n",
        "print(f\"After swapping, first number is: {num1}\")\n",
        "print(f\"After swapping, second number is: {num2}\")\n"
      ],
      "metadata": {
        "id": "4XvRknixTh1g",
        "colab": {
          "base_uri": "https://localhost:8080/"
        },
        "outputId": "74f3ec9f-9fe2-47a0-fd6e-86b3a77600f1"
      },
      "execution_count": 11,
      "outputs": [
        {
          "output_type": "stream",
          "name": "stdout",
          "text": [
            "Enter the first number: 55\n",
            "Enter the second number: 44\n",
            "After swapping, first number is: 44.0\n",
            "After swapping, second number is: 55.0\n"
          ]
        }
      ]
    },
    {
      "cell_type": "markdown",
      "metadata": {
        "id": "03jb4GZsBkBS"
      },
      "source": [
        "(3) Write a Python program to calculate the length of a string."
      ]
    },
    {
      "cell_type": "code",
      "execution_count": 12,
      "metadata": {
        "id": "YaGLbSHHB8Ej",
        "colab": {
          "base_uri": "https://localhost:8080/"
        },
        "outputId": "bb711e0c-ffc2-4b90-e57b-99b616268a6b"
      },
      "outputs": [
        {
          "output_type": "stream",
          "name": "stdout",
          "text": [
            "Enter a string: suryateja\n",
            "The length of the string is: 9\n"
          ]
        }
      ],
      "source": [
        "# write your answer here\n",
        "input_string = input(\"Enter a string: \")\n",
        "\n",
        "# Calculate the length of the string\n",
        "string_length = len(input_string)\n",
        "\n",
        "# Display the length of the string\n",
        "print(f\"The length of the string is: {string_length}\")\n"
      ]
    },
    {
      "cell_type": "markdown",
      "metadata": {
        "id": "jJDe71iLB616"
      },
      "source": [
        "(4) Write a Python program to count the number of characters in a string.\n",
        "\n",
        "Sample String : 'google.com‘,\n",
        "\n",
        "Expected Result : {'o': 3, 'g': 2, '.': 1, 'e': 1, 'l': 1, 'm': 1, 'c': 1}"
      ]
    },
    {
      "cell_type": "code",
      "execution_count": 13,
      "metadata": {
        "id": "MtKskTzbCLaU",
        "colab": {
          "base_uri": "https://localhost:8080/"
        },
        "outputId": "9d7c976c-e32d-4149-b175-afaef9552f51"
      },
      "outputs": [
        {
          "output_type": "stream",
          "name": "stdout",
          "text": [
            "{'o': 3, 'g': 2, 'l': 1, 'e': 1, '.': 1, 'c': 1, 'm': 1}\n"
          ]
        }
      ],
      "source": [
        "sample_string = 'google.com'\n",
        "\n",
        "# Initialize an empty dictionary to store character frequencies\n",
        "char_frequency = {}\n",
        "\n",
        "# Count the characters in the string\n",
        "for char in sample_string:\n",
        "    if char in char_frequency:\n",
        "        char_frequency[char] += 1\n",
        "    else:\n",
        "        char_frequency[char] = 1\n",
        "\n",
        "# Sort the characters by frequency in descending order\n",
        "sorted_char_frequency = dict(sorted(char_frequency.items(), key=lambda item: item[1], reverse=True))\n",
        "\n",
        "# Display the sorted character frequencies as a dictionary\n",
        "print(sorted_char_frequency)\n"
      ]
    },
    {
      "cell_type": "markdown",
      "metadata": {
        "id": "55W9AMdXCSpV"
      },
      "source": [
        "(5) Write a Python program to sum all the items in a list."
      ]
    },
    {
      "cell_type": "code",
      "execution_count": 14,
      "metadata": {
        "id": "I57NXsauCec2",
        "colab": {
          "base_uri": "https://localhost:8080/"
        },
        "outputId": "e0a151f7-8bb2-4c5a-ab49-4ec34155af67"
      },
      "outputs": [
        {
          "output_type": "stream",
          "name": "stdout",
          "text": [
            "The sum of the items in the list is: 75\n"
          ]
        }
      ],
      "source": [
        "# Sample list of numbers\n",
        "numbers = [5, 10, 15, 20, 25]\n",
        "\n",
        "# Initialize a variable to store the sum\n",
        "total_sum = 0\n",
        "\n",
        "# Calculate the sum of the items in the list\n",
        "for num in numbers:\n",
        "    total_sum += num\n",
        "\n",
        "# Display the total sum\n",
        "print(f\"The sum of the items in the list is: {total_sum}\")"
      ]
    },
    {
      "cell_type": "markdown",
      "metadata": {
        "id": "4ulBZ6yhCi9F"
      },
      "source": [
        "(6) Write a Python program to get a string from a given string where all occurrences of its first char have been changed to '\\$', except the first char itself.\n",
        "\n",
        "Sample String : 'restart‘,\n",
        "\n",
        "Expected Result : 'resta\\$t'"
      ]
    },
    {
      "cell_type": "code",
      "execution_count": 15,
      "metadata": {
        "id": "Fj0XhwbBCw2o",
        "colab": {
          "base_uri": "https://localhost:8080/"
        },
        "outputId": "9a990b74-e776-4f1b-a9ed-80d298903515"
      },
      "outputs": [
        {
          "output_type": "stream",
          "name": "stdout",
          "text": [
            "output string : suryatej$\n"
          ]
        }
      ],
      "source": [
        "\n",
        "inputstr=\"suryateja\"\n",
        "\n",
        "inputstr=inputstr[::-1]\n",
        "\n",
        "#print(\"input string :\", inputstr)\n",
        "\n",
        "for x in inputstr:\n",
        "\n",
        "    if(inputstr.count(x)>1 and x!='$'):\n",
        "\n",
        "        inputstr=inputstr.replace(x,'$',inputstr.count(x)-1)\n",
        "\n",
        "inputstr=inputstr[::-1]\n",
        "\n",
        "print(\"output string :\", inputstr)"
      ]
    },
    {
      "cell_type": "markdown",
      "source": [
        "(7) Create a program that calculates the factorial of a number using a while loop."
      ],
      "metadata": {
        "id": "qVXA3q7ET5JI"
      }
    },
    {
      "cell_type": "code",
      "source": [
        "\n",
        "n=int(input(\"enter a num :\"))\n",
        "\n",
        "fact=1\n",
        "\n",
        "i=1\n",
        "\n",
        "while i<=n:\n",
        "\n",
        "    fact=fact*i\n",
        "\n",
        "    i=i+1\n",
        "\n",
        "print(\"factorial of \",n,\"is\",fact)"
      ],
      "metadata": {
        "id": "Lbt7R6UkT7BA",
        "colab": {
          "base_uri": "https://localhost:8080/"
        },
        "outputId": "d9f9e1c9-9269-490f-8d07-30f401dd0e18"
      },
      "execution_count": 16,
      "outputs": [
        {
          "output_type": "stream",
          "name": "stdout",
          "text": [
            "enter a num :6\n",
            "factorial of  6 is 720\n"
          ]
        }
      ]
    },
    {
      "cell_type": "markdown",
      "source": [
        "(8) Create a program that takes a list of numbers as input and outputs a new list with only the even numbers."
      ],
      "metadata": {
        "id": "6YfbzXMNT--R"
      }
    },
    {
      "cell_type": "code",
      "source": [
        "list=[6,9,4,0,7]\n",
        "\n",
        "l=[each for each in list if each%2==0]\n",
        "\n",
        "print(l)"
      ],
      "metadata": {
        "id": "54q7wMQPUAKu",
        "colab": {
          "base_uri": "https://localhost:8080/"
        },
        "outputId": "8657acef-c981-4e0b-a756-5d1e12ef72f2"
      },
      "execution_count": 17,
      "outputs": [
        {
          "output_type": "stream",
          "name": "stdout",
          "text": [
            "[6, 4, 0]\n"
          ]
        }
      ]
    },
    {
      "cell_type": "markdown",
      "metadata": {
        "id": "_bIP7s1MCzue"
      },
      "source": [
        "(9) Write a program with python which could accept two parameter a and b to calculate and output the result of S, where\n",
        "\n",
        "$\\ S=3.14*(1+a/b)^3$\n",
        "\n"
      ]
    },
    {
      "cell_type": "code",
      "execution_count": 18,
      "metadata": {
        "id": "w79QilHXD3Mg",
        "colab": {
          "base_uri": "https://localhost:8080/"
        },
        "outputId": "86aef657-42a4-4208-a871-fedf14e28cee"
      },
      "outputs": [
        {
          "output_type": "stream",
          "name": "stdout",
          "text": [
            "s = 10.5975\n"
          ]
        }
      ],
      "source": [
        "pi=3.14\n",
        "\n",
        "a=2\n",
        "\n",
        "b=4\n",
        "\n",
        "s=pi*(1+(a/b))**3\n",
        "\n",
        "print(\"s =\",s)\n",
        "\n"
      ]
    },
    {
      "cell_type": "markdown",
      "metadata": {
        "id": "xCa2bK9aD4Q3"
      },
      "source": [
        "(10) Write a Python program to concatenate following dictionaries to create a new one.\n",
        "\n",
        "Sample Dictionary : dic1={1:10, 2:20}, dic2={3:30, 4:40}, dic3={5:50,6:60},\n",
        "\n",
        "Expected Result : {1: 10, 2: 20, 3: 30, 4: 40, 5: 50, 6: 60}\n"
      ]
    },
    {
      "cell_type": "code",
      "execution_count": 19,
      "metadata": {
        "id": "_z4aLqAbEET1",
        "colab": {
          "base_uri": "https://localhost:8080/"
        },
        "outputId": "44cbaca6-e140-413c-8c10-1432453d77bc"
      },
      "outputs": [
        {
          "output_type": "stream",
          "name": "stdout",
          "text": [
            "Concatenated dictionary: {1: 11, 2: 22, 3: 33, 4: 44, 5: 55, 6: 66}\n"
          ]
        }
      ],
      "source": [
        "# Sample dictionaries\n",
        "dic1 = {1: 11, 2: 22}\n",
        "dic2 = {3: 33, 4: 44}\n",
        "dic3 = {5: 55, 6: 66}\n",
        "\n",
        "# Create a new dictionary by concatenating the given dictionaries\n",
        "result_dict = {}\n",
        "for d in (dic1, dic2, dic3):\n",
        "    result_dict.update(d)\n",
        "\n",
        "# Display the result\n",
        "print(\"Concatenated dictionary:\", result_dict)\n",
        "\n"
      ]
    },
    {
      "cell_type": "markdown",
      "source": [
        "(11) Write a Python function that accepts a tuple of integers and returns the largest and smallest elements."
      ],
      "metadata": {
        "id": "bkyZ2xSZUOst"
      }
    },
    {
      "cell_type": "code",
      "source": [
        "tuple=(6,9,4,0,7)\n",
        "\n",
        "print(tuple)\n",
        "\n",
        "print(\"Largest element =\",max(tuple))\n",
        "\n",
        "print(\"smallest element =\",min(tuple))"
      ],
      "metadata": {
        "id": "3FdLRBKOUQEd",
        "colab": {
          "base_uri": "https://localhost:8080/"
        },
        "outputId": "be7249c4-58aa-43f8-e1e9-839ba301abf1"
      },
      "execution_count": 20,
      "outputs": [
        {
          "output_type": "stream",
          "name": "stdout",
          "text": [
            "(6, 9, 4, 0, 7)\n",
            "Largest element = 9\n",
            "smallest element = 0\n"
          ]
        }
      ]
    },
    {
      "cell_type": "markdown",
      "source": [
        "(12) Write a Python program that counts the frequency of each character in a given string and stores it in a dictionary."
      ],
      "metadata": {
        "id": "O0TVi3gKUTpp"
      }
    },
    {
      "cell_type": "code",
      "source": [
        "s=\"surya\"\n",
        "\n",
        "d=dict()\n",
        "\n",
        "for x in s:\n",
        "\n",
        "    if x in d:\n",
        "\n",
        "        d[x]=d[x]+1\n",
        "\n",
        "    else:\n",
        "\n",
        "        d[x]=1\n",
        "\n",
        "print(d)"
      ],
      "metadata": {
        "id": "lAtfSfZXUU-h",
        "colab": {
          "base_uri": "https://localhost:8080/"
        },
        "outputId": "d80b7e56-3212-4cc8-fe9b-0a8733fb65c6"
      },
      "execution_count": 21,
      "outputs": [
        {
          "output_type": "stream",
          "name": "stdout",
          "text": [
            "{'s': 1, 'u': 1, 'r': 1, 'y': 1, 'a': 1}\n"
          ]
        }
      ]
    },
    {
      "cell_type": "markdown",
      "metadata": {
        "id": "0v48Vqa7FrQh"
      },
      "source": [
        "(13) Write a Python program to check whether an element exists within a tuple."
      ]
    },
    {
      "cell_type": "code",
      "execution_count": 22,
      "metadata": {
        "id": "7WEmgq-DF2P1",
        "colab": {
          "base_uri": "https://localhost:8080/"
        },
        "outputId": "d8595053-7520-4ad1-df0c-97707630f56a"
      },
      "outputs": [
        {
          "output_type": "stream",
          "name": "stdout",
          "text": [
            "yes\n"
          ]
        }
      ],
      "source": [
        "tuple=(\"a\",6,4,9,\"b\",\"t\")\n",
        "\n",
        "a='t'\n",
        "\n",
        "x=[str(i) for i in tuple if str(i) == str(a)]\n",
        "\n",
        "print([\"yes\" if x else \"no\"][0])\n"
      ]
    },
    {
      "cell_type": "markdown",
      "metadata": {
        "id": "vD5PYLMuGga_"
      },
      "source": [
        "(14) Write a Python program to find maximum and the minimum value in a set."
      ]
    },
    {
      "cell_type": "code",
      "execution_count": 23,
      "metadata": {
        "id": "t0D5kdJUGjjw",
        "colab": {
          "base_uri": "https://localhost:8080/"
        },
        "outputId": "4aec3589-8db0-4945-a01d-f3ba83995d15"
      },
      "outputs": [
        {
          "output_type": "stream",
          "name": "stdout",
          "text": [
            "{0, 4, 6, 7, 9}\n",
            "Maximum value = 9\n",
            "Minimum value = 0\n"
          ]
        }
      ],
      "source": [
        "set={6,9,4,0,7}\n",
        "\n",
        "print(set)\n",
        "\n",
        "print(\"Maximum value =\",max(set))\n",
        "\n",
        "print(\"Minimum value =\",min(set))\n"
      ]
    },
    {
      "cell_type": "markdown",
      "metadata": {
        "id": "uHkd-y5VhVWC"
      },
      "source": [
        "(15) Write a Python program to randomly divide the students in this class into six groups for term projects, each group should have at least 4 students but no more than 6 students (including 6). Here is the students list:\n",
        "student_list_fall_2023=['sb1826' ,\n",
        " 'lb0582' ,\n",
        " 'ab1820' ,\n",
        " 'sb1883' ,\n",
        " 'mb1296' ,\n",
        " 'sc1622' ,\n",
        " 'tc0469' ,\n",
        " 'ac1770' ,\n",
        " 'mc1453' ,\n",
        " 'ad1187' ,\n",
        " 'sd0926' ,\n",
        " 'sd1268' ,\n",
        " 'ag1609' ,\n",
        " 'sg1638' ,\n",
        " 'mg1299' ,\n",
        " 'vkk0022' ,\n",
        " 'bk0413' ,\n",
        " 'gk0257' ,\n",
        " 'am2807' ,\n",
        " 'gm0558' ,\n",
        " 'pm0658' ,\n",
        " 'am2346' ,\n",
        " 'rm1090' ,\n",
        " 'sm2364' ,\n",
        " 'sm2747' ,\n",
        " 'sm2343' ,\n",
        " 'vm0597' ,\n",
        " 'htn0086' ,\n",
        " 'sp2075' ,\n",
        " 'gp0306' ,\n",
        " 'lp0502' ,\n",
        " 'sr1508' ,\n",
        " 'vr0331' ,\n",
        " 'yr0180' ,\n",
        " 'as2819' ,\n",
        " 'ss2981' ,\n",
        " 'ns0756' ,\n",
        " 'mt0825' ,\n",
        " 'dt0463' ,\n",
        " 'su0137' ,\n",
        " 'dv0310'\n",
        "]"
      ]
    },
    {
      "cell_type": "code",
      "execution_count": 24,
      "metadata": {
        "id": "3iGbmcOBhTwy",
        "colab": {
          "base_uri": "https://localhost:8080/"
        },
        "outputId": "c9b7c9f7-5b77-4169-8d7d-9f0c618e45ff"
      },
      "outputs": [
        {
          "output_type": "stream",
          "name": "stdout",
          "text": [
            "Group 1: ['lp0502', 'mt0825', 'sd1268', 'vm0597', 'sb1826', 'sb1883']\n",
            "Group 2: ['am2807', 'as2819', 'mb1296', 'lb0582', 'dv0310', 'ac1770']\n",
            "Group 3: ['su0137', 'sm2343', 'mg1299', 'ns0756', 'sg1638', 'vkk0022']\n",
            "Group 4: ['dt0463', 'tc0469', 'ag1609', 'rm1090', 'sd0926', 'sp2075']\n",
            "Group 5: ['am2346', 'vr0331', 'yr0180', 'ab1820', 'sm2747', 'htn0086']\n",
            "Group 6: ['pm0658', 'ad1187', 'ss2981', 'sm2364', 'sr1508', 'bk0413']\n",
            "Group 7: ['gm0558', 'sc1622', 'mc1453', 'gp0306', 'gk0257']\n"
          ]
        }
      ],
      "source": [
        "import random\n",
        "\n",
        "# List of students\n",
        "student_list_fall_2023 = ['sb1826', 'lb0582', 'ab1820', 'sb1883', 'mb1296', 'sc1622', 'tc0469', 'ac1770', 'mc1453', 'ad1187', 'sd0926', 'sd1268', 'ag1609', 'sg1638', 'mg1299', 'vkk0022', 'bk0413', 'gk0257', 'am2807', 'gm0558', 'pm0658', 'am2346', 'rm1090', 'sm2364', 'sm2747', 'sm2343', 'vm0597', 'htn0086', 'sp2075', 'gp0306', 'lp0502', 'sr1508', 'vr0331', 'yr0180', 'as2819', 'ss2981', 'ns0756', 'mt0825', 'dt0463', 'su0137', 'dv0310']\n",
        "\n",
        "# Shuffle the list of students\n",
        "random.shuffle(student_list_fall_2023)\n",
        "\n",
        "# Divide students into groups\n",
        "groups = []\n",
        "group_size = 0\n",
        "current_group = []\n",
        "\n",
        "for student in student_list_fall_2023:\n",
        "    current_group.append(student)\n",
        "    group_size += 1\n",
        "\n",
        "    if group_size >= 4 and (group_size == 6 or student == student_list_fall_2023[-1]):\n",
        "        groups.append(current_group)\n",
        "        current_group = []\n",
        "        group_size = 0\n",
        "\n",
        "# Print the groups\n",
        "for idx, group in enumerate(groups):\n",
        "    print(f\"Group {idx + 1}: {group}\")\n"
      ]
    },
    {
      "cell_type": "markdown",
      "metadata": {
        "id": "fmZ9vX20Qs3d"
      },
      "source": [
        "(16) Write a Python program to find the duplicate elements in a given array of integers. Return -1 If there are no such elements."
      ]
    },
    {
      "cell_type": "code",
      "execution_count": 25,
      "metadata": {
        "id": "W8Jw6sWMQs3d",
        "colab": {
          "base_uri": "https://localhost:8080/"
        },
        "outputId": "fa17fef3-22ce-4697-c232-e6cc2b8b582b"
      },
      "outputs": [
        {
          "output_type": "stream",
          "name": "stdout",
          "text": [
            "4\n",
            "8\n"
          ]
        }
      ],
      "source": [
        "array=[4,8,3,4,8]\n",
        "\n",
        "found=False\n",
        "\n",
        "for i in range(0,len(array)):\n",
        "\n",
        "    for j in range(i+1,len(array)):\n",
        "\n",
        "        if(array[i]==array[j]):\n",
        "\n",
        "            found=True\n",
        "\n",
        "            print(array[j])\n",
        "\n",
        "if found!=True:\n",
        "\n",
        "    print(-1)\n"
      ]
    },
    {
      "cell_type": "markdown",
      "metadata": {
        "id": "hvq4APMhQs3d"
      },
      "source": [
        "(17) Write a Python program to select all the Sundays of a specified year."
      ]
    },
    {
      "cell_type": "code",
      "execution_count": 26,
      "metadata": {
        "id": "ZnoxhSglQs3d",
        "colab": {
          "base_uri": "https://localhost:8080/"
        },
        "outputId": "48e2ba5f-1a83-4d94-a62f-008c7ba1c626"
      },
      "outputs": [
        {
          "output_type": "stream",
          "name": "stdout",
          "text": [
            "Enter the year: 2021\n",
            "2021-01-03\n",
            "2021-01-10\n",
            "2021-01-17\n",
            "2021-01-24\n",
            "2021-01-31\n",
            "2021-02-07\n",
            "2021-02-14\n",
            "2021-02-21\n",
            "2021-02-28\n",
            "2021-03-07\n",
            "2021-03-14\n",
            "2021-03-21\n",
            "2021-03-28\n",
            "2021-04-04\n",
            "2021-04-11\n",
            "2021-04-18\n",
            "2021-04-25\n",
            "2021-05-02\n",
            "2021-05-09\n",
            "2021-05-16\n",
            "2021-05-23\n",
            "2021-05-30\n",
            "2021-06-06\n",
            "2021-06-13\n",
            "2021-06-20\n",
            "2021-06-27\n",
            "2021-07-04\n",
            "2021-07-11\n",
            "2021-07-18\n",
            "2021-07-25\n",
            "2021-08-01\n",
            "2021-08-08\n",
            "2021-08-15\n",
            "2021-08-22\n",
            "2021-08-29\n",
            "2021-09-05\n",
            "2021-09-12\n",
            "2021-09-19\n",
            "2021-09-26\n",
            "2021-10-03\n",
            "2021-10-10\n",
            "2021-10-17\n",
            "2021-10-24\n",
            "2021-10-31\n",
            "2021-11-07\n",
            "2021-11-14\n",
            "2021-11-21\n",
            "2021-11-28\n",
            "2021-12-05\n",
            "2021-12-12\n",
            "2021-12-19\n",
            "2021-12-26\n"
          ]
        }
      ],
      "source": [
        "import datetime\n",
        "\n",
        "def find_sundays_in_year(year):\n",
        "    sundays = []\n",
        "\n",
        "    # Iterate through the months of the year\n",
        "    for month in range(1, 13):\n",
        "        # Iterate through the days of the month\n",
        "        for day in range(1, 32):\n",
        "            try:\n",
        "                date = datetime.date(year, month, day)\n",
        "                if date.weekday() == 6:  # Sunday has index 6\n",
        "                    sundays.append(date)\n",
        "            except ValueError:\n",
        "                pass  # Ignore invalid dates (e.g., February 30)\n",
        "\n",
        "    return sundays\n",
        "\n",
        "# Specify the year for which you want to find Sundays\n",
        "year = int(input(\"Enter the year: \"))\n",
        "\n",
        "sundays = find_sundays_in_year(year)\n",
        "for sunday in sundays:\n",
        "    print(sunday)\n"
      ]
    },
    {
      "cell_type": "markdown",
      "source": [
        "(18) Build a program that calculates the factorial of a given positive integer. The factorial of a non-negative integer n is the product of all positive integers less than or equal to n."
      ],
      "metadata": {
        "id": "55FWoSJPVVM6"
      }
    },
    {
      "cell_type": "code",
      "source": [
        "def factorial(n):\n",
        "    if n == 0:\n",
        "        return 1\n",
        "    else:\n",
        "        return n * factorial(n - 1)\n",
        "\n",
        "# Get input from the user\n",
        "num = int(input(\"Enter a positive integer: \"))\n",
        "\n",
        "# Check if the input is valid\n",
        "if num < 0:\n",
        "    print(\"Please enter a positive integer.\")\n",
        "else:\n",
        "    result = factorial(num)\n",
        "    print(f\"The factorial of {num} is {result}\")\n"
      ],
      "metadata": {
        "id": "hwtr1wZmVX5A",
        "colab": {
          "base_uri": "https://localhost:8080/"
        },
        "outputId": "cd6bbd16-61e4-41c6-95c7-056bc29c86e0"
      },
      "execution_count": 27,
      "outputs": [
        {
          "output_type": "stream",
          "name": "stdout",
          "text": [
            "Enter a positive integer: 5\n",
            "The factorial of 5 is 120\n"
          ]
        }
      ]
    },
    {
      "cell_type": "markdown",
      "source": [
        "(19) Write a program that takes a positive integer n as input and prints the count of even numbers from 1 to n. Use a loop to iterate through the numbers and utilize the break statement to optimize the loop."
      ],
      "metadata": {
        "id": "Q9ecagcaVazW"
      }
    },
    {
      "cell_type": "code",
      "source": [
        "def count_even_numbers(n):\n",
        "    count = 0\n",
        "    for num in range(1, n + 1):\n",
        "        if num % 2 == 0:\n",
        "            count += 1\n",
        "        elif num > n:  # Using break statement to optimize the loop\n",
        "            break\n",
        "    return count\n",
        "\n",
        "# Get input from the user\n",
        "n = int(input(\"Enter a positive integer: \"))\n",
        "\n",
        "# Check if the input is valid\n",
        "if n <= 0:\n",
        "    print(\"Please enter a positive integer.\")\n",
        "else:\n",
        "    even_count = count_even_numbers(n)\n",
        "    print(f\"The count of even numbers from 1 to {n} is: {even_count}\")\n",
        "\n"
      ],
      "metadata": {
        "id": "gycgckoAVZjR",
        "colab": {
          "base_uri": "https://localhost:8080/"
        },
        "outputId": "0c078798-8e62-4d21-e989-e2ce38560cdf"
      },
      "execution_count": 28,
      "outputs": [
        {
          "output_type": "stream",
          "name": "stdout",
          "text": [
            "Enter a positive integer: 6\n",
            "The count of even numbers from 1 to 6 is: 3\n"
          ]
        }
      ]
    },
    {
      "cell_type": "markdown",
      "source": [
        "(20) Write a Python function called count_vowels that takes a string as input and returns the count of vowels (both lowercase and uppercase) present in the string. Consider the vowels to be 'a', 'e', 'i', 'o', and 'u'. Ignore spaces and other non-alphabetic characters."
      ],
      "metadata": {
        "id": "cboAr5pEWUf5"
      }
    },
    {
      "cell_type": "code",
      "source": [
        "def count_vowels(input_string):\n",
        "    vowels = \"aeiouAEIOU\"\n",
        "    vowel_count = 0\n",
        "\n",
        "    for char in input_string:\n",
        "        if char in vowels:\n",
        "            vowel_count += 1\n",
        "\n",
        "    return vowel_count\n",
        "\n",
        "# Get input from the user\n",
        "input_str = input(\"Enter a string: \")\n",
        "\n",
        "# Calculate and print the count of vowels\n",
        "result = count_vowels(input_str)\n",
        "print(f\"The count of vowels in the string is: {result}\")\n",
        "\n"
      ],
      "metadata": {
        "id": "phs9gciMWWAW",
        "colab": {
          "base_uri": "https://localhost:8080/"
        },
        "outputId": "00bed279-00c0-404d-d0a8-b4f61f13171f"
      },
      "execution_count": 29,
      "outputs": [
        {
          "output_type": "stream",
          "name": "stdout",
          "text": [
            "Enter a string: suryateja\n",
            "The count of vowels in the string is: 4\n"
          ]
        }
      ]
    }
  ],
  "metadata": {
    "colab": {
      "provenance": [],
      "include_colab_link": true
    },
    "kernelspec": {
      "display_name": "Python 3 (ipykernel)",
      "language": "python",
      "name": "python3"
    },
    "language_info": {
      "codemirror_mode": {
        "name": "ipython",
        "version": 3
      },
      "file_extension": ".py",
      "mimetype": "text/x-python",
      "name": "python",
      "nbconvert_exporter": "python",
      "pygments_lexer": "ipython3",
      "version": "3.9.12"
    }
  },
  "nbformat": 4,
  "nbformat_minor": 0
}