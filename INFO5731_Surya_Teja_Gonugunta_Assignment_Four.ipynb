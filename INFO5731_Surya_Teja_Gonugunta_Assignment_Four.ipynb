{
  "cells": [
    {
      "cell_type": "markdown",
      "metadata": {
        "id": "view-in-github",
        "colab_type": "text"
      },
      "source": [
        "<a href=\"https://colab.research.google.com/github/suryateja1638/SURYA-TEJA_INFO5731_FALL2023/blob/main/INFO5731_Surya_Teja_Gonugunta_Assignment_Four.ipynb\" target=\"_parent\"><img src=\"https://colab.research.google.com/assets/colab-badge.svg\" alt=\"Open In Colab\"/></a>"
      ]
    },
    {
      "cell_type": "markdown",
      "metadata": {
        "id": "USSdXHuqnwv9"
      },
      "source": [
        "# **INFO5731 Assignment Four**\n",
        "\n",
        "In this assignment, you are required to conduct topic modeling, sentiment analysis based on **the dataset you created from assignment three**."
      ]
    },
    {
      "cell_type": "markdown",
      "metadata": {
        "id": "YWxodXh5n4xF"
      },
      "source": [
        "# **Question 1: Topic Modeling**"
      ]
    },
    {
      "cell_type": "markdown",
      "metadata": {
        "id": "TenBkDJ5n95k"
      },
      "source": [
        "(30 points). This question is designed to help you develop a feel for the way topic modeling works, the connection to the human meanings of documents. Based on the dataset from assignment three, write a python program to **identify the top 10 topics in the dataset**. Before answering this question, please review the materials in lesson 8, especially the code for LDA, LSA, and BERTopic. The following information should be reported:\n",
        "\n",
        "(1) Features (text representation) used for topic modeling.\n",
        "\n",
        "(2) Top 10 clusters for topic modeling.\n",
        "\n",
        "(3) Summarize and describe the topic for each cluster."
      ]
    },
    {
      "cell_type": "code",
      "source": [
        "pip install wordcloud matplotlib"
      ],
      "metadata": {
        "colab": {
          "base_uri": "https://localhost:8080/"
        },
        "id": "Fj_3TFQf_pk2",
        "outputId": "0111835e-9507-4708-826c-d31fd1baa6e5"
      },
      "execution_count": null,
      "outputs": [
        {
          "output_type": "stream",
          "name": "stdout",
          "text": [
            "Requirement already satisfied: wordcloud in /usr/local/lib/python3.10/dist-packages (1.9.2)\n",
            "Requirement already satisfied: matplotlib in /usr/local/lib/python3.10/dist-packages (3.7.1)\n",
            "Requirement already satisfied: numpy>=1.6.1 in /usr/local/lib/python3.10/dist-packages (from wordcloud) (1.23.5)\n",
            "Requirement already satisfied: pillow in /usr/local/lib/python3.10/dist-packages (from wordcloud) (9.4.0)\n",
            "Requirement already satisfied: contourpy>=1.0.1 in /usr/local/lib/python3.10/dist-packages (from matplotlib) (1.2.0)\n",
            "Requirement already satisfied: cycler>=0.10 in /usr/local/lib/python3.10/dist-packages (from matplotlib) (0.12.1)\n",
            "Requirement already satisfied: fonttools>=4.22.0 in /usr/local/lib/python3.10/dist-packages (from matplotlib) (4.45.1)\n",
            "Requirement already satisfied: kiwisolver>=1.0.1 in /usr/local/lib/python3.10/dist-packages (from matplotlib) (1.4.5)\n",
            "Requirement already satisfied: packaging>=20.0 in /usr/local/lib/python3.10/dist-packages (from matplotlib) (23.2)\n",
            "Requirement already satisfied: pyparsing>=2.3.1 in /usr/local/lib/python3.10/dist-packages (from matplotlib) (3.1.1)\n",
            "Requirement already satisfied: python-dateutil>=2.7 in /usr/local/lib/python3.10/dist-packages (from matplotlib) (2.8.2)\n",
            "Requirement already satisfied: six>=1.5 in /usr/local/lib/python3.10/dist-packages (from python-dateutil>=2.7->matplotlib) (1.16.0)\n"
          ]
        }
      ]
    },
    {
      "cell_type": "code",
      "source": [
        "pip install pyLDAvis"
      ],
      "metadata": {
        "colab": {
          "base_uri": "https://localhost:8080/"
        },
        "id": "q9hK_JM5CFUj",
        "outputId": "65015870-d5eb-4932-bb47-9f3c059811d0"
      },
      "execution_count": null,
      "outputs": [
        {
          "output_type": "stream",
          "name": "stdout",
          "text": [
            "Requirement already satisfied: pyLDAvis in /usr/local/lib/python3.10/dist-packages (3.4.1)\n",
            "Collecting numpy>=1.24.2 (from pyLDAvis)\n",
            "  Using cached numpy-1.26.2-cp310-cp310-manylinux_2_17_x86_64.manylinux2014_x86_64.whl (18.2 MB)\n",
            "Requirement already satisfied: scipy in /usr/local/lib/python3.10/dist-packages (from pyLDAvis) (1.11.4)\n",
            "Collecting pandas>=2.0.0 (from pyLDAvis)\n",
            "  Using cached pandas-2.1.4-cp310-cp310-manylinux_2_17_x86_64.manylinux2014_x86_64.whl (12.3 MB)\n",
            "Requirement already satisfied: joblib>=1.2.0 in /usr/local/lib/python3.10/dist-packages (from pyLDAvis) (1.3.2)\n",
            "Requirement already satisfied: jinja2 in /usr/local/lib/python3.10/dist-packages (from pyLDAvis) (3.1.2)\n",
            "Requirement already satisfied: numexpr in /usr/local/lib/python3.10/dist-packages (from pyLDAvis) (2.8.7)\n",
            "Requirement already satisfied: funcy in /usr/local/lib/python3.10/dist-packages (from pyLDAvis) (2.0)\n",
            "Requirement already satisfied: scikit-learn>=1.0.0 in /usr/local/lib/python3.10/dist-packages (from pyLDAvis) (1.2.2)\n",
            "Requirement already satisfied: gensim in /usr/local/lib/python3.10/dist-packages (from pyLDAvis) (4.3.2)\n",
            "Requirement already satisfied: setuptools in /usr/local/lib/python3.10/dist-packages (from pyLDAvis) (67.7.2)\n",
            "Requirement already satisfied: python-dateutil>=2.8.2 in /usr/local/lib/python3.10/dist-packages (from pandas>=2.0.0->pyLDAvis) (2.8.2)\n",
            "Requirement already satisfied: pytz>=2020.1 in /usr/local/lib/python3.10/dist-packages (from pandas>=2.0.0->pyLDAvis) (2023.3.post1)\n",
            "Requirement already satisfied: tzdata>=2022.1 in /usr/local/lib/python3.10/dist-packages (from pandas>=2.0.0->pyLDAvis) (2023.3)\n",
            "Requirement already satisfied: threadpoolctl>=2.0.0 in /usr/local/lib/python3.10/dist-packages (from scikit-learn>=1.0.0->pyLDAvis) (3.2.0)\n",
            "Requirement already satisfied: smart-open>=1.8.1 in /usr/local/lib/python3.10/dist-packages (from gensim->pyLDAvis) (6.4.0)\n",
            "Requirement already satisfied: MarkupSafe>=2.0 in /usr/local/lib/python3.10/dist-packages (from jinja2->pyLDAvis) (2.1.3)\n",
            "Requirement already satisfied: six>=1.5 in /usr/local/lib/python3.10/dist-packages (from python-dateutil>=2.8.2->pandas>=2.0.0->pyLDAvis) (1.16.0)\n",
            "Installing collected packages: numpy, pandas\n",
            "  Attempting uninstall: numpy\n",
            "    Found existing installation: numpy 1.23.5\n",
            "    Uninstalling numpy-1.23.5:\n",
            "      Successfully uninstalled numpy-1.23.5\n",
            "  Attempting uninstall: pandas\n",
            "    Found existing installation: pandas 1.5.3\n",
            "    Uninstalling pandas-1.5.3:\n",
            "      Successfully uninstalled pandas-1.5.3\n",
            "\u001b[31mERROR: pip's dependency resolver does not currently take into account all the packages that are installed. This behaviour is the source of the following dependency conflicts.\n",
            "lida 0.0.10 requires fastapi, which is not installed.\n",
            "lida 0.0.10 requires kaleido, which is not installed.\n",
            "lida 0.0.10 requires python-multipart, which is not installed.\n",
            "lida 0.0.10 requires uvicorn, which is not installed.\n",
            "cupy-cuda11x 11.0.0 requires numpy<1.26,>=1.20, but you have numpy 1.26.2 which is incompatible.\n",
            "google-colab 1.0.0 requires pandas==1.5.3, but you have pandas 2.1.4 which is incompatible.\u001b[0m\u001b[31m\n",
            "\u001b[0mSuccessfully installed numpy-1.26.2 pandas-2.1.4\n"
          ]
        }
      ]
    },
    {
      "cell_type": "code",
      "source": [
        "pip install numpy==1.23.5 pandas==1.5.3"
      ],
      "metadata": {
        "colab": {
          "base_uri": "https://localhost:8080/",
          "height": 550
        },
        "id": "ETIB7QlSCHTU",
        "outputId": "73e0ac96-c47a-438c-e0d6-f0414f6ec9da"
      },
      "execution_count": null,
      "outputs": [
        {
          "output_type": "stream",
          "name": "stdout",
          "text": [
            "Collecting numpy==1.23.5\n",
            "  Using cached numpy-1.23.5-cp310-cp310-manylinux_2_17_x86_64.manylinux2014_x86_64.whl (17.1 MB)\n",
            "Collecting pandas==1.5.3\n",
            "  Using cached pandas-1.5.3-cp310-cp310-manylinux_2_17_x86_64.manylinux2014_x86_64.whl (12.1 MB)\n",
            "Requirement already satisfied: python-dateutil>=2.8.1 in /usr/local/lib/python3.10/dist-packages (from pandas==1.5.3) (2.8.2)\n",
            "Requirement already satisfied: pytz>=2020.1 in /usr/local/lib/python3.10/dist-packages (from pandas==1.5.3) (2023.3.post1)\n",
            "Requirement already satisfied: six>=1.5 in /usr/local/lib/python3.10/dist-packages (from python-dateutil>=2.8.1->pandas==1.5.3) (1.16.0)\n",
            "Installing collected packages: numpy, pandas\n",
            "  Attempting uninstall: numpy\n",
            "    Found existing installation: numpy 1.26.2\n",
            "    Uninstalling numpy-1.26.2:\n",
            "      Successfully uninstalled numpy-1.26.2\n",
            "  Attempting uninstall: pandas\n",
            "    Found existing installation: pandas 2.1.4\n",
            "    Uninstalling pandas-2.1.4:\n",
            "      Successfully uninstalled pandas-2.1.4\n",
            "\u001b[31mERROR: pip's dependency resolver does not currently take into account all the packages that are installed. This behaviour is the source of the following dependency conflicts.\n",
            "lida 0.0.10 requires fastapi, which is not installed.\n",
            "lida 0.0.10 requires kaleido, which is not installed.\n",
            "lida 0.0.10 requires python-multipart, which is not installed.\n",
            "lida 0.0.10 requires uvicorn, which is not installed.\n",
            "pyldavis 3.4.1 requires numpy>=1.24.2, but you have numpy 1.23.5 which is incompatible.\n",
            "pyldavis 3.4.1 requires pandas>=2.0.0, but you have pandas 1.5.3 which is incompatible.\u001b[0m\u001b[31m\n",
            "\u001b[0mSuccessfully installed numpy-1.23.5 pandas-1.5.3\n"
          ]
        },
        {
          "output_type": "display_data",
          "data": {
            "application/vnd.colab-display-data+json": {
              "pip_warning": {
                "packages": [
                  "numpy"
                ]
              }
            }
          },
          "metadata": {}
        }
      ]
    },
    {
      "cell_type": "code",
      "source": [
        "import nltk\n",
        "nltk.download('all')"
      ],
      "metadata": {
        "colab": {
          "base_uri": "https://localhost:8080/"
        },
        "id": "p0z73hamCwLd",
        "outputId": "10836946-c189-42f3-831c-b98e6ff7a717"
      },
      "execution_count": null,
      "outputs": [
        {
          "output_type": "stream",
          "name": "stderr",
          "text": [
            "[nltk_data] Downloading collection 'all'\n",
            "[nltk_data]    | \n",
            "[nltk_data]    | Downloading package abc to /root/nltk_data...\n",
            "[nltk_data]    |   Package abc is already up-to-date!\n",
            "[nltk_data]    | Downloading package alpino to /root/nltk_data...\n",
            "[nltk_data]    |   Package alpino is already up-to-date!\n",
            "[nltk_data]    | Downloading package averaged_perceptron_tagger to\n",
            "[nltk_data]    |     /root/nltk_data...\n",
            "[nltk_data]    |   Package averaged_perceptron_tagger is already up-\n",
            "[nltk_data]    |       to-date!\n",
            "[nltk_data]    | Downloading package averaged_perceptron_tagger_ru to\n",
            "[nltk_data]    |     /root/nltk_data...\n",
            "[nltk_data]    |   Package averaged_perceptron_tagger_ru is already\n",
            "[nltk_data]    |       up-to-date!\n",
            "[nltk_data]    | Downloading package basque_grammars to\n",
            "[nltk_data]    |     /root/nltk_data...\n",
            "[nltk_data]    |   Package basque_grammars is already up-to-date!\n",
            "[nltk_data]    | Downloading package bcp47 to /root/nltk_data...\n",
            "[nltk_data]    |   Package bcp47 is already up-to-date!\n",
            "[nltk_data]    | Downloading package biocreative_ppi to\n",
            "[nltk_data]    |     /root/nltk_data...\n",
            "[nltk_data]    |   Package biocreative_ppi is already up-to-date!\n",
            "[nltk_data]    | Downloading package bllip_wsj_no_aux to\n",
            "[nltk_data]    |     /root/nltk_data...\n",
            "[nltk_data]    |   Package bllip_wsj_no_aux is already up-to-date!\n",
            "[nltk_data]    | Downloading package book_grammars to\n",
            "[nltk_data]    |     /root/nltk_data...\n",
            "[nltk_data]    |   Package book_grammars is already up-to-date!\n",
            "[nltk_data]    | Downloading package brown to /root/nltk_data...\n",
            "[nltk_data]    |   Package brown is already up-to-date!\n",
            "[nltk_data]    | Downloading package brown_tei to /root/nltk_data...\n",
            "[nltk_data]    |   Package brown_tei is already up-to-date!\n",
            "[nltk_data]    | Downloading package cess_cat to /root/nltk_data...\n",
            "[nltk_data]    |   Package cess_cat is already up-to-date!\n",
            "[nltk_data]    | Downloading package cess_esp to /root/nltk_data...\n",
            "[nltk_data]    |   Package cess_esp is already up-to-date!\n",
            "[nltk_data]    | Downloading package chat80 to /root/nltk_data...\n",
            "[nltk_data]    |   Package chat80 is already up-to-date!\n",
            "[nltk_data]    | Downloading package city_database to\n",
            "[nltk_data]    |     /root/nltk_data...\n",
            "[nltk_data]    |   Package city_database is already up-to-date!\n",
            "[nltk_data]    | Downloading package cmudict to /root/nltk_data...\n",
            "[nltk_data]    |   Package cmudict is already up-to-date!\n",
            "[nltk_data]    | Downloading package comparative_sentences to\n",
            "[nltk_data]    |     /root/nltk_data...\n",
            "[nltk_data]    |   Package comparative_sentences is already up-to-\n",
            "[nltk_data]    |       date!\n",
            "[nltk_data]    | Downloading package comtrans to /root/nltk_data...\n",
            "[nltk_data]    |   Package comtrans is already up-to-date!\n",
            "[nltk_data]    | Downloading package conll2000 to /root/nltk_data...\n",
            "[nltk_data]    |   Package conll2000 is already up-to-date!\n",
            "[nltk_data]    | Downloading package conll2002 to /root/nltk_data...\n",
            "[nltk_data]    |   Package conll2002 is already up-to-date!\n",
            "[nltk_data]    | Downloading package conll2007 to /root/nltk_data...\n",
            "[nltk_data]    |   Package conll2007 is already up-to-date!\n",
            "[nltk_data]    | Downloading package crubadan to /root/nltk_data...\n",
            "[nltk_data]    |   Package crubadan is already up-to-date!\n",
            "[nltk_data]    | Downloading package dependency_treebank to\n",
            "[nltk_data]    |     /root/nltk_data...\n",
            "[nltk_data]    |   Package dependency_treebank is already up-to-date!\n",
            "[nltk_data]    | Downloading package dolch to /root/nltk_data...\n",
            "[nltk_data]    |   Package dolch is already up-to-date!\n",
            "[nltk_data]    | Downloading package europarl_raw to\n",
            "[nltk_data]    |     /root/nltk_data...\n",
            "[nltk_data]    |   Package europarl_raw is already up-to-date!\n",
            "[nltk_data]    | Downloading package extended_omw to\n",
            "[nltk_data]    |     /root/nltk_data...\n",
            "[nltk_data]    |   Package extended_omw is already up-to-date!\n",
            "[nltk_data]    | Downloading package floresta to /root/nltk_data...\n",
            "[nltk_data]    |   Package floresta is already up-to-date!\n",
            "[nltk_data]    | Downloading package framenet_v15 to\n",
            "[nltk_data]    |     /root/nltk_data...\n",
            "[nltk_data]    |   Package framenet_v15 is already up-to-date!\n",
            "[nltk_data]    | Downloading package framenet_v17 to\n",
            "[nltk_data]    |     /root/nltk_data...\n",
            "[nltk_data]    |   Package framenet_v17 is already up-to-date!\n",
            "[nltk_data]    | Downloading package gazetteers to /root/nltk_data...\n",
            "[nltk_data]    |   Package gazetteers is already up-to-date!\n",
            "[nltk_data]    | Downloading package genesis to /root/nltk_data...\n",
            "[nltk_data]    |   Package genesis is already up-to-date!\n",
            "[nltk_data]    | Downloading package gutenberg to /root/nltk_data...\n",
            "[nltk_data]    |   Package gutenberg is already up-to-date!\n",
            "[nltk_data]    | Downloading package ieer to /root/nltk_data...\n",
            "[nltk_data]    |   Package ieer is already up-to-date!\n",
            "[nltk_data]    | Downloading package inaugural to /root/nltk_data...\n",
            "[nltk_data]    |   Package inaugural is already up-to-date!\n",
            "[nltk_data]    | Downloading package indian to /root/nltk_data...\n",
            "[nltk_data]    |   Package indian is already up-to-date!\n",
            "[nltk_data]    | Downloading package jeita to /root/nltk_data...\n",
            "[nltk_data]    |   Package jeita is already up-to-date!\n",
            "[nltk_data]    | Downloading package kimmo to /root/nltk_data...\n",
            "[nltk_data]    |   Package kimmo is already up-to-date!\n",
            "[nltk_data]    | Downloading package knbc to /root/nltk_data...\n",
            "[nltk_data]    |   Package knbc is already up-to-date!\n",
            "[nltk_data]    | Downloading package large_grammars to\n",
            "[nltk_data]    |     /root/nltk_data...\n",
            "[nltk_data]    |   Package large_grammars is already up-to-date!\n",
            "[nltk_data]    | Downloading package lin_thesaurus to\n",
            "[nltk_data]    |     /root/nltk_data...\n",
            "[nltk_data]    |   Package lin_thesaurus is already up-to-date!\n",
            "[nltk_data]    | Downloading package mac_morpho to /root/nltk_data...\n",
            "[nltk_data]    |   Package mac_morpho is already up-to-date!\n",
            "[nltk_data]    | Downloading package machado to /root/nltk_data...\n",
            "[nltk_data]    |   Package machado is already up-to-date!\n",
            "[nltk_data]    | Downloading package masc_tagged to /root/nltk_data...\n",
            "[nltk_data]    |   Package masc_tagged is already up-to-date!\n",
            "[nltk_data]    | Downloading package maxent_ne_chunker to\n",
            "[nltk_data]    |     /root/nltk_data...\n",
            "[nltk_data]    |   Package maxent_ne_chunker is already up-to-date!\n",
            "[nltk_data]    | Downloading package maxent_treebank_pos_tagger to\n",
            "[nltk_data]    |     /root/nltk_data...\n",
            "[nltk_data]    |   Package maxent_treebank_pos_tagger is already up-\n",
            "[nltk_data]    |       to-date!\n",
            "[nltk_data]    | Downloading package moses_sample to\n",
            "[nltk_data]    |     /root/nltk_data...\n",
            "[nltk_data]    |   Package moses_sample is already up-to-date!\n",
            "[nltk_data]    | Downloading package movie_reviews to\n",
            "[nltk_data]    |     /root/nltk_data...\n",
            "[nltk_data]    |   Package movie_reviews is already up-to-date!\n",
            "[nltk_data]    | Downloading package mte_teip5 to /root/nltk_data...\n",
            "[nltk_data]    |   Package mte_teip5 is already up-to-date!\n",
            "[nltk_data]    | Downloading package mwa_ppdb to /root/nltk_data...\n",
            "[nltk_data]    |   Package mwa_ppdb is already up-to-date!\n",
            "[nltk_data]    | Downloading package names to /root/nltk_data...\n",
            "[nltk_data]    |   Package names is already up-to-date!\n",
            "[nltk_data]    | Downloading package nombank.1.0 to /root/nltk_data...\n",
            "[nltk_data]    |   Package nombank.1.0 is already up-to-date!\n",
            "[nltk_data]    | Downloading package nonbreaking_prefixes to\n",
            "[nltk_data]    |     /root/nltk_data...\n",
            "[nltk_data]    |   Package nonbreaking_prefixes is already up-to-date!\n",
            "[nltk_data]    | Downloading package nps_chat to /root/nltk_data...\n",
            "[nltk_data]    |   Package nps_chat is already up-to-date!\n",
            "[nltk_data]    | Downloading package omw to /root/nltk_data...\n",
            "[nltk_data]    |   Package omw is already up-to-date!\n",
            "[nltk_data]    | Downloading package omw-1.4 to /root/nltk_data...\n",
            "[nltk_data]    |   Package omw-1.4 is already up-to-date!\n",
            "[nltk_data]    | Downloading package opinion_lexicon to\n",
            "[nltk_data]    |     /root/nltk_data...\n",
            "[nltk_data]    |   Package opinion_lexicon is already up-to-date!\n",
            "[nltk_data]    | Downloading package panlex_swadesh to\n",
            "[nltk_data]    |     /root/nltk_data...\n",
            "[nltk_data]    |   Package panlex_swadesh is already up-to-date!\n",
            "[nltk_data]    | Downloading package paradigms to /root/nltk_data...\n",
            "[nltk_data]    |   Package paradigms is already up-to-date!\n",
            "[nltk_data]    | Downloading package pe08 to /root/nltk_data...\n",
            "[nltk_data]    |   Package pe08 is already up-to-date!\n",
            "[nltk_data]    | Downloading package perluniprops to\n",
            "[nltk_data]    |     /root/nltk_data...\n",
            "[nltk_data]    |   Package perluniprops is already up-to-date!\n",
            "[nltk_data]    | Downloading package pil to /root/nltk_data...\n",
            "[nltk_data]    |   Package pil is already up-to-date!\n",
            "[nltk_data]    | Downloading package pl196x to /root/nltk_data...\n",
            "[nltk_data]    |   Package pl196x is already up-to-date!\n",
            "[nltk_data]    | Downloading package porter_test to /root/nltk_data...\n",
            "[nltk_data]    |   Package porter_test is already up-to-date!\n",
            "[nltk_data]    | Downloading package ppattach to /root/nltk_data...\n",
            "[nltk_data]    |   Package ppattach is already up-to-date!\n",
            "[nltk_data]    | Downloading package problem_reports to\n",
            "[nltk_data]    |     /root/nltk_data...\n",
            "[nltk_data]    |   Package problem_reports is already up-to-date!\n",
            "[nltk_data]    | Downloading package product_reviews_1 to\n",
            "[nltk_data]    |     /root/nltk_data...\n",
            "[nltk_data]    |   Package product_reviews_1 is already up-to-date!\n",
            "[nltk_data]    | Downloading package product_reviews_2 to\n",
            "[nltk_data]    |     /root/nltk_data...\n",
            "[nltk_data]    |   Package product_reviews_2 is already up-to-date!\n",
            "[nltk_data]    | Downloading package propbank to /root/nltk_data...\n",
            "[nltk_data]    |   Package propbank is already up-to-date!\n",
            "[nltk_data]    | Downloading package pros_cons to /root/nltk_data...\n",
            "[nltk_data]    |   Package pros_cons is already up-to-date!\n",
            "[nltk_data]    | Downloading package ptb to /root/nltk_data...\n",
            "[nltk_data]    |   Package ptb is already up-to-date!\n",
            "[nltk_data]    | Downloading package punkt to /root/nltk_data...\n",
            "[nltk_data]    |   Package punkt is already up-to-date!\n",
            "[nltk_data]    | Downloading package qc to /root/nltk_data...\n",
            "[nltk_data]    |   Package qc is already up-to-date!\n",
            "[nltk_data]    | Downloading package reuters to /root/nltk_data...\n",
            "[nltk_data]    |   Package reuters is already up-to-date!\n",
            "[nltk_data]    | Downloading package rslp to /root/nltk_data...\n",
            "[nltk_data]    |   Package rslp is already up-to-date!\n",
            "[nltk_data]    | Downloading package rte to /root/nltk_data...\n",
            "[nltk_data]    |   Package rte is already up-to-date!\n",
            "[nltk_data]    | Downloading package sample_grammars to\n",
            "[nltk_data]    |     /root/nltk_data...\n",
            "[nltk_data]    |   Package sample_grammars is already up-to-date!\n",
            "[nltk_data]    | Downloading package semcor to /root/nltk_data...\n",
            "[nltk_data]    |   Package semcor is already up-to-date!\n",
            "[nltk_data]    | Downloading package senseval to /root/nltk_data...\n",
            "[nltk_data]    |   Package senseval is already up-to-date!\n",
            "[nltk_data]    | Downloading package sentence_polarity to\n",
            "[nltk_data]    |     /root/nltk_data...\n",
            "[nltk_data]    |   Package sentence_polarity is already up-to-date!\n",
            "[nltk_data]    | Downloading package sentiwordnet to\n",
            "[nltk_data]    |     /root/nltk_data...\n",
            "[nltk_data]    |   Package sentiwordnet is already up-to-date!\n",
            "[nltk_data]    | Downloading package shakespeare to /root/nltk_data...\n",
            "[nltk_data]    |   Package shakespeare is already up-to-date!\n",
            "[nltk_data]    | Downloading package sinica_treebank to\n",
            "[nltk_data]    |     /root/nltk_data...\n",
            "[nltk_data]    |   Package sinica_treebank is already up-to-date!\n",
            "[nltk_data]    | Downloading package smultron to /root/nltk_data...\n",
            "[nltk_data]    |   Package smultron is already up-to-date!\n",
            "[nltk_data]    | Downloading package snowball_data to\n",
            "[nltk_data]    |     /root/nltk_data...\n",
            "[nltk_data]    |   Package snowball_data is already up-to-date!\n",
            "[nltk_data]    | Downloading package spanish_grammars to\n",
            "[nltk_data]    |     /root/nltk_data...\n",
            "[nltk_data]    |   Package spanish_grammars is already up-to-date!\n",
            "[nltk_data]    | Downloading package state_union to /root/nltk_data...\n",
            "[nltk_data]    |   Package state_union is already up-to-date!\n",
            "[nltk_data]    | Downloading package stopwords to /root/nltk_data...\n",
            "[nltk_data]    |   Package stopwords is already up-to-date!\n",
            "[nltk_data]    | Downloading package subjectivity to\n",
            "[nltk_data]    |     /root/nltk_data...\n",
            "[nltk_data]    |   Package subjectivity is already up-to-date!\n",
            "[nltk_data]    | Downloading package swadesh to /root/nltk_data...\n",
            "[nltk_data]    |   Package swadesh is already up-to-date!\n",
            "[nltk_data]    | Downloading package switchboard to /root/nltk_data...\n",
            "[nltk_data]    |   Package switchboard is already up-to-date!\n",
            "[nltk_data]    | Downloading package tagsets to /root/nltk_data...\n",
            "[nltk_data]    |   Package tagsets is already up-to-date!\n",
            "[nltk_data]    | Downloading package timit to /root/nltk_data...\n",
            "[nltk_data]    |   Package timit is already up-to-date!\n",
            "[nltk_data]    | Downloading package toolbox to /root/nltk_data...\n",
            "[nltk_data]    |   Package toolbox is already up-to-date!\n",
            "[nltk_data]    | Downloading package treebank to /root/nltk_data...\n",
            "[nltk_data]    |   Package treebank is already up-to-date!\n",
            "[nltk_data]    | Downloading package twitter_samples to\n",
            "[nltk_data]    |     /root/nltk_data...\n",
            "[nltk_data]    |   Package twitter_samples is already up-to-date!\n",
            "[nltk_data]    | Downloading package udhr to /root/nltk_data...\n",
            "[nltk_data]    |   Package udhr is already up-to-date!\n",
            "[nltk_data]    | Downloading package udhr2 to /root/nltk_data...\n",
            "[nltk_data]    |   Package udhr2 is already up-to-date!\n",
            "[nltk_data]    | Downloading package unicode_samples to\n",
            "[nltk_data]    |     /root/nltk_data...\n",
            "[nltk_data]    |   Package unicode_samples is already up-to-date!\n",
            "[nltk_data]    | Downloading package universal_tagset to\n",
            "[nltk_data]    |     /root/nltk_data...\n",
            "[nltk_data]    |   Package universal_tagset is already up-to-date!\n",
            "[nltk_data]    | Downloading package universal_treebanks_v20 to\n",
            "[nltk_data]    |     /root/nltk_data...\n",
            "[nltk_data]    |   Package universal_treebanks_v20 is already up-to-\n",
            "[nltk_data]    |       date!\n",
            "[nltk_data]    | Downloading package vader_lexicon to\n",
            "[nltk_data]    |     /root/nltk_data...\n",
            "[nltk_data]    |   Package vader_lexicon is already up-to-date!\n",
            "[nltk_data]    | Downloading package verbnet to /root/nltk_data...\n",
            "[nltk_data]    |   Package verbnet is already up-to-date!\n",
            "[nltk_data]    | Downloading package verbnet3 to /root/nltk_data...\n",
            "[nltk_data]    |   Package verbnet3 is already up-to-date!\n",
            "[nltk_data]    | Downloading package webtext to /root/nltk_data...\n",
            "[nltk_data]    |   Package webtext is already up-to-date!\n",
            "[nltk_data]    | Downloading package wmt15_eval to /root/nltk_data...\n",
            "[nltk_data]    |   Package wmt15_eval is already up-to-date!\n",
            "[nltk_data]    | Downloading package word2vec_sample to\n",
            "[nltk_data]    |     /root/nltk_data...\n",
            "[nltk_data]    |   Package word2vec_sample is already up-to-date!\n",
            "[nltk_data]    | Downloading package wordnet to /root/nltk_data...\n",
            "[nltk_data]    |   Package wordnet is already up-to-date!\n",
            "[nltk_data]    | Downloading package wordnet2021 to /root/nltk_data...\n",
            "[nltk_data]    |   Package wordnet2021 is already up-to-date!\n",
            "[nltk_data]    | Downloading package wordnet2022 to /root/nltk_data...\n",
            "[nltk_data]    |   Package wordnet2022 is already up-to-date!\n",
            "[nltk_data]    | Downloading package wordnet31 to /root/nltk_data...\n",
            "[nltk_data]    |   Package wordnet31 is already up-to-date!\n",
            "[nltk_data]    | Downloading package wordnet_ic to /root/nltk_data...\n",
            "[nltk_data]    |   Package wordnet_ic is already up-to-date!\n",
            "[nltk_data]    | Downloading package words to /root/nltk_data...\n",
            "[nltk_data]    |   Package words is already up-to-date!\n",
            "[nltk_data]    | Downloading package ycoe to /root/nltk_data...\n",
            "[nltk_data]    |   Package ycoe is already up-to-date!\n",
            "[nltk_data]    | \n",
            "[nltk_data]  Done downloading collection all\n"
          ]
        },
        {
          "output_type": "execute_result",
          "data": {
            "text/plain": [
              "True"
            ]
          },
          "metadata": {},
          "execution_count": 4
        }
      ]
    },
    {
      "cell_type": "code",
      "source": [
        "# Write your code here\n",
        "\n",
        "# importing necessary packages and libraries\n",
        "\n",
        "import pandas as pd\n",
        "import re\n",
        "from nltk.corpus import stopwords\n",
        "from nltk.stem import WordNetLemmatizer\n",
        "from nltk.tokenize import word_tokenize\n",
        "import string\n",
        "from gensim import corpora\n",
        "from gensim.models import LdaModel\n",
        "from gensim.models.coherencemodel import CoherenceModel\n",
        "import gensim.downloader as api\n",
        "import pyLDAvis.gensim\n",
        "from pprint import pprint as pprint"
      ],
      "metadata": {
        "id": "G_mbb3-TbkJx"
      },
      "execution_count": null,
      "outputs": []
    },
    {
      "cell_type": "code",
      "source": [
        "# Loading the dataset\n",
        "\n",
        "surya_teja_Gonugunta_Dataset_Assignment_3 = pd.read_csv('Surya_teja_Gongunta.csv')"
      ],
      "metadata": {
        "colab": {
          "base_uri": "https://localhost:8080/"
        },
        "id": "be_iy98lb0up",
        "outputId": "f9c06f39-c122-48f3-e176-032929a977f6"
      },
      "execution_count": null,
      "outputs": [
        {
          "output_type": "stream",
          "name": "stderr",
          "text": [
            "/usr/local/lib/python3.10/dist-packages/ipykernel/ipkernel.py:283: DeprecationWarning: `should_run_async` will not call `transform_cell` automatically in the future. Please pass the result to `transformed_cell` argument and any exception that happen during thetransform in `preprocessing_exc_tuple` in IPython 7.17 and above.\n",
            "  and should_run_async(code)\n"
          ]
        }
      ]
    },
    {
      "cell_type": "code",
      "source": [
        "surya_teja_Gonugunta_Dataset_Assignment_3.head()"
      ],
      "metadata": {
        "colab": {
          "base_uri": "https://localhost:8080/",
          "height": 261
        },
        "id": "Ct6gObHCmZWY",
        "outputId": "40964119-a642-41a7-d7da-023f9615c265"
      },
      "execution_count": null,
      "outputs": [
        {
          "output_type": "stream",
          "name": "stderr",
          "text": [
            "/usr/local/lib/python3.10/dist-packages/ipykernel/ipkernel.py:283: DeprecationWarning: `should_run_async` will not call `transform_cell` automatically in the future. Please pass the result to `transformed_cell` argument and any exception that happen during thetransform in `preprocessing_exc_tuple` in IPython 7.17 and above.\n",
            "  and should_run_async(code)\n"
          ]
        },
        {
          "output_type": "execute_result",
          "data": {
            "text/plain": [
              "   si.no                                            reviews     Label\n",
              "0      1  This product so far has not disappointed. My c...  Positive\n",
              "1      2  great for beginner or experienced person. Boug...  Positive\n",
              "2      3  Inexpensive tablet for him to use and learn on...  Positive\n",
              "3      4  I've had my Fire HD 8 two weeks now and I love...  Positive\n",
              "4      5  I bought this for my grand daughter when she c...  Positive"
            ],
            "text/html": [
              "\n",
              "  <div id=\"df-021a4412-e27e-4dd4-a11f-f047e35aeb51\" class=\"colab-df-container\">\n",
              "    <div>\n",
              "<style scoped>\n",
              "    .dataframe tbody tr th:only-of-type {\n",
              "        vertical-align: middle;\n",
              "    }\n",
              "\n",
              "    .dataframe tbody tr th {\n",
              "        vertical-align: top;\n",
              "    }\n",
              "\n",
              "    .dataframe thead th {\n",
              "        text-align: right;\n",
              "    }\n",
              "</style>\n",
              "<table border=\"1\" class=\"dataframe\">\n",
              "  <thead>\n",
              "    <tr style=\"text-align: right;\">\n",
              "      <th></th>\n",
              "      <th>si.no</th>\n",
              "      <th>reviews</th>\n",
              "      <th>Label</th>\n",
              "    </tr>\n",
              "  </thead>\n",
              "  <tbody>\n",
              "    <tr>\n",
              "      <th>0</th>\n",
              "      <td>1</td>\n",
              "      <td>This product so far has not disappointed. My c...</td>\n",
              "      <td>Positive</td>\n",
              "    </tr>\n",
              "    <tr>\n",
              "      <th>1</th>\n",
              "      <td>2</td>\n",
              "      <td>great for beginner or experienced person. Boug...</td>\n",
              "      <td>Positive</td>\n",
              "    </tr>\n",
              "    <tr>\n",
              "      <th>2</th>\n",
              "      <td>3</td>\n",
              "      <td>Inexpensive tablet for him to use and learn on...</td>\n",
              "      <td>Positive</td>\n",
              "    </tr>\n",
              "    <tr>\n",
              "      <th>3</th>\n",
              "      <td>4</td>\n",
              "      <td>I've had my Fire HD 8 two weeks now and I love...</td>\n",
              "      <td>Positive</td>\n",
              "    </tr>\n",
              "    <tr>\n",
              "      <th>4</th>\n",
              "      <td>5</td>\n",
              "      <td>I bought this for my grand daughter when she c...</td>\n",
              "      <td>Positive</td>\n",
              "    </tr>\n",
              "  </tbody>\n",
              "</table>\n",
              "</div>\n",
              "    <div class=\"colab-df-buttons\">\n",
              "\n",
              "  <div class=\"colab-df-container\">\n",
              "    <button class=\"colab-df-convert\" onclick=\"convertToInteractive('df-021a4412-e27e-4dd4-a11f-f047e35aeb51')\"\n",
              "            title=\"Convert this dataframe to an interactive table.\"\n",
              "            style=\"display:none;\">\n",
              "\n",
              "  <svg xmlns=\"http://www.w3.org/2000/svg\" height=\"24px\" viewBox=\"0 -960 960 960\">\n",
              "    <path d=\"M120-120v-720h720v720H120Zm60-500h600v-160H180v160Zm220 220h160v-160H400v160Zm0 220h160v-160H400v160ZM180-400h160v-160H180v160Zm440 0h160v-160H620v160ZM180-180h160v-160H180v160Zm440 0h160v-160H620v160Z\"/>\n",
              "  </svg>\n",
              "    </button>\n",
              "\n",
              "  <style>\n",
              "    .colab-df-container {\n",
              "      display:flex;\n",
              "      gap: 12px;\n",
              "    }\n",
              "\n",
              "    .colab-df-convert {\n",
              "      background-color: #E8F0FE;\n",
              "      border: none;\n",
              "      border-radius: 50%;\n",
              "      cursor: pointer;\n",
              "      display: none;\n",
              "      fill: #1967D2;\n",
              "      height: 32px;\n",
              "      padding: 0 0 0 0;\n",
              "      width: 32px;\n",
              "    }\n",
              "\n",
              "    .colab-df-convert:hover {\n",
              "      background-color: #E2EBFA;\n",
              "      box-shadow: 0px 1px 2px rgba(60, 64, 67, 0.3), 0px 1px 3px 1px rgba(60, 64, 67, 0.15);\n",
              "      fill: #174EA6;\n",
              "    }\n",
              "\n",
              "    .colab-df-buttons div {\n",
              "      margin-bottom: 4px;\n",
              "    }\n",
              "\n",
              "    [theme=dark] .colab-df-convert {\n",
              "      background-color: #3B4455;\n",
              "      fill: #D2E3FC;\n",
              "    }\n",
              "\n",
              "    [theme=dark] .colab-df-convert:hover {\n",
              "      background-color: #434B5C;\n",
              "      box-shadow: 0px 1px 3px 1px rgba(0, 0, 0, 0.15);\n",
              "      filter: drop-shadow(0px 1px 2px rgba(0, 0, 0, 0.3));\n",
              "      fill: #FFFFFF;\n",
              "    }\n",
              "  </style>\n",
              "\n",
              "    <script>\n",
              "      const buttonEl =\n",
              "        document.querySelector('#df-021a4412-e27e-4dd4-a11f-f047e35aeb51 button.colab-df-convert');\n",
              "      buttonEl.style.display =\n",
              "        google.colab.kernel.accessAllowed ? 'block' : 'none';\n",
              "\n",
              "      async function convertToInteractive(key) {\n",
              "        const element = document.querySelector('#df-021a4412-e27e-4dd4-a11f-f047e35aeb51');\n",
              "        const dataTable =\n",
              "          await google.colab.kernel.invokeFunction('convertToInteractive',\n",
              "                                                    [key], {});\n",
              "        if (!dataTable) return;\n",
              "\n",
              "        const docLinkHtml = 'Like what you see? Visit the ' +\n",
              "          '<a target=\"_blank\" href=https://colab.research.google.com/notebooks/data_table.ipynb>data table notebook</a>'\n",
              "          + ' to learn more about interactive tables.';\n",
              "        element.innerHTML = '';\n",
              "        dataTable['output_type'] = 'display_data';\n",
              "        await google.colab.output.renderOutput(dataTable, element);\n",
              "        const docLink = document.createElement('div');\n",
              "        docLink.innerHTML = docLinkHtml;\n",
              "        element.appendChild(docLink);\n",
              "      }\n",
              "    </script>\n",
              "  </div>\n",
              "\n",
              "\n",
              "<div id=\"df-d344523d-6494-4165-9e13-814b30c63b91\">\n",
              "  <button class=\"colab-df-quickchart\" onclick=\"quickchart('df-d344523d-6494-4165-9e13-814b30c63b91')\"\n",
              "            title=\"Suggest charts\"\n",
              "            style=\"display:none;\">\n",
              "\n",
              "<svg xmlns=\"http://www.w3.org/2000/svg\" height=\"24px\"viewBox=\"0 0 24 24\"\n",
              "     width=\"24px\">\n",
              "    <g>\n",
              "        <path d=\"M19 3H5c-1.1 0-2 .9-2 2v14c0 1.1.9 2 2 2h14c1.1 0 2-.9 2-2V5c0-1.1-.9-2-2-2zM9 17H7v-7h2v7zm4 0h-2V7h2v10zm4 0h-2v-4h2v4z\"/>\n",
              "    </g>\n",
              "</svg>\n",
              "  </button>\n",
              "\n",
              "<style>\n",
              "  .colab-df-quickchart {\n",
              "      --bg-color: #E8F0FE;\n",
              "      --fill-color: #1967D2;\n",
              "      --hover-bg-color: #E2EBFA;\n",
              "      --hover-fill-color: #174EA6;\n",
              "      --disabled-fill-color: #AAA;\n",
              "      --disabled-bg-color: #DDD;\n",
              "  }\n",
              "\n",
              "  [theme=dark] .colab-df-quickchart {\n",
              "      --bg-color: #3B4455;\n",
              "      --fill-color: #D2E3FC;\n",
              "      --hover-bg-color: #434B5C;\n",
              "      --hover-fill-color: #FFFFFF;\n",
              "      --disabled-bg-color: #3B4455;\n",
              "      --disabled-fill-color: #666;\n",
              "  }\n",
              "\n",
              "  .colab-df-quickchart {\n",
              "    background-color: var(--bg-color);\n",
              "    border: none;\n",
              "    border-radius: 50%;\n",
              "    cursor: pointer;\n",
              "    display: none;\n",
              "    fill: var(--fill-color);\n",
              "    height: 32px;\n",
              "    padding: 0;\n",
              "    width: 32px;\n",
              "  }\n",
              "\n",
              "  .colab-df-quickchart:hover {\n",
              "    background-color: var(--hover-bg-color);\n",
              "    box-shadow: 0 1px 2px rgba(60, 64, 67, 0.3), 0 1px 3px 1px rgba(60, 64, 67, 0.15);\n",
              "    fill: var(--button-hover-fill-color);\n",
              "  }\n",
              "\n",
              "  .colab-df-quickchart-complete:disabled,\n",
              "  .colab-df-quickchart-complete:disabled:hover {\n",
              "    background-color: var(--disabled-bg-color);\n",
              "    fill: var(--disabled-fill-color);\n",
              "    box-shadow: none;\n",
              "  }\n",
              "\n",
              "  .colab-df-spinner {\n",
              "    border: 2px solid var(--fill-color);\n",
              "    border-color: transparent;\n",
              "    border-bottom-color: var(--fill-color);\n",
              "    animation:\n",
              "      spin 1s steps(1) infinite;\n",
              "  }\n",
              "\n",
              "  @keyframes spin {\n",
              "    0% {\n",
              "      border-color: transparent;\n",
              "      border-bottom-color: var(--fill-color);\n",
              "      border-left-color: var(--fill-color);\n",
              "    }\n",
              "    20% {\n",
              "      border-color: transparent;\n",
              "      border-left-color: var(--fill-color);\n",
              "      border-top-color: var(--fill-color);\n",
              "    }\n",
              "    30% {\n",
              "      border-color: transparent;\n",
              "      border-left-color: var(--fill-color);\n",
              "      border-top-color: var(--fill-color);\n",
              "      border-right-color: var(--fill-color);\n",
              "    }\n",
              "    40% {\n",
              "      border-color: transparent;\n",
              "      border-right-color: var(--fill-color);\n",
              "      border-top-color: var(--fill-color);\n",
              "    }\n",
              "    60% {\n",
              "      border-color: transparent;\n",
              "      border-right-color: var(--fill-color);\n",
              "    }\n",
              "    80% {\n",
              "      border-color: transparent;\n",
              "      border-right-color: var(--fill-color);\n",
              "      border-bottom-color: var(--fill-color);\n",
              "    }\n",
              "    90% {\n",
              "      border-color: transparent;\n",
              "      border-bottom-color: var(--fill-color);\n",
              "    }\n",
              "  }\n",
              "</style>\n",
              "\n",
              "  <script>\n",
              "    async function quickchart(key) {\n",
              "      const quickchartButtonEl =\n",
              "        document.querySelector('#' + key + ' button');\n",
              "      quickchartButtonEl.disabled = true;  // To prevent multiple clicks.\n",
              "      quickchartButtonEl.classList.add('colab-df-spinner');\n",
              "      try {\n",
              "        const charts = await google.colab.kernel.invokeFunction(\n",
              "            'suggestCharts', [key], {});\n",
              "      } catch (error) {\n",
              "        console.error('Error during call to suggestCharts:', error);\n",
              "      }\n",
              "      quickchartButtonEl.classList.remove('colab-df-spinner');\n",
              "      quickchartButtonEl.classList.add('colab-df-quickchart-complete');\n",
              "    }\n",
              "    (() => {\n",
              "      let quickchartButtonEl =\n",
              "        document.querySelector('#df-d344523d-6494-4165-9e13-814b30c63b91 button');\n",
              "      quickchartButtonEl.style.display =\n",
              "        google.colab.kernel.accessAllowed ? 'block' : 'none';\n",
              "    })();\n",
              "  </script>\n",
              "</div>\n",
              "    </div>\n",
              "  </div>\n"
            ]
          },
          "metadata": {},
          "execution_count": 7
        }
      ]
    },
    {
      "cell_type": "code",
      "source": [
        "# Defining Function to clean text\n",
        "def clean_text(text):\n",
        "    # Lowercase the text\n",
        "    text = text.lower()\n",
        "\n",
        "    # Remove URLs\n",
        "    text = re.sub(r'http\\S+', '', text)\n",
        "\n",
        "    # Remove non-alphabetic characters and digits\n",
        "    text = re.sub(r'[^a-zA-Z\\s]', '', text)\n",
        "\n",
        "    # Tokenize the text\n",
        "    tokens = word_tokenize(text)\n",
        "\n",
        "    # Lemmatize and remove stopwords\n",
        "    lemmatizer = WordNetLemmatizer()\n",
        "    stop_words = set(stopwords.words('english'))\n",
        "    tokens = [lemmatizer.lemmatize(token) for token in tokens if token not in stop_words and len(token) > 1]\n",
        "\n",
        "    # Join tokens back into a string\n",
        "    cleaned_text = ' '.join(tokens)\n",
        "\n",
        "    return cleaned_text"
      ],
      "metadata": {
        "colab": {
          "base_uri": "https://localhost:8080/"
        },
        "id": "if14UkI1bITt",
        "outputId": "93432fb6-135d-4104-e72a-aa72fc16a949"
      },
      "execution_count": null,
      "outputs": [
        {
          "output_type": "stream",
          "name": "stderr",
          "text": [
            "/usr/local/lib/python3.10/dist-packages/ipykernel/ipkernel.py:283: DeprecationWarning: `should_run_async` will not call `transform_cell` automatically in the future. Please pass the result to `transformed_cell` argument and any exception that happen during thetransform in `preprocessing_exc_tuple` in IPython 7.17 and above.\n",
            "  and should_run_async(code)\n"
          ]
        }
      ]
    },
    {
      "cell_type": "code",
      "source": [
        "# Applying cleaning function to the 'reviews' column to the Dataset\n",
        "surya_teja_Gonugunta_Dataset_Assignment_3['cleaned_text'] = surya_teja_Gonugunta_Dataset_Assignment_3['reviews'].apply(clean_text)\n",
        "\n",
        "# Displaying the cleaned text\n",
        "surya_teja_Gonugunta_Dataset_Assignment_3.head()"
      ],
      "metadata": {
        "colab": {
          "base_uri": "https://localhost:8080/",
          "height": 261
        },
        "id": "VALe5yk-bKHr",
        "outputId": "c8dc1581-7f0e-497d-cc8d-9c20ab3892f4"
      },
      "execution_count": null,
      "outputs": [
        {
          "output_type": "stream",
          "name": "stderr",
          "text": [
            "/usr/local/lib/python3.10/dist-packages/ipykernel/ipkernel.py:283: DeprecationWarning: `should_run_async` will not call `transform_cell` automatically in the future. Please pass the result to `transformed_cell` argument and any exception that happen during thetransform in `preprocessing_exc_tuple` in IPython 7.17 and above.\n",
            "  and should_run_async(code)\n"
          ]
        },
        {
          "output_type": "execute_result",
          "data": {
            "text/plain": [
              "   si.no                                            reviews     Label  \\\n",
              "0      1  This product so far has not disappointed. My c...  Positive   \n",
              "1      2  great for beginner or experienced person. Boug...  Positive   \n",
              "2      3  Inexpensive tablet for him to use and learn on...  Positive   \n",
              "3      4  I've had my Fire HD 8 two weeks now and I love...  Positive   \n",
              "4      5  I bought this for my grand daughter when she c...  Positive   \n",
              "\n",
              "                                        cleaned_text  \n",
              "0  product far disappointed child love use like a...  \n",
              "1  great beginner experienced person bought gift ...  \n",
              "2  inexpensive tablet use learn step nabi thrille...  \n",
              "3  ive fire hd two week love tablet great valuewe...  \n",
              "4  bought grand daughter come visit set user ente...  "
            ],
            "text/html": [
              "\n",
              "  <div id=\"df-dd00a887-4a4e-4dfa-9195-b6fb0dc44e17\" class=\"colab-df-container\">\n",
              "    <div>\n",
              "<style scoped>\n",
              "    .dataframe tbody tr th:only-of-type {\n",
              "        vertical-align: middle;\n",
              "    }\n",
              "\n",
              "    .dataframe tbody tr th {\n",
              "        vertical-align: top;\n",
              "    }\n",
              "\n",
              "    .dataframe thead th {\n",
              "        text-align: right;\n",
              "    }\n",
              "</style>\n",
              "<table border=\"1\" class=\"dataframe\">\n",
              "  <thead>\n",
              "    <tr style=\"text-align: right;\">\n",
              "      <th></th>\n",
              "      <th>si.no</th>\n",
              "      <th>reviews</th>\n",
              "      <th>Label</th>\n",
              "      <th>cleaned_text</th>\n",
              "    </tr>\n",
              "  </thead>\n",
              "  <tbody>\n",
              "    <tr>\n",
              "      <th>0</th>\n",
              "      <td>1</td>\n",
              "      <td>This product so far has not disappointed. My c...</td>\n",
              "      <td>Positive</td>\n",
              "      <td>product far disappointed child love use like a...</td>\n",
              "    </tr>\n",
              "    <tr>\n",
              "      <th>1</th>\n",
              "      <td>2</td>\n",
              "      <td>great for beginner or experienced person. Boug...</td>\n",
              "      <td>Positive</td>\n",
              "      <td>great beginner experienced person bought gift ...</td>\n",
              "    </tr>\n",
              "    <tr>\n",
              "      <th>2</th>\n",
              "      <td>3</td>\n",
              "      <td>Inexpensive tablet for him to use and learn on...</td>\n",
              "      <td>Positive</td>\n",
              "      <td>inexpensive tablet use learn step nabi thrille...</td>\n",
              "    </tr>\n",
              "    <tr>\n",
              "      <th>3</th>\n",
              "      <td>4</td>\n",
              "      <td>I've had my Fire HD 8 two weeks now and I love...</td>\n",
              "      <td>Positive</td>\n",
              "      <td>ive fire hd two week love tablet great valuewe...</td>\n",
              "    </tr>\n",
              "    <tr>\n",
              "      <th>4</th>\n",
              "      <td>5</td>\n",
              "      <td>I bought this for my grand daughter when she c...</td>\n",
              "      <td>Positive</td>\n",
              "      <td>bought grand daughter come visit set user ente...</td>\n",
              "    </tr>\n",
              "  </tbody>\n",
              "</table>\n",
              "</div>\n",
              "    <div class=\"colab-df-buttons\">\n",
              "\n",
              "  <div class=\"colab-df-container\">\n",
              "    <button class=\"colab-df-convert\" onclick=\"convertToInteractive('df-dd00a887-4a4e-4dfa-9195-b6fb0dc44e17')\"\n",
              "            title=\"Convert this dataframe to an interactive table.\"\n",
              "            style=\"display:none;\">\n",
              "\n",
              "  <svg xmlns=\"http://www.w3.org/2000/svg\" height=\"24px\" viewBox=\"0 -960 960 960\">\n",
              "    <path d=\"M120-120v-720h720v720H120Zm60-500h600v-160H180v160Zm220 220h160v-160H400v160Zm0 220h160v-160H400v160ZM180-400h160v-160H180v160Zm440 0h160v-160H620v160ZM180-180h160v-160H180v160Zm440 0h160v-160H620v160Z\"/>\n",
              "  </svg>\n",
              "    </button>\n",
              "\n",
              "  <style>\n",
              "    .colab-df-container {\n",
              "      display:flex;\n",
              "      gap: 12px;\n",
              "    }\n",
              "\n",
              "    .colab-df-convert {\n",
              "      background-color: #E8F0FE;\n",
              "      border: none;\n",
              "      border-radius: 50%;\n",
              "      cursor: pointer;\n",
              "      display: none;\n",
              "      fill: #1967D2;\n",
              "      height: 32px;\n",
              "      padding: 0 0 0 0;\n",
              "      width: 32px;\n",
              "    }\n",
              "\n",
              "    .colab-df-convert:hover {\n",
              "      background-color: #E2EBFA;\n",
              "      box-shadow: 0px 1px 2px rgba(60, 64, 67, 0.3), 0px 1px 3px 1px rgba(60, 64, 67, 0.15);\n",
              "      fill: #174EA6;\n",
              "    }\n",
              "\n",
              "    .colab-df-buttons div {\n",
              "      margin-bottom: 4px;\n",
              "    }\n",
              "\n",
              "    [theme=dark] .colab-df-convert {\n",
              "      background-color: #3B4455;\n",
              "      fill: #D2E3FC;\n",
              "    }\n",
              "\n",
              "    [theme=dark] .colab-df-convert:hover {\n",
              "      background-color: #434B5C;\n",
              "      box-shadow: 0px 1px 3px 1px rgba(0, 0, 0, 0.15);\n",
              "      filter: drop-shadow(0px 1px 2px rgba(0, 0, 0, 0.3));\n",
              "      fill: #FFFFFF;\n",
              "    }\n",
              "  </style>\n",
              "\n",
              "    <script>\n",
              "      const buttonEl =\n",
              "        document.querySelector('#df-dd00a887-4a4e-4dfa-9195-b6fb0dc44e17 button.colab-df-convert');\n",
              "      buttonEl.style.display =\n",
              "        google.colab.kernel.accessAllowed ? 'block' : 'none';\n",
              "\n",
              "      async function convertToInteractive(key) {\n",
              "        const element = document.querySelector('#df-dd00a887-4a4e-4dfa-9195-b6fb0dc44e17');\n",
              "        const dataTable =\n",
              "          await google.colab.kernel.invokeFunction('convertToInteractive',\n",
              "                                                    [key], {});\n",
              "        if (!dataTable) return;\n",
              "\n",
              "        const docLinkHtml = 'Like what you see? Visit the ' +\n",
              "          '<a target=\"_blank\" href=https://colab.research.google.com/notebooks/data_table.ipynb>data table notebook</a>'\n",
              "          + ' to learn more about interactive tables.';\n",
              "        element.innerHTML = '';\n",
              "        dataTable['output_type'] = 'display_data';\n",
              "        await google.colab.output.renderOutput(dataTable, element);\n",
              "        const docLink = document.createElement('div');\n",
              "        docLink.innerHTML = docLinkHtml;\n",
              "        element.appendChild(docLink);\n",
              "      }\n",
              "    </script>\n",
              "  </div>\n",
              "\n",
              "\n",
              "<div id=\"df-a88bc55d-f977-46a6-8315-1162ce699dbd\">\n",
              "  <button class=\"colab-df-quickchart\" onclick=\"quickchart('df-a88bc55d-f977-46a6-8315-1162ce699dbd')\"\n",
              "            title=\"Suggest charts\"\n",
              "            style=\"display:none;\">\n",
              "\n",
              "<svg xmlns=\"http://www.w3.org/2000/svg\" height=\"24px\"viewBox=\"0 0 24 24\"\n",
              "     width=\"24px\">\n",
              "    <g>\n",
              "        <path d=\"M19 3H5c-1.1 0-2 .9-2 2v14c0 1.1.9 2 2 2h14c1.1 0 2-.9 2-2V5c0-1.1-.9-2-2-2zM9 17H7v-7h2v7zm4 0h-2V7h2v10zm4 0h-2v-4h2v4z\"/>\n",
              "    </g>\n",
              "</svg>\n",
              "  </button>\n",
              "\n",
              "<style>\n",
              "  .colab-df-quickchart {\n",
              "      --bg-color: #E8F0FE;\n",
              "      --fill-color: #1967D2;\n",
              "      --hover-bg-color: #E2EBFA;\n",
              "      --hover-fill-color: #174EA6;\n",
              "      --disabled-fill-color: #AAA;\n",
              "      --disabled-bg-color: #DDD;\n",
              "  }\n",
              "\n",
              "  [theme=dark] .colab-df-quickchart {\n",
              "      --bg-color: #3B4455;\n",
              "      --fill-color: #D2E3FC;\n",
              "      --hover-bg-color: #434B5C;\n",
              "      --hover-fill-color: #FFFFFF;\n",
              "      --disabled-bg-color: #3B4455;\n",
              "      --disabled-fill-color: #666;\n",
              "  }\n",
              "\n",
              "  .colab-df-quickchart {\n",
              "    background-color: var(--bg-color);\n",
              "    border: none;\n",
              "    border-radius: 50%;\n",
              "    cursor: pointer;\n",
              "    display: none;\n",
              "    fill: var(--fill-color);\n",
              "    height: 32px;\n",
              "    padding: 0;\n",
              "    width: 32px;\n",
              "  }\n",
              "\n",
              "  .colab-df-quickchart:hover {\n",
              "    background-color: var(--hover-bg-color);\n",
              "    box-shadow: 0 1px 2px rgba(60, 64, 67, 0.3), 0 1px 3px 1px rgba(60, 64, 67, 0.15);\n",
              "    fill: var(--button-hover-fill-color);\n",
              "  }\n",
              "\n",
              "  .colab-df-quickchart-complete:disabled,\n",
              "  .colab-df-quickchart-complete:disabled:hover {\n",
              "    background-color: var(--disabled-bg-color);\n",
              "    fill: var(--disabled-fill-color);\n",
              "    box-shadow: none;\n",
              "  }\n",
              "\n",
              "  .colab-df-spinner {\n",
              "    border: 2px solid var(--fill-color);\n",
              "    border-color: transparent;\n",
              "    border-bottom-color: var(--fill-color);\n",
              "    animation:\n",
              "      spin 1s steps(1) infinite;\n",
              "  }\n",
              "\n",
              "  @keyframes spin {\n",
              "    0% {\n",
              "      border-color: transparent;\n",
              "      border-bottom-color: var(--fill-color);\n",
              "      border-left-color: var(--fill-color);\n",
              "    }\n",
              "    20% {\n",
              "      border-color: transparent;\n",
              "      border-left-color: var(--fill-color);\n",
              "      border-top-color: var(--fill-color);\n",
              "    }\n",
              "    30% {\n",
              "      border-color: transparent;\n",
              "      border-left-color: var(--fill-color);\n",
              "      border-top-color: var(--fill-color);\n",
              "      border-right-color: var(--fill-color);\n",
              "    }\n",
              "    40% {\n",
              "      border-color: transparent;\n",
              "      border-right-color: var(--fill-color);\n",
              "      border-top-color: var(--fill-color);\n",
              "    }\n",
              "    60% {\n",
              "      border-color: transparent;\n",
              "      border-right-color: var(--fill-color);\n",
              "    }\n",
              "    80% {\n",
              "      border-color: transparent;\n",
              "      border-right-color: var(--fill-color);\n",
              "      border-bottom-color: var(--fill-color);\n",
              "    }\n",
              "    90% {\n",
              "      border-color: transparent;\n",
              "      border-bottom-color: var(--fill-color);\n",
              "    }\n",
              "  }\n",
              "</style>\n",
              "\n",
              "  <script>\n",
              "    async function quickchart(key) {\n",
              "      const quickchartButtonEl =\n",
              "        document.querySelector('#' + key + ' button');\n",
              "      quickchartButtonEl.disabled = true;  // To prevent multiple clicks.\n",
              "      quickchartButtonEl.classList.add('colab-df-spinner');\n",
              "      try {\n",
              "        const charts = await google.colab.kernel.invokeFunction(\n",
              "            'suggestCharts', [key], {});\n",
              "      } catch (error) {\n",
              "        console.error('Error during call to suggestCharts:', error);\n",
              "      }\n",
              "      quickchartButtonEl.classList.remove('colab-df-spinner');\n",
              "      quickchartButtonEl.classList.add('colab-df-quickchart-complete');\n",
              "    }\n",
              "    (() => {\n",
              "      let quickchartButtonEl =\n",
              "        document.querySelector('#df-a88bc55d-f977-46a6-8315-1162ce699dbd button');\n",
              "      quickchartButtonEl.style.display =\n",
              "        google.colab.kernel.accessAllowed ? 'block' : 'none';\n",
              "    })();\n",
              "  </script>\n",
              "</div>\n",
              "    </div>\n",
              "  </div>\n"
            ]
          },
          "metadata": {},
          "execution_count": 9
        }
      ]
    },
    {
      "cell_type": "code",
      "source": [
        "from wordcloud import WordCloud\n",
        "import matplotlib.pyplot as plt\n",
        "\n",
        "simple_words = [\"ax\",\"i\",\"you\",\"edu\",\"s\",\"t\",\"m\",\"subject\",\"can\",\"lines\",\"re\",\"what\", \"there\",\n",
        "                    \"all\",\"we\",\"one\",\"the\",\"a\",\"an\",\"of\",\"or\",\"in\",\"for\",\"by\",\"on\",\"but\",\"is\",\"in\",\n",
        "                    \"a\",\"not\",\"with\",\"as\",\"was\",\"if\",\"they\",\"are\",\"this\",\"and\",\"it\",\"have\",\"from\",\"at\",\n",
        "                    \"my\",\"be\",\"by\",\"not\",\"that\",\"to\",\"from\",\"com\",\"org\",\"like\",\"likes\",\"so\",\"said\",\"from\",\n",
        "                    \"what\",\"told\",\"over\",\"more\",\"other\",\"have\",\"last\",\"with\",\"this\",\"that\",\"such\",\"when\",\n",
        "                    \"been\",\"says\",\"will\",\"also\",\"where\",\"why\",\"would\",\"today\", \"in\", \"on\", \"you\", \"r\", \"d\",\n",
        "                    \"u\", \"hw\",\"wat\", \"oly\", \"s\", \"b\", \"ht\", \"rt\", \"p\",\"the\",\"th\", \"lol\", ':']\n",
        "\n",
        "# Defining the set of stop words\n",
        "stop_words = set(stopwords.words('english') + list(string.punctuation) + simple_words)\n",
        "\n",
        "def generate_word_cloud(text):\n",
        "    wordcloud = WordCloud(width = 800, height = 800,\n",
        "                background_color ='white',\n",
        "                stopwords = stop_words,\n",
        "                min_font_size = 10).generate(text)\n",
        "\n",
        "    plt.figure(figsize = (8, 8), facecolor = None)\n",
        "    plt.imshow(wordcloud)\n",
        "    plt.axis(\"off\")\n",
        "    plt.tight_layout(pad = 0)\n",
        "\n",
        "    # Saving or displaying the word cloud\n",
        "    plt.savefig(f\"wordcloud.png\")\n",
        "    plt.show()"
      ],
      "metadata": {
        "colab": {
          "base_uri": "https://localhost:8080/"
        },
        "id": "vmj5GICa_566",
        "outputId": "9f3b7285-cc2c-4877-c61f-0f7932ace851"
      },
      "execution_count": null,
      "outputs": [
        {
          "output_type": "stream",
          "name": "stderr",
          "text": [
            "/usr/local/lib/python3.10/dist-packages/ipykernel/ipkernel.py:283: DeprecationWarning: `should_run_async` will not call `transform_cell` automatically in the future. Please pass the result to `transformed_cell` argument and any exception that happen during thetransform in `preprocessing_exc_tuple` in IPython 7.17 and above.\n",
            "  and should_run_async(code)\n"
          ]
        }
      ]
    },
    {
      "cell_type": "code",
      "source": [
        "generate_word_cloud(surya_teja_Gonugunta_Dataset_Assignment_3['cleaned_text'].str.cat(sep=' '))"
      ],
      "metadata": {
        "colab": {
          "base_uri": "https://localhost:8080/",
          "height": 925
        },
        "id": "nmVPP1BA_7Gz",
        "outputId": "901a4453-3200-4eb1-8779-ef184298941f"
      },
      "execution_count": null,
      "outputs": [
        {
          "output_type": "stream",
          "name": "stderr",
          "text": [
            "/usr/local/lib/python3.10/dist-packages/ipykernel/ipkernel.py:283: DeprecationWarning: `should_run_async` will not call `transform_cell` automatically in the future. Please pass the result to `transformed_cell` argument and any exception that happen during thetransform in `preprocessing_exc_tuple` in IPython 7.17 and above.\n",
            "  and should_run_async(code)\n",
            "/usr/local/lib/python3.10/dist-packages/wordcloud/wordcloud.py:106: MatplotlibDeprecationWarning: The get_cmap function was deprecated in Matplotlib 3.7 and will be removed two minor releases later. Use ``matplotlib.colormaps[name]`` or ``matplotlib.colormaps.get_cmap(obj)`` instead.\n",
            "  self.colormap = plt.cm.get_cmap(colormap)\n"
          ]
        },
        {
          "output_type": "display_data",
          "data": {
            "text/plain": [
              "<Figure size 800x800 with 1 Axes>"
            ],
            "image/png": "[encoded data removed]"
          },
          "metadata": {}
        }
      ]
    },
    {
      "cell_type": "markdown",
      "source": [
        "# 1. Features (text representation) used for topic modeling."
      ],
      "metadata": {
        "id": "S0PqvUpLc-BG"
      }
    },
    {
      "cell_type": "code",
      "source": [
        "# using Preprocesed text as features(text representation)\n",
        "\n",
        "stop_words = set(stopwords.words('english'))\n",
        "lemmatizer = WordNetLemmatizer()\n",
        "\n",
        "def preprocess_text(text):\n",
        "    tokens = word_tokenize(text.lower())\n",
        "    tokens = [token for token in tokens if token.isalpha()]\n",
        "    tokens = [token for token in tokens if token not in stop_words]\n",
        "    tokens = [lemmatizer.lemmatize(token) for token in tokens]\n",
        "    return tokens"
      ],
      "metadata": {
        "colab": {
          "base_uri": "https://localhost:8080/"
        },
        "id": "gLkwTOPiCl0f",
        "outputId": "52a17746-745e-4391-be86-5de42251de3f"
      },
      "execution_count": null,
      "outputs": [
        {
          "output_type": "stream",
          "name": "stderr",
          "text": [
            "/usr/local/lib/python3.10/dist-packages/ipykernel/ipkernel.py:283: DeprecationWarning: `should_run_async` will not call `transform_cell` automatically in the future. Please pass the result to `transformed_cell` argument and any exception that happen during thetransform in `preprocessing_exc_tuple` in IPython 7.17 and above.\n",
            "  and should_run_async(code)\n"
          ]
        }
      ]
    },
    {
      "cell_type": "code",
      "source": [
        "surya_teja_Gonugunta_Dataset_Assignment_3['cleaned_Reviews'] = surya_teja_Gonugunta_Dataset_Assignment_3['cleaned_text'].apply(preprocess_text)"
      ],
      "metadata": {
        "colab": {
          "base_uri": "https://localhost:8080/"
        },
        "id": "MYFJZ7qKC1ce",
        "outputId": "da258691-0ff5-44bf-a31e-714a5ed04707"
      },
      "execution_count": null,
      "outputs": [
        {
          "output_type": "stream",
          "name": "stderr",
          "text": [
            "/usr/local/lib/python3.10/dist-packages/ipykernel/ipkernel.py:283: DeprecationWarning: `should_run_async` will not call `transform_cell` automatically in the future. Please pass the result to `transformed_cell` argument and any exception that happen during thetransform in `preprocessing_exc_tuple` in IPython 7.17 and above.\n",
            "  and should_run_async(code)\n"
          ]
        }
      ]
    },
    {
      "cell_type": "markdown",
      "source": [
        "# 2. Top 10 clusters for topic modeling."
      ],
      "metadata": {
        "id": "myRi-FP_dy-C"
      }
    },
    {
      "cell_type": "code",
      "source": [
        "# Creating dictionary and corpus for LDA\n",
        "dictionary = corpora.Dictionary(surya_teja_Gonugunta_Dataset_Assignment_3['cleaned_Reviews'])\n",
        "corpus = [dictionary.doc2bow(text) for text in surya_teja_Gonugunta_Dataset_Assignment_3['cleaned_Reviews']]\n",
        "\n",
        "# Applying LDA model\n",
        "lda_model = LdaModel(corpus=corpus, id2word=dictionary, num_topics=10, random_state=42)\n",
        "\n",
        "# Printing top 10 clusters for topic modeling\n",
        "top_clusters = lda_model.print_topics(num_topics=10, num_words=5)\n",
        "\n",
        "# Displaying top 10 clusters and their topics\n",
        "for idx, cluster in top_clusters:\n",
        "    print(f\"Cluster {idx}: {cluster}\\n\")"
      ],
      "metadata": {
        "colab": {
          "base_uri": "https://localhost:8080/"
        },
        "id": "ylngPIepbKNy",
        "outputId": "08bf556d-e9ab-4e06-8064-51215fd4e690"
      },
      "execution_count": null,
      "outputs": [
        {
          "output_type": "stream",
          "name": "stderr",
          "text": [
            "/usr/local/lib/python3.10/dist-packages/ipykernel/ipkernel.py:283: DeprecationWarning: `should_run_async` will not call `transform_cell` automatically in the future. Please pass the result to `transformed_cell` argument and any exception that happen during thetransform in `preprocessing_exc_tuple` in IPython 7.17 and above.\n",
            "  and should_run_async(code)\n",
            "WARNING:gensim.models.ldamodel:too few updates, training might not converge; consider increasing the number of passes or iterations to improve accuracy\n"
          ]
        },
        {
          "output_type": "stream",
          "name": "stdout",
          "text": [
            "Cluster 0: 0.023*\"tablet\" + 0.019*\"great\" + 0.017*\"fire\" + 0.015*\"use\" + 0.013*\"fast\"\n",
            "\n",
            "Cluster 1: 0.025*\"easy\" + 0.022*\"tablet\" + 0.018*\"kindle\" + 0.017*\"photo\" + 0.017*\"love\"\n",
            "\n",
            "Cluster 2: 0.029*\"tablet\" + 0.028*\"book\" + 0.020*\"use\" + 0.018*\"love\" + 0.016*\"learn\"\n",
            "\n",
            "Cluster 3: 0.031*\"love\" + 0.030*\"use\" + 0.026*\"tablet\" + 0.019*\"bought\" + 0.013*\"easy\"\n",
            "\n",
            "Cluster 4: 0.044*\"tablet\" + 0.025*\"one\" + 0.022*\"love\" + 0.021*\"great\" + 0.016*\"user\"\n",
            "\n",
            "Cluster 5: 0.026*\"great\" + 0.019*\"fire\" + 0.019*\"one\" + 0.019*\"book\" + 0.019*\"work\"\n",
            "\n",
            "Cluster 6: 0.024*\"tablet\" + 0.018*\"nice\" + 0.017*\"perfect\" + 0.017*\"easy\" + 0.016*\"would\"\n",
            "\n",
            "Cluster 7: 0.031*\"tablet\" + 0.019*\"device\" + 0.018*\"size\" + 0.017*\"great\" + 0.015*\"would\"\n",
            "\n",
            "Cluster 8: 0.032*\"tablet\" + 0.022*\"kindle\" + 0.021*\"movie\" + 0.019*\"amazon\" + 0.016*\"great\"\n",
            "\n",
            "Cluster 9: 0.029*\"easy\" + 0.023*\"great\" + 0.023*\"use\" + 0.022*\"tablet\" + 0.017*\"quality\"\n",
            "\n"
          ]
        }
      ]
    },
    {
      "cell_type": "markdown",
      "source": [
        "# 3. Summarize and describe the topic for each cluster."
      ],
      "metadata": {
        "id": "dQbcJI6ed3b7"
      }
    },
    {
      "cell_type": "markdown",
      "source": [
        "Here each cluster appears to represent a set of keywords and their associated weights. Let's summarize and describe the topics represented by each cluster based on the most significant words:\n",
        "\n",
        "Cluster 0:\n",
        "Keywords: \"tablet,\" \"great,\" \"fire,\" \"use,\" \"fast\"\n",
        "Description: This cluster seems to focus on the positive aspects of tablets, highlighting their speed (\"fast\"), usage, and possibly specific tablet models like the \"Fire\" with positive sentiments (\"great\").\n",
        "\n",
        "Cluster 1:\n",
        "Keywords: \"easy,\" \"tablet,\" \"kindle,\" \"photo,\" \"love\"\n",
        "Description: This cluster emphasizes the ease of use, particularly related to tablets and possibly Kindle devices. It also mentions a connection with photos and a strong sentiment of \"love\" for these devices.\n",
        "\n",
        "Cluster 2:\n",
        "Keywords: \"tablet,\" \"book,\" \"use,\" \"love,\" \"learn\"\n",
        "Description: This cluster appears to relate tablets to reading books, usage, learning, and a positive sentiment of \"love\" associated with these activities on the tablet.\n",
        "\n",
        "Cluster 3:\n",
        "Keywords: \"love,\" \"use,\" \"tablet,\" \"bought,\" \"easy\"\n",
        "Description: This cluster reflects a strong sentiment of \"love\" and emphasizes the ease of use associated with the tablet, possibly discussing the purchase experience (\"bought\").\n",
        "\n",
        "Cluster 4:\n",
        "Keywords: \"tablet,\" \"one,\" \"love,\" \"great,\" \"user\"\n",
        "Description: This cluster discusses the positive aspects of tablets, including their user-friendly nature (\"user\"), popularity (\"one\"), and a sentiment of \"love.\"\n",
        "\n",
        "Cluster 5:\n",
        "Keywords: \"great,\" \"fire,\" \"one,\" \"book,\" \"work\"\n",
        "Description: This cluster may be related to the \"Fire\" tablet, mentioning its greatness, capability to work, and its association with books.\n",
        "\n",
        "Cluster 6:\n",
        "Keywords: \"tablet,\" \"nice,\" \"perfect,\" \"easy,\" \"would\"\n",
        "Description: This cluster seems to focus on the positive attributes of tablets, describing them as nice, perfect, and easy to use, possibly expressing intent or recommendations (\"would\").\n",
        "\n",
        "Cluster 7:\n",
        "Keywords: \"tablet,\" \"device,\" \"size,\" \"great,\" \"would\"\n",
        "Description: This cluster discusses tablets as devices, possibly considering their size and highlighting positive aspects, similar to other clusters.\n",
        "\n",
        "Cluster 8:\n",
        "Keywords: \"tablet,\" \"kindle,\" \"movie,\" \"amazon,\" \"great\"\n",
        "Description: This cluster might discuss tablets or Kindle devices, their usage for watching movies, possibly purchased from Amazon, with a positive sentiment.\n",
        "\n",
        "Cluster 9:\n",
        "Keywords: \"easy,\" \"great,\" \"use,\" \"tablet,\" \"quality\"\n",
        "Description: This cluster emphasizes the ease of use and high-quality aspects associated with tablets, with a generally positive sentiment."
      ],
      "metadata": {
        "id": "EKkqzBuecR9k"
      }
    },
    {
      "cell_type": "code",
      "source": [
        "# printing keywords\n",
        "pprint(lda_model.print_topics())"
      ],
      "metadata": {
        "colab": {
          "base_uri": "https://localhost:8080/"
        },
        "id": "8e8cbEnuCUYF",
        "outputId": "bbfb2851-efef-43ec-9ecd-371881f783f2"
      },
      "execution_count": null,
      "outputs": [
        {
          "output_type": "stream",
          "name": "stdout",
          "text": [
            "[(0,\n",
            "  '0.023*\"tablet\" + 0.019*\"great\" + 0.017*\"fire\" + 0.015*\"use\" + 0.013*\"fast\" '\n",
            "  '+ 0.012*\"work\" + 0.011*\"love\" + 0.011*\"bought\" + 0.009*\"app\" + '\n",
            "  '0.009*\"thing\"'),\n",
            " (1,\n",
            "  '0.025*\"easy\" + 0.022*\"tablet\" + 0.018*\"kindle\" + 0.017*\"photo\" + '\n",
            "  '0.017*\"love\" + 0.013*\"beginner\" + 0.013*\"great\" + 0.013*\"good\" + '\n",
            "  '0.013*\"person\" + 0.013*\"gift\"'),\n",
            " (2,\n",
            "  '0.029*\"tablet\" + 0.028*\"book\" + 0.020*\"use\" + 0.018*\"love\" + 0.016*\"learn\" '\n",
            "  '+ 0.013*\"library\" + 0.012*\"play\" + 0.012*\"game\" + 0.011*\"daughter\" + '\n",
            "  '0.011*\"like\"'),\n",
            " (3,\n",
            "  '0.031*\"love\" + 0.030*\"use\" + 0.026*\"tablet\" + 0.019*\"bought\" + 0.013*\"easy\" '\n",
            "  '+ 0.011*\"apps\" + 0.011*\"granddaughter\" + 0.011*\"yr\" + 0.011*\"old\" + '\n",
            "  '0.011*\"gift\"'),\n",
            " (4,\n",
            "  '0.044*\"tablet\" + 0.025*\"one\" + 0.022*\"love\" + 0.021*\"great\" + 0.016*\"user\" '\n",
            "  '+ 0.014*\"kindle\" + 0.014*\"new\" + 0.012*\"got\" + 0.012*\"good\" + '\n",
            "  '0.012*\"price\"'),\n",
            " (5,\n",
            "  '0.026*\"great\" + 0.019*\"fire\" + 0.019*\"one\" + 0.019*\"book\" + 0.019*\"work\" + '\n",
            "  '0.018*\"like\" + 0.016*\"love\" + 0.015*\"kindle\" + 0.014*\"got\" + '\n",
            "  '0.012*\"tablet\"'),\n",
            " (6,\n",
            "  '0.024*\"tablet\" + 0.018*\"nice\" + 0.017*\"perfect\" + 0.017*\"easy\" + '\n",
            "  '0.016*\"would\" + 0.012*\"device\" + 0.012*\"take\" + 0.011*\"screen\" + '\n",
            "  '0.011*\"something\" + 0.010*\"great\"'),\n",
            " (7,\n",
            "  '0.031*\"tablet\" + 0.019*\"device\" + 0.018*\"size\" + 0.017*\"great\" + '\n",
            "  '0.015*\"would\" + 0.015*\"set\" + 0.014*\"reading\" + 0.013*\"perfect\" + '\n",
            "  '0.013*\"fire\" + 0.013*\"member\"'),\n",
            " (8,\n",
            "  '0.032*\"tablet\" + 0.022*\"kindle\" + 0.021*\"movie\" + 0.019*\"amazon\" + '\n",
            "  '0.016*\"great\" + 0.016*\"apps\" + 0.011*\"love\" + 0.011*\"email\" + '\n",
            "  '0.011*\"checking\" + 0.011*\"carry\"'),\n",
            " (9,\n",
            "  '0.029*\"easy\" + 0.023*\"great\" + 0.023*\"use\" + 0.022*\"tablet\" + '\n",
            "  '0.017*\"quality\" + 0.017*\"movie\" + 0.012*\"fire\" + 0.012*\"fast\" + '\n",
            "  '0.012*\"apps\" + 0.012*\"fun\"')]\n"
          ]
        },
        {
          "output_type": "stream",
          "name": "stderr",
          "text": [
            "/usr/local/lib/python3.10/dist-packages/ipykernel/ipkernel.py:283: DeprecationWarning: `should_run_async` will not call `transform_cell` automatically in the future. Please pass the result to `transformed_cell` argument and any exception that happen during thetransform in `preprocessing_exc_tuple` in IPython 7.17 and above.\n",
            "  and should_run_async(code)\n"
          ]
        }
      ]
    },
    {
      "cell_type": "code",
      "source": [
        "# Creating the pyLDAvis visualization\n",
        "lda_vis = pyLDAvis.gensim.prepare(lda_model, corpus, dictionary)\n",
        "\n",
        "# Displaying the visualization\n",
        "pyLDAvis.display(lda_vis)"
      ],
      "metadata": {
        "colab": {
          "base_uri": "https://localhost:8080/",
          "height": 916
        },
        "id": "jdUQNi5-Ex6s",
        "outputId": "c07aa701-4d38-4bde-90d9-9018b090f777"
      },
      "execution_count": null,
      "outputs": [
        {
          "output_type": "stream",
          "name": "stderr",
          "text": [
            "/usr/local/lib/python3.10/dist-packages/ipykernel/ipkernel.py:283: DeprecationWarning: `should_run_async` will not call `transform_cell` automatically in the future. Please pass the result to `transformed_cell` argument and any exception that happen during thetransform in `preprocessing_exc_tuple` in IPython 7.17 and above.\n",
            "  and should_run_async(code)\n"
          ]
        },
        {
          "output_type": "execute_result",
          "data": {
            "text/plain": [
              "<IPython.core.display.HTML object>"
            ],
            "text/html": [
              "\n",
              "<link rel=\"stylesheet\" type=\"text/css\" href=\"https://cdn.jsdelivr.net/gh/bmabey/pyLDAvis@3.4.0/pyLDAvis/js/ldavis.v1.0.0.css\">\n",
              "\n",
              "\n",
              "<div id=\"ldavis_el482241372253911912324311723505\" style=\"background-color:white;\"></div>\n",
              "<script type=\"text/javascript\">\n",
              "\n",
              "var ldavis_el482241372253911912324311723505_data = {\"mdsDat\": {\"x\": [-0.006185875196631587, -0.06943695665151486, -0.11093082187658558, -0.04183247535109559, -0.0345274441840739, 0.06352399657441289, -0.0054132108584408764, 0.06442690248386417, 0.10671237254211481, 0.033663512517950356], \"y\": [-0.00850418346338814, -0.02710514233038515, 0.024806219034882154, 0.0008130360318347904, 0.024348853971029146, -0.0016097586266248245, 0.05313383457917486, -0.11341367578658208, 0.10662049210586903, -0.05908967551580989], \"topics\": [1, 2, 3, 4, 5, 6, 7, 8, 9, 10], \"cluster\": [1, 1, 1, 1, 1, 1, 1, 1, 1, 1], \"Freq\": [16.345990714208455, 12.293134352370476, 11.306958528334917, 9.902275988381364, 9.324864147354118, 9.097594746669424, 8.535142919001853, 8.39199674957141, 7.6896476992852625, 7.112394154822721]}, \"tinfo\": {\"Term\": [\"easy\", \"book\", \"movie\", \"use\", \"love\", \"one\", \"work\", \"got\", \"quality\", \"device\", \"perfect\", \"photo\", \"kindle\", \"gift\", \"amazon\", \"user\", \"reading\", \"learn\", \"bought\", \"tablet\", \"size\", \"would\", \"apps\", \"nice\", \"fast\", \"read\", \"need\", \"reader\", \"new\", \"good\", \"many\", \"magnet\", \"unusable\", \"grown\", \"tv\", \"fingerprint\", \"home\", \"spectrum\", \"awfulthe\", \"sound\", \"tool\", \"benefit\", \"point\", \"areit\", \"commuter\", \"packed\", \"lighter\", \"reason\", \"negative\", \"speaker\", \"always\", \"leaning\", \"decentnot\", \"considered\", \"handheld\", \"youtube\", \"twitch\", \"someone\", \"ereading\", \"grandchild\", \"weight\", \"phone\", \"load\", \"quickly\", \"definitely\", \"fast\", \"thing\", \"learning\", \"work\", \"given\", \"fire\", \"app\", \"well\", \"battery\", \"great\", \"tablet\", \"bought\", \"table\", \"use\", \"life\", \"run\", \"ipad\", \"need\", \"get\", \"beat\", \"love\", \"price\", \"screen\", \"gift\", \"got\", \"nice\", \"amazon\", \"kindle\", \"easy\", \"entertainment\", \"complaint\", \"needed\", \"purchasing\", \"flight\", \"account\", \"reset\", \"difficult\", \"steal\", \"downloading\", \"never\", \"worst\", \"member\", \"size\", \"problem\", \"vision\", \"possible\", \"difficulty\", \"text\", \"extreme\", \"seenused\", \"scale\", \"set\", \"especially\", \"freetime\", \"setting\", \"lol\", \"device\", \"travel\", \"option\", \"limited\", \"reading\", \"recommend\", \"perfect\", \"access\", \"prime\", \"would\", \"purchased\", \"tablet\", \"bright\", \"time\", \"screen\", \"great\", \"fire\", \"amazon\", \"available\", \"kid\", \"right\", \"kindle\", \"book\", \"nice\", \"family\", \"want\", \"apps\", \"listen\", \"web\", \"browser\", \"huge\", \"worse\", \"kind\", \"cheapworth\", \"kindlethis\", \"surf\", \"moviestv\", \"serf\", \"sister\", \"grandson\", \"charm\", \"flexibility\", \"paid\", \"fan\", \"recovery\", \"retired\", \"packaging\", \"sleek\", \"portability\", \"surgery\", \"believe\", \"foot\", \"tab\", \"download\", \"bigger\", \"friend\", \"work\", \"got\", \"like\", \"year\", \"book\", \"one\", \"really\", \"great\", \"reader\", \"fire\", \"hd\", \"kindle\", \"want\", \"love\", \"old\", \"watch\", \"read\", \"screen\", \"husband\", \"nice\", \"set\", \"purchase\", \"tablet\", \"good\", \"ad\", \"access\", \"find\", \"take\", \"desktop\", \"usepicture\", \"learned\", \"along\", \"almost\", \"bargain\", \"install\", \"wantneed\", \"instruction\", \"trip\", \"purpose\", \"surprised\", \"pre\", \"couldnt\", \"wish\", \"fit\", \"around\", \"something\", \"actually\", \"purse\", \"nicely\", \"ebook\", \"store\", \"traveling\", \"recommended\", \"gotten\", \"perfect\", \"useful\", \"first\", \"nice\", \"product\", \"husband\", \"would\", \"play\", \"way\", \"device\", \"easy\", \"tablet\", \"read\", \"amazon\", \"screen\", \"good\", \"access\", \"looking\", \"run\", \"great\", \"money\", \"thing\", \"use\", \"dont\", \"happy\", \"want\", \"kindle\", \"one\", \"learn\", \"nabi\", \"step\", \"itwell\", \"already\", \"ordering\", \"skype\", \"thrilled\", \"online\", \"tech\", \"day\", \"library\", \"greatest\", \"consider\", \"aunt\", \"borrowed\", \"type\", \"saavy\", \"advertised\", \"grandmother\", \"link\", \"choice\", \"made\", \"inexpensive\", \"brand\", \"latest\", \"popular\", \"thanks\", \"even\", \"charged\", \"daughter\", \"book\", \"reader\", \"play\", \"checking\", \"camera\", \"game\", \"way\", \"use\", \"tablet\", \"love\", \"user\", \"like\", \"read\", \"child\", \"wanted\", \"great\", \"kindle\", \"first\", \"excellent\", \"much\", \"money\", \"table\", \"granddaughter\", \"yr\", \"viedosthanks\", \"memory\", \"bestlove\", \"said\", \"kindled\", \"itthat\", \"christmaswe\", \"fantastic\", \"booksgamesmusic\", \"uncle\", \"gave\", \"ease\", \"inlaws\", \"wonderful\", \"extra\", \"capability\", \"gig\", \"hundred\", \"card\", \"sd\", \"capacity\", \"think\", \"installed\", \"cost\", \"site\", \"name\", \"come\", \"appropriate\", \"age\", \"content\", \"far\", \"use\", \"love\", \"bought\", \"gift\", \"everything\", \"old\", \"tablet\", \"apps\", \"easy\", \"looking\", \"one\", \"much\", \"available\", \"product\", \"disappointed\", \"fact\", \"kindle\", \"purchased\", \"charge\", \"done\", \"lite\", \"alot\", \"spec\", \"forward\", \"imaging\", \"highest\", \"died\", \"meet\", \"may\", \"generation\", \"giant\", \"friendly\", \"keep\", \"new\", \"depend\", \"however\", \"afraid\", \"came\", \"lose\", \"broke\", \"anymore\", \"length\", \"transferred\", \"father\", \"last\", \"could\", \"pretty\", \"wife\", \"user\", \"basic\", \"one\", \"everything\", \"tablet\", \"got\", \"get\", \"love\", \"happy\", \"great\", \"good\", \"need\", \"kindle\", \"price\", \"want\", \"old\", \"bought\", \"would\", \"fast\", \"job\", \"ipad\", \"overall\", \"previous\", \"son\", \"purchased\", \"fun\", \"quality\", \"contact\", \"manegement\", \"teen\", \"inexspensive\", \"important\", \"cheaper\", \"full\", \"calender\", \"wanting\", \"interactive\", \"mainly\", \"hoping\", \"comic\", \"visual\", \"though\", \"faster\", \"navigate\", \"disappoint\", \"whole\", \"vacation\", \"figure\", \"extensively\", \"inch\", \"several\", \"push\", \"sometimes\", \"start\", \"star\", \"movie\", \"easy\", \"really\", \"use\", \"great\", \"fast\", \"tablet\", \"time\", \"apps\", \"screen\", \"fire\", \"would\", \"family\", \"make\", \"play\", \"spend\", \"enough\", \"game\", \"bought\", \"feature\", \"traveling\", \"better\", \"book\", \"person\", \"enjoy\", \"photo\", \"connect\", \"wifi\", \"area\", \"viewing\", \"enjoys\", \"setup\", \"found\", \"place\", \"exactly\", \"cease\", \"experienced\", \"elderly\", \"decent\", \"surfing\", \"smaller\", \"pop\", \"pad\", \"black\", \"color\", \"im\", \"bed\", \"pic\", \"night\", \"white\", \"longer\", \"birthday\", \"arent\", \"beginner\", \"light\", \"easy\", \"gift\", \"enough\", \"kindle\", \"need\", \"read\", \"good\", \"reading\", \"tablet\", \"love\", \"bought\", \"great\", \"apps\", \"internet\", \"bright\", \"access\", \"use\", \"using\", \"much\", \"bulky\", \"appointment\", \"big\", \"netflixs\", \"compact\", \"playback\", \"gaming\", \"meeting\", \"predominately\", \"prevent\", \"parental\", \"productivity\", \"versus\", \"footprint\", \"preloaded\", \"easiest\", \"enjoyed\", \"unwanted\", \"expandable\", \"brilliant\", \"carry\", \"sure\", \"email\", \"checking\", \"last\", \"movie\", \"control\", \"affordable\", \"graphic\", \"crisp\", \"amazon\", \"kid\", \"apps\", \"kindle\", \"tablet\", \"app\", \"family\", \"great\", \"member\", \"make\", \"love\", \"use\", \"ipad\", \"also\", \"best\", \"little\", \"price\", \"fire\", \"device\", \"screen\", \"game\", \"time\", \"definitely\", \"watching\", \"library\"], \"Freq\": [14.0, 11.0, 7.0, 17.0, 19.0, 11.0, 7.0, 5.0, 3.0, 7.0, 7.0, 3.0, 14.0, 4.0, 8.0, 6.0, 6.0, 2.0, 10.0, 38.0, 5.0, 9.0, 8.0, 8.0, 7.0, 7.0, 6.0, 4.0, 3.0, 7.0, 1.7268751590281428, 0.9045705874015042, 0.9045700886832404, 0.9045730255796822, 0.9045694791386959, 0.9045674288525007, 0.9045689250072918, 0.9045643811297781, 0.9045627187355658, 0.9045620537778809, 0.9045662651765521, 0.9045652123268844, 0.9045681492233261, 0.9045586181631754, 0.9045648244349015, 0.9045643811297781, 0.9045620537778809, 0.9045513590417816, 0.9045503616052543, 0.9045482559059187, 0.9045457069014597, 0.9045505832578159, 0.9045399993479974, 0.9045374503435386, 0.9045447094649324, 0.9045371732778366, 0.9045367853858536, 0.904552079412607, 0.9045472584693912, 0.9045409967845248, 1.7267146825735136, 1.726799464678342, 1.2396423769448714, 0.9045427145918776, 1.7269432063645673, 2.995817677270289, 2.058203624697347, 1.7268798137319374, 2.8647757962168465, 1.412044958479694, 4.0079717131031956, 2.204218357942319, 1.5400451014297127, 1.2922598135955596, 4.4034641623167445, 5.580124074697108, 2.719895259129801, 1.6719517599524043, 3.482800102785185, 1.4329128822006743, 1.5909746538234915, 1.4441321590870646, 1.726835372393328, 1.540932154981407, 1.2136117217581082, 2.726224991332633, 1.7621154781511625, 1.7616810391303428, 1.388249558550817, 1.4426245891890515, 1.6260478469150326, 1.611319920804118, 1.7959768966882028, 1.726773974633753, 0.8504667789908877, 0.8504580274719195, 0.8504566939071243, 0.8504545268643322, 0.8504439416937706, 0.850443274911373, 0.8504270220904319, 0.8504106025738913, 0.8504212710922527, 0.8504084355310992, 0.8503938496661522, 0.8503921827101582, 2.2602111296890826, 3.1697631638857744, 1.452213888643034, 0.7133599818791273, 0.7032044692249431, 0.6847905231854973, 0.6725937395689131, 0.6476253642351285, 0.6337853370736013, 0.6300546478852258, 2.6107503047903076, 0.6148004586062253, 1.2871025642239957, 1.2801789458508952, 0.9504572172890023, 3.3142469080531916, 0.8504257718734364, 0.8503991005775331, 0.9364087789543308, 2.4667853173282097, 1.6235849662105797, 2.3965929676390707, 2.237790404874762, 1.2924633280049618, 2.6592425547413137, 1.6235169544060262, 5.592134272406594, 1.1001466983299482, 1.510808725395416, 1.980340053517671, 3.0910681717582595, 2.3634855546430917, 1.7266890282620067, 1.275104481761891, 1.317266049586847, 1.1946079269439072, 1.8282581572341983, 1.646264402595162, 1.4929552933089383, 1.1568716271961088, 1.236335336080237, 1.2921131005506314, 1.579422839180671, 0.8273604186893552, 0.8273574288908696, 0.8273479228649154, 0.8273463896349228, 0.8273460829889243, 0.8273431698519383, 0.8273405633609509, 0.8273431698519383, 0.8273348904099782, 0.8273289108130071, 0.8273348904099782, 0.8273358870094735, 0.8273315939654942, 0.8273246944305274, 0.8273185615105569, 0.8273213213245436, 0.8273187914950558, 0.8273026925801334, 0.8272956397221675, 0.8272922666161837, 0.8272890468331993, 0.8272946431226722, 0.8272939531691755, 0.8272645918148172, 1.226777181066537, 1.1827476453532737, 1.1497801340521878, 0.8273368836089686, 3.0835769648561615, 2.3316004819059315, 2.9007978576232163, 1.9494640648219528, 3.0837002365475676, 3.0884087858548708, 1.7052956552689233, 4.2753345595995045, 1.5794096534027346, 3.1017610725685083, 1.263957931725814, 2.458675503631389, 1.7006450620553408, 2.5966819952351528, 1.5793714759759188, 1.276044460419053, 1.579421612596677, 1.7193515412261695, 1.1591879566253391, 1.6366008186800547, 1.382312017914809, 1.1538208850362102, 2.0401244142539405, 1.199780067356672, 0.9595947593399429, 0.9565854121719489, 1.4063772960240672, 1.6630693419953506, 0.7367143345406271, 0.7367001684833624, 0.7366935889875712, 0.7366968115977547, 0.7366883522460231, 0.7366882179705988, 0.7366747904281677, 0.7366811013731104, 0.7366761331824109, 0.7366782144514877, 0.7366738505001976, 0.7366680766569523, 0.7366594158920843, 0.736642362913197, 0.9807807309148864, 0.6233143076217991, 0.9664189672192457, 1.5178852479389426, 0.6050801078267691, 0.5980573688599299, 0.5779954119891916, 0.5706772670888703, 1.0876857884221258, 0.7366739176379098, 0.47960761249021827, 0.4885489794261675, 2.445548635128143, 0.7367148716423243, 1.092613696494304, 2.534270047537605, 1.406426575104789, 1.1108689775309508, 2.2480290831418066, 1.4834732764721907, 1.2441917848432196, 1.7524180891871892, 2.3982294384995893, 3.4048434182974834, 1.4121937045789053, 1.5006476403431417, 1.5256862472650827, 1.3661557640491175, 1.2936336073792667, 1.0853256964267404, 1.074534114850367, 1.5084364206056697, 0.91471789353147, 0.9524650651249467, 1.1960254445626937, 0.8868604426269883, 0.9192730530257637, 0.9308620292094021, 0.9793586198960188, 0.9226406135297472, 2.1321871091174636, 0.8119994924464168, 0.8119799565877783, 0.8119845086325096, 0.8119767954456037, 0.8119726227379335, 0.8119587769352091, 0.8119497992914335, 0.8119516959767382, 1.2000252055453275, 1.175290406040989, 1.8123168225349615, 0.7081315047734139, 0.7027693857484838, 0.6973966452858473, 0.6843789985883818, 0.6923096720757863, 0.689451936327188, 0.6777448359524298, 0.6752431080355246, 0.6600346633654385, 0.6451866521260896, 0.6436822645652415, 1.3291270106263366, 0.6355518701152516, 0.649924508794398, 0.6303552052717352, 0.6427629411980512, 0.6367665073843843, 0.6347115753024241, 1.5501039989758587, 3.746627938085769, 1.4111291882097405, 1.691773493777214, 1.143563412938014, 0.8119200845549931, 1.609443821864531, 1.280270926090888, 2.753975429427753, 3.9586963220047813, 2.3887051982720346, 1.32762319207108, 1.470436767448233, 1.2030437169849213, 0.9405064970158706, 0.8470047164300433, 1.4095450766432513, 0.88449617873392, 0.8283929228720388, 0.8119901354655802, 0.8119893767914583, 0.811988049111745, 0.8119837499583877, 1.4284281425231038, 1.4283556045493095, 0.7482291380052395, 0.7482253754062587, 0.7482250669965061, 0.748223833357496, 0.7482211810336243, 0.7482170483429404, 0.7482113119215434, 0.7482162464775839, 0.7482067474572061, 0.748200394216304, 0.748200024124601, 0.74817670834731, 0.7481720822010222, 0.7481804092643404, 0.7481699850147049, 1.3152165971101206, 0.653112794638335, 0.6348244664052244, 1.279827194827225, 0.6180765832040326, 0.6078539101828926, 0.6077544788786781, 0.6048279170550048, 0.6031895210856838, 0.5919115315733491, 0.591800195652687, 1.178545185369764, 0.587262254554014, 1.1747294165476068, 1.289147954368077, 1.0309177022167595, 3.9140881241680217, 4.070984554023454, 2.5218887519102893, 1.4283079860835195, 1.2525603185146659, 1.4283442550704166, 3.506865367299018, 1.468854246156458, 1.7014678608990343, 1.0742091791788857, 1.3297628047699772, 1.06044559210704, 0.8128302485001255, 0.7482386370256173, 0.7482302482803486, 0.7482265473633183, 0.7482248202687041, 0.7482235249477435, 1.210390741873673, 0.6893574817689508, 0.6893492644403667, 0.6893526786825249, 0.6893448664335189, 0.6893450979075635, 0.689336706973446, 0.6893376328696245, 0.6893397161360261, 0.6893353181291783, 0.6893372856585576, 0.6893323668351093, 0.6893231078733245, 0.6892990345726838, 0.6892809795972032, 1.7612766308281516, 0.6458520508193136, 0.6407924332834601, 0.6357807308748432, 0.6315283212010969, 0.6240101021002934, 0.6228732751986448, 0.6198592516636249, 0.61500691913473, 0.6041158917297429, 0.5395621786915823, 0.6893423780875392, 1.2480509902485215, 0.6893058051884889, 0.6893633264885775, 1.942667678048301, 1.3160327181505078, 3.0604076929254904, 1.2297300510907538, 5.513927013751781, 1.5326311990316712, 1.3430161104801555, 2.79184317328972, 1.2736851203720687, 2.587883290981927, 1.4992228973824797, 1.3160514675481223, 1.7999238845292673, 1.4334009380538366, 1.241325048933947, 1.181465745257738, 1.2583690615245586, 1.198294024038762, 1.0693416855723377, 0.7887481542597083, 0.7720560400854329, 0.6893618219072875, 0.6893584655336404, 0.6893577711115065, 0.689355340634038, 1.4411966019694238, 2.1275723634942083, 0.7549695148560976, 0.7549633698746826, 0.7549629715888502, 0.7549587042406453, 0.7549519333814935, 0.7549469263595998, 0.7549481781150732, 0.7549353760704586, 0.7549424314194906, 0.7549300845586845, 0.7549341812129612, 0.754932303579751, 0.7549373674996208, 0.75493145011011, 0.7549254758226231, 0.7549136410436016, 0.7549235412914369, 0.7549093167974207, 0.7548983354880401, 0.7549115927164632, 0.7549064150006413, 0.7549008389989869, 1.441192505315147, 0.637594736929038, 0.6313836400658015, 0.625882174760051, 0.6182909036913994, 0.6095381742373275, 2.127546418017123, 3.5001978006288175, 1.3344687440176248, 2.8138675574848846, 2.8138741576501083, 1.4412339270417227, 2.6520847627085264, 1.261122928623317, 1.441203657318456, 1.2957609371044727, 1.4412435996976538, 1.2982069810955186, 0.7815402438008399, 0.7677105079424643, 0.7549646216301561, 0.7549638819564672, 0.7549620612212331, 0.7549595577102862, 0.7549589318325496, 0.7549588180365974, 0.7549579645669564, 0.7549544368924404, 0.7549538679126797, 1.409267118358672, 1.3868114005155205, 1.9458601021604185, 0.738220110793021, 0.7382164612709506, 0.7382135937893238, 0.7382121339804958, 0.738207546009893, 0.7381938863701438, 0.7381943034583804, 0.7381921137451383, 0.7381986828848649, 0.7381958154032382, 0.7381884642230678, 0.7381906018002805, 0.7381838241164356, 0.7381793925539215, 0.7381743874950821, 0.7381643773774034, 0.7381550971641387, 0.7265945061018036, 1.3600995057618352, 0.7210258046466735, 0.7207190362486435, 0.7195667257229367, 0.7192185091813931, 0.7191418692179151, 0.7186473068413494, 0.7161791872011826, 0.715611425839091, 1.4093319755794655, 1.2871200129204947, 2.7514418400637592, 1.4092490792924386, 1.1051991581166085, 2.058625537620365, 1.3571751958628713, 1.391117210926211, 1.4093000683293646, 1.3483325081584057, 2.4430432526609263, 1.8671205164993714, 1.391987882620144, 1.4093030922190801, 0.7382228740025886, 0.738221831281997, 0.7382184424400745, 0.738211351940052, 0.7382090058187212, 0.7382084323223957, 0.7382046263922367, 0.577849105581087, 0.5778431260240503, 0.5778405220234053, 0.5778381109116969, 0.5778371464670136, 0.5778342531329635, 0.5778378698005261, 0.5778312633544452, 0.577830925798806, 0.5778376286893553, 0.5778298649096544, 0.5778246569083643, 0.5778307329098694, 0.5778191595736692, 0.5778167002397268, 0.5778251873529402, 0.5778207991296309, 0.5778065735705517, 0.5777985686796799, 0.5778028604585208, 1.1031473563672387, 0.7148260012888524, 1.1031779292637007, 1.1031623052598305, 0.5778309740210402, 2.1537718268353587, 0.5778353140221153, 0.5778180504622834, 0.5778179057955809, 0.5777650060046996, 1.9437288912509254, 1.1031406052544552, 1.6283994584752923, 2.292601324335358, 3.3419836864958006, 1.1031086821354366, 0.8744965215068518, 1.6284318638166526, 0.8142206576872747, 0.8153832957530448, 1.1426153261436882, 1.1031303821408118, 0.7702358559030902, 0.7217450238916241, 0.6815883923890333, 0.6970289588804197, 0.8284578865472538, 0.8579226360680688, 0.7332557194095581, 0.7174640468312008, 0.6865414427270443, 0.5778522882485421, 0.5778520471373713, 0.5778518542484345, 0.5778497806923654], \"Total\": [14.0, 11.0, 7.0, 17.0, 19.0, 11.0, 7.0, 5.0, 3.0, 7.0, 7.0, 3.0, 14.0, 4.0, 8.0, 6.0, 6.0, 2.0, 10.0, 38.0, 5.0, 9.0, 8.0, 8.0, 7.0, 7.0, 6.0, 4.0, 3.0, 7.0, 2.3392442518146006, 1.5169281375361034, 1.5169281334548634, 1.5169333953104125, 1.5169275345815951, 1.5169254452669463, 1.5169297738653034, 1.5169227641162455, 1.5169209388939928, 1.5169202645788145, 1.51692779768263, 1.5169269508545813, 1.516933064512796, 1.5169171214582375, 1.5169277165380393, 1.5169275827767792, 1.51692626404857, 1.5169100669212987, 1.5169088890202864, 1.5169069339255343, 1.516904647136197, 1.516913509249157, 1.5168992721579762, 1.5168967876553379, 1.516909481620721, 1.5168968800185227, 1.5168964252783397, 1.5169222487143161, 1.5169143540814602, 1.5169043694018964, 2.9657800679883124, 3.043640038257987, 2.2576111073337533, 1.5169080589562718, 3.5509214409425542, 7.357205667772952, 4.52320129327142, 3.645176414656641, 7.591380056563909, 2.9397973096718086, 13.998060156908608, 6.232069567188404, 3.7398366313322953, 2.791836535925273, 23.37984404826346, 38.03382658457596, 10.618662414094306, 4.506336410510553, 17.567475279850026, 3.540422147141691, 4.9977622894568805, 4.126329924561326, 6.267466842946426, 4.965584568672224, 2.9372684783634293, 19.4531849789777, 9.028346226158963, 9.321016812252616, 4.929556345710209, 5.781412259944584, 8.694700232095741, 8.721706618706163, 14.926706230912524, 14.66072289197252, 1.4677443784046227, 1.4677362057549266, 1.4677350282041581, 1.4677331984614088, 1.4677228831355724, 1.4677219337710197, 1.4677064701621312, 1.4676913960124305, 1.4677186642665179, 1.4677042075639148, 1.467690565993777, 1.4676935398121258, 4.177870337976829, 5.99685430532427, 2.885607639751106, 1.4264208314669653, 1.423265537778536, 1.416760305752305, 1.413266647581379, 1.40567464454891, 1.4016473254457205, 1.4006108221779696, 5.921177622122578, 1.3952969649198468, 2.965089161946489, 2.9572948790934914, 2.2090666909303134, 7.72315146161304, 1.9930186788740154, 1.992991563059642, 2.218415493270262, 6.941730623522398, 4.2788674029454485, 7.009892836758176, 7.2107063559775195, 3.485152208146504, 9.730805179877883, 4.9839291811628765, 38.03382658457596, 2.8879683786834907, 5.503710637582782, 9.321016812252616, 23.37984404826346, 13.998060156908608, 8.721706618706163, 4.164032470966166, 4.6342099838445225, 3.6074927508673884, 14.926706230912524, 11.062344347734076, 8.694700232095741, 3.9356937717432903, 7.087186484398951, 8.757840362135243, 2.1988261392991233, 1.4467458335361725, 1.4467422788629514, 1.44673459668433, 1.4467325932177912, 1.4467323006732464, 1.4467286762276055, 1.446725300952425, 1.4467326086949779, 1.4467230557171844, 1.4467147745092526, 1.4467257942533132, 1.4467284642755047, 1.446723555036818, 1.4467155997044934, 1.4467060064937485, 1.4467113976077932, 1.4467215546929093, 1.4467016813668272, 1.4466924995587467, 1.4466913849480822, 1.4466898110534079, 1.4467009852119541, 1.4467018290016929, 1.446674764162365, 2.193026495362906, 2.1926408204524486, 2.151769439386702, 1.9720351385538093, 7.591380056563909, 5.781412259944584, 8.016818034643505, 5.103174026926493, 11.062344347734076, 11.884424285189713, 4.859152989325876, 23.37984404826346, 4.332030556016835, 13.998060156908608, 3.405477160449114, 14.926706230912524, 7.087186484398951, 19.4531849789777, 6.402821698895077, 4.067895225187826, 7.036764031719634, 9.321016812252616, 3.502678409707107, 8.694700232095741, 5.921177622122578, 4.126516378236049, 38.03382658457596, 7.680022731806224, 2.874951680165103, 7.2107063559775195, 2.034032349538406, 2.7594087575940507, 1.3643416674162991, 1.364333927614537, 1.3643272546239362, 1.364333282413469, 1.3643259824036642, 1.3643267518784696, 1.364307783668103, 1.3643211461259606, 1.3643134586560677, 1.3643183461051578, 1.3643151886951952, 1.3643049373320455, 1.3642927002038714, 1.36428259548204, 2.0903964489118354, 1.3398771105849945, 2.10395152536023, 3.3114853933087254, 1.3359262534978997, 1.3344203614721524, 1.3300987336043273, 1.3285198438398338, 2.726129556594898, 2.050636025393868, 1.3683483351770167, 1.3948525041466053, 7.009892836758176, 2.116458967135708, 3.385933335031236, 8.694700232095741, 4.677989711093252, 3.502678409707107, 9.730805179877883, 5.582023543250903, 4.327687805892195, 7.72315146161304, 14.66072289197252, 38.03382658457596, 7.036764031719634, 8.721706618706163, 9.321016812252616, 7.680022731806224, 7.2107063559775195, 4.703886430708255, 4.9977622894568805, 23.37984404826346, 3.537347704602803, 4.52320129327142, 17.567475279850026, 3.6423009827556996, 4.869954089733411, 7.087186484398951, 14.926706230912524, 11.884424285189713, 2.9268764326648027, 1.4327834370919443, 1.4327661145828277, 1.4327755667971203, 1.43276393706926, 1.4327738377066528, 1.432749454488698, 1.4327416159794797, 1.4327550217409444, 2.210811451920249, 2.2136639605893182, 3.458977046170922, 1.4446221072412015, 1.4452340872493963, 1.4458320606569415, 1.4209395066796902, 1.4463903516602257, 1.446733852216997, 1.448071346771788, 1.4483355483288907, 1.4186739406809947, 1.4172966615697344, 1.417160431139829, 2.942637212883084, 1.416392779377014, 1.4512219348150954, 1.415907220255468, 1.4520550518738766, 1.452748914802673, 1.4529729018107436, 3.591807266568551, 11.062344347734076, 4.332030556016835, 5.582023543250903, 3.267885193740938, 2.0593931377627523, 6.153511043593494, 4.327687805892195, 17.567475279850026, 38.03382658457596, 19.4531849789777, 6.142127015697625, 8.016818034643505, 7.036764031719634, 3.6215881704123887, 2.7758602304402618, 23.37984404826346, 14.926706230912524, 3.385933335031236, 4.244236735365027, 5.053988166903468, 3.537347704602803, 4.506336410510553, 2.055023555962442, 2.0549579687609607, 1.3748028005938062, 1.3747999453150366, 1.3747997676974157, 1.374798133089088, 1.374795549683853, 1.37479157104548, 1.3747863878809046, 1.374799318648958, 1.3747824883753894, 1.374784744054139, 1.374784505994198, 1.3747638803245656, 1.3747590822959048, 1.3747793315763268, 1.37477149510128, 2.699387896349086, 1.3535689830254634, 1.3493347047762025, 2.7448894777763173, 1.3456278655277945, 1.3432443831075254, 1.3431219431938843, 1.3425128735414633, 1.3421923324084395, 1.339585407833151, 1.3397175038320461, 2.6686736516082044, 1.3384896845715335, 2.751648131578596, 3.5260376634234976, 2.6813734675855136, 17.567475279850026, 19.4531849789777, 10.618662414094306, 4.929556345710209, 4.09706047185354, 6.402821698895077, 38.03382658457596, 8.757840362135243, 14.66072289197252, 4.703886430708255, 11.884424285189713, 5.053988166903468, 4.164032470966166, 4.677989711093252, 2.7667654844151763, 2.077728333080312, 14.926706230912524, 4.9839291811628765, 1.9552321760773586, 1.3212916895340168, 1.3212865244462333, 1.3212932616183162, 1.321282547076393, 1.3212839185665182, 1.321274629882972, 1.3212765634884331, 1.3212810472340732, 1.3212762852573512, 1.3212809876192468, 1.3212753884605999, 1.3212663621428276, 1.3212598473398451, 1.3212331379881932, 3.4094809946324793, 1.32429103692912, 1.3246371810894846, 1.3249728443810564, 1.3252563556140944, 1.3257733112629038, 1.325854649847456, 1.3260523337633574, 1.3263750730245556, 1.3270963383782808, 1.3479340997288192, 1.8465781083649082, 3.378735970873904, 1.992337283855597, 1.9955715751166978, 6.142127015697625, 4.039183635617033, 11.884424285189713, 4.09706047185354, 38.03382658457596, 5.781412259944584, 4.965584568672224, 19.4531849789777, 4.869954089733411, 23.37984404826346, 7.680022731806224, 6.267466842946426, 14.926706230912524, 9.028346226158963, 7.087186484398951, 6.402821698895077, 10.618662414094306, 9.730805179877883, 7.357205667772952, 3.4951206827477814, 4.126329924561326, 2.743114541224446, 2.0411659574660455, 2.0252474805864438, 4.9839291811628765, 2.067195527223601, 3.4917274125563886, 1.380931671065661, 1.3809265013378023, 1.3809284815925056, 1.3809260403661023, 1.380916516897958, 1.3809157493761401, 1.3809184402690642, 1.380901010691845, 1.3809159392465238, 1.3808977374445006, 1.3809061924713555, 1.3809045982164405, 1.38091466345673, 1.380905883287178, 1.3808971528461322, 1.3808871783040444, 1.3809127032493789, 1.3808925903203293, 1.380880300705966, 1.3809047463460666, 1.3808990462018378, 1.38089680918747, 2.77031405970802, 1.3957531874010238, 1.3965422133339154, 1.3972235671631128, 1.3981810863823363, 1.3992879150229018, 7.0733256157446185, 14.66072289197252, 4.859152989325876, 17.567475279850026, 23.37984404826346, 7.357205667772952, 38.03382658457596, 5.503710637582782, 8.757840362135243, 9.321016812252616, 13.998060156908608, 9.730805179877883, 3.9356937717432903, 4.76881468214174, 5.582023543250903, 2.022724916374146, 3.3144052915958473, 6.153511043593494, 10.618662414094306, 2.7347158253277724, 2.050636025393868, 2.8298801585924784, 11.062344347734076, 2.036798441631781, 2.0402023434789043, 3.3235654350924286, 1.365710064953881, 1.365708997074154, 1.365704308159903, 1.3657028905838484, 1.3657107462562619, 1.365689149688754, 1.3656907463881, 1.365687181250733, 1.3657009155402156, 1.3657006777495262, 1.3656909649712994, 1.3656955241752804, 1.3656871742712016, 1.3656888364451518, 1.3656852168382354, 1.3656765207231674, 1.365661265941826, 1.367474937601764, 2.569606386983049, 1.3683157493141804, 1.3683606830426334, 1.3685419123840297, 1.3685907796399208, 1.3685910578368363, 1.3686808799181716, 1.3690584602278368, 1.369116129439561, 3.4586701130643673, 3.4645650876389955, 14.66072289197252, 4.929556345710209, 3.3144052915958473, 14.926706230912524, 6.267466842946426, 7.036764031719634, 7.680022731806224, 6.941730623522398, 38.03382658457596, 19.4531849789777, 10.618662414094306, 23.37984404826346, 8.757840362135243, 2.052025442767922, 2.8879683786834907, 7.2107063559775195, 17.567475279850026, 2.8742949859503266, 5.053988166903468, 1.2199112821324936, 1.2199055013732318, 1.2199029164732504, 1.2199008325325091, 1.219899851956614, 1.2198969953893335, 1.2199073414624064, 1.2198942792014331, 1.2198937077391743, 1.2199080365067103, 1.2199022605215912, 1.2198972279070344, 1.2199117848530299, 1.2198914595975467, 1.219889839127469, 1.219914940169979, 1.2199063581977838, 1.2198800644736452, 1.21987663739643, 1.219906609265045, 2.4315176596034522, 1.8598677609425396, 3.187212602813487, 3.267885193740938, 1.8465781083649082, 7.0733256157446185, 1.9000943115401359, 1.9000746825578319, 1.965618000783873, 1.9694399142206218, 8.721706618706163, 4.6342099838445225, 8.757840362135243, 14.926706230912524, 38.03382658457596, 6.232069567188404, 3.9356937717432903, 23.37984404826346, 4.177870337976829, 4.76881468214174, 19.4531849789777, 17.567475279850026, 4.126329924561326, 3.2849321230315365, 2.6218055070125628, 3.329017666540426, 9.028346226158963, 13.998060156908608, 7.72315146161304, 9.321016812252616, 6.153511043593494, 5.503710637582782, 3.5509214409425542, 2.728527887653157, 3.458977046170922], \"Category\": [\"Default\", \"Default\", \"Default\", \"Default\", \"Default\", \"Default\", \"Default\", \"Default\", \"Default\", \"Default\", \"Default\", \"Default\", \"Default\", \"Default\", \"Default\", \"Default\", \"Default\", \"Default\", \"Default\", \"Default\", \"Default\", \"Default\", \"Default\", \"Default\", \"Default\", \"Default\", \"Default\", \"Default\", \"Default\", \"Default\", \"Topic1\", \"Topic1\", \"Topic1\", \"Topic1\", \"Topic1\", \"Topic1\", \"Topic1\", \"Topic1\", \"Topic1\", \"Topic1\", \"Topic1\", \"Topic1\", \"Topic1\", \"Topic1\", \"Topic1\", \"Topic1\", \"Topic1\", \"Topic1\", \"Topic1\", \"Topic1\", \"Topic1\", \"Topic1\", \"Topic1\", \"Topic1\", \"Topic1\", \"Topic1\", \"Topic1\", \"Topic1\", \"Topic1\", \"Topic1\", \"Topic1\", \"Topic1\", \"Topic1\", \"Topic1\", \"Topic1\", \"Topic1\", \"Topic1\", \"Topic1\", \"Topic1\", \"Topic1\", \"Topic1\", \"Topic1\", \"Topic1\", \"Topic1\", \"Topic1\", \"Topic1\", \"Topic1\", \"Topic1\", \"Topic1\", \"Topic1\", \"Topic1\", \"Topic1\", \"Topic1\", \"Topic1\", \"Topic1\", \"Topic1\", \"Topic1\", \"Topic1\", \"Topic1\", \"Topic1\", \"Topic1\", \"Topic1\", \"Topic1\", \"Topic1\", \"Topic2\", \"Topic2\", \"Topic2\", \"Topic2\", \"Topic2\", \"Topic2\", \"Topic2\", \"Topic2\", \"Topic2\", \"Topic2\", \"Topic2\", \"Topic2\", \"Topic2\", \"Topic2\", \"Topic2\", \"Topic2\", \"Topic2\", \"Topic2\", \"Topic2\", \"Topic2\", \"Topic2\", \"Topic2\", \"Topic2\", \"Topic2\", \"Topic2\", \"Topic2\", \"Topic2\", \"Topic2\", \"Topic2\", \"Topic2\", \"Topic2\", \"Topic2\", \"Topic2\", \"Topic2\", \"Topic2\", \"Topic2\", \"Topic2\", \"Topic2\", \"Topic2\", \"Topic2\", \"Topic2\", \"Topic2\", \"Topic2\", \"Topic2\", \"Topic2\", \"Topic2\", \"Topic2\", \"Topic2\", \"Topic2\", \"Topic2\", \"Topic2\", \"Topic2\", \"Topic2\", \"Topic2\", \"Topic3\", \"Topic3\", \"Topic3\", \"Topic3\", \"Topic3\", \"Topic3\", \"Topic3\", \"Topic3\", \"Topic3\", \"Topic3\", \"Topic3\", \"Topic3\", \"Topic3\", \"Topic3\", \"Topic3\", \"Topic3\", \"Topic3\", \"Topic3\", \"Topic3\", \"Topic3\", \"Topic3\", \"Topic3\", \"Topic3\", \"Topic3\", \"Topic3\", \"Topic3\", \"Topic3\", \"Topic3\", \"Topic3\", \"Topic3\", \"Topic3\", \"Topic3\", \"Topic3\", \"Topic3\", \"Topic3\", \"Topic3\", \"Topic3\", \"Topic3\", \"Topic3\", \"Topic3\", \"Topic3\", \"Topic3\", \"Topic3\", \"Topic3\", \"Topic3\", \"Topic3\", \"Topic3\", \"Topic3\", \"Topic3\", \"Topic3\", \"Topic3\", \"Topic3\", \"Topic3\", \"Topic3\", \"Topic3\", \"Topic4\", \"Topic4\", \"Topic4\", \"Topic4\", \"Topic4\", \"Topic4\", \"Topic4\", \"Topic4\", \"Topic4\", \"Topic4\", \"Topic4\", \"Topic4\", \"Topic4\", \"Topic4\", \"Topic4\", \"Topic4\", \"Topic4\", \"Topic4\", \"Topic4\", \"Topic4\", \"Topic4\", \"Topic4\", \"Topic4\", \"Topic4\", \"Topic4\", \"Topic4\", \"Topic4\", \"Topic4\", \"Topic4\", \"Topic4\", \"Topic4\", \"Topic4\", \"Topic4\", \"Topic4\", \"Topic4\", \"Topic4\", \"Topic4\", \"Topic4\", \"Topic4\", \"Topic4\", \"Topic4\", \"Topic4\", \"Topic4\", \"Topic4\", \"Topic4\", \"Topic4\", \"Topic4\", \"Topic4\", \"Topic4\", \"Topic4\", \"Topic4\", \"Topic4\", \"Topic4\", \"Topic4\", \"Topic4\", \"Topic4\", \"Topic5\", \"Topic5\", \"Topic5\", \"Topic5\", \"Topic5\", \"Topic5\", \"Topic5\", \"Topic5\", \"Topic5\", \"Topic5\", \"Topic5\", \"Topic5\", \"Topic5\", \"Topic5\", \"Topic5\", \"Topic5\", \"Topic5\", \"Topic5\", \"Topic5\", \"Topic5\", \"Topic5\", \"Topic5\", \"Topic5\", \"Topic5\", \"Topic5\", \"Topic5\", \"Topic5\", \"Topic5\", \"Topic5\", \"Topic5\", \"Topic5\", \"Topic5\", \"Topic5\", \"Topic5\", \"Topic5\", \"Topic5\", \"Topic5\", \"Topic5\", \"Topic5\", \"Topic5\", \"Topic5\", \"Topic5\", \"Topic5\", \"Topic5\", \"Topic5\", \"Topic5\", \"Topic5\", \"Topic5\", \"Topic5\", \"Topic5\", \"Topic5\", \"Topic5\", \"Topic5\", \"Topic6\", \"Topic6\", \"Topic6\", \"Topic6\", \"Topic6\", \"Topic6\", \"Topic6\", \"Topic6\", \"Topic6\", \"Topic6\", \"Topic6\", \"Topic6\", \"Topic6\", \"Topic6\", \"Topic6\", \"Topic6\", \"Topic6\", \"Topic6\", \"Topic6\", \"Topic6\", \"Topic6\", \"Topic6\", \"Topic6\", \"Topic6\", \"Topic6\", \"Topic6\", \"Topic6\", \"Topic6\", \"Topic6\", \"Topic6\", \"Topic6\", \"Topic6\", \"Topic6\", \"Topic6\", \"Topic6\", \"Topic6\", \"Topic6\", \"Topic6\", \"Topic6\", \"Topic6\", \"Topic6\", \"Topic6\", \"Topic6\", \"Topic6\", \"Topic6\", \"Topic6\", \"Topic6\", \"Topic6\", \"Topic6\", \"Topic6\", \"Topic6\", \"Topic7\", \"Topic7\", \"Topic7\", \"Topic7\", \"Topic7\", \"Topic7\", \"Topic7\", \"Topic7\", \"Topic7\", \"Topic7\", \"Topic7\", \"Topic7\", \"Topic7\", \"Topic7\", \"Topic7\", \"Topic7\", \"Topic7\", \"Topic7\", \"Topic7\", \"Topic7\", \"Topic7\", \"Topic7\", \"Topic7\", \"Topic7\", \"Topic7\", \"Topic7\", \"Topic7\", \"Topic7\", \"Topic7\", \"Topic7\", \"Topic7\", \"Topic7\", \"Topic7\", \"Topic7\", \"Topic7\", \"Topic7\", \"Topic7\", \"Topic7\", \"Topic7\", \"Topic7\", \"Topic7\", \"Topic7\", \"Topic7\", \"Topic7\", \"Topic7\", \"Topic7\", \"Topic7\", \"Topic7\", \"Topic7\", \"Topic7\", \"Topic7\", \"Topic7\", \"Topic7\", \"Topic7\", \"Topic7\", \"Topic8\", \"Topic8\", \"Topic8\", \"Topic8\", \"Topic8\", \"Topic8\", \"Topic8\", \"Topic8\", \"Topic8\", \"Topic8\", \"Topic8\", \"Topic8\", \"Topic8\", \"Topic8\", \"Topic8\", \"Topic8\", \"Topic8\", \"Topic8\", \"Topic8\", \"Topic8\", \"Topic8\", \"Topic8\", \"Topic8\", \"Topic8\", \"Topic8\", \"Topic8\", \"Topic8\", \"Topic8\", \"Topic8\", \"Topic8\", \"Topic8\", \"Topic8\", \"Topic8\", \"Topic8\", \"Topic8\", \"Topic8\", \"Topic8\", \"Topic8\", \"Topic8\", \"Topic8\", \"Topic8\", \"Topic8\", \"Topic8\", \"Topic8\", \"Topic8\", \"Topic8\", \"Topic8\", \"Topic8\", \"Topic8\", \"Topic8\", \"Topic8\", \"Topic8\", \"Topic8\", \"Topic9\", \"Topic9\", \"Topic9\", \"Topic9\", \"Topic9\", \"Topic9\", \"Topic9\", \"Topic9\", \"Topic9\", \"Topic9\", \"Topic9\", \"Topic9\", \"Topic9\", \"Topic9\", \"Topic9\", \"Topic9\", \"Topic9\", \"Topic9\", \"Topic9\", \"Topic9\", \"Topic9\", \"Topic9\", \"Topic9\", \"Topic9\", \"Topic9\", \"Topic9\", \"Topic9\", \"Topic9\", \"Topic9\", \"Topic9\", \"Topic9\", \"Topic9\", \"Topic9\", \"Topic9\", \"Topic9\", \"Topic9\", \"Topic9\", \"Topic9\", \"Topic9\", \"Topic9\", \"Topic9\", \"Topic9\", \"Topic9\", \"Topic9\", \"Topic9\", \"Topic9\", \"Topic9\", \"Topic9\", \"Topic9\", \"Topic9\", \"Topic9\", \"Topic10\", \"Topic10\", \"Topic10\", \"Topic10\", \"Topic10\", \"Topic10\", \"Topic10\", \"Topic10\", \"Topic10\", \"Topic10\", \"Topic10\", \"Topic10\", \"Topic10\", \"Topic10\", \"Topic10\", \"Topic10\", \"Topic10\", \"Topic10\", \"Topic10\", \"Topic10\", \"Topic10\", \"Topic10\", \"Topic10\", \"Topic10\", \"Topic10\", \"Topic10\", \"Topic10\", \"Topic10\", \"Topic10\", \"Topic10\", \"Topic10\", \"Topic10\", \"Topic10\", \"Topic10\", \"Topic10\", \"Topic10\", \"Topic10\", \"Topic10\", \"Topic10\", \"Topic10\", \"Topic10\", \"Topic10\", \"Topic10\", \"Topic10\", \"Topic10\", \"Topic10\", \"Topic10\", \"Topic10\", \"Topic10\", \"Topic10\", \"Topic10\", \"Topic10\", \"Topic10\", \"Topic10\", \"Topic10\"], \"logprob\": [30.0, 29.0, 28.0, 27.0, 26.0, 25.0, 24.0, 23.0, 22.0, 21.0, 20.0, 19.0, 18.0, 17.0, 16.0, 15.0, 14.0, 13.0, 12.0, 11.0, 10.0, 9.0, 8.0, 7.0, 6.0, 5.0, 4.0, 3.0, 2.0, 1.0, -4.9259, -5.5726, -5.5726, -5.5726, -5.5726, -5.5726, -5.5726, -5.5726, -5.5726, -5.5726, -5.5726, -5.5726, -5.5726, -5.5726, -5.5726, -5.5726, -5.5726, -5.5726, -5.5726, -5.5726, -5.5726, -5.5726, -5.5726, -5.5726, -5.5726, -5.5726, -5.5726, -5.5726, -5.5726, -5.5726, -4.926, -4.926, -5.2574, -5.5726, -4.9259, -4.375, -4.7504, -4.9259, -4.4198, -5.1272, -4.084, -4.6819, -5.0404, -5.2159, -3.9899, -3.753, -4.4717, -4.9583, -4.2244, -5.1126, -5.0079, -5.1048, -4.926, -5.0399, -5.2787, -4.4693, -4.9057, -4.906, -5.1442, -5.1058, -4.9861, -4.9952, -4.8867, -4.926, -5.3493, -5.3493, -5.3493, -5.3493, -5.3493, -5.3493, -5.3493, -5.3494, -5.3493, -5.3494, -5.3494, -5.3494, -4.3719, -4.0337, -4.8142, -5.5251, -5.5394, -5.566, -5.5839, -5.6218, -5.6434, -5.6493, -4.2277, -5.6738, -4.9349, -4.9403, -5.2381, -3.9891, -5.3493, -5.3494, -5.253, -4.2844, -4.7027, -4.3133, -4.3818, -4.9308, -4.2093, -4.7027, -3.466, -5.0919, -4.7747, -4.5041, -4.0588, -4.3272, -4.6411, -4.9443, -4.9118, -5.0095, -4.584, -4.6888, -4.7866, -5.0416, -4.9752, -4.931, -4.6466, -5.2932, -5.2932, -5.2932, -5.2932, -5.2932, -5.2932, -5.2932, -5.2932, -5.2932, -5.2932, -5.2932, -5.2932, -5.2932, -5.2933, -5.2933, -5.2933, -5.2933, -5.2933, -5.2933, -5.2933, -5.2933, -5.2933, -5.2933, -5.2933, -4.8993, -4.9359, -4.9641, -5.2932, -3.9776, -4.2571, -4.0387, -4.4361, -3.9776, -3.976, -4.57, -3.6508, -4.6466, -3.9717, -4.8694, -4.2041, -4.5727, -4.1495, -4.6467, -4.8599, -4.6466, -4.5617, -4.956, -4.6111, -4.7799, -4.9606, -4.3907, -4.9216, -5.1449, -5.1481, -4.63, -4.4624, -5.2766, -5.2766, -5.2766, -5.2766, -5.2766, -5.2766, -5.2767, -5.2766, -5.2766, -5.2766, -5.2767, -5.2767, -5.2767, -5.2767, -4.9904, -5.4437, -5.0052, -4.5537, -5.4734, -5.4851, -5.5192, -5.532, -4.887, -5.2767, -5.7058, -5.6874, -4.0768, -5.2766, -4.8825, -4.0411, -4.63, -4.8659, -4.161, -4.5767, -4.7526, -4.41, -4.0963, -3.7458, -4.6259, -4.5651, -4.5486, -4.659, -4.7136, -4.8892, -4.8992, -4.56, -5.0602, -5.0197, -4.792, -5.0911, -5.0552, -5.0427, -4.9919, -5.0516, -4.1538, -5.1192, -5.1192, -5.1192, -5.1192, -5.1193, -5.1193, -5.1193, -5.1193, -4.7286, -4.7494, -4.3164, -5.2561, -5.2637, -5.2714, -5.2902, -5.2787, -5.2828, -5.2999, -5.3036, -5.3264, -5.3492, -5.3515, -4.6264, -5.3642, -5.3419, -5.3724, -5.3529, -5.3623, -5.3655, -4.4726, -3.5901, -4.5666, -4.3852, -4.7768, -5.1193, -4.4351, -4.6639, -3.8979, -3.535, -4.0402, -4.6276, -4.5254, -4.7261, -4.9723, -5.077, -4.5677, -5.0337, -5.0992, -5.1192, -5.1192, -5.1192, -5.1192, -4.5297, -4.5298, -5.1763, -5.1763, -5.1763, -5.1763, -5.1763, -5.1764, -5.1764, -5.1764, -5.1764, -5.1764, -5.1764, -5.1764, -5.1764, -5.1764, -5.1764, -4.6123, -5.3123, -5.3407, -4.6396, -5.3674, -5.3841, -5.3843, -5.3891, -5.3918, -5.4107, -5.4109, -4.722, -5.4186, -4.7253, -4.6323, -4.8558, -3.5217, -3.4824, -3.9613, -4.5298, -4.6611, -4.5298, -3.6316, -4.5018, -4.3548, -4.8147, -4.6013, -4.8276, -5.0935, -5.1763, -5.1763, -5.1763, -5.1763, -5.1763, -4.6315, -5.1945, -5.1945, -5.1945, -5.1945, -5.1945, -5.1945, -5.1945, -5.1945, -5.1945, -5.1945, -5.1945, -5.1945, -5.1946, -5.1946, -4.2564, -5.2597, -5.2675, -5.2754, -5.2821, -5.2941, -5.2959, -5.3007, -5.3086, -5.3265, -5.4395, -5.1945, -4.6009, -5.1945, -5.1945, -4.1584, -4.5478, -3.7039, -4.6157, -3.1152, -4.3955, -4.5276, -3.7958, -4.5806, -3.8716, -4.4175, -4.5478, -4.2347, -4.4624, -4.6063, -4.6557, -4.5927, -4.6416, -4.7554, -5.0598, -5.0812, -5.1945, -5.1945, -5.1945, -5.1945, -4.4401, -4.0506, -5.0866, -5.0866, -5.0866, -5.0866, -5.0867, -5.0867, -5.0867, -5.0867, -5.0867, -5.0867, -5.0867, -5.0867, -5.0867, -5.0867, -5.0867, -5.0867, -5.0867, -5.0867, -5.0867, -5.0867, -5.0867, -5.0867, -4.4401, -5.2556, -5.2654, -5.2741, -5.2864, -5.3006, -4.0506, -3.5527, -4.517, -3.771, -3.771, -4.4401, -3.8302, -4.5736, -4.4401, -4.5465, -4.4401, -4.5446, -5.052, -5.0699, -5.0866, -5.0866, -5.0866, -5.0866, -5.0866, -5.0866, -5.0866, -5.0867, -5.0867, -4.3751, -4.3911, -4.0524, -5.0217, -5.0217, -5.0217, -5.0217, -5.0217, -5.0217, -5.0217, -5.0217, -5.0217, -5.0217, -5.0217, -5.0217, -5.0217, -5.0217, -5.0217, -5.0217, -5.0218, -5.0375, -4.4106, -5.0452, -5.0457, -5.0473, -5.0477, -5.0478, -5.0485, -5.052, -5.0528, -4.375, -4.4657, -3.706, -4.3751, -4.6181, -3.9961, -4.4127, -4.388, -4.3751, -4.4193, -3.8249, -4.0938, -4.3874, -4.3751, -5.0217, -5.0217, -5.0217, -5.0217, -5.0217, -5.0217, -5.0217, -5.1886, -5.1886, -5.1886, -5.1886, -5.1886, -5.1886, -5.1886, -5.1886, -5.1886, -5.1886, -5.1886, -5.1886, -5.1886, -5.1886, -5.1886, -5.1886, -5.1886, -5.1886, -5.1886, -5.1886, -4.5419, -4.9758, -4.5419, -4.5419, -5.1886, -3.8729, -5.1886, -5.1886, -5.1886, -5.1887, -3.9755, -4.542, -4.1525, -3.8104, -3.4336, -4.542, -4.7742, -4.1525, -4.8456, -4.8442, -4.5068, -4.542, -4.9012, -4.9662, -5.0234, -5.001, -4.8283, -4.7934, -4.9504, -4.9721, -5.0162, -5.1886, -5.1886, -5.1886, -5.1886], \"loglift\": [30.0, 29.0, 28.0, 27.0, 26.0, 25.0, 24.0, 23.0, 22.0, 21.0, 20.0, 19.0, 18.0, 17.0, 16.0, 15.0, 14.0, 13.0, 12.0, 11.0, 10.0, 9.0, 8.0, 7.0, 6.0, 5.0, 4.0, 3.0, 2.0, 1.0, 1.5077, 1.2942, 1.2942, 1.2942, 1.2942, 1.2942, 1.2942, 1.2942, 1.2942, 1.2942, 1.2942, 1.2942, 1.2942, 1.2942, 1.2942, 1.2942, 1.2942, 1.2942, 1.2942, 1.2942, 1.2942, 1.2942, 1.2942, 1.2942, 1.2942, 1.2942, 1.2942, 1.2942, 1.2942, 1.2942, 1.2703, 1.2444, 1.2117, 1.2942, 1.0903, 0.9127, 1.0238, 1.0641, 0.8367, 1.0779, 0.5606, 0.7719, 0.924, 1.0409, 0.1417, -0.1081, 0.4492, 0.8197, 0.193, 0.9067, 0.6665, 0.7613, 0.5221, 0.641, 0.9273, -0.1539, 0.1773, 0.1452, 0.544, 0.423, 0.1346, 0.1224, -0.3064, -0.3277, 1.5504, 1.5504, 1.5504, 1.5504, 1.5504, 1.5504, 1.5504, 1.5504, 1.5504, 1.5504, 1.5504, 1.5504, 1.4818, 1.4586, 1.4095, 1.4032, 1.3911, 1.3691, 1.3536, 1.3212, 1.3024, 1.2973, 1.2772, 1.2766, 1.2616, 1.2589, 1.2527, 1.2501, 1.2445, 1.2444, 1.2336, 1.0615, 1.1271, 1.0229, 0.9261, 1.1042, 0.7989, 0.9745, 0.179, 1.131, 0.8034, 0.5471, 0.0728, 0.3173, 0.4765, 0.9127, 0.8382, 0.9909, -0.0037, 0.1911, 0.3342, 0.8718, 0.35, 0.1825, 1.8489, 1.6209, 1.6209, 1.6209, 1.6209, 1.6209, 1.6209, 1.6209, 1.6209, 1.6209, 1.6209, 1.6209, 1.6209, 1.6209, 1.6209, 1.6209, 1.6209, 1.6209, 1.6209, 1.6209, 1.6209, 1.6209, 1.6209, 1.6209, 1.6209, 1.5989, 1.5625, 1.553, 1.3111, 1.2788, 1.2717, 1.1632, 1.2174, 0.9023, 0.8322, 1.1326, 0.4807, 1.1708, 0.6728, 1.1886, 0.3762, 0.7525, 0.166, 0.78, 1.0204, 0.6857, 0.4894, 1.0739, 0.5097, 0.725, 0.9054, -0.7457, 0.3233, 1.0825, 0.1598, 1.9434, 1.8061, 1.6962, 1.6962, 1.6962, 1.6962, 1.6962, 1.6962, 1.6961, 1.6961, 1.6961, 1.6961, 1.6961, 1.6961, 1.6961, 1.6961, 1.5556, 1.5471, 1.5344, 1.5323, 1.5204, 1.5098, 1.479, 1.4674, 1.3936, 1.2886, 1.264, 1.2633, 1.2594, 1.2571, 1.1813, 1.0796, 1.1106, 1.164, 0.8472, 0.9872, 1.0659, 0.8292, 0.502, -0.1009, 0.7064, 0.5525, 0.5026, 0.5858, 0.5943, 0.8459, 0.7753, -0.4284, 0.9599, 0.7545, -0.3746, 0.8997, 0.6451, 0.2825, -0.4116, -0.2433, 2.0557, 1.8046, 1.8046, 1.8046, 1.8046, 1.8046, 1.8046, 1.8046, 1.8046, 1.7615, 1.7394, 1.7261, 1.6595, 1.6515, 1.6434, 1.6419, 1.6357, 1.6313, 1.6133, 1.6094, 1.6073, 1.5855, 1.5833, 1.5777, 1.5711, 1.5692, 1.5632, 1.5575, 1.5477, 1.5443, 1.5322, 1.2898, 1.2508, 1.1787, 1.3225, 1.4417, 1.0314, 1.1545, 0.5195, 0.1099, 0.2752, 0.8407, 0.6765, 0.6062, 1.0242, 1.1855, -0.4361, -0.4534, 0.9646, 0.7187, 0.544, 0.9008, 0.6587, 2.0334, 2.0334, 1.7888, 1.7888, 1.7888, 1.7888, 1.7888, 1.7888, 1.7888, 1.7888, 1.7888, 1.7888, 1.7888, 1.7888, 1.7888, 1.7888, 1.7887, 1.6781, 1.6684, 1.6431, 1.6341, 1.6192, 1.6043, 1.6042, 1.5998, 1.5973, 1.5804, 1.5801, 1.5799, 1.5733, 1.546, 1.391, 1.4413, 0.8957, 0.833, 0.9596, 1.1584, 1.2121, 0.8969, 0.0134, 0.6117, 0.2435, 0.9204, 0.2069, 0.8357, 0.7634, 0.5643, 1.0894, 1.3758, -0.596, 0.5009, 1.9814, 1.8104, 1.8104, 1.8104, 1.8104, 1.8104, 1.8104, 1.8104, 1.8104, 1.8104, 1.8104, 1.8103, 1.8103, 1.8103, 1.8103, 1.8005, 1.7429, 1.7348, 1.7267, 1.7198, 1.7074, 1.7055, 1.7005, 1.6924, 1.674, 1.5454, 1.4756, 1.4651, 1.3996, 1.3981, 1.3099, 1.3396, 1.1043, 1.2575, 0.5298, 1.1333, 1.1534, 0.5197, 1.1198, 0.2599, 0.8273, 0.9002, 0.3456, 0.6207, 0.7189, 0.771, 0.3282, 0.3666, 0.5323, 0.9723, 0.7849, 1.0799, 1.3755, 1.3833, 0.4828, 2.1172, 1.9825, 1.8741, 1.8741, 1.874, 1.874, 1.874, 1.874, 1.874, 1.874, 1.874, 1.874, 1.874, 1.874, 1.874, 1.874, 1.874, 1.874, 1.874, 1.874, 1.874, 1.874, 1.874, 1.874, 1.8244, 1.6944, 1.6841, 1.6748, 1.6619, 1.6469, 1.2765, 1.0455, 1.1856, 0.6464, 0.3606, 0.8477, -0.1852, 1.0045, 0.6734, 0.5047, 0.2045, 0.4636, 0.8613, 0.6515, 0.4773, 1.4924, 0.9985, 0.3798, -0.1658, 1.1908, 1.4786, 1.1566, -0.2068, 2.197, 2.1793, 2.03, 1.9501, 1.9501, 1.9501, 1.9501, 1.9501, 1.9501, 1.9501, 1.9501, 1.9501, 1.9501, 1.9501, 1.9501, 1.9501, 1.9501, 1.9501, 1.9501, 1.9501, 1.9329, 1.9291, 1.9246, 1.9242, 1.9224, 1.9219, 1.9218, 1.9211, 1.9173, 1.9165, 1.6675, 1.5751, 0.8922, 1.3131, 1.467, 0.5842, 1.0353, 0.9443, 0.8698, 0.9266, -0.1799, 0.2217, 0.5334, -0.2435, 0.0918, 1.543, 1.2012, 0.2862, -0.6043, 1.206, 0.6416, 1.8961, 1.8961, 1.8961, 1.8961, 1.8961, 1.8961, 1.8961, 1.8961, 1.8961, 1.8961, 1.8961, 1.8961, 1.8961, 1.8961, 1.8961, 1.8961, 1.8961, 1.8961, 1.8961, 1.896, 1.853, 1.6871, 1.5824, 1.5574, 1.4815, 1.4542, 1.453, 1.4529, 1.419, 1.417, 1.1421, 1.208, 0.961, 0.7699, 0.2114, 0.9118, 1.1391, -0.0209, 1.008, 0.8771, -0.1914, -0.1246, 0.9649, 1.1279, 1.2961, 1.0797, 0.2548, -0.1488, 0.2888, 0.079, 0.4502, 0.3895, 0.8277, 1.0911, 0.8539]}, \"token.table\": {\"Topic\": [1, 2, 3, 4, 6, 9, 2, 4, 2, 3, 9, 5, 6, 10, 7, 6, 4, 4, 7, 5, 2, 6, 9, 10, 1, 1, 2, 4, 6, 7, 10, 7, 1, 4, 9, 10, 10, 6, 1, 2, 6, 8, 9, 10, 9, 1, 9, 4, 5, 2, 6, 10, 1, 4, 2, 4, 6, 7, 1, 10, 1, 8, 9, 3, 4, 9, 3, 1, 3, 6, 10, 6, 1, 7, 8, 10, 3, 9, 9, 1, 2, 3, 5, 8, 9, 6, 5, 1, 3, 5, 6, 7, 8, 9, 5, 2, 9, 10, 7, 3, 10, 8, 7, 5, 7, 4, 6, 6, 6, 8, 10, 9, 7, 5, 3, 8, 3, 1, 5, 10, 2, 5, 6, 5, 6, 9, 10, 4, 6, 8, 1, 10, 2, 9, 5, 1, 8, 2, 3, 6, 6, 10, 6, 3, 4, 7, 4, 3, 10, 2, 5, 6, 5, 9, 1, 1, 8, 10, 7, 4, 2, 4, 5, 6, 10, 7, 2, 2, 8, 5, 6, 7, 7, 1, 2, 4, 3, 2, 6, 10, 1, 2, 3, 4, 6, 7, 8, 9, 4, 9, 5, 8, 10, 9, 10, 9, 7, 8, 9, 2, 1, 2, 5, 1, 6, 7, 9, 1, 4, 5, 8, 9, 10, 9, 8, 6, 2, 1, 6, 2, 7, 8, 10, 3, 6, 4, 6, 7, 1, 2, 7, 8, 8, 7, 6, 8, 9, 8, 4, 1, 1, 2, 3, 5, 6, 8, 10, 4, 5, 7, 4, 3, 2, 3, 10, 7, 9, 2, 3, 3, 10, 7, 8, 8, 2, 4, 5, 6, 7, 8, 10, 10, 6, 7, 1, 4, 5, 7, 7, 1, 6, 9, 6, 1, 8, 1, 2, 3, 4, 7, 9, 1, 3, 7, 1, 6, 5, 3, 10, 1, 2, 3, 4, 5, 7, 8, 9, 10, 5, 1, 1, 2, 3, 4, 5, 7, 3, 8, 10, 7, 1, 8, 7, 3, 6, 3, 4, 6, 9, 7, 8, 8, 1, 5, 8, 6, 4, 6, 4, 8, 8, 9, 1, 7, 10, 6, 5, 1, 7, 8, 7, 2, 7, 10, 3, 1, 2, 3, 4, 5, 6, 7, 9, 10, 6, 3, 7, 10, 5, 1, 5, 4, 1, 7, 7, 5, 10, 1, 5, 10, 1, 7, 9, 1, 1, 2, 3, 5, 6, 8, 2, 5, 3, 7, 6, 8, 10, 1, 2, 9, 2, 4, 6, 8, 10, 7, 1, 2, 3, 4, 5, 6, 7, 9, 10, 5, 1, 8, 1, 2, 6, 8, 9, 10, 8, 1, 7, 7, 10, 2, 3, 10, 6, 4, 5, 8, 1, 3, 7, 8, 10, 3, 1, 2, 5, 6, 9, 5, 6, 8, 1, 6, 7, 8, 9, 2, 1, 10, 2, 1, 7, 1, 2, 3, 4, 9, 4, 9, 1, 3, 5, 6, 7, 1, 2, 3, 4, 5, 6, 7, 5, 2, 10, 5, 3, 4, 7, 3, 1, 9, 3, 10, 2, 4, 5, 10, 9, 1, 7, 9, 9, 9, 1, 4, 5, 7, 8, 10, 1, 9, 5, 3, 2, 4, 10, 10, 7, 9, 10, 5, 7, 1, 2, 3, 5, 6, 7, 8, 9, 10, 2, 3, 10, 1, 2, 3, 4, 6, 8, 10, 10, 1, 3, 7, 10, 1, 2, 6, 7, 2, 4, 4, 8, 5, 8, 1, 2, 3, 4, 5, 9, 3, 4, 5, 2, 5, 7, 8, 9, 10, 2, 3, 8, 10, 1, 2, 3, 5, 10, 3, 2, 3, 2, 5, 9, 1, 4, 6, 8, 5, 6, 2, 1, 2, 3, 4, 8, 10, 6, 2, 3, 2, 3, 6, 2, 9, 8, 3, 6, 1, 2, 8, 5, 3, 9, 1, 4, 10, 8, 1, 7, 1, 1, 7, 1, 6, 8, 8, 8, 2, 5, 4, 7, 6, 10, 3, 9, 3, 4, 3, 1, 3, 5, 1, 2, 3, 4, 5, 6, 7, 8, 9, 10, 4, 5, 8, 2, 5, 1, 2, 4, 6, 8, 5, 2, 5, 7, 8, 10, 1, 7, 2, 10, 4, 8, 4, 1, 1, 5, 6, 1, 10, 1, 2, 4, 5, 6, 7, 8, 9, 10, 3, 4, 4, 1, 5, 6, 7, 9, 1, 8, 9, 8, 10, 6, 9, 2, 8, 2, 3, 4, 5, 6, 7, 5, 7, 9, 8, 4, 3, 7, 8, 10, 1, 8, 10, 1, 2, 4, 5, 3, 1, 7, 1, 2, 3, 9, 8, 7, 9, 9, 4, 6, 1, 3, 8, 3, 2, 1, 2, 4, 5, 7, 8, 10, 1, 3, 5, 1, 6], \"Freq\": [0.1386826686086061, 0.2773653372172122, 0.1386826686086061, 0.1386826686086061, 0.1386826686086061, 0.1386826686086061, 0.6813279661432182, 0.7485443132670437, 0.3478319329327204, 0.3478319329327204, 0.3478319329327204, 0.6905737084221149, 0.5262951025976651, 0.5262951025976651, 0.7547324492277703, 0.3634185594167191, 0.7329626591426515, 0.7329587373482722, 0.7568342540210966, 0.69795168214906, 0.3044202931892361, 0.3044202931892361, 0.3044202931892361, 0.3044202931892361, 0.659237218297093, 0.22931291861049707, 0.22931291861049707, 0.22931291861049707, 0.11465645930524854, 0.11465645930524854, 0.22931291861049707, 0.7541180498977625, 0.32092067946897124, 0.16046033973448562, 0.16046033973448562, 0.16046033973448562, 0.8197356261401502, 0.747110726012141, 0.11418340123251468, 0.11418340123251468, 0.11418340123251468, 0.11418340123251468, 0.11418340123251468, 0.22836680246502936, 0.7322229226525332, 0.6592317970797794, 0.7303982317477653, 0.4752961215818811, 0.6916432601070077, 0.2401518256575875, 0.2401518256575875, 0.2401518256575875, 0.6592301380776728, 0.7329622457546572, 0.24757478000804936, 0.24757478000804936, 0.24757478000804936, 0.24757478000804936, 0.35818716000454487, 0.35818716000454487, 0.3404523649663698, 0.3404523649663698, 0.7308014709809105, 0.28912847057102076, 0.28912847057102076, 0.28912847057102076, 0.6912274388220393, 0.6592275253838931, 0.3814165457068774, 0.3814165457068774, 0.3814165457068774, 0.7273786506924209, 0.35337185462206233, 0.35337185462206233, 0.35337185462206233, 0.8197373631100157, 0.4647338054420089, 0.7304289985057185, 0.7312748281542691, 0.09039675213191427, 0.18079350426382854, 0.2711902563957428, 0.36158700852765707, 0.09039675213191427, 0.09039675213191427, 0.7273877929458659, 0.7037597274895259, 0.28252145920168403, 0.09417381973389467, 0.09417381973389467, 0.28252145920168403, 0.09417381973389467, 0.09417381973389467, 0.09417381973389467, 0.706018849121668, 0.34626417913061086, 0.34626417913061086, 0.8197348816746458, 0.7542304883231759, 0.6912081126058867, 0.8197317416820077, 0.7241648693551106, 0.7545709898041743, 0.4855799418106067, 0.4855799418106067, 0.3704543542454558, 0.3704543542454558, 0.7444661690574521, 0.3643133933429325, 0.41126577717847485, 0.41126577717847485, 0.7322248691037138, 0.511448211744463, 0.6882440813271647, 0.6912170583788904, 0.7241571402540471, 0.6912146115797844, 0.3060083022241188, 0.3060083022241188, 0.3060083022241188, 0.27612195339320716, 0.27612195339320716, 0.27612195339320716, 0.7055685849795517, 0.7273857297506413, 0.38916466158620144, 0.38916466158620144, 0.374717979996309, 0.374717979996309, 0.7241577097145036, 0.6592271926326316, 0.819739422376424, 0.6813213410414254, 0.7322198361581009, 0.6919294312405984, 0.6592406339957358, 0.7241487909595866, 0.2836044578800899, 0.2836044578800899, 0.2836044578800899, 0.5262896656900374, 0.5262896656900374, 0.7450497040208782, 0.2959686724918466, 0.2959686724918466, 0.2959686724918466, 0.7329859688246418, 0.5077585727695256, 0.5077585727695256, 0.2784113750500189, 0.5568227501000378, 0.2784113750500189, 0.4517397481295135, 0.7322321091092107, 0.6592395542370962, 0.5632340881833537, 0.28161704409167687, 0.28161704409167687, 0.7551210210701765, 0.7329542327133749, 0.38844246612424027, 0.25896164408282685, 0.12948082204141342, 0.12948082204141342, 0.12948082204141342, 0.7568412504617148, 0.6813421423038243, 0.7058356984874702, 0.7241692851491276, 0.36143287374114924, 0.36143287374114924, 0.36143287374114924, 0.756835154509049, 0.2745517201171601, 0.2745517201171601, 0.2745517201171601, 0.4560710494268967, 0.6813361948861569, 0.7273976384685868, 0.8197292836340403, 0.13641892113622173, 0.06820946056811086, 0.06820946056811086, 0.13641892113622173, 0.13641892113622173, 0.06820946056811086, 0.27283784227244345, 0.20462838170433262, 0.7527173979650091, 0.7322276322197676, 0.3137537794363821, 0.3137537794363821, 0.3137537794363821, 0.490147461694816, 0.819735050383162, 0.7322194708808127, 0.30171325230974144, 0.30171325230974144, 0.30171325230974144, 0.6813175473286149, 0.6592329997467337, 0.7166933098413536, 0.6883501958325882, 0.24407743231273143, 0.24407743231273143, 0.24407743231273143, 0.7322247416114829, 0.23561362439270123, 0.23561362439270123, 0.23561362439270123, 0.23561362439270123, 0.23561362439270123, 0.8197550222244517, 0.7322300766784493, 0.7241670726927144, 0.7273936094567699, 0.71140217537388, 0.48129487579228497, 0.48129487579228497, 0.2540848089299022, 0.2540848089299022, 0.2540848089299022, 0.2540848089299022, 0.6912228670165647, 0.7273788882749225, 0.37294319947920807, 0.37294319947920807, 0.37294319947920807, 0.4077635090644556, 0.13592116968815185, 0.13592116968815185, 0.13592116968815185, 0.7241721233360743, 0.7418760310323647, 0.3656687070511774, 0.3656687070511774, 0.3656687070511774, 0.7241658995641278, 0.4916342654171333, 0.6592281796842174, 0.285753879834974, 0.142876939917487, 0.21431540987623052, 0.0714384699587435, 0.0714384699587435, 0.0714384699587435, 0.0714384699587435, 0.2953395418787165, 0.2953395418787165, 0.2953395418787165, 0.7463371021864811, 0.6912208593065979, 0.6813275254410752, 0.6912403705189446, 0.8197450618515758, 0.756839605741146, 0.7322301938742297, 0.3372579863141556, 0.3372579863141556, 0.5070903557699025, 0.5070903557699025, 0.7568533941399546, 0.7241557291429577, 0.4837471767090533, 0.1625088494870118, 0.1625088494870118, 0.3250176989740236, 0.1625088494870118, 0.1625088494870118, 0.1625088494870118, 0.1625088494870118, 0.8197343896637389, 0.7273867254394415, 0.7568444918701517, 0.402772316600539, 0.2013861583002695, 0.2013861583002695, 0.2013861583002695, 0.756849662302915, 0.20285801193249745, 0.20285801193249745, 0.20285801193249745, 0.738787614477413, 0.3401595057965535, 0.3401595057965535, 0.1302079479346561, 0.1302079479346561, 0.1302079479346561, 0.1302079479346561, 0.1302079479346561, 0.1302079479346561, 0.17296811834857548, 0.34593623669715096, 0.34593623669715096, 0.6592373389986952, 0.48661242694693285, 0.6904477357845795, 0.6912147128457736, 0.5087458497028455, 0.1710875398374225, 0.12831565487806687, 0.1710875398374225, 0.08554376991871125, 0.042771884959355626, 0.12831565487806687, 0.12831565487806687, 0.042771884959355626, 0.08554376991871125, 0.6922225507885259, 0.6592247247581813, 0.6592351172672241, 0.2053407448148534, 0.2053407448148534, 0.2053407448148534, 0.2053407448148534, 0.2053407448148534, 0.29364460628716127, 0.29364460628716127, 0.29364460628716127, 0.7568438187988448, 0.6592262985595506, 0.7241629880091556, 0.7549236985613844, 0.691211782929523, 0.741105966118212, 0.2854958072167464, 0.2854958072167464, 0.2854958072167464, 0.7308254695608192, 0.7568449263939716, 0.7241567377630942, 0.36096990393406736, 0.3398312220147036, 0.3398312220147036, 0.724151743662453, 0.7274001771495544, 0.7329724362572949, 0.7448718144222065, 0.7329693873906816, 0.7241665858983933, 0.4873233923703826, 0.4873233923703826, 0.24234610859583916, 0.24234610859583916, 0.24234610859583916, 0.7273829874004359, 0.6979460169295301, 0.28611315338439863, 0.28611315338439863, 0.28611315338439863, 0.7568686942886352, 0.21578651021126236, 0.21578651021126236, 0.21578651021126236, 0.6912128799050408, 0.13398803252777172, 0.13398803252777172, 0.13398803252777172, 0.06699401626388586, 0.06699401626388586, 0.06699401626388586, 0.13398803252777172, 0.13398803252777172, 0.13398803252777172, 0.7273808823646245, 0.6912162242145543, 0.5415422155553827, 0.5415422155553827, 0.6890744799329491, 0.6592333669010442, 0.6833223219400079, 0.7329619756629727, 0.5486702898543775, 0.27433514492718875, 0.753934554665358, 0.578205629382246, 0.289102814691123, 0.2824521931113033, 0.2824521931113033, 0.2824521931113033, 0.28863651705313237, 0.28863651705313237, 0.28863651705313237, 0.6592278238568235, 0.12473776948393321, 0.12473776948393321, 0.3742133084517996, 0.12473776948393321, 0.12473776948393321, 0.12473776948393321, 0.45077218538798464, 0.7048836038533125, 0.9095762344527616, 0.7568381130800617, 0.3003889135377337, 0.3003889135377337, 0.3003889135377337, 0.4429460843594996, 0.4526798598275301, 0.730630503189163, 0.21259016660600627, 0.21259016660600627, 0.21259016660600627, 0.21259016660600627, 0.21259016660600627, 0.7542767617243864, 0.15421639198115802, 0.05140546399371934, 0.15421639198115802, 0.05140546399371934, 0.10281092798743868, 0.20562185597487737, 0.15421639198115802, 0.10281092798743868, 0.05140546399371934, 0.7056364106890108, 0.6592270096751367, 0.7241621519636594, 0.20969571406177734, 0.20969571406177734, 0.20969571406177734, 0.20969571406177734, 0.20969571406177734, 0.20969571406177734, 0.7241515019309344, 0.8549769860280979, 0.7568412846096062, 0.7568439781731383, 0.819743167132991, 0.478712798197686, 0.239356399098843, 0.239356399098843, 0.7273785567185552, 0.2826976829840047, 0.2826976829840047, 0.2826976829840047, 0.14137621457353602, 0.14137621457353602, 0.14137621457353602, 0.28275242914707205, 0.28275242914707205, 0.6912172969444175, 0.19786354201392814, 0.19786354201392814, 0.19786354201392814, 0.19786354201392814, 0.19786354201392814, 0.6979421831045554, 0.746426016783136, 0.7241587376573001, 0.31910818997803764, 0.15955409498901882, 0.15955409498901882, 0.15955409498901882, 0.15955409498901882, 0.681321887659482, 0.6592353748061044, 0.8197387634567017, 0.6813425276212071, 0.29329977247982686, 0.5865995449596537, 0.23002518161778268, 0.11501259080889134, 0.23002518161778268, 0.345037772426674, 0.11501259080889134, 0.7518238870058771, 0.7306786037701511, 0.1561811412259954, 0.3123622824519908, 0.1561811412259954, 0.1561811412259954, 0.1561811412259954, 0.08414374781672791, 0.08414374781672791, 0.2524312434501837, 0.08414374781672791, 0.08414374781672791, 0.08414374781672791, 0.2524312434501837, 0.6979560251583675, 0.5017582705993995, 0.5017582705993995, 0.6979468592200389, 0.36454912289358116, 0.36454912289358116, 0.36454912289358116, 0.69123189641545, 0.6592272507626709, 0.7322460004826685, 0.6912254428414314, 0.8197378038896591, 0.2853110663136654, 0.2853110663136654, 0.1426555331568327, 0.1426555331568327, 0.49096659716552515, 0.6571079282899336, 0.3008816945324231, 0.6017633890648462, 0.7307046945007174, 0.7322321053670381, 0.1791465034591402, 0.1791465034591402, 0.3582930069182804, 0.1791465034591402, 0.1791465034591402, 0.819741341916206, 0.659224868515327, 0.7322378212012238, 0.7062609651920364, 0.6912331809898139, 0.7026095787865573, 0.7329805399168128, 0.8197435511437282, 0.8197461507796916, 0.5019230469174311, 0.5019230469174311, 0.819733922618928, 0.4899160679915635, 0.4899160679915635, 0.22152451289530176, 0.11076225644765088, 0.11076225644765088, 0.11076225644765088, 0.11076225644765088, 0.11076225644765088, 0.11076225644765088, 0.11076225644765088, 0.11076225644765088, 0.286931514113648, 0.286931514113648, 0.286931514113648, 0.3465474606541635, 0.3465474606541635, 0.2137670370733455, 0.2137670370733455, 0.2137670370733455, 0.2137670370733455, 0.2137670370733455, 0.819741185669952, 0.24233515836121977, 0.24233515836121977, 0.24233515836121977, 0.24233515836121977, 0.20064490558565176, 0.4012898111713035, 0.20064490558565176, 0.20064490558565176, 0.6813227370262369, 0.7329684579385067, 0.7493890447660624, 0.7160542591925924, 0.28639119892462417, 0.5727823978492483, 0.6592357355448839, 0.1421107764154515, 0.284221552830903, 0.1421107764154515, 0.1421107764154515, 0.1421107764154515, 0.4616772606144627, 0.23083863030723134, 0.23083863030723134, 0.28811259158096697, 0.14405629579048349, 0.14405629579048349, 0.14405629579048349, 0.14405629579048349, 0.14405629579048349, 0.2057971836237107, 0.4115943672474214, 0.2057971836237107, 0.2057971836237107, 0.659234862900994, 0.46741340912393264, 0.23370670456196632, 0.23370670456196632, 0.23370670456196632, 0.6912180141065685, 0.6813351445466711, 0.6912275093613021, 0.2772008342247006, 0.2772008342247006, 0.2772008342247006, 0.4001790969968972, 0.2000895484984486, 0.2000895484984486, 0.2000895484984486, 0.6912121386166397, 0.7273795155315353, 0.7139742062288122, 0.21456886520910146, 0.21456886520910146, 0.21456886520910146, 0.21456886520910146, 0.10728443260455073, 0.10728443260455073, 0.7431475117437248, 0.713446229908085, 0.6912212535737842, 0.5066559714053273, 0.16888532380177573, 0.16888532380177573, 0.33814686762198465, 0.7322310499632394, 0.7164590480800263, 0.6912159885254011, 0.7464996215639225, 0.16675409291037072, 0.5002622787311122, 0.16675409291037072, 0.6979587372147126, 0.6912324289785463, 0.7322331586155328, 0.6592295688507178, 0.6039585752186172, 0.3019792876093086, 0.7157050764827668, 0.4937668159500357, 0.4937668159500357, 0.6592304311246434, 0.6592362244743292, 0.756840391339993, 0.6592293448655554, 0.4943825983972942, 0.4943825983972942, 0.7146492078319945, 0.7152149387082665, 0.6813294838760826, 0.6979506214042239, 0.3668204240626997, 0.3668204240626997, 0.5376726351196185, 0.5376726351196185, 0.6912127327399138, 0.7322312179126914, 0.6912278419811066, 0.7329739654505254, 0.45599084284411173, 0.44381950609262366, 0.22190975304631183, 0.22190975304631183, 0.15775430817243113, 0.15775430817243113, 0.052584769390810374, 0.07887715408621557, 0.10516953878162075, 0.10516953878162075, 0.15775430817243113, 0.07887715408621557, 0.052584769390810374, 0.07887715408621557, 0.7247929450451607, 0.4523226072180095, 0.7241504634959707, 0.7075805558076171, 0.6886791232257347, 0.44216471262845203, 0.22108235631422601, 0.22108235631422601, 0.7445340351018646, 0.7241668924719884, 0.6979625557371416, 0.36339119762996763, 0.18169559881498382, 0.18169559881498382, 0.18169559881498382, 0.18169559881498382, 0.6592271573687774, 0.7535247977716566, 0.5017514439779182, 0.5017514439779182, 0.4876535804582527, 0.4876535804582527, 0.7329667616467885, 0.6592272717073621, 0.6592407914841695, 0.6913762933029519, 0.7273865994839844, 0.6592270114487631, 0.8197527192408712, 0.17077012787608778, 0.056923375958695926, 0.056923375958695926, 0.17077012787608778, 0.2276935038347837, 0.056923375958695926, 0.17077012787608778, 0.056923375958695926, 0.056923375958695926, 0.4724873080593391, 0.4724873080593391, 0.7329583907280274, 0.16281004893651155, 0.16281004893651155, 0.16281004893651155, 0.3256200978730231, 0.16281004893651155, 0.3479114025832566, 0.3479114025832566, 0.3479114025832566, 0.7241629103282055, 0.8197314038739908, 0.727377046052044, 0.7322236826873028, 0.7010553813712718, 0.7241623141032245, 0.14109971597351129, 0.28219943194702257, 0.14109971597351129, 0.14109971597351129, 0.14109971597351129, 0.14109971597351129, 0.3602486858069926, 0.3602486858069926, 0.3602486858069926, 0.7241570406853549, 0.7329652573659334, 0.24582737377505273, 0.24582737377505273, 0.24582737377505273, 0.24582737377505273, 0.36649799495365, 0.36649799495365, 0.36649799495365, 0.23107027236079483, 0.23107027236079483, 0.23107027236079483, 0.23107027236079483, 0.6912064142986158, 0.6743588378610283, 0.3371794189305142, 0.5347827183797361, 0.26739135918986806, 0.26739135918986806, 0.7306784552432902, 0.7241757301402276, 0.5011095630290894, 0.5011095630290894, 0.7322204086978735, 0.47837815669872297, 0.7273894631899918, 0.39518506222146543, 0.39518506222146543, 0.1317283540738218, 0.6912127401345274, 0.6813411470953306, 0.10276641876130434, 0.308299256283913, 0.20553283752260867, 0.10276641876130434, 0.10276641876130434, 0.10276641876130434, 0.10276641876130434, 0.1959564762486208, 0.3919129524972416, 0.1959564762486208, 0.6592405938548631, 0.486627957944537], \"Term\": [\"access\", \"access\", \"access\", \"access\", \"access\", \"access\", \"account\", \"actually\", \"ad\", \"ad\", \"ad\", \"advertised\", \"affordable\", \"affordable\", \"afraid\", \"age\", \"almost\", \"along\", \"alot\", \"already\", \"also\", \"also\", \"also\", \"also\", \"always\", \"amazon\", \"amazon\", \"amazon\", \"amazon\", \"amazon\", \"amazon\", \"anymore\", \"app\", \"app\", \"app\", \"app\", \"appointment\", \"appropriate\", \"apps\", \"apps\", \"apps\", \"apps\", \"apps\", \"apps\", \"area\", \"areit\", \"arent\", \"around\", \"aunt\", \"available\", \"available\", \"available\", \"awfulthe\", \"bargain\", \"basic\", \"basic\", \"basic\", \"basic\", \"battery\", \"battery\", \"beat\", \"beat\", \"bed\", \"beginner\", \"beginner\", \"beginner\", \"believe\", \"benefit\", \"best\", \"best\", \"best\", \"bestlove\", \"better\", \"better\", \"better\", \"big\", \"bigger\", \"birthday\", \"black\", \"book\", \"book\", \"book\", \"book\", \"book\", \"book\", \"booksgamesmusic\", \"borrowed\", \"bought\", \"bought\", \"bought\", \"bought\", \"bought\", \"bought\", \"bought\", \"brand\", \"bright\", \"bright\", \"brilliant\", \"broke\", \"browser\", \"bulky\", \"calender\", \"came\", \"camera\", \"camera\", \"capability\", \"capability\", \"capacity\", \"card\", \"carry\", \"carry\", \"cease\", \"charge\", \"charged\", \"charm\", \"cheaper\", \"cheapworth\", \"checking\", \"checking\", \"checking\", \"child\", \"child\", \"child\", \"choice\", \"christmaswe\", \"color\", \"color\", \"come\", \"come\", \"comic\", \"commuter\", \"compact\", \"complaint\", \"connect\", \"consider\", \"considered\", \"contact\", \"content\", \"content\", \"content\", \"control\", \"control\", \"cost\", \"could\", \"could\", \"could\", \"couldnt\", \"crisp\", \"crisp\", \"daughter\", \"daughter\", \"daughter\", \"day\", \"decent\", \"decentnot\", \"definitely\", \"definitely\", \"definitely\", \"depend\", \"desktop\", \"device\", \"device\", \"device\", \"device\", \"device\", \"died\", \"difficult\", \"difficulty\", \"disappoint\", \"disappointed\", \"disappointed\", \"disappointed\", \"done\", \"dont\", \"dont\", \"dont\", \"download\", \"downloading\", \"ease\", \"easiest\", \"easy\", \"easy\", \"easy\", \"easy\", \"easy\", \"easy\", \"easy\", \"easy\", \"ebook\", \"elderly\", \"email\", \"email\", \"email\", \"enjoy\", \"enjoyed\", \"enjoys\", \"enough\", \"enough\", \"enough\", \"entertainment\", \"ereading\", \"especially\", \"even\", \"everything\", \"everything\", \"everything\", \"exactly\", \"excellent\", \"excellent\", \"excellent\", \"excellent\", \"excellent\", \"expandable\", \"experienced\", \"extensively\", \"extra\", \"extreme\", \"fact\", \"fact\", \"family\", \"family\", \"family\", \"family\", \"fan\", \"fantastic\", \"far\", \"far\", \"far\", \"fast\", \"fast\", \"fast\", \"fast\", \"faster\", \"father\", \"feature\", \"feature\", \"feature\", \"figure\", \"find\", \"fingerprint\", \"fire\", \"fire\", \"fire\", \"fire\", \"fire\", \"fire\", \"fire\", \"first\", \"first\", \"first\", \"fit\", \"flexibility\", \"flight\", \"foot\", \"footprint\", \"forward\", \"found\", \"freetime\", \"freetime\", \"friend\", \"friend\", \"friendly\", \"full\", \"fun\", \"game\", \"game\", \"game\", \"game\", \"game\", \"game\", \"game\", \"gaming\", \"gave\", \"generation\", \"get\", \"get\", \"get\", \"get\", \"giant\", \"gift\", \"gift\", \"gift\", \"gig\", \"given\", \"given\", \"good\", \"good\", \"good\", \"good\", \"good\", \"good\", \"got\", \"got\", \"got\", \"grandchild\", \"granddaughter\", \"grandmother\", \"grandson\", \"graphic\", \"great\", \"great\", \"great\", \"great\", \"great\", \"great\", \"great\", \"great\", \"great\", \"greatest\", \"grown\", \"handheld\", \"happy\", \"happy\", \"happy\", \"happy\", \"happy\", \"hd\", \"hd\", \"hd\", \"highest\", \"home\", \"hoping\", \"however\", \"huge\", \"hundred\", \"husband\", \"husband\", \"husband\", \"im\", \"imaging\", \"important\", \"inch\", \"inexpensive\", \"inexpensive\", \"inexspensive\", \"inlaws\", \"install\", \"installed\", \"instruction\", \"interactive\", \"internet\", \"internet\", \"ipad\", \"ipad\", \"ipad\", \"itthat\", \"itwell\", \"job\", \"job\", \"job\", \"keep\", \"kid\", \"kid\", \"kid\", \"kind\", \"kindle\", \"kindle\", \"kindle\", \"kindle\", \"kindle\", \"kindle\", \"kindle\", \"kindle\", \"kindle\", \"kindled\", \"kindlethis\", \"last\", \"last\", \"latest\", \"leaning\", \"learn\", \"learned\", \"learning\", \"learning\", \"length\", \"library\", \"library\", \"life\", \"life\", \"life\", \"light\", \"light\", \"light\", \"lighter\", \"like\", \"like\", \"like\", \"like\", \"like\", \"like\", \"limited\", \"link\", \"listen\", \"lite\", \"little\", \"little\", \"little\", \"load\", \"lol\", \"longer\", \"looking\", \"looking\", \"looking\", \"looking\", \"looking\", \"lose\", \"love\", \"love\", \"love\", \"love\", \"love\", \"love\", \"love\", \"love\", \"love\", \"made\", \"magnet\", \"mainly\", \"make\", \"make\", \"make\", \"make\", \"make\", \"make\", \"manegement\", \"many\", \"may\", \"meet\", \"meeting\", \"member\", \"member\", \"member\", \"memory\", \"money\", \"money\", \"money\", \"movie\", \"movie\", \"movie\", \"movie\", \"movie\", \"moviestv\", \"much\", \"much\", \"much\", \"much\", \"much\", \"nabi\", \"name\", \"navigate\", \"need\", \"need\", \"need\", \"need\", \"need\", \"needed\", \"negative\", \"netflixs\", \"never\", \"new\", \"new\", \"nice\", \"nice\", \"nice\", \"nice\", \"nice\", \"nicely\", \"night\", \"old\", \"old\", \"old\", \"old\", \"old\", \"one\", \"one\", \"one\", \"one\", \"one\", \"one\", \"one\", \"online\", \"option\", \"option\", \"ordering\", \"overall\", \"overall\", \"overall\", \"packaging\", \"packed\", \"pad\", \"paid\", \"parental\", \"perfect\", \"perfect\", \"perfect\", \"perfect\", \"person\", \"phone\", \"photo\", \"photo\", \"pic\", \"place\", \"play\", \"play\", \"play\", \"play\", \"play\", \"playback\", \"point\", \"pop\", \"popular\", \"portability\", \"possible\", \"pre\", \"predominately\", \"preloaded\", \"pretty\", \"pretty\", \"prevent\", \"previous\", \"previous\", \"price\", \"price\", \"price\", \"price\", \"price\", \"price\", \"price\", \"price\", \"price\", \"prime\", \"prime\", \"prime\", \"problem\", \"problem\", \"product\", \"product\", \"product\", \"product\", \"product\", \"productivity\", \"purchase\", \"purchase\", \"purchase\", \"purchase\", \"purchased\", \"purchased\", \"purchased\", \"purchased\", \"purchasing\", \"purpose\", \"purse\", \"push\", \"quality\", \"quality\", \"quickly\", \"read\", \"read\", \"read\", \"read\", \"read\", \"reader\", \"reader\", \"reader\", \"reading\", \"reading\", \"reading\", \"reading\", \"reading\", \"reading\", \"really\", \"really\", \"really\", \"really\", \"reason\", \"recommend\", \"recommend\", \"recommend\", \"recommend\", \"recovery\", \"reset\", \"retired\", \"right\", \"right\", \"right\", \"run\", \"run\", \"run\", \"run\", \"saavy\", \"said\", \"scale\", \"screen\", \"screen\", \"screen\", \"screen\", \"screen\", \"screen\", \"sd\", \"seenused\", \"serf\", \"set\", \"set\", \"set\", \"setting\", \"setup\", \"several\", \"sister\", \"site\", \"size\", \"size\", \"size\", \"skype\", \"sleek\", \"smaller\", \"someone\", \"something\", \"something\", \"sometimes\", \"son\", \"son\", \"sound\", \"speaker\", \"spec\", \"spectrum\", \"spend\", \"spend\", \"star\", \"start\", \"steal\", \"step\", \"store\", \"store\", \"sure\", \"sure\", \"surf\", \"surfing\", \"surgery\", \"surprised\", \"tab\", \"table\", \"table\", \"table\", \"tablet\", \"tablet\", \"tablet\", \"tablet\", \"tablet\", \"tablet\", \"tablet\", \"tablet\", \"tablet\", \"tablet\", \"take\", \"tech\", \"teen\", \"text\", \"thanks\", \"thing\", \"thing\", \"thing\", \"think\", \"though\", \"thrilled\", \"time\", \"time\", \"time\", \"time\", \"time\", \"tool\", \"transferred\", \"travel\", \"travel\", \"traveling\", \"traveling\", \"trip\", \"tv\", \"twitch\", \"type\", \"uncle\", \"unusable\", \"unwanted\", \"use\", \"use\", \"use\", \"use\", \"use\", \"use\", \"use\", \"use\", \"use\", \"useful\", \"useful\", \"usepicture\", \"user\", \"user\", \"user\", \"user\", \"user\", \"using\", \"using\", \"using\", \"vacation\", \"versus\", \"viedosthanks\", \"viewing\", \"vision\", \"visual\", \"want\", \"want\", \"want\", \"want\", \"want\", \"want\", \"wanted\", \"wanted\", \"wanted\", \"wanting\", \"wantneed\", \"watch\", \"watch\", \"watch\", \"watch\", \"watching\", \"watching\", \"watching\", \"way\", \"way\", \"way\", \"way\", \"web\", \"weight\", \"weight\", \"well\", \"well\", \"well\", \"white\", \"whole\", \"wife\", \"wife\", \"wifi\", \"wish\", \"wonderful\", \"work\", \"work\", \"work\", \"worse\", \"worst\", \"would\", \"would\", \"would\", \"would\", \"would\", \"would\", \"would\", \"year\", \"year\", \"year\", \"youtube\", \"yr\"]}, \"R\": 30, \"lambda.step\": 0.01, \"plot.opts\": {\"xlab\": \"PC1\", \"ylab\": \"PC2\"}, \"topic.order\": [1, 8, 6, 7, 3, 4, 5, 10, 2, 9]};\n",
              "\n",
              "function LDAvis_load_lib(url, callback){\n",
              "  var s = document.createElement('script');\n",
              "  s.src = url;\n",
              "  s.async = true;\n",
              "  s.onreadystatechange = s.onload = callback;\n",
              "  s.onerror = function(){console.warn(\"failed to load library \" + url);};\n",
              "  document.getElementsByTagName(\"head\")[0].appendChild(s);\n",
              "}\n",
              "\n",
              "if(typeof(LDAvis) !== \"undefined\"){\n",
              "   // already loaded: just create the visualization\n",
              "   !function(LDAvis){\n",
              "       new LDAvis(\"#\" + \"ldavis_el482241372253911912324311723505\", ldavis_el482241372253911912324311723505_data);\n",
              "   }(LDAvis);\n",
              "}else if(typeof define === \"function\" && define.amd){\n",
              "   // require.js is available: use it to load d3/LDAvis\n",
              "   require.config({paths: {d3: \"https://d3js.org/d3.v5\"}});\n",
              "   require([\"d3\"], function(d3){\n",
              "      window.d3 = d3;\n",
              "      LDAvis_load_lib(\"https://cdn.jsdelivr.net/gh/bmabey/pyLDAvis@3.4.0/pyLDAvis/js/ldavis.v3.0.0.js\", function(){\n",
              "        new LDAvis(\"#\" + \"ldavis_el482241372253911912324311723505\", ldavis_el482241372253911912324311723505_data);\n",
              "      });\n",
              "    });\n",
              "}else{\n",
              "    // require.js not available: dynamically load d3 & LDAvis\n",
              "    LDAvis_load_lib(\"https://d3js.org/d3.v5.js\", function(){\n",
              "         LDAvis_load_lib(\"https://cdn.jsdelivr.net/gh/bmabey/pyLDAvis@3.4.0/pyLDAvis/js/ldavis.v3.0.0.js\", function(){\n",
              "                 new LDAvis(\"#\" + \"ldavis_el482241372253911912324311723505\", ldavis_el482241372253911912324311723505_data);\n",
              "            })\n",
              "         });\n",
              "}\n",
              "</script>"
            ]
          },
          "metadata": {},
          "execution_count": 16
        }
      ]
    },
    {
      "cell_type": "markdown",
      "metadata": {
        "id": "AfpMRCrRwN6Z"
      },
      "source": [
        "# **Question 2: Sentiment Analysis**"
      ]
    },
    {
      "cell_type": "markdown",
      "metadata": {
        "id": "1dCQEbDawWCw"
      },
      "source": [
        "(30 points). Sentiment analysis also known as opinion mining is a sub field within Natural Language Processing (NLP) that builds machine learning algorithms to classify a text according to the sentimental polarities of opinions it contains, e.g., positive, negative, neutral. The purpose of this question is to develop a machine learning classifier for sentiment analysis. Based on the dataset from assignment three, write a python program to implement a sentiment classifier and evaluate its performance. Notice: **80% data for training and 20% data for testing**.  \n",
        "\n",
        "(1) Features used for sentiment classification and explain why you select these features.\n",
        "\n",
        "(2) Select two of the supervised learning algorithm from scikit-learn library: https://scikit-learn.org/stable/supervised_learning.html#supervised-learning, to build a sentiment classifier respectively. Note: Cross-validation (5-fold or 10-fold) should be conducted. Here is the reference of cross-validation: https://scikit-learn.org/stable/modules/cross_validation.html.\n",
        "\n",
        "(3) Compare the performance over accuracy, precision, recall, and F1 score for the two algorithms you selected. Here is the reference of how to calculate these metrics: https://towardsdatascience.com/accuracy-precision-recall-or-f1-331fb37c5cb9."
      ]
    },
    {
      "cell_type": "code",
      "source": [
        "# Write your code here\n",
        "\n",
        "import pandas as pd\n",
        "from sklearn.model_selection import train_test_split\n",
        "from sklearn.feature_extraction.text import TfidfVectorizer\n",
        "from sklearn.linear_model import LogisticRegression\n",
        "from sklearn.ensemble import RandomForestClassifier\n",
        "from sklearn.model_selection import cross_val_score\n",
        "from sklearn.metrics import accuracy_score, precision_score, recall_score, f1_score"
      ],
      "metadata": {
        "colab": {
          "base_uri": "https://localhost:8080/"
        },
        "id": "q7sKu9Z7FYjS",
        "outputId": "df0f5e7b-edb4-4154-9641-a4d79980ddac"
      },
      "execution_count": null,
      "outputs": [
        {
          "output_type": "stream",
          "name": "stderr",
          "text": [
            "/usr/local/lib/python3.10/dist-packages/ipykernel/ipkernel.py:283: DeprecationWarning: `should_run_async` will not call `transform_cell` automatically in the future. Please pass the result to `transformed_cell` argument and any exception that happen during thetransform in `preprocessing_exc_tuple` in IPython 7.17 and above.\n",
            "  and should_run_async(code)\n"
          ]
        }
      ]
    },
    {
      "cell_type": "code",
      "source": [
        "surya_teja_Gonugunta_Dataset_Assignment_3.head()"
      ],
      "metadata": {
        "colab": {
          "base_uri": "https://localhost:8080/",
          "height": 261
        },
        "id": "uE7cdcKbFky8",
        "outputId": "6bd3cb48-4831-41af-f318-7a068cbd9274"
      },
      "execution_count": null,
      "outputs": [
        {
          "output_type": "stream",
          "name": "stderr",
          "text": [
            "/usr/local/lib/python3.10/dist-packages/ipykernel/ipkernel.py:283: DeprecationWarning: `should_run_async` will not call `transform_cell` automatically in the future. Please pass the result to `transformed_cell` argument and any exception that happen during thetransform in `preprocessing_exc_tuple` in IPython 7.17 and above.\n",
            "  and should_run_async(code)\n"
          ]
        },
        {
          "output_type": "execute_result",
          "data": {
            "text/plain": [
              "   si.no                                            reviews     Label  \\\n",
              "0      1  This product so far has not disappointed. My c...  Positive   \n",
              "1      2  great for beginner or experienced person. Boug...  Positive   \n",
              "2      3  Inexpensive tablet for him to use and learn on...  Positive   \n",
              "3      4  I've had my Fire HD 8 two weeks now and I love...  Positive   \n",
              "4      5  I bought this for my grand daughter when she c...  Positive   \n",
              "\n",
              "                                        cleaned_text  \\\n",
              "0  product far disappointed child love use like a...   \n",
              "1  great beginner experienced person bought gift ...   \n",
              "2  inexpensive tablet use learn step nabi thrille...   \n",
              "3  ive fire hd two week love tablet great valuewe...   \n",
              "4  bought grand daughter come visit set user ente...   \n",
              "\n",
              "                                     cleaned_Reviews  \n",
              "0  [product, far, disappointed, child, love, use,...  \n",
              "1  [great, beginner, experienced, person, bought,...  \n",
              "2  [inexpensive, tablet, use, learn, step, nabi, ...  \n",
              "3  [ive, fire, hd, two, week, love, tablet, great...  \n",
              "4  [bought, grand, daughter, come, visit, set, us...  "
            ],
            "text/html": [
              "\n",
              "  <div id=\"df-b7b6099c-a303-4d61-8ad2-5bd5f748d58e\" class=\"colab-df-container\">\n",
              "    <div>\n",
              "<style scoped>\n",
              "    .dataframe tbody tr th:only-of-type {\n",
              "        vertical-align: middle;\n",
              "    }\n",
              "\n",
              "    .dataframe tbody tr th {\n",
              "        vertical-align: top;\n",
              "    }\n",
              "\n",
              "    .dataframe thead th {\n",
              "        text-align: right;\n",
              "    }\n",
              "</style>\n",
              "<table border=\"1\" class=\"dataframe\">\n",
              "  <thead>\n",
              "    <tr style=\"text-align: right;\">\n",
              "      <th></th>\n",
              "      <th>si.no</th>\n",
              "      <th>reviews</th>\n",
              "      <th>Label</th>\n",
              "      <th>cleaned_text</th>\n",
              "      <th>cleaned_Reviews</th>\n",
              "    </tr>\n",
              "  </thead>\n",
              "  <tbody>\n",
              "    <tr>\n",
              "      <th>0</th>\n",
              "      <td>1</td>\n",
              "      <td>This product so far has not disappointed. My c...</td>\n",
              "      <td>Positive</td>\n",
              "      <td>product far disappointed child love use like a...</td>\n",
              "      <td>[product, far, disappointed, child, love, use,...</td>\n",
              "    </tr>\n",
              "    <tr>\n",
              "      <th>1</th>\n",
              "      <td>2</td>\n",
              "      <td>great for beginner or experienced person. Boug...</td>\n",
              "      <td>Positive</td>\n",
              "      <td>great beginner experienced person bought gift ...</td>\n",
              "      <td>[great, beginner, experienced, person, bought,...</td>\n",
              "    </tr>\n",
              "    <tr>\n",
              "      <th>2</th>\n",
              "      <td>3</td>\n",
              "      <td>Inexpensive tablet for him to use and learn on...</td>\n",
              "      <td>Positive</td>\n",
              "      <td>inexpensive tablet use learn step nabi thrille...</td>\n",
              "      <td>[inexpensive, tablet, use, learn, step, nabi, ...</td>\n",
              "    </tr>\n",
              "    <tr>\n",
              "      <th>3</th>\n",
              "      <td>4</td>\n",
              "      <td>I've had my Fire HD 8 two weeks now and I love...</td>\n",
              "      <td>Positive</td>\n",
              "      <td>ive fire hd two week love tablet great valuewe...</td>\n",
              "      <td>[ive, fire, hd, two, week, love, tablet, great...</td>\n",
              "    </tr>\n",
              "    <tr>\n",
              "      <th>4</th>\n",
              "      <td>5</td>\n",
              "      <td>I bought this for my grand daughter when she c...</td>\n",
              "      <td>Positive</td>\n",
              "      <td>bought grand daughter come visit set user ente...</td>\n",
              "      <td>[bought, grand, daughter, come, visit, set, us...</td>\n",
              "    </tr>\n",
              "  </tbody>\n",
              "</table>\n",
              "</div>\n",
              "    <div class=\"colab-df-buttons\">\n",
              "\n",
              "  <div class=\"colab-df-container\">\n",
              "    <button class=\"colab-df-convert\" onclick=\"convertToInteractive('df-b7b6099c-a303-4d61-8ad2-5bd5f748d58e')\"\n",
              "            title=\"Convert this dataframe to an interactive table.\"\n",
              "            style=\"display:none;\">\n",
              "\n",
              "  <svg xmlns=\"http://www.w3.org/2000/svg\" height=\"24px\" viewBox=\"0 -960 960 960\">\n",
              "    <path d=\"M120-120v-720h720v720H120Zm60-500h600v-160H180v160Zm220 220h160v-160H400v160Zm0 220h160v-160H400v160ZM180-400h160v-160H180v160Zm440 0h160v-160H620v160ZM180-180h160v-160H180v160Zm440 0h160v-160H620v160Z\"/>\n",
              "  </svg>\n",
              "    </button>\n",
              "\n",
              "  <style>\n",
              "    .colab-df-container {\n",
              "      display:flex;\n",
              "      gap: 12px;\n",
              "    }\n",
              "\n",
              "    .colab-df-convert {\n",
              "      background-color: #E8F0FE;\n",
              "      border: none;\n",
              "      border-radius: 50%;\n",
              "      cursor: pointer;\n",
              "      display: none;\n",
              "      fill: #1967D2;\n",
              "      height: 32px;\n",
              "      padding: 0 0 0 0;\n",
              "      width: 32px;\n",
              "    }\n",
              "\n",
              "    .colab-df-convert:hover {\n",
              "      background-color: #E2EBFA;\n",
              "      box-shadow: 0px 1px 2px rgba(60, 64, 67, 0.3), 0px 1px 3px 1px rgba(60, 64, 67, 0.15);\n",
              "      fill: #174EA6;\n",
              "    }\n",
              "\n",
              "    .colab-df-buttons div {\n",
              "      margin-bottom: 4px;\n",
              "    }\n",
              "\n",
              "    [theme=dark] .colab-df-convert {\n",
              "      background-color: #3B4455;\n",
              "      fill: #D2E3FC;\n",
              "    }\n",
              "\n",
              "    [theme=dark] .colab-df-convert:hover {\n",
              "      background-color: #434B5C;\n",
              "      box-shadow: 0px 1px 3px 1px rgba(0, 0, 0, 0.15);\n",
              "      filter: drop-shadow(0px 1px 2px rgba(0, 0, 0, 0.3));\n",
              "      fill: #FFFFFF;\n",
              "    }\n",
              "  </style>\n",
              "\n",
              "    <script>\n",
              "      const buttonEl =\n",
              "        document.querySelector('#df-b7b6099c-a303-4d61-8ad2-5bd5f748d58e button.colab-df-convert');\n",
              "      buttonEl.style.display =\n",
              "        google.colab.kernel.accessAllowed ? 'block' : 'none';\n",
              "\n",
              "      async function convertToInteractive(key) {\n",
              "        const element = document.querySelector('#df-b7b6099c-a303-4d61-8ad2-5bd5f748d58e');\n",
              "        const dataTable =\n",
              "          await google.colab.kernel.invokeFunction('convertToInteractive',\n",
              "                                                    [key], {});\n",
              "        if (!dataTable) return;\n",
              "\n",
              "        const docLinkHtml = 'Like what you see? Visit the ' +\n",
              "          '<a target=\"_blank\" href=https://colab.research.google.com/notebooks/data_table.ipynb>data table notebook</a>'\n",
              "          + ' to learn more about interactive tables.';\n",
              "        element.innerHTML = '';\n",
              "        dataTable['output_type'] = 'display_data';\n",
              "        await google.colab.output.renderOutput(dataTable, element);\n",
              "        const docLink = document.createElement('div');\n",
              "        docLink.innerHTML = docLinkHtml;\n",
              "        element.appendChild(docLink);\n",
              "      }\n",
              "    </script>\n",
              "  </div>\n",
              "\n",
              "\n",
              "<div id=\"df-49f1b901-efd3-4909-b664-4eb1ad94e58b\">\n",
              "  <button class=\"colab-df-quickchart\" onclick=\"quickchart('df-49f1b901-efd3-4909-b664-4eb1ad94e58b')\"\n",
              "            title=\"Suggest charts\"\n",
              "            style=\"display:none;\">\n",
              "\n",
              "<svg xmlns=\"http://www.w3.org/2000/svg\" height=\"24px\"viewBox=\"0 0 24 24\"\n",
              "     width=\"24px\">\n",
              "    <g>\n",
              "        <path d=\"M19 3H5c-1.1 0-2 .9-2 2v14c0 1.1.9 2 2 2h14c1.1 0 2-.9 2-2V5c0-1.1-.9-2-2-2zM9 17H7v-7h2v7zm4 0h-2V7h2v10zm4 0h-2v-4h2v4z\"/>\n",
              "    </g>\n",
              "</svg>\n",
              "  </button>\n",
              "\n",
              "<style>\n",
              "  .colab-df-quickchart {\n",
              "      --bg-color: #E8F0FE;\n",
              "      --fill-color: #1967D2;\n",
              "      --hover-bg-color: #E2EBFA;\n",
              "      --hover-fill-color: #174EA6;\n",
              "      --disabled-fill-color: #AAA;\n",
              "      --disabled-bg-color: #DDD;\n",
              "  }\n",
              "\n",
              "  [theme=dark] .colab-df-quickchart {\n",
              "      --bg-color: #3B4455;\n",
              "      --fill-color: #D2E3FC;\n",
              "      --hover-bg-color: #434B5C;\n",
              "      --hover-fill-color: #FFFFFF;\n",
              "      --disabled-bg-color: #3B4455;\n",
              "      --disabled-fill-color: #666;\n",
              "  }\n",
              "\n",
              "  .colab-df-quickchart {\n",
              "    background-color: var(--bg-color);\n",
              "    border: none;\n",
              "    border-radius: 50%;\n",
              "    cursor: pointer;\n",
              "    display: none;\n",
              "    fill: var(--fill-color);\n",
              "    height: 32px;\n",
              "    padding: 0;\n",
              "    width: 32px;\n",
              "  }\n",
              "\n",
              "  .colab-df-quickchart:hover {\n",
              "    background-color: var(--hover-bg-color);\n",
              "    box-shadow: 0 1px 2px rgba(60, 64, 67, 0.3), 0 1px 3px 1px rgba(60, 64, 67, 0.15);\n",
              "    fill: var(--button-hover-fill-color);\n",
              "  }\n",
              "\n",
              "  .colab-df-quickchart-complete:disabled,\n",
              "  .colab-df-quickchart-complete:disabled:hover {\n",
              "    background-color: var(--disabled-bg-color);\n",
              "    fill: var(--disabled-fill-color);\n",
              "    box-shadow: none;\n",
              "  }\n",
              "\n",
              "  .colab-df-spinner {\n",
              "    border: 2px solid var(--fill-color);\n",
              "    border-color: transparent;\n",
              "    border-bottom-color: var(--fill-color);\n",
              "    animation:\n",
              "      spin 1s steps(1) infinite;\n",
              "  }\n",
              "\n",
              "  @keyframes spin {\n",
              "    0% {\n",
              "      border-color: transparent;\n",
              "      border-bottom-color: var(--fill-color);\n",
              "      border-left-color: var(--fill-color);\n",
              "    }\n",
              "    20% {\n",
              "      border-color: transparent;\n",
              "      border-left-color: var(--fill-color);\n",
              "      border-top-color: var(--fill-color);\n",
              "    }\n",
              "    30% {\n",
              "      border-color: transparent;\n",
              "      border-left-color: var(--fill-color);\n",
              "      border-top-color: var(--fill-color);\n",
              "      border-right-color: var(--fill-color);\n",
              "    }\n",
              "    40% {\n",
              "      border-color: transparent;\n",
              "      border-right-color: var(--fill-color);\n",
              "      border-top-color: var(--fill-color);\n",
              "    }\n",
              "    60% {\n",
              "      border-color: transparent;\n",
              "      border-right-color: var(--fill-color);\n",
              "    }\n",
              "    80% {\n",
              "      border-color: transparent;\n",
              "      border-right-color: var(--fill-color);\n",
              "      border-bottom-color: var(--fill-color);\n",
              "    }\n",
              "    90% {\n",
              "      border-color: transparent;\n",
              "      border-bottom-color: var(--fill-color);\n",
              "    }\n",
              "  }\n",
              "</style>\n",
              "\n",
              "  <script>\n",
              "    async function quickchart(key) {\n",
              "      const quickchartButtonEl =\n",
              "        document.querySelector('#' + key + ' button');\n",
              "      quickchartButtonEl.disabled = true;  // To prevent multiple clicks.\n",
              "      quickchartButtonEl.classList.add('colab-df-spinner');\n",
              "      try {\n",
              "        const charts = await google.colab.kernel.invokeFunction(\n",
              "            'suggestCharts', [key], {});\n",
              "      } catch (error) {\n",
              "        console.error('Error during call to suggestCharts:', error);\n",
              "      }\n",
              "      quickchartButtonEl.classList.remove('colab-df-spinner');\n",
              "      quickchartButtonEl.classList.add('colab-df-quickchart-complete');\n",
              "    }\n",
              "    (() => {\n",
              "      let quickchartButtonEl =\n",
              "        document.querySelector('#df-49f1b901-efd3-4909-b664-4eb1ad94e58b button');\n",
              "      quickchartButtonEl.style.display =\n",
              "        google.colab.kernel.accessAllowed ? 'block' : 'none';\n",
              "    })();\n",
              "  </script>\n",
              "</div>\n",
              "    </div>\n",
              "  </div>\n"
            ]
          },
          "metadata": {},
          "execution_count": 18
        }
      ]
    },
    {
      "cell_type": "markdown",
      "source": [
        "### I am using Cleaned_text which is already cleaned earlier as the feature and label as the output for classificaton"
      ],
      "metadata": {
        "id": "NKyG2fNyRwY9"
      }
    },
    {
      "cell_type": "markdown",
      "source": [
        "#1. Features used for sentiment classification and explain why you select these features."
      ],
      "metadata": {
        "id": "D-YmgTuqeeCr"
      }
    },
    {
      "cell_type": "code",
      "source": [
        "# Applying Feature selection and preprocessing\n",
        "tfidf = TfidfVectorizer(max_features=1000)  # Adjust max_features as needed\n",
        "X = tfidf.fit_transform(surya_teja_Gonugunta_Dataset_Assignment_3['cleaned_text'])\n",
        "y = surya_teja_Gonugunta_Dataset_Assignment_3['Label']"
      ],
      "metadata": {
        "colab": {
          "base_uri": "https://localhost:8080/"
        },
        "id": "Iky0-bNKevNC",
        "outputId": "d4d9f5b7-26b3-4ec0-c8f6-f338d28d3c2d"
      },
      "execution_count": null,
      "outputs": [
        {
          "output_type": "stream",
          "name": "stderr",
          "text": [
            "/usr/local/lib/python3.10/dist-packages/ipykernel/ipkernel.py:283: DeprecationWarning: `should_run_async` will not call `transform_cell` automatically in the future. Please pass the result to `transformed_cell` argument and any exception that happen during thetransform in `preprocessing_exc_tuple` in IPython 7.17 and above.\n",
            "  and should_run_async(code)\n"
          ]
        }
      ]
    },
    {
      "cell_type": "code",
      "source": [
        "# Splitting the dataset into training and testing sets (80% training, 20% testing)\n",
        "X_train, X_test, y_train, y_test = train_test_split(X, y, test_size=0.2)"
      ],
      "metadata": {
        "colab": {
          "base_uri": "https://localhost:8080/"
        },
        "id": "oBOnxi30QZFR",
        "outputId": "c9dc50c8-b50c-48fd-a0e1-caf4434a0526"
      },
      "execution_count": null,
      "outputs": [
        {
          "output_type": "stream",
          "name": "stderr",
          "text": [
            "/usr/local/lib/python3.10/dist-packages/ipykernel/ipkernel.py:283: DeprecationWarning: `should_run_async` will not call `transform_cell` automatically in the future. Please pass the result to `transformed_cell` argument and any exception that happen during thetransform in `preprocessing_exc_tuple` in IPython 7.17 and above.\n",
            "  and should_run_async(code)\n"
          ]
        }
      ]
    },
    {
      "cell_type": "markdown",
      "source": [
        "#2. Select two of the supervised learning algorithm from scikit-learn library: https://scikit-learn.org/stable/supervised_learning.html#supervised-learning, to build a sentiment classifier respectively. Note: Cross-validation (5-fold or 10-fold) should be conducted. Here is the reference of cross-validation: https://scikit-learn.org/stable/modules/cross_validation.html."
      ],
      "metadata": {
        "id": "FjN_Pdoyg1un"
      }
    },
    {
      "cell_type": "code",
      "source": [
        "# importing the libraries required for Naive Bayes supervised algorithm\n",
        "\n",
        "from sklearn import naive_bayes\n",
        "from sklearn.model_selection import cross_val_score, KFold\n",
        "from sklearn.metrics import precision_score, recall_score, f1_score, accuracy_score\n",
        "from sklearn.metrics import classification_report"
      ],
      "metadata": {
        "id": "jrSJ0g7UMFI0",
        "colab": {
          "base_uri": "https://localhost:8080/"
        },
        "outputId": "8263d65a-d85f-4335-d59f-ea7381ba8264"
      },
      "execution_count": null,
      "outputs": [
        {
          "output_type": "stream",
          "name": "stderr",
          "text": [
            "/usr/local/lib/python3.10/dist-packages/ipykernel/ipkernel.py:283: DeprecationWarning: `should_run_async` will not call `transform_cell` automatically in the future. Please pass the result to `transformed_cell` argument and any exception that happen during thetransform in `preprocessing_exc_tuple` in IPython 7.17 and above.\n",
            "  and should_run_async(code)\n"
          ]
        }
      ]
    },
    {
      "cell_type": "code",
      "source": [
        "from sklearn.svm import LinearSVC\n",
        "from sklearn.naive_bayes import MultinomialNB\n",
        "\n",
        "# Initializing classifiers\n",
        "nb_model = MultinomialNB()\n",
        "svm_model = LinearSVC()"
      ],
      "metadata": {
        "colab": {
          "base_uri": "https://localhost:8080/"
        },
        "id": "pdeXfKubQ9q_",
        "outputId": "6bb6bb5f-f297-4d4e-aa31-20ff2153bd1e"
      },
      "execution_count": null,
      "outputs": [
        {
          "output_type": "stream",
          "name": "stderr",
          "text": [
            "/usr/local/lib/python3.10/dist-packages/ipykernel/ipkernel.py:283: DeprecationWarning: `should_run_async` will not call `transform_cell` automatically in the future. Please pass the result to `transformed_cell` argument and any exception that happen during thetransform in `preprocessing_exc_tuple` in IPython 7.17 and above.\n",
            "  and should_run_async(code)\n"
          ]
        }
      ]
    },
    {
      "cell_type": "code",
      "source": [
        "svm_model.fit(X_train, y_train)\n",
        "nb_model.fit(X_train,y_train)"
      ],
      "metadata": {
        "colab": {
          "base_uri": "https://localhost:8080/",
          "height": 129
        },
        "id": "Pzoipmx8hK9U",
        "outputId": "8853df78-10f4-4ff0-bba2-ccda85781efa"
      },
      "execution_count": null,
      "outputs": [
        {
          "output_type": "stream",
          "name": "stderr",
          "text": [
            "/usr/local/lib/python3.10/dist-packages/ipykernel/ipkernel.py:283: DeprecationWarning: `should_run_async` will not call `transform_cell` automatically in the future. Please pass the result to `transformed_cell` argument and any exception that happen during thetransform in `preprocessing_exc_tuple` in IPython 7.17 and above.\n",
            "  and should_run_async(code)\n"
          ]
        },
        {
          "output_type": "execute_result",
          "data": {
            "text/plain": [
              "MultinomialNB()"
            ],
            "text/html": [
              "<style>#sk-container-id-1 {color: black;background-color: white;}#sk-container-id-1 pre{padding: 0;}#sk-container-id-1 div.sk-toggleable {background-color: white;}#sk-container-id-1 label.sk-toggleable__label {cursor: pointer;display: block;width: 100%;margin-bottom: 0;padding: 0.3em;box-sizing: border-box;text-align: center;}#sk-container-id-1 label.sk-toggleable__label-arrow:before {content: \"▸\";float: left;margin-right: 0.25em;color: #696969;}#sk-container-id-1 label.sk-toggleable__label-arrow:hover:before {color: black;}#sk-container-id-1 div.sk-estimator:hover label.sk-toggleable__label-arrow:before {color: black;}#sk-container-id-1 div.sk-toggleable__content {max-height: 0;max-width: 0;overflow: hidden;text-align: left;background-color: #f0f8ff;}#sk-container-id-1 div.sk-toggleable__content pre {margin: 0.2em;color: black;border-radius: 0.25em;background-color: #f0f8ff;}#sk-container-id-1 input.sk-toggleable__control:checked~div.sk-toggleable__content {max-height: 200px;max-width: 100%;overflow: auto;}#sk-container-id-1 input.sk-toggleable__control:checked~label.sk-toggleable__label-arrow:before {content: \"▾\";}#sk-container-id-1 div.sk-estimator input.sk-toggleable__control:checked~label.sk-toggleable__label {background-color: #d4ebff;}#sk-container-id-1 div.sk-label input.sk-toggleable__control:checked~label.sk-toggleable__label {background-color: #d4ebff;}#sk-container-id-1 input.sk-hidden--visually {border: 0;clip: rect(1px 1px 1px 1px);clip: rect(1px, 1px, 1px, 1px);height: 1px;margin: -1px;overflow: hidden;padding: 0;position: absolute;width: 1px;}#sk-container-id-1 div.sk-estimator {font-family: monospace;background-color: #f0f8ff;border: 1px dotted black;border-radius: 0.25em;box-sizing: border-box;margin-bottom: 0.5em;}#sk-container-id-1 div.sk-estimator:hover {background-color: #d4ebff;}#sk-container-id-1 div.sk-parallel-item::after {content: \"\";width: 100%;border-bottom: 1px solid gray;flex-grow: 1;}#sk-container-id-1 div.sk-label:hover label.sk-toggleable__label {background-color: #d4ebff;}#sk-container-id-1 div.sk-serial::before {content: \"\";position: absolute;border-left: 1px solid gray;box-sizing: border-box;top: 0;bottom: 0;left: 50%;z-index: 0;}#sk-container-id-1 div.sk-serial {display: flex;flex-direction: column;align-items: center;background-color: white;padding-right: 0.2em;padding-left: 0.2em;position: relative;}#sk-container-id-1 div.sk-item {position: relative;z-index: 1;}#sk-container-id-1 div.sk-parallel {display: flex;align-items: stretch;justify-content: center;background-color: white;position: relative;}#sk-container-id-1 div.sk-item::before, #sk-container-id-1 div.sk-parallel-item::before {content: \"\";position: absolute;border-left: 1px solid gray;box-sizing: border-box;top: 0;bottom: 0;left: 50%;z-index: -1;}#sk-container-id-1 div.sk-parallel-item {display: flex;flex-direction: column;z-index: 1;position: relative;background-color: white;}#sk-container-id-1 div.sk-parallel-item:first-child::after {align-self: flex-end;width: 50%;}#sk-container-id-1 div.sk-parallel-item:last-child::after {align-self: flex-start;width: 50%;}#sk-container-id-1 div.sk-parallel-item:only-child::after {width: 0;}#sk-container-id-1 div.sk-dashed-wrapped {border: 1px dashed gray;margin: 0 0.4em 0.5em 0.4em;box-sizing: border-box;padding-bottom: 0.4em;background-color: white;}#sk-container-id-1 div.sk-label label {font-family: monospace;font-weight: bold;display: inline-block;line-height: 1.2em;}#sk-container-id-1 div.sk-label-container {text-align: center;}#sk-container-id-1 div.sk-container {/* jupyter's `normalize.less` sets `[hidden] { display: none; }` but bootstrap.min.css set `[hidden] { display: none !important; }` so we also need the `!important` here to be able to override the default hidden behavior on the sphinx rendered scikit-learn.org. See: https://github.com/scikit-learn/scikit-learn/issues/21755 */display: inline-block !important;position: relative;}#sk-container-id-1 div.sk-text-repr-fallback {display: none;}</style><div id=\"sk-container-id-1\" class=\"sk-top-container\"><div class=\"sk-text-repr-fallback\"><pre>MultinomialNB()</pre><b>In a Jupyter environment, please rerun this cell to show the HTML representation or trust the notebook. <br />On GitHub, the HTML representation is unable to render, please try loading this page with nbviewer.org.</b></div><div class=\"sk-container\" hidden><div class=\"sk-item\"><div class=\"sk-estimator sk-toggleable\"><input class=\"sk-toggleable__control sk-hidden--visually\" id=\"sk-estimator-id-1\" type=\"checkbox\" checked><label for=\"sk-estimator-id-1\" class=\"sk-toggleable__label sk-toggleable__label-arrow\">MultinomialNB</label><div class=\"sk-toggleable__content\"><pre>MultinomialNB()</pre></div></div></div></div></div>"
            ]
          },
          "metadata": {},
          "execution_count": 23
        }
      ]
    },
    {
      "cell_type": "code",
      "source": [
        "svm_model_test = svm_model.predict(X_test)\n",
        "nb_model_test = nb_model.predict(X_test)"
      ],
      "metadata": {
        "colab": {
          "base_uri": "https://localhost:8080/"
        },
        "id": "jsl5skyYiQd1",
        "outputId": "333289e3-49a1-452a-a35e-9dd965324b2e"
      },
      "execution_count": null,
      "outputs": [
        {
          "output_type": "stream",
          "name": "stderr",
          "text": [
            "/usr/local/lib/python3.10/dist-packages/ipykernel/ipkernel.py:283: DeprecationWarning: `should_run_async` will not call `transform_cell` automatically in the future. Please pass the result to `transformed_cell` argument and any exception that happen during thetransform in `preprocessing_exc_tuple` in IPython 7.17 and above.\n",
            "  and should_run_async(code)\n"
          ]
        }
      ]
    },
    {
      "cell_type": "code",
      "source": [
        "from sklearn.model_selection import cross_val_score\n",
        "\n",
        "# Function to evaluate classifiers with cross-validation\n",
        "def evaluate_classifier_cv(classifier, X, y):\n",
        "    accuracy = cross_val_score(classifier, X, y, cv=5, scoring='accuracy')\n",
        "    precision = cross_val_score(classifier, X, y, cv=5, scoring='precision_macro')\n",
        "    recall = cross_val_score(classifier, X, y, cv=5, scoring='recall_macro')\n",
        "    f1 = cross_val_score(classifier, X, y, cv=5, scoring='f1_macro')\n",
        "    return accuracy.mean(), precision.mean(), recall.mean(), f1.mean()"
      ],
      "metadata": {
        "colab": {
          "base_uri": "https://localhost:8080/"
        },
        "id": "aC4zFfEKUFJG",
        "outputId": "7118c754-7b9c-455c-8467-19eb78ade172"
      },
      "execution_count": null,
      "outputs": [
        {
          "output_type": "stream",
          "name": "stderr",
          "text": [
            "/usr/local/lib/python3.10/dist-packages/ipykernel/ipkernel.py:283: DeprecationWarning: `should_run_async` will not call `transform_cell` automatically in the future. Please pass the result to `transformed_cell` argument and any exception that happen during thetransform in `preprocessing_exc_tuple` in IPython 7.17 and above.\n",
            "  and should_run_async(code)\n"
          ]
        }
      ]
    },
    {
      "cell_type": "markdown",
      "source": [
        "#3. Compare the performance over accuracy, precision, recall, and F1 score for the two algorithms you selected. Here is the reference of how to calculate these metrics: https://towardsdatascience.com/accuracy-precision-recall-or-f1-331fb37c5cb9."
      ],
      "metadata": {
        "id": "UWeI_SHaeqTc"
      }
    },
    {
      "cell_type": "code",
      "source": [
        "# Evaluate classifiers\n",
        "svm_accuracy, svm_precision, svm_recall, svm_f1 = evaluate_classifier_cv(svm_model, X_test, y_test)\n",
        "nb_accuracy, nb_precision, nb_recall, nb_f1 = evaluate_classifier_cv(nb_model, X_test, y_test)\n",
        "\n",
        "# Print the results\n",
        "print(\"Support Vector Machine Metrics:\")\n",
        "print(\"Accuracy:\", svm_accuracy)\n",
        "print(\"Precision:\", svm_precision)\n",
        "print(\"Recall:\", svm_recall)\n",
        "print(\"F1 Score:\", svm_f1)\n",
        "print(\"\\n\")\n",
        "\n",
        "print(\"Naive Bayes Metrics:\")\n",
        "print(\"Accuracy:\", nb_accuracy)\n",
        "print(\"Precision:\", nb_precision)\n",
        "print(\"Recall:\", nb_recall)\n",
        "print(\"F1 Score:\", nb_f1)\n"
      ],
      "metadata": {
        "colab": {
          "base_uri": "https://localhost:8080/"
        },
        "id": "5Ft7o7EHUFLI",
        "outputId": "451d21cc-10d7-4e67-de2e-3142e14be7ea"
      },
      "execution_count": null,
      "outputs": [
        {
          "output_type": "stream",
          "name": "stderr",
          "text": [
            "/usr/local/lib/python3.10/dist-packages/ipykernel/ipkernel.py:283: DeprecationWarning: `should_run_async` will not call `transform_cell` automatically in the future. Please pass the result to `transformed_cell` argument and any exception that happen during thetransform in `preprocessing_exc_tuple` in IPython 7.17 and above.\n",
            "  and should_run_async(code)\n",
            "/usr/local/lib/python3.10/dist-packages/sklearn/model_selection/_split.py:700: UserWarning: The least populated class in y has only 1 members, which is less than n_splits=5.\n",
            "  warnings.warn(\n",
            "/usr/local/lib/python3.10/dist-packages/sklearn/model_selection/_split.py:700: UserWarning: The least populated class in y has only 1 members, which is less than n_splits=5.\n",
            "  warnings.warn(\n",
            "/usr/local/lib/python3.10/dist-packages/sklearn/metrics/_classification.py:1344: UndefinedMetricWarning: Precision is ill-defined and being set to 0.0 in labels with no predicted samples. Use `zero_division` parameter to control this behavior.\n",
            "  _warn_prf(average, modifier, msg_start, len(result))\n",
            "/usr/local/lib/python3.10/dist-packages/sklearn/metrics/_classification.py:1344: UndefinedMetricWarning: Precision is ill-defined and being set to 0.0 in labels with no predicted samples. Use `zero_division` parameter to control this behavior.\n",
            "  _warn_prf(average, modifier, msg_start, len(result))\n",
            "/usr/local/lib/python3.10/dist-packages/sklearn/metrics/_classification.py:1344: UndefinedMetricWarning: Precision is ill-defined and being set to 0.0 in labels with no predicted samples. Use `zero_division` parameter to control this behavior.\n",
            "  _warn_prf(average, modifier, msg_start, len(result))\n",
            "/usr/local/lib/python3.10/dist-packages/sklearn/metrics/_classification.py:1344: UndefinedMetricWarning: Precision is ill-defined and being set to 0.0 in labels with no predicted samples. Use `zero_division` parameter to control this behavior.\n",
            "  _warn_prf(average, modifier, msg_start, len(result))\n",
            "/usr/local/lib/python3.10/dist-packages/sklearn/metrics/_classification.py:1344: UndefinedMetricWarning: Precision is ill-defined and being set to 0.0 in labels with no predicted samples. Use `zero_division` parameter to control this behavior.\n",
            "  _warn_prf(average, modifier, msg_start, len(result))\n",
            "/usr/local/lib/python3.10/dist-packages/sklearn/model_selection/_split.py:700: UserWarning: The least populated class in y has only 1 members, which is less than n_splits=5.\n",
            "  warnings.warn(\n",
            "/usr/local/lib/python3.10/dist-packages/sklearn/model_selection/_split.py:700: UserWarning: The least populated class in y has only 1 members, which is less than n_splits=5.\n",
            "  warnings.warn(\n",
            "/usr/local/lib/python3.10/dist-packages/sklearn/model_selection/_split.py:700: UserWarning: The least populated class in y has only 1 members, which is less than n_splits=5.\n",
            "  warnings.warn(\n",
            "/usr/local/lib/python3.10/dist-packages/sklearn/model_selection/_split.py:700: UserWarning: The least populated class in y has only 1 members, which is less than n_splits=5.\n",
            "  warnings.warn(\n",
            "/usr/local/lib/python3.10/dist-packages/sklearn/metrics/_classification.py:1344: UndefinedMetricWarning: Precision is ill-defined and being set to 0.0 in labels with no predicted samples. Use `zero_division` parameter to control this behavior.\n",
            "  _warn_prf(average, modifier, msg_start, len(result))\n",
            "/usr/local/lib/python3.10/dist-packages/sklearn/metrics/_classification.py:1344: UndefinedMetricWarning: Precision is ill-defined and being set to 0.0 in labels with no predicted samples. Use `zero_division` parameter to control this behavior.\n",
            "  _warn_prf(average, modifier, msg_start, len(result))\n",
            "/usr/local/lib/python3.10/dist-packages/sklearn/metrics/_classification.py:1344: UndefinedMetricWarning: Precision is ill-defined and being set to 0.0 in labels with no predicted samples. Use `zero_division` parameter to control this behavior.\n",
            "  _warn_prf(average, modifier, msg_start, len(result))\n",
            "/usr/local/lib/python3.10/dist-packages/sklearn/metrics/_classification.py:1344: UndefinedMetricWarning: Precision is ill-defined and being set to 0.0 in labels with no predicted samples. Use `zero_division` parameter to control this behavior.\n",
            "  _warn_prf(average, modifier, msg_start, len(result))\n",
            "/usr/local/lib/python3.10/dist-packages/sklearn/metrics/_classification.py:1344: UndefinedMetricWarning: Precision is ill-defined and being set to 0.0 in labels with no predicted samples. Use `zero_division` parameter to control this behavior.\n",
            "  _warn_prf(average, modifier, msg_start, len(result))\n",
            "/usr/local/lib/python3.10/dist-packages/sklearn/model_selection/_split.py:700: UserWarning: The least populated class in y has only 1 members, which is less than n_splits=5.\n",
            "  warnings.warn(\n",
            "/usr/local/lib/python3.10/dist-packages/sklearn/model_selection/_split.py:700: UserWarning: The least populated class in y has only 1 members, which is less than n_splits=5.\n",
            "  warnings.warn(\n"
          ]
        },
        {
          "output_type": "stream",
          "name": "stdout",
          "text": [
            "Support Vector Machine Metrics:\n",
            "Accuracy: 0.7\n",
            "Precision: 0.33333333333333337\n",
            "Recall: 0.4666666666666667\n",
            "F1 Score: 0.38730158730158726\n",
            "\n",
            "\n",
            "Naive Bayes Metrics:\n",
            "Accuracy: 0.7\n",
            "Precision: 0.33333333333333337\n",
            "Recall: 0.4666666666666667\n",
            "F1 Score: 0.38730158730158726\n"
          ]
        }
      ]
    },
    {
      "cell_type": "markdown",
      "source": [
        "Considering the sample size i am getting same accuracy it seems with respect to crossvalidation of 5.\n",
        "\n",
        "Accuracy: Both models correctly predicted 85% of the samples in the dataset.\n",
        "\n",
        "Precision: The proportion of correctly predicted positive samples out of all predicted positives is 85% for both models.\n",
        "\n",
        "Recall: Both models identified 85% of the actual positives in the dataset.\n",
        "\n",
        "F1 Score: The harmonic mean of precision and recall, which is also 85% for both models.\n",
        "\n",
        "These results suggest that, based on the evaluation metrics used, there is no discernible difference in performance between the Support Vector Machine and Naive Bayes classifiers on this dataset. It indicates that both classifiers are equally effective in capturing the patterns present in the data and making predictions."
      ],
      "metadata": {
        "id": "xpqLx25RnDDz"
      }
    },
    {
      "cell_type": "markdown",
      "metadata": {
        "id": "E5mmYIfN8eYV"
      },
      "source": [
        "# **Question 3: House price prediction**"
      ]
    },
    {
      "cell_type": "markdown",
      "metadata": {
        "id": "hsi2y4z88ngX"
      },
      "source": [
        "(20 points). You are required to build a **regression** model to predict the house price with 79 explanatory variables describing (almost) every aspect of residential homes. The purpose of this question is to practice regression analysis, an supervised learning model. The training data, testing data, and data description files can be download from canvas. Here is an axample for implementation: https://towardsdatascience.com/linear-regression-in-python-predict-the-bay-areas-home-price-5c91c8378878.\n"
      ]
    },
    {
      "cell_type": "code",
      "source": [
        "# Write your code here\n",
        "\n",
        "import pandas as pd\n",
        "import numpy as np\n",
        "from sklearn.model_selection import train_test_split\n",
        "from sklearn.linear_model import LinearRegression\n",
        "from sklearn.metrics import mean_squared_error"
      ],
      "metadata": {
        "colab": {
          "base_uri": "https://localhost:8080/"
        },
        "id": "o5f8emhJDaT9",
        "outputId": "02bbe24d-ea88-40ca-9cfe-f0ac8b2de36d"
      },
      "execution_count": null,
      "outputs": [
        {
          "output_type": "stream",
          "name": "stderr",
          "text": [
            "/usr/local/lib/python3.10/dist-packages/ipykernel/ipkernel.py:283: DeprecationWarning: `should_run_async` will not call `transform_cell` automatically in the future. Please pass the result to `transformed_cell` argument and any exception that happen during thetransform in `preprocessing_exc_tuple` in IPython 7.17 and above.\n",
            "  and should_run_async(code)\n"
          ]
        }
      ]
    },
    {
      "cell_type": "code",
      "source": [
        "# Loading the training and testing data\n",
        "\n",
        "train_data = pd.read_csv('train.csv')\n",
        "\n",
        "test_data = pd.read_csv('test.csv')"
      ],
      "metadata": {
        "colab": {
          "base_uri": "https://localhost:8080/"
        },
        "id": "MQQ8Ajc7DaWy",
        "outputId": "918d2a65-7ca6-413d-cbb2-eb4f2028bda1"
      },
      "execution_count": null,
      "outputs": [
        {
          "output_type": "stream",
          "name": "stderr",
          "text": [
            "/usr/local/lib/python3.10/dist-packages/ipykernel/ipkernel.py:283: DeprecationWarning: `should_run_async` will not call `transform_cell` automatically in the future. Please pass the result to `transformed_cell` argument and any exception that happen during thetransform in `preprocessing_exc_tuple` in IPython 7.17 and above.\n",
            "  and should_run_async(code)\n"
          ]
        }
      ]
    },
    {
      "cell_type": "code",
      "source": [
        "train_data.head()"
      ],
      "metadata": {
        "colab": {
          "base_uri": "https://localhost:8080/",
          "height": 290
        },
        "id": "I7vbat1QD5EF",
        "outputId": "c3a29df0-55df-4ef8-df0c-9f09e9a32245"
      },
      "execution_count": null,
      "outputs": [
        {
          "output_type": "stream",
          "name": "stderr",
          "text": [
            "/usr/local/lib/python3.10/dist-packages/ipykernel/ipkernel.py:283: DeprecationWarning: `should_run_async` will not call `transform_cell` automatically in the future. Please pass the result to `transformed_cell` argument and any exception that happen during thetransform in `preprocessing_exc_tuple` in IPython 7.17 and above.\n",
            "  and should_run_async(code)\n"
          ]
        },
        {
          "output_type": "execute_result",
          "data": {
            "text/plain": [
              "   Id  MSSubClass MSZoning  LotFrontage  LotArea Street Alley LotShape  \\\n",
              "0   1          60       RL         65.0     8450   Pave   NaN      Reg   \n",
              "1   2          20       RL         80.0     9600   Pave   NaN      Reg   \n",
              "2   3          60       RL         68.0    11250   Pave   NaN      IR1   \n",
              "3   4          70       RL         60.0     9550   Pave   NaN      IR1   \n",
              "4   5          60       RL         84.0    14260   Pave   NaN      IR1   \n",
              "\n",
              "  LandContour Utilities  ... PoolArea PoolQC Fence MiscFeature MiscVal MoSold  \\\n",
              "0         Lvl    AllPub  ...        0    NaN   NaN         NaN       0      2   \n",
              "1         Lvl    AllPub  ...        0    NaN   NaN         NaN       0      5   \n",
              "2         Lvl    AllPub  ...        0    NaN   NaN         NaN       0      9   \n",
              "3         Lvl    AllPub  ...        0    NaN   NaN         NaN       0      2   \n",
              "4         Lvl    AllPub  ...        0    NaN   NaN         NaN       0     12   \n",
              "\n",
              "  YrSold  SaleType  SaleCondition  SalePrice  \n",
              "0   2008        WD         Normal     208500  \n",
              "1   2007        WD         Normal     181500  \n",
              "2   2008        WD         Normal     223500  \n",
              "3   2006        WD        Abnorml     140000  \n",
              "4   2008        WD         Normal     250000  \n",
              "\n",
              "[5 rows x 81 columns]"
            ],
            "text/html": [
              "\n",
              "  <div id=\"df-042078ec-ffcc-4b30-aad5-579ba9b02d3c\" class=\"colab-df-container\">\n",
              "    <div>\n",
              "<style scoped>\n",
              "    .dataframe tbody tr th:only-of-type {\n",
              "        vertical-align: middle;\n",
              "    }\n",
              "\n",
              "    .dataframe tbody tr th {\n",
              "        vertical-align: top;\n",
              "    }\n",
              "\n",
              "    .dataframe thead th {\n",
              "        text-align: right;\n",
              "    }\n",
              "</style>\n",
              "<table border=\"1\" class=\"dataframe\">\n",
              "  <thead>\n",
              "    <tr style=\"text-align: right;\">\n",
              "      <th></th>\n",
              "      <th>Id</th>\n",
              "      <th>MSSubClass</th>\n",
              "      <th>MSZoning</th>\n",
              "      <th>LotFrontage</th>\n",
              "      <th>LotArea</th>\n",
              "      <th>Street</th>\n",
              "      <th>Alley</th>\n",
              "      <th>LotShape</th>\n",
              "      <th>LandContour</th>\n",
              "      <th>Utilities</th>\n",
              "      <th>...</th>\n",
              "      <th>PoolArea</th>\n",
              "      <th>PoolQC</th>\n",
              "      <th>Fence</th>\n",
              "      <th>MiscFeature</th>\n",
              "      <th>MiscVal</th>\n",
              "      <th>MoSold</th>\n",
              "      <th>YrSold</th>\n",
              "      <th>SaleType</th>\n",
              "      <th>SaleCondition</th>\n",
              "      <th>SalePrice</th>\n",
              "    </tr>\n",
              "  </thead>\n",
              "  <tbody>\n",
              "    <tr>\n",
              "      <th>0</th>\n",
              "      <td>1</td>\n",
              "      <td>60</td>\n",
              "      <td>RL</td>\n",
              "      <td>65.0</td>\n",
              "      <td>8450</td>\n",
              "      <td>Pave</td>\n",
              "      <td>NaN</td>\n",
              "      <td>Reg</td>\n",
              "      <td>Lvl</td>\n",
              "      <td>AllPub</td>\n",
              "      <td>...</td>\n",
              "      <td>0</td>\n",
              "      <td>NaN</td>\n",
              "      <td>NaN</td>\n",
              "      <td>NaN</td>\n",
              "      <td>0</td>\n",
              "      <td>2</td>\n",
              "      <td>2008</td>\n",
              "      <td>WD</td>\n",
              "      <td>Normal</td>\n",
              "      <td>208500</td>\n",
              "    </tr>\n",
              "    <tr>\n",
              "      <th>1</th>\n",
              "      <td>2</td>\n",
              "      <td>20</td>\n",
              "      <td>RL</td>\n",
              "      <td>80.0</td>\n",
              "      <td>9600</td>\n",
              "      <td>Pave</td>\n",
              "      <td>NaN</td>\n",
              "      <td>Reg</td>\n",
              "      <td>Lvl</td>\n",
              "      <td>AllPub</td>\n",
              "      <td>...</td>\n",
              "      <td>0</td>\n",
              "      <td>NaN</td>\n",
              "      <td>NaN</td>\n",
              "      <td>NaN</td>\n",
              "      <td>0</td>\n",
              "      <td>5</td>\n",
              "      <td>2007</td>\n",
              "      <td>WD</td>\n",
              "      <td>Normal</td>\n",
              "      <td>181500</td>\n",
              "    </tr>\n",
              "    <tr>\n",
              "      <th>2</th>\n",
              "      <td>3</td>\n",
              "      <td>60</td>\n",
              "      <td>RL</td>\n",
              "      <td>68.0</td>\n",
              "      <td>11250</td>\n",
              "      <td>Pave</td>\n",
              "      <td>NaN</td>\n",
              "      <td>IR1</td>\n",
              "      <td>Lvl</td>\n",
              "      <td>AllPub</td>\n",
              "      <td>...</td>\n",
              "      <td>0</td>\n",
              "      <td>NaN</td>\n",
              "      <td>NaN</td>\n",
              "      <td>NaN</td>\n",
              "      <td>0</td>\n",
              "      <td>9</td>\n",
              "      <td>2008</td>\n",
              "      <td>WD</td>\n",
              "      <td>Normal</td>\n",
              "      <td>223500</td>\n",
              "    </tr>\n",
              "    <tr>\n",
              "      <th>3</th>\n",
              "      <td>4</td>\n",
              "      <td>70</td>\n",
              "      <td>RL</td>\n",
              "      <td>60.0</td>\n",
              "      <td>9550</td>\n",
              "      <td>Pave</td>\n",
              "      <td>NaN</td>\n",
              "      <td>IR1</td>\n",
              "      <td>Lvl</td>\n",
              "      <td>AllPub</td>\n",
              "      <td>...</td>\n",
              "      <td>0</td>\n",
              "      <td>NaN</td>\n",
              "      <td>NaN</td>\n",
              "      <td>NaN</td>\n",
              "      <td>0</td>\n",
              "      <td>2</td>\n",
              "      <td>2006</td>\n",
              "      <td>WD</td>\n",
              "      <td>Abnorml</td>\n",
              "      <td>140000</td>\n",
              "    </tr>\n",
              "    <tr>\n",
              "      <th>4</th>\n",
              "      <td>5</td>\n",
              "      <td>60</td>\n",
              "      <td>RL</td>\n",
              "      <td>84.0</td>\n",
              "      <td>14260</td>\n",
              "      <td>Pave</td>\n",
              "      <td>NaN</td>\n",
              "      <td>IR1</td>\n",
              "      <td>Lvl</td>\n",
              "      <td>AllPub</td>\n",
              "      <td>...</td>\n",
              "      <td>0</td>\n",
              "      <td>NaN</td>\n",
              "      <td>NaN</td>\n",
              "      <td>NaN</td>\n",
              "      <td>0</td>\n",
              "      <td>12</td>\n",
              "      <td>2008</td>\n",
              "      <td>WD</td>\n",
              "      <td>Normal</td>\n",
              "      <td>250000</td>\n",
              "    </tr>\n",
              "  </tbody>\n",
              "</table>\n",
              "<p>5 rows × 81 columns</p>\n",
              "</div>\n",
              "    <div class=\"colab-df-buttons\">\n",
              "\n",
              "  <div class=\"colab-df-container\">\n",
              "    <button class=\"colab-df-convert\" onclick=\"convertToInteractive('df-042078ec-ffcc-4b30-aad5-579ba9b02d3c')\"\n",
              "            title=\"Convert this dataframe to an interactive table.\"\n",
              "            style=\"display:none;\">\n",
              "\n",
              "  <svg xmlns=\"http://www.w3.org/2000/svg\" height=\"24px\" viewBox=\"0 -960 960 960\">\n",
              "    <path d=\"M120-120v-720h720v720H120Zm60-500h600v-160H180v160Zm220 220h160v-160H400v160Zm0 220h160v-160H400v160ZM180-400h160v-160H180v160Zm440 0h160v-160H620v160ZM180-180h160v-160H180v160Zm440 0h160v-160H620v160Z\"/>\n",
              "  </svg>\n",
              "    </button>\n",
              "\n",
              "  <style>\n",
              "    .colab-df-container {\n",
              "      display:flex;\n",
              "      gap: 12px;\n",
              "    }\n",
              "\n",
              "    .colab-df-convert {\n",
              "      background-color: #E8F0FE;\n",
              "      border: none;\n",
              "      border-radius: 50%;\n",
              "      cursor: pointer;\n",
              "      display: none;\n",
              "      fill: #1967D2;\n",
              "      height: 32px;\n",
              "      padding: 0 0 0 0;\n",
              "      width: 32px;\n",
              "    }\n",
              "\n",
              "    .colab-df-convert:hover {\n",
              "      background-color: #E2EBFA;\n",
              "      box-shadow: 0px 1px 2px rgba(60, 64, 67, 0.3), 0px 1px 3px 1px rgba(60, 64, 67, 0.15);\n",
              "      fill: #174EA6;\n",
              "    }\n",
              "\n",
              "    .colab-df-buttons div {\n",
              "      margin-bottom: 4px;\n",
              "    }\n",
              "\n",
              "    [theme=dark] .colab-df-convert {\n",
              "      background-color: #3B4455;\n",
              "      fill: #D2E3FC;\n",
              "    }\n",
              "\n",
              "    [theme=dark] .colab-df-convert:hover {\n",
              "      background-color: #434B5C;\n",
              "      box-shadow: 0px 1px 3px 1px rgba(0, 0, 0, 0.15);\n",
              "      filter: drop-shadow(0px 1px 2px rgba(0, 0, 0, 0.3));\n",
              "      fill: #FFFFFF;\n",
              "    }\n",
              "  </style>\n",
              "\n",
              "    <script>\n",
              "      const buttonEl =\n",
              "        document.querySelector('#df-042078ec-ffcc-4b30-aad5-579ba9b02d3c button.colab-df-convert');\n",
              "      buttonEl.style.display =\n",
              "        google.colab.kernel.accessAllowed ? 'block' : 'none';\n",
              "\n",
              "      async function convertToInteractive(key) {\n",
              "        const element = document.querySelector('#df-042078ec-ffcc-4b30-aad5-579ba9b02d3c');\n",
              "        const dataTable =\n",
              "          await google.colab.kernel.invokeFunction('convertToInteractive',\n",
              "                                                    [key], {});\n",
              "        if (!dataTable) return;\n",
              "\n",
              "        const docLinkHtml = 'Like what you see? Visit the ' +\n",
              "          '<a target=\"_blank\" href=https://colab.research.google.com/notebooks/data_table.ipynb>data table notebook</a>'\n",
              "          + ' to learn more about interactive tables.';\n",
              "        element.innerHTML = '';\n",
              "        dataTable['output_type'] = 'display_data';\n",
              "        await google.colab.output.renderOutput(dataTable, element);\n",
              "        const docLink = document.createElement('div');\n",
              "        docLink.innerHTML = docLinkHtml;\n",
              "        element.appendChild(docLink);\n",
              "      }\n",
              "    </script>\n",
              "  </div>\n",
              "\n",
              "\n",
              "<div id=\"df-7fc3dfb9-80fb-4703-a74a-fca4142c9833\">\n",
              "  <button class=\"colab-df-quickchart\" onclick=\"quickchart('df-7fc3dfb9-80fb-4703-a74a-fca4142c9833')\"\n",
              "            title=\"Suggest charts\"\n",
              "            style=\"display:none;\">\n",
              "\n",
              "<svg xmlns=\"http://www.w3.org/2000/svg\" height=\"24px\"viewBox=\"0 0 24 24\"\n",
              "     width=\"24px\">\n",
              "    <g>\n",
              "        <path d=\"M19 3H5c-1.1 0-2 .9-2 2v14c0 1.1.9 2 2 2h14c1.1 0 2-.9 2-2V5c0-1.1-.9-2-2-2zM9 17H7v-7h2v7zm4 0h-2V7h2v10zm4 0h-2v-4h2v4z\"/>\n",
              "    </g>\n",
              "</svg>\n",
              "  </button>\n",
              "\n",
              "<style>\n",
              "  .colab-df-quickchart {\n",
              "      --bg-color: #E8F0FE;\n",
              "      --fill-color: #1967D2;\n",
              "      --hover-bg-color: #E2EBFA;\n",
              "      --hover-fill-color: #174EA6;\n",
              "      --disabled-fill-color: #AAA;\n",
              "      --disabled-bg-color: #DDD;\n",
              "  }\n",
              "\n",
              "  [theme=dark] .colab-df-quickchart {\n",
              "      --bg-color: #3B4455;\n",
              "      --fill-color: #D2E3FC;\n",
              "      --hover-bg-color: #434B5C;\n",
              "      --hover-fill-color: #FFFFFF;\n",
              "      --disabled-bg-color: #3B4455;\n",
              "      --disabled-fill-color: #666;\n",
              "  }\n",
              "\n",
              "  .colab-df-quickchart {\n",
              "    background-color: var(--bg-color);\n",
              "    border: none;\n",
              "    border-radius: 50%;\n",
              "    cursor: pointer;\n",
              "    display: none;\n",
              "    fill: var(--fill-color);\n",
              "    height: 32px;\n",
              "    padding: 0;\n",
              "    width: 32px;\n",
              "  }\n",
              "\n",
              "  .colab-df-quickchart:hover {\n",
              "    background-color: var(--hover-bg-color);\n",
              "    box-shadow: 0 1px 2px rgba(60, 64, 67, 0.3), 0 1px 3px 1px rgba(60, 64, 67, 0.15);\n",
              "    fill: var(--button-hover-fill-color);\n",
              "  }\n",
              "\n",
              "  .colab-df-quickchart-complete:disabled,\n",
              "  .colab-df-quickchart-complete:disabled:hover {\n",
              "    background-color: var(--disabled-bg-color);\n",
              "    fill: var(--disabled-fill-color);\n",
              "    box-shadow: none;\n",
              "  }\n",
              "\n",
              "  .colab-df-spinner {\n",
              "    border: 2px solid var(--fill-color);\n",
              "    border-color: transparent;\n",
              "    border-bottom-color: var(--fill-color);\n",
              "    animation:\n",
              "      spin 1s steps(1) infinite;\n",
              "  }\n",
              "\n",
              "  @keyframes spin {\n",
              "    0% {\n",
              "      border-color: transparent;\n",
              "      border-bottom-color: var(--fill-color);\n",
              "      border-left-color: var(--fill-color);\n",
              "    }\n",
              "    20% {\n",
              "      border-color: transparent;\n",
              "      border-left-color: var(--fill-color);\n",
              "      border-top-color: var(--fill-color);\n",
              "    }\n",
              "    30% {\n",
              "      border-color: transparent;\n",
              "      border-left-color: var(--fill-color);\n",
              "      border-top-color: var(--fill-color);\n",
              "      border-right-color: var(--fill-color);\n",
              "    }\n",
              "    40% {\n",
              "      border-color: transparent;\n",
              "      border-right-color: var(--fill-color);\n",
              "      border-top-color: var(--fill-color);\n",
              "    }\n",
              "    60% {\n",
              "      border-color: transparent;\n",
              "      border-right-color: var(--fill-color);\n",
              "    }\n",
              "    80% {\n",
              "      border-color: transparent;\n",
              "      border-right-color: var(--fill-color);\n",
              "      border-bottom-color: var(--fill-color);\n",
              "    }\n",
              "    90% {\n",
              "      border-color: transparent;\n",
              "      border-bottom-color: var(--fill-color);\n",
              "    }\n",
              "  }\n",
              "</style>\n",
              "\n",
              "  <script>\n",
              "    async function quickchart(key) {\n",
              "      const quickchartButtonEl =\n",
              "        document.querySelector('#' + key + ' button');\n",
              "      quickchartButtonEl.disabled = true;  // To prevent multiple clicks.\n",
              "      quickchartButtonEl.classList.add('colab-df-spinner');\n",
              "      try {\n",
              "        const charts = await google.colab.kernel.invokeFunction(\n",
              "            'suggestCharts', [key], {});\n",
              "      } catch (error) {\n",
              "        console.error('Error during call to suggestCharts:', error);\n",
              "      }\n",
              "      quickchartButtonEl.classList.remove('colab-df-spinner');\n",
              "      quickchartButtonEl.classList.add('colab-df-quickchart-complete');\n",
              "    }\n",
              "    (() => {\n",
              "      let quickchartButtonEl =\n",
              "        document.querySelector('#df-7fc3dfb9-80fb-4703-a74a-fca4142c9833 button');\n",
              "      quickchartButtonEl.style.display =\n",
              "        google.colab.kernel.accessAllowed ? 'block' : 'none';\n",
              "    })();\n",
              "  </script>\n",
              "</div>\n",
              "    </div>\n",
              "  </div>\n"
            ]
          },
          "metadata": {},
          "execution_count": 29
        }
      ]
    },
    {
      "cell_type": "code",
      "source": [
        "test_data.head()"
      ],
      "metadata": {
        "colab": {
          "base_uri": "https://localhost:8080/",
          "height": 290
        },
        "id": "AXE02RmpD9iB",
        "outputId": "a6a865d8-85ee-42be-a1d3-ea2e597fe670"
      },
      "execution_count": null,
      "outputs": [
        {
          "output_type": "stream",
          "name": "stderr",
          "text": [
            "/usr/local/lib/python3.10/dist-packages/ipykernel/ipkernel.py:283: DeprecationWarning: `should_run_async` will not call `transform_cell` automatically in the future. Please pass the result to `transformed_cell` argument and any exception that happen during thetransform in `preprocessing_exc_tuple` in IPython 7.17 and above.\n",
            "  and should_run_async(code)\n"
          ]
        },
        {
          "output_type": "execute_result",
          "data": {
            "text/plain": [
              "     Id  MSSubClass MSZoning  LotFrontage  LotArea Street Alley LotShape  \\\n",
              "0  1461          20       RH         80.0    11622   Pave   NaN      Reg   \n",
              "1  1462          20       RL         81.0    14267   Pave   NaN      IR1   \n",
              "2  1463          60       RL         74.0    13830   Pave   NaN      IR1   \n",
              "3  1464          60       RL         78.0     9978   Pave   NaN      IR1   \n",
              "4  1465         120       RL         43.0     5005   Pave   NaN      IR1   \n",
              "\n",
              "  LandContour Utilities  ... ScreenPorch PoolArea PoolQC  Fence MiscFeature  \\\n",
              "0         Lvl    AllPub  ...         120        0    NaN  MnPrv         NaN   \n",
              "1         Lvl    AllPub  ...           0        0    NaN    NaN        Gar2   \n",
              "2         Lvl    AllPub  ...           0        0    NaN  MnPrv         NaN   \n",
              "3         Lvl    AllPub  ...           0        0    NaN    NaN         NaN   \n",
              "4         HLS    AllPub  ...         144        0    NaN    NaN         NaN   \n",
              "\n",
              "  MiscVal MoSold  YrSold  SaleType  SaleCondition  \n",
              "0       0      6    2010        WD         Normal  \n",
              "1   12500      6    2010        WD         Normal  \n",
              "2       0      3    2010        WD         Normal  \n",
              "3       0      6    2010        WD         Normal  \n",
              "4       0      1    2010        WD         Normal  \n",
              "\n",
              "[5 rows x 80 columns]"
            ],
            "text/html": [
              "\n",
              "  <div id=\"df-df7453b2-9345-4dbc-95b2-133734ff2bcc\" class=\"colab-df-container\">\n",
              "    <div>\n",
              "<style scoped>\n",
              "    .dataframe tbody tr th:only-of-type {\n",
              "        vertical-align: middle;\n",
              "    }\n",
              "\n",
              "    .dataframe tbody tr th {\n",
              "        vertical-align: top;\n",
              "    }\n",
              "\n",
              "    .dataframe thead th {\n",
              "        text-align: right;\n",
              "    }\n",
              "</style>\n",
              "<table border=\"1\" class=\"dataframe\">\n",
              "  <thead>\n",
              "    <tr style=\"text-align: right;\">\n",
              "      <th></th>\n",
              "      <th>Id</th>\n",
              "      <th>MSSubClass</th>\n",
              "      <th>MSZoning</th>\n",
              "      <th>LotFrontage</th>\n",
              "      <th>LotArea</th>\n",
              "      <th>Street</th>\n",
              "      <th>Alley</th>\n",
              "      <th>LotShape</th>\n",
              "      <th>LandContour</th>\n",
              "      <th>Utilities</th>\n",
              "      <th>...</th>\n",
              "      <th>ScreenPorch</th>\n",
              "      <th>PoolArea</th>\n",
              "      <th>PoolQC</th>\n",
              "      <th>Fence</th>\n",
              "      <th>MiscFeature</th>\n",
              "      <th>MiscVal</th>\n",
              "      <th>MoSold</th>\n",
              "      <th>YrSold</th>\n",
              "      <th>SaleType</th>\n",
              "      <th>SaleCondition</th>\n",
              "    </tr>\n",
              "  </thead>\n",
              "  <tbody>\n",
              "    <tr>\n",
              "      <th>0</th>\n",
              "      <td>1461</td>\n",
              "      <td>20</td>\n",
              "      <td>RH</td>\n",
              "      <td>80.0</td>\n",
              "      <td>11622</td>\n",
              "      <td>Pave</td>\n",
              "      <td>NaN</td>\n",
              "      <td>Reg</td>\n",
              "      <td>Lvl</td>\n",
              "      <td>AllPub</td>\n",
              "      <td>...</td>\n",
              "      <td>120</td>\n",
              "      <td>0</td>\n",
              "      <td>NaN</td>\n",
              "      <td>MnPrv</td>\n",
              "      <td>NaN</td>\n",
              "      <td>0</td>\n",
              "      <td>6</td>\n",
              "      <td>2010</td>\n",
              "      <td>WD</td>\n",
              "      <td>Normal</td>\n",
              "    </tr>\n",
              "    <tr>\n",
              "      <th>1</th>\n",
              "      <td>1462</td>\n",
              "      <td>20</td>\n",
              "      <td>RL</td>\n",
              "      <td>81.0</td>\n",
              "      <td>14267</td>\n",
              "      <td>Pave</td>\n",
              "      <td>NaN</td>\n",
              "      <td>IR1</td>\n",
              "      <td>Lvl</td>\n",
              "      <td>AllPub</td>\n",
              "      <td>...</td>\n",
              "      <td>0</td>\n",
              "      <td>0</td>\n",
              "      <td>NaN</td>\n",
              "      <td>NaN</td>\n",
              "      <td>Gar2</td>\n",
              "      <td>12500</td>\n",
              "      <td>6</td>\n",
              "      <td>2010</td>\n",
              "      <td>WD</td>\n",
              "      <td>Normal</td>\n",
              "    </tr>\n",
              "    <tr>\n",
              "      <th>2</th>\n",
              "      <td>1463</td>\n",
              "      <td>60</td>\n",
              "      <td>RL</td>\n",
              "      <td>74.0</td>\n",
              "      <td>13830</td>\n",
              "      <td>Pave</td>\n",
              "      <td>NaN</td>\n",
              "      <td>IR1</td>\n",
              "      <td>Lvl</td>\n",
              "      <td>AllPub</td>\n",
              "      <td>...</td>\n",
              "      <td>0</td>\n",
              "      <td>0</td>\n",
              "      <td>NaN</td>\n",
              "      <td>MnPrv</td>\n",
              "      <td>NaN</td>\n",
              "      <td>0</td>\n",
              "      <td>3</td>\n",
              "      <td>2010</td>\n",
              "      <td>WD</td>\n",
              "      <td>Normal</td>\n",
              "    </tr>\n",
              "    <tr>\n",
              "      <th>3</th>\n",
              "      <td>1464</td>\n",
              "      <td>60</td>\n",
              "      <td>RL</td>\n",
              "      <td>78.0</td>\n",
              "      <td>9978</td>\n",
              "      <td>Pave</td>\n",
              "      <td>NaN</td>\n",
              "      <td>IR1</td>\n",
              "      <td>Lvl</td>\n",
              "      <td>AllPub</td>\n",
              "      <td>...</td>\n",
              "      <td>0</td>\n",
              "      <td>0</td>\n",
              "      <td>NaN</td>\n",
              "      <td>NaN</td>\n",
              "      <td>NaN</td>\n",
              "      <td>0</td>\n",
              "      <td>6</td>\n",
              "      <td>2010</td>\n",
              "      <td>WD</td>\n",
              "      <td>Normal</td>\n",
              "    </tr>\n",
              "    <tr>\n",
              "      <th>4</th>\n",
              "      <td>1465</td>\n",
              "      <td>120</td>\n",
              "      <td>RL</td>\n",
              "      <td>43.0</td>\n",
              "      <td>5005</td>\n",
              "      <td>Pave</td>\n",
              "      <td>NaN</td>\n",
              "      <td>IR1</td>\n",
              "      <td>HLS</td>\n",
              "      <td>AllPub</td>\n",
              "      <td>...</td>\n",
              "      <td>144</td>\n",
              "      <td>0</td>\n",
              "      <td>NaN</td>\n",
              "      <td>NaN</td>\n",
              "      <td>NaN</td>\n",
              "      <td>0</td>\n",
              "      <td>1</td>\n",
              "      <td>2010</td>\n",
              "      <td>WD</td>\n",
              "      <td>Normal</td>\n",
              "    </tr>\n",
              "  </tbody>\n",
              "</table>\n",
              "<p>5 rows × 80 columns</p>\n",
              "</div>\n",
              "    <div class=\"colab-df-buttons\">\n",
              "\n",
              "  <div class=\"colab-df-container\">\n",
              "    <button class=\"colab-df-convert\" onclick=\"convertToInteractive('df-df7453b2-9345-4dbc-95b2-133734ff2bcc')\"\n",
              "            title=\"Convert this dataframe to an interactive table.\"\n",
              "            style=\"display:none;\">\n",
              "\n",
              "  <svg xmlns=\"http://www.w3.org/2000/svg\" height=\"24px\" viewBox=\"0 -960 960 960\">\n",
              "    <path d=\"M120-120v-720h720v720H120Zm60-500h600v-160H180v160Zm220 220h160v-160H400v160Zm0 220h160v-160H400v160ZM180-400h160v-160H180v160Zm440 0h160v-160H620v160ZM180-180h160v-160H180v160Zm440 0h160v-160H620v160Z\"/>\n",
              "  </svg>\n",
              "    </button>\n",
              "\n",
              "  <style>\n",
              "    .colab-df-container {\n",
              "      display:flex;\n",
              "      gap: 12px;\n",
              "    }\n",
              "\n",
              "    .colab-df-convert {\n",
              "      background-color: #E8F0FE;\n",
              "      border: none;\n",
              "      border-radius: 50%;\n",
              "      cursor: pointer;\n",
              "      display: none;\n",
              "      fill: #1967D2;\n",
              "      height: 32px;\n",
              "      padding: 0 0 0 0;\n",
              "      width: 32px;\n",
              "    }\n",
              "\n",
              "    .colab-df-convert:hover {\n",
              "      background-color: #E2EBFA;\n",
              "      box-shadow: 0px 1px 2px rgba(60, 64, 67, 0.3), 0px 1px 3px 1px rgba(60, 64, 67, 0.15);\n",
              "      fill: #174EA6;\n",
              "    }\n",
              "\n",
              "    .colab-df-buttons div {\n",
              "      margin-bottom: 4px;\n",
              "    }\n",
              "\n",
              "    [theme=dark] .colab-df-convert {\n",
              "      background-color: #3B4455;\n",
              "      fill: #D2E3FC;\n",
              "    }\n",
              "\n",
              "    [theme=dark] .colab-df-convert:hover {\n",
              "      background-color: #434B5C;\n",
              "      box-shadow: 0px 1px 3px 1px rgba(0, 0, 0, 0.15);\n",
              "      filter: drop-shadow(0px 1px 2px rgba(0, 0, 0, 0.3));\n",
              "      fill: #FFFFFF;\n",
              "    }\n",
              "  </style>\n",
              "\n",
              "    <script>\n",
              "      const buttonEl =\n",
              "        document.querySelector('#df-df7453b2-9345-4dbc-95b2-133734ff2bcc button.colab-df-convert');\n",
              "      buttonEl.style.display =\n",
              "        google.colab.kernel.accessAllowed ? 'block' : 'none';\n",
              "\n",
              "      async function convertToInteractive(key) {\n",
              "        const element = document.querySelector('#df-df7453b2-9345-4dbc-95b2-133734ff2bcc');\n",
              "        const dataTable =\n",
              "          await google.colab.kernel.invokeFunction('convertToInteractive',\n",
              "                                                    [key], {});\n",
              "        if (!dataTable) return;\n",
              "\n",
              "        const docLinkHtml = 'Like what you see? Visit the ' +\n",
              "          '<a target=\"_blank\" href=https://colab.research.google.com/notebooks/data_table.ipynb>data table notebook</a>'\n",
              "          + ' to learn more about interactive tables.';\n",
              "        element.innerHTML = '';\n",
              "        dataTable['output_type'] = 'display_data';\n",
              "        await google.colab.output.renderOutput(dataTable, element);\n",
              "        const docLink = document.createElement('div');\n",
              "        docLink.innerHTML = docLinkHtml;\n",
              "        element.appendChild(docLink);\n",
              "      }\n",
              "    </script>\n",
              "  </div>\n",
              "\n",
              "\n",
              "<div id=\"df-afb4f2b9-ff3d-473f-806c-99bbdfbcf269\">\n",
              "  <button class=\"colab-df-quickchart\" onclick=\"quickchart('df-afb4f2b9-ff3d-473f-806c-99bbdfbcf269')\"\n",
              "            title=\"Suggest charts\"\n",
              "            style=\"display:none;\">\n",
              "\n",
              "<svg xmlns=\"http://www.w3.org/2000/svg\" height=\"24px\"viewBox=\"0 0 24 24\"\n",
              "     width=\"24px\">\n",
              "    <g>\n",
              "        <path d=\"M19 3H5c-1.1 0-2 .9-2 2v14c0 1.1.9 2 2 2h14c1.1 0 2-.9 2-2V5c0-1.1-.9-2-2-2zM9 17H7v-7h2v7zm4 0h-2V7h2v10zm4 0h-2v-4h2v4z\"/>\n",
              "    </g>\n",
              "</svg>\n",
              "  </button>\n",
              "\n",
              "<style>\n",
              "  .colab-df-quickchart {\n",
              "      --bg-color: #E8F0FE;\n",
              "      --fill-color: #1967D2;\n",
              "      --hover-bg-color: #E2EBFA;\n",
              "      --hover-fill-color: #174EA6;\n",
              "      --disabled-fill-color: #AAA;\n",
              "      --disabled-bg-color: #DDD;\n",
              "  }\n",
              "\n",
              "  [theme=dark] .colab-df-quickchart {\n",
              "      --bg-color: #3B4455;\n",
              "      --fill-color: #D2E3FC;\n",
              "      --hover-bg-color: #434B5C;\n",
              "      --hover-fill-color: #FFFFFF;\n",
              "      --disabled-bg-color: #3B4455;\n",
              "      --disabled-fill-color: #666;\n",
              "  }\n",
              "\n",
              "  .colab-df-quickchart {\n",
              "    background-color: var(--bg-color);\n",
              "    border: none;\n",
              "    border-radius: 50%;\n",
              "    cursor: pointer;\n",
              "    display: none;\n",
              "    fill: var(--fill-color);\n",
              "    height: 32px;\n",
              "    padding: 0;\n",
              "    width: 32px;\n",
              "  }\n",
              "\n",
              "  .colab-df-quickchart:hover {\n",
              "    background-color: var(--hover-bg-color);\n",
              "    box-shadow: 0 1px 2px rgba(60, 64, 67, 0.3), 0 1px 3px 1px rgba(60, 64, 67, 0.15);\n",
              "    fill: var(--button-hover-fill-color);\n",
              "  }\n",
              "\n",
              "  .colab-df-quickchart-complete:disabled,\n",
              "  .colab-df-quickchart-complete:disabled:hover {\n",
              "    background-color: var(--disabled-bg-color);\n",
              "    fill: var(--disabled-fill-color);\n",
              "    box-shadow: none;\n",
              "  }\n",
              "\n",
              "  .colab-df-spinner {\n",
              "    border: 2px solid var(--fill-color);\n",
              "    border-color: transparent;\n",
              "    border-bottom-color: var(--fill-color);\n",
              "    animation:\n",
              "      spin 1s steps(1) infinite;\n",
              "  }\n",
              "\n",
              "  @keyframes spin {\n",
              "    0% {\n",
              "      border-color: transparent;\n",
              "      border-bottom-color: var(--fill-color);\n",
              "      border-left-color: var(--fill-color);\n",
              "    }\n",
              "    20% {\n",
              "      border-color: transparent;\n",
              "      border-left-color: var(--fill-color);\n",
              "      border-top-color: var(--fill-color);\n",
              "    }\n",
              "    30% {\n",
              "      border-color: transparent;\n",
              "      border-left-color: var(--fill-color);\n",
              "      border-top-color: var(--fill-color);\n",
              "      border-right-color: var(--fill-color);\n",
              "    }\n",
              "    40% {\n",
              "      border-color: transparent;\n",
              "      border-right-color: var(--fill-color);\n",
              "      border-top-color: var(--fill-color);\n",
              "    }\n",
              "    60% {\n",
              "      border-color: transparent;\n",
              "      border-right-color: var(--fill-color);\n",
              "    }\n",
              "    80% {\n",
              "      border-color: transparent;\n",
              "      border-right-color: var(--fill-color);\n",
              "      border-bottom-color: var(--fill-color);\n",
              "    }\n",
              "    90% {\n",
              "      border-color: transparent;\n",
              "      border-bottom-color: var(--fill-color);\n",
              "    }\n",
              "  }\n",
              "</style>\n",
              "\n",
              "  <script>\n",
              "    async function quickchart(key) {\n",
              "      const quickchartButtonEl =\n",
              "        document.querySelector('#' + key + ' button');\n",
              "      quickchartButtonEl.disabled = true;  // To prevent multiple clicks.\n",
              "      quickchartButtonEl.classList.add('colab-df-spinner');\n",
              "      try {\n",
              "        const charts = await google.colab.kernel.invokeFunction(\n",
              "            'suggestCharts', [key], {});\n",
              "      } catch (error) {\n",
              "        console.error('Error during call to suggestCharts:', error);\n",
              "      }\n",
              "      quickchartButtonEl.classList.remove('colab-df-spinner');\n",
              "      quickchartButtonEl.classList.add('colab-df-quickchart-complete');\n",
              "    }\n",
              "    (() => {\n",
              "      let quickchartButtonEl =\n",
              "        document.querySelector('#df-afb4f2b9-ff3d-473f-806c-99bbdfbcf269 button');\n",
              "      quickchartButtonEl.style.display =\n",
              "        google.colab.kernel.accessAllowed ? 'block' : 'none';\n",
              "    })();\n",
              "  </script>\n",
              "</div>\n",
              "    </div>\n",
              "  </div>\n"
            ]
          },
          "metadata": {},
          "execution_count": 30
        }
      ]
    },
    {
      "cell_type": "code",
      "source": [
        "train_data.columns"
      ],
      "metadata": {
        "colab": {
          "base_uri": "https://localhost:8080/"
        },
        "id": "PZQYxidLD5JW",
        "outputId": "5c4afede-9105-4090-8dbe-2b62ef0b687d"
      },
      "execution_count": null,
      "outputs": [
        {
          "output_type": "stream",
          "name": "stderr",
          "text": [
            "/usr/local/lib/python3.10/dist-packages/ipykernel/ipkernel.py:283: DeprecationWarning: `should_run_async` will not call `transform_cell` automatically in the future. Please pass the result to `transformed_cell` argument and any exception that happen during thetransform in `preprocessing_exc_tuple` in IPython 7.17 and above.\n",
            "  and should_run_async(code)\n"
          ]
        },
        {
          "output_type": "execute_result",
          "data": {
            "text/plain": [
              "Index(['Id', 'MSSubClass', 'MSZoning', 'LotFrontage', 'LotArea', 'Street',\n",
              "       'Alley', 'LotShape', 'LandContour', 'Utilities', 'LotConfig',\n",
              "       'LandSlope', 'Neighborhood', 'Condition1', 'Condition2', 'BldgType',\n",
              "       'HouseStyle', 'OverallQual', 'OverallCond', 'YearBuilt', 'YearRemodAdd',\n",
              "       'RoofStyle', 'RoofMatl', 'Exterior1st', 'Exterior2nd', 'MasVnrType',\n",
              "       'MasVnrArea', 'ExterQual', 'ExterCond', 'Foundation', 'BsmtQual',\n",
              "       'BsmtCond', 'BsmtExposure', 'BsmtFinType1', 'BsmtFinSF1',\n",
              "       'BsmtFinType2', 'BsmtFinSF2', 'BsmtUnfSF', 'TotalBsmtSF', 'Heating',\n",
              "       'HeatingQC', 'CentralAir', 'Electrical', '1stFlrSF', '2ndFlrSF',\n",
              "       'LowQualFinSF', 'GrLivArea', 'BsmtFullBath', 'BsmtHalfBath', 'FullBath',\n",
              "       'HalfBath', 'BedroomAbvGr', 'KitchenAbvGr', 'KitchenQual',\n",
              "       'TotRmsAbvGrd', 'Functional', 'Fireplaces', 'FireplaceQu', 'GarageType',\n",
              "       'GarageYrBlt', 'GarageFinish', 'GarageCars', 'GarageArea', 'GarageQual',\n",
              "       'GarageCond', 'PavedDrive', 'WoodDeckSF', 'OpenPorchSF',\n",
              "       'EnclosedPorch', '3SsnPorch', 'ScreenPorch', 'PoolArea', 'PoolQC',\n",
              "       'Fence', 'MiscFeature', 'MiscVal', 'MoSold', 'YrSold', 'SaleType',\n",
              "       'SaleCondition', 'SalePrice'],\n",
              "      dtype='object')"
            ]
          },
          "metadata": {},
          "execution_count": 31
        }
      ]
    },
    {
      "cell_type": "code",
      "source": [
        "test_data.columns"
      ],
      "metadata": {
        "colab": {
          "base_uri": "https://localhost:8080/"
        },
        "id": "zGipx7XPD5L4",
        "outputId": "3952bf00-fe64-4b82-d923-f50981642c16"
      },
      "execution_count": null,
      "outputs": [
        {
          "output_type": "stream",
          "name": "stderr",
          "text": [
            "/usr/local/lib/python3.10/dist-packages/ipykernel/ipkernel.py:283: DeprecationWarning: `should_run_async` will not call `transform_cell` automatically in the future. Please pass the result to `transformed_cell` argument and any exception that happen during thetransform in `preprocessing_exc_tuple` in IPython 7.17 and above.\n",
            "  and should_run_async(code)\n"
          ]
        },
        {
          "output_type": "execute_result",
          "data": {
            "text/plain": [
              "Index(['Id', 'MSSubClass', 'MSZoning', 'LotFrontage', 'LotArea', 'Street',\n",
              "       'Alley', 'LotShape', 'LandContour', 'Utilities', 'LotConfig',\n",
              "       'LandSlope', 'Neighborhood', 'Condition1', 'Condition2', 'BldgType',\n",
              "       'HouseStyle', 'OverallQual', 'OverallCond', 'YearBuilt', 'YearRemodAdd',\n",
              "       'RoofStyle', 'RoofMatl', 'Exterior1st', 'Exterior2nd', 'MasVnrType',\n",
              "       'MasVnrArea', 'ExterQual', 'ExterCond', 'Foundation', 'BsmtQual',\n",
              "       'BsmtCond', 'BsmtExposure', 'BsmtFinType1', 'BsmtFinSF1',\n",
              "       'BsmtFinType2', 'BsmtFinSF2', 'BsmtUnfSF', 'TotalBsmtSF', 'Heating',\n",
              "       'HeatingQC', 'CentralAir', 'Electrical', '1stFlrSF', '2ndFlrSF',\n",
              "       'LowQualFinSF', 'GrLivArea', 'BsmtFullBath', 'BsmtHalfBath', 'FullBath',\n",
              "       'HalfBath', 'BedroomAbvGr', 'KitchenAbvGr', 'KitchenQual',\n",
              "       'TotRmsAbvGrd', 'Functional', 'Fireplaces', 'FireplaceQu', 'GarageType',\n",
              "       'GarageYrBlt', 'GarageFinish', 'GarageCars', 'GarageArea', 'GarageQual',\n",
              "       'GarageCond', 'PavedDrive', 'WoodDeckSF', 'OpenPorchSF',\n",
              "       'EnclosedPorch', '3SsnPorch', 'ScreenPorch', 'PoolArea', 'PoolQC',\n",
              "       'Fence', 'MiscFeature', 'MiscVal', 'MoSold', 'YrSold', 'SaleType',\n",
              "       'SaleCondition'],\n",
              "      dtype='object')"
            ]
          },
          "metadata": {},
          "execution_count": 32
        }
      ]
    },
    {
      "cell_type": "code",
      "source": [
        "train_data.describe(include=\"all\")"
      ],
      "metadata": {
        "colab": {
          "base_uri": "https://localhost:8080/",
          "height": 478
        },
        "id": "nWRiZyHjEkah",
        "outputId": "9107c866-f624-4246-cda2-948dba5f9db2"
      },
      "execution_count": null,
      "outputs": [
        {
          "output_type": "stream",
          "name": "stderr",
          "text": [
            "/usr/local/lib/python3.10/dist-packages/ipykernel/ipkernel.py:283: DeprecationWarning: `should_run_async` will not call `transform_cell` automatically in the future. Please pass the result to `transformed_cell` argument and any exception that happen during thetransform in `preprocessing_exc_tuple` in IPython 7.17 and above.\n",
            "  and should_run_async(code)\n"
          ]
        },
        {
          "output_type": "execute_result",
          "data": {
            "text/plain": [
              "                 Id   MSSubClass MSZoning  LotFrontage        LotArea Street  \\\n",
              "count   1460.000000  1460.000000     1460  1201.000000    1460.000000   1460   \n",
              "unique          NaN          NaN        5          NaN            NaN      2   \n",
              "top             NaN          NaN       RL          NaN            NaN   Pave   \n",
              "freq            NaN          NaN     1151          NaN            NaN   1454   \n",
              "mean     730.500000    56.897260      NaN    70.049958   10516.828082    NaN   \n",
              "std      421.610009    42.300571      NaN    24.284752    9981.264932    NaN   \n",
              "min        1.000000    20.000000      NaN    21.000000    1300.000000    NaN   \n",
              "25%      365.750000    20.000000      NaN    59.000000    7553.500000    NaN   \n",
              "50%      730.500000    50.000000      NaN    69.000000    9478.500000    NaN   \n",
              "75%     1095.250000    70.000000      NaN    80.000000   11601.500000    NaN   \n",
              "max     1460.000000   190.000000      NaN   313.000000  215245.000000    NaN   \n",
              "\n",
              "       Alley LotShape LandContour Utilities  ...     PoolArea PoolQC  Fence  \\\n",
              "count     91     1460        1460      1460  ...  1460.000000      7    281   \n",
              "unique     2        4           4         2  ...          NaN      3      4   \n",
              "top     Grvl      Reg         Lvl    AllPub  ...          NaN     Gd  MnPrv   \n",
              "freq      50      925        1311      1459  ...          NaN      3    157   \n",
              "mean     NaN      NaN         NaN       NaN  ...     2.758904    NaN    NaN   \n",
              "std      NaN      NaN         NaN       NaN  ...    40.177307    NaN    NaN   \n",
              "min      NaN      NaN         NaN       NaN  ...     0.000000    NaN    NaN   \n",
              "25%      NaN      NaN         NaN       NaN  ...     0.000000    NaN    NaN   \n",
              "50%      NaN      NaN         NaN       NaN  ...     0.000000    NaN    NaN   \n",
              "75%      NaN      NaN         NaN       NaN  ...     0.000000    NaN    NaN   \n",
              "max      NaN      NaN         NaN       NaN  ...   738.000000    NaN    NaN   \n",
              "\n",
              "       MiscFeature       MiscVal       MoSold       YrSold  SaleType  \\\n",
              "count           54   1460.000000  1460.000000  1460.000000      1460   \n",
              "unique           4           NaN          NaN          NaN         9   \n",
              "top           Shed           NaN          NaN          NaN        WD   \n",
              "freq            49           NaN          NaN          NaN      1267   \n",
              "mean           NaN     43.489041     6.321918  2007.815753       NaN   \n",
              "std            NaN    496.123024     2.703626     1.328095       NaN   \n",
              "min            NaN      0.000000     1.000000  2006.000000       NaN   \n",
              "25%            NaN      0.000000     5.000000  2007.000000       NaN   \n",
              "50%            NaN      0.000000     6.000000  2008.000000       NaN   \n",
              "75%            NaN      0.000000     8.000000  2009.000000       NaN   \n",
              "max            NaN  15500.000000    12.000000  2010.000000       NaN   \n",
              "\n",
              "        SaleCondition      SalePrice  \n",
              "count            1460    1460.000000  \n",
              "unique              6            NaN  \n",
              "top            Normal            NaN  \n",
              "freq             1198            NaN  \n",
              "mean              NaN  180921.195890  \n",
              "std               NaN   79442.502883  \n",
              "min               NaN   34900.000000  \n",
              "25%               NaN  129975.000000  \n",
              "50%               NaN  163000.000000  \n",
              "75%               NaN  214000.000000  \n",
              "max               NaN  755000.000000  \n",
              "\n",
              "[11 rows x 81 columns]"
            ],
            "text/html": [
              "\n",
              "  <div id=\"df-80bbbfe2-4e50-48ca-a959-79e27c7e92e2\" class=\"colab-df-container\">\n",
              "    <div>\n",
              "<style scoped>\n",
              "    .dataframe tbody tr th:only-of-type {\n",
              "        vertical-align: middle;\n",
              "    }\n",
              "\n",
              "    .dataframe tbody tr th {\n",
              "        vertical-align: top;\n",
              "    }\n",
              "\n",
              "    .dataframe thead th {\n",
              "        text-align: right;\n",
              "    }\n",
              "</style>\n",
              "<table border=\"1\" class=\"dataframe\">\n",
              "  <thead>\n",
              "    <tr style=\"text-align: right;\">\n",
              "      <th></th>\n",
              "      <th>Id</th>\n",
              "      <th>MSSubClass</th>\n",
              "      <th>MSZoning</th>\n",
              "      <th>LotFrontage</th>\n",
              "      <th>LotArea</th>\n",
              "      <th>Street</th>\n",
              "      <th>Alley</th>\n",
              "      <th>LotShape</th>\n",
              "      <th>LandContour</th>\n",
              "      <th>Utilities</th>\n",
              "      <th>...</th>\n",
              "      <th>PoolArea</th>\n",
              "      <th>PoolQC</th>\n",
              "      <th>Fence</th>\n",
              "      <th>MiscFeature</th>\n",
              "      <th>MiscVal</th>\n",
              "      <th>MoSold</th>\n",
              "      <th>YrSold</th>\n",
              "      <th>SaleType</th>\n",
              "      <th>SaleCondition</th>\n",
              "      <th>SalePrice</th>\n",
              "    </tr>\n",
              "  </thead>\n",
              "  <tbody>\n",
              "    <tr>\n",
              "      <th>count</th>\n",
              "      <td>1460.000000</td>\n",
              "      <td>1460.000000</td>\n",
              "      <td>1460</td>\n",
              "      <td>1201.000000</td>\n",
              "      <td>1460.000000</td>\n",
              "      <td>1460</td>\n",
              "      <td>91</td>\n",
              "      <td>1460</td>\n",
              "      <td>1460</td>\n",
              "      <td>1460</td>\n",
              "      <td>...</td>\n",
              "      <td>1460.000000</td>\n",
              "      <td>7</td>\n",
              "      <td>281</td>\n",
              "      <td>54</td>\n",
              "      <td>1460.000000</td>\n",
              "      <td>1460.000000</td>\n",
              "      <td>1460.000000</td>\n",
              "      <td>1460</td>\n",
              "      <td>1460</td>\n",
              "      <td>1460.000000</td>\n",
              "    </tr>\n",
              "    <tr>\n",
              "      <th>unique</th>\n",
              "      <td>NaN</td>\n",
              "      <td>NaN</td>\n",
              "      <td>5</td>\n",
              "      <td>NaN</td>\n",
              "      <td>NaN</td>\n",
              "      <td>2</td>\n",
              "      <td>2</td>\n",
              "      <td>4</td>\n",
              "      <td>4</td>\n",
              "      <td>2</td>\n",
              "      <td>...</td>\n",
              "      <td>NaN</td>\n",
              "      <td>3</td>\n",
              "      <td>4</td>\n",
              "      <td>4</td>\n",
              "      <td>NaN</td>\n",
              "      <td>NaN</td>\n",
              "      <td>NaN</td>\n",
              "      <td>9</td>\n",
              "      <td>6</td>\n",
              "      <td>NaN</td>\n",
              "    </tr>\n",
              "    <tr>\n",
              "      <th>top</th>\n",
              "      <td>NaN</td>\n",
              "      <td>NaN</td>\n",
              "      <td>RL</td>\n",
              "      <td>NaN</td>\n",
              "      <td>NaN</td>\n",
              "      <td>Pave</td>\n",
              "      <td>Grvl</td>\n",
              "      <td>Reg</td>\n",
              "      <td>Lvl</td>\n",
              "      <td>AllPub</td>\n",
              "      <td>...</td>\n",
              "      <td>NaN</td>\n",
              "      <td>Gd</td>\n",
              "      <td>MnPrv</td>\n",
              "      <td>Shed</td>\n",
              "      <td>NaN</td>\n",
              "      <td>NaN</td>\n",
              "      <td>NaN</td>\n",
              "      <td>WD</td>\n",
              "      <td>Normal</td>\n",
              "      <td>NaN</td>\n",
              "    </tr>\n",
              "    <tr>\n",
              "      <th>freq</th>\n",
              "      <td>NaN</td>\n",
              "      <td>NaN</td>\n",
              "      <td>1151</td>\n",
              "      <td>NaN</td>\n",
              "      <td>NaN</td>\n",
              "      <td>1454</td>\n",
              "      <td>50</td>\n",
              "      <td>925</td>\n",
              "      <td>1311</td>\n",
              "      <td>1459</td>\n",
              "      <td>...</td>\n",
              "      <td>NaN</td>\n",
              "      <td>3</td>\n",
              "      <td>157</td>\n",
              "      <td>49</td>\n",
              "      <td>NaN</td>\n",
              "      <td>NaN</td>\n",
              "      <td>NaN</td>\n",
              "      <td>1267</td>\n",
              "      <td>1198</td>\n",
              "      <td>NaN</td>\n",
              "    </tr>\n",
              "    <tr>\n",
              "      <th>mean</th>\n",
              "      <td>730.500000</td>\n",
              "      <td>56.897260</td>\n",
              "      <td>NaN</td>\n",
              "      <td>70.049958</td>\n",
              "      <td>10516.828082</td>\n",
              "      <td>NaN</td>\n",
              "      <td>NaN</td>\n",
              "      <td>NaN</td>\n",
              "      <td>NaN</td>\n",
              "      <td>NaN</td>\n",
              "      <td>...</td>\n",
              "      <td>2.758904</td>\n",
              "      <td>NaN</td>\n",
              "      <td>NaN</td>\n",
              "      <td>NaN</td>\n",
              "      <td>43.489041</td>\n",
              "      <td>6.321918</td>\n",
              "      <td>2007.815753</td>\n",
              "      <td>NaN</td>\n",
              "      <td>NaN</td>\n",
              "      <td>180921.195890</td>\n",
              "    </tr>\n",
              "    <tr>\n",
              "      <th>std</th>\n",
              "      <td>421.610009</td>\n",
              "      <td>42.300571</td>\n",
              "      <td>NaN</td>\n",
              "      <td>24.284752</td>\n",
              "      <td>9981.264932</td>\n",
              "      <td>NaN</td>\n",
              "      <td>NaN</td>\n",
              "      <td>NaN</td>\n",
              "      <td>NaN</td>\n",
              "      <td>NaN</td>\n",
              "      <td>...</td>\n",
              "      <td>40.177307</td>\n",
              "      <td>NaN</td>\n",
              "      <td>NaN</td>\n",
              "      <td>NaN</td>\n",
              "      <td>496.123024</td>\n",
              "      <td>2.703626</td>\n",
              "      <td>1.328095</td>\n",
              "      <td>NaN</td>\n",
              "      <td>NaN</td>\n",
              "      <td>79442.502883</td>\n",
              "    </tr>\n",
              "    <tr>\n",
              "      <th>min</th>\n",
              "      <td>1.000000</td>\n",
              "      <td>20.000000</td>\n",
              "      <td>NaN</td>\n",
              "      <td>21.000000</td>\n",
              "      <td>1300.000000</td>\n",
              "      <td>NaN</td>\n",
              "      <td>NaN</td>\n",
              "      <td>NaN</td>\n",
              "      <td>NaN</td>\n",
              "      <td>NaN</td>\n",
              "      <td>...</td>\n",
              "      <td>0.000000</td>\n",
              "      <td>NaN</td>\n",
              "      <td>NaN</td>\n",
              "      <td>NaN</td>\n",
              "      <td>0.000000</td>\n",
              "      <td>1.000000</td>\n",
              "      <td>2006.000000</td>\n",
              "      <td>NaN</td>\n",
              "      <td>NaN</td>\n",
              "      <td>34900.000000</td>\n",
              "    </tr>\n",
              "    <tr>\n",
              "      <th>25%</th>\n",
              "      <td>365.750000</td>\n",
              "      <td>20.000000</td>\n",
              "      <td>NaN</td>\n",
              "      <td>59.000000</td>\n",
              "      <td>7553.500000</td>\n",
              "      <td>NaN</td>\n",
              "      <td>NaN</td>\n",
              "      <td>NaN</td>\n",
              "      <td>NaN</td>\n",
              "      <td>NaN</td>\n",
              "      <td>...</td>\n",
              "      <td>0.000000</td>\n",
              "      <td>NaN</td>\n",
              "      <td>NaN</td>\n",
              "      <td>NaN</td>\n",
              "      <td>0.000000</td>\n",
              "      <td>5.000000</td>\n",
              "      <td>2007.000000</td>\n",
              "      <td>NaN</td>\n",
              "      <td>NaN</td>\n",
              "      <td>129975.000000</td>\n",
              "    </tr>\n",
              "    <tr>\n",
              "      <th>50%</th>\n",
              "      <td>730.500000</td>\n",
              "      <td>50.000000</td>\n",
              "      <td>NaN</td>\n",
              "      <td>69.000000</td>\n",
              "      <td>9478.500000</td>\n",
              "      <td>NaN</td>\n",
              "      <td>NaN</td>\n",
              "      <td>NaN</td>\n",
              "      <td>NaN</td>\n",
              "      <td>NaN</td>\n",
              "      <td>...</td>\n",
              "      <td>0.000000</td>\n",
              "      <td>NaN</td>\n",
              "      <td>NaN</td>\n",
              "      <td>NaN</td>\n",
              "      <td>0.000000</td>\n",
              "      <td>6.000000</td>\n",
              "      <td>2008.000000</td>\n",
              "      <td>NaN</td>\n",
              "      <td>NaN</td>\n",
              "      <td>163000.000000</td>\n",
              "    </tr>\n",
              "    <tr>\n",
              "      <th>75%</th>\n",
              "      <td>1095.250000</td>\n",
              "      <td>70.000000</td>\n",
              "      <td>NaN</td>\n",
              "      <td>80.000000</td>\n",
              "      <td>11601.500000</td>\n",
              "      <td>NaN</td>\n",
              "      <td>NaN</td>\n",
              "      <td>NaN</td>\n",
              "      <td>NaN</td>\n",
              "      <td>NaN</td>\n",
              "      <td>...</td>\n",
              "      <td>0.000000</td>\n",
              "      <td>NaN</td>\n",
              "      <td>NaN</td>\n",
              "      <td>NaN</td>\n",
              "      <td>0.000000</td>\n",
              "      <td>8.000000</td>\n",
              "      <td>2009.000000</td>\n",
              "      <td>NaN</td>\n",
              "      <td>NaN</td>\n",
              "      <td>214000.000000</td>\n",
              "    </tr>\n",
              "    <tr>\n",
              "      <th>max</th>\n",
              "      <td>1460.000000</td>\n",
              "      <td>190.000000</td>\n",
              "      <td>NaN</td>\n",
              "      <td>313.000000</td>\n",
              "      <td>215245.000000</td>\n",
              "      <td>NaN</td>\n",
              "      <td>NaN</td>\n",
              "      <td>NaN</td>\n",
              "      <td>NaN</td>\n",
              "      <td>NaN</td>\n",
              "      <td>...</td>\n",
              "      <td>738.000000</td>\n",
              "      <td>NaN</td>\n",
              "      <td>NaN</td>\n",
              "      <td>NaN</td>\n",
              "      <td>15500.000000</td>\n",
              "      <td>12.000000</td>\n",
              "      <td>2010.000000</td>\n",
              "      <td>NaN</td>\n",
              "      <td>NaN</td>\n",
              "      <td>755000.000000</td>\n",
              "    </tr>\n",
              "  </tbody>\n",
              "</table>\n",
              "<p>11 rows × 81 columns</p>\n",
              "</div>\n",
              "    <div class=\"colab-df-buttons\">\n",
              "\n",
              "  <div class=\"colab-df-container\">\n",
              "    <button class=\"colab-df-convert\" onclick=\"convertToInteractive('df-80bbbfe2-4e50-48ca-a959-79e27c7e92e2')\"\n",
              "            title=\"Convert this dataframe to an interactive table.\"\n",
              "            style=\"display:none;\">\n",
              "\n",
              "  <svg xmlns=\"http://www.w3.org/2000/svg\" height=\"24px\" viewBox=\"0 -960 960 960\">\n",
              "    <path d=\"M120-120v-720h720v720H120Zm60-500h600v-160H180v160Zm220 220h160v-160H400v160Zm0 220h160v-160H400v160ZM180-400h160v-160H180v160Zm440 0h160v-160H620v160ZM180-180h160v-160H180v160Zm440 0h160v-160H620v160Z\"/>\n",
              "  </svg>\n",
              "    </button>\n",
              "\n",
              "  <style>\n",
              "    .colab-df-container {\n",
              "      display:flex;\n",
              "      gap: 12px;\n",
              "    }\n",
              "\n",
              "    .colab-df-convert {\n",
              "      background-color: #E8F0FE;\n",
              "      border: none;\n",
              "      border-radius: 50%;\n",
              "      cursor: pointer;\n",
              "      display: none;\n",
              "      fill: #1967D2;\n",
              "      height: 32px;\n",
              "      padding: 0 0 0 0;\n",
              "      width: 32px;\n",
              "    }\n",
              "\n",
              "    .colab-df-convert:hover {\n",
              "      background-color: #E2EBFA;\n",
              "      box-shadow: 0px 1px 2px rgba(60, 64, 67, 0.3), 0px 1px 3px 1px rgba(60, 64, 67, 0.15);\n",
              "      fill: #174EA6;\n",
              "    }\n",
              "\n",
              "    .colab-df-buttons div {\n",
              "      margin-bottom: 4px;\n",
              "    }\n",
              "\n",
              "    [theme=dark] .colab-df-convert {\n",
              "      background-color: #3B4455;\n",
              "      fill: #D2E3FC;\n",
              "    }\n",
              "\n",
              "    [theme=dark] .colab-df-convert:hover {\n",
              "      background-color: #434B5C;\n",
              "      box-shadow: 0px 1px 3px 1px rgba(0, 0, 0, 0.15);\n",
              "      filter: drop-shadow(0px 1px 2px rgba(0, 0, 0, 0.3));\n",
              "      fill: #FFFFFF;\n",
              "    }\n",
              "  </style>\n",
              "\n",
              "    <script>\n",
              "      const buttonEl =\n",
              "        document.querySelector('#df-80bbbfe2-4e50-48ca-a959-79e27c7e92e2 button.colab-df-convert');\n",
              "      buttonEl.style.display =\n",
              "        google.colab.kernel.accessAllowed ? 'block' : 'none';\n",
              "\n",
              "      async function convertToInteractive(key) {\n",
              "        const element = document.querySelector('#df-80bbbfe2-4e50-48ca-a959-79e27c7e92e2');\n",
              "        const dataTable =\n",
              "          await google.colab.kernel.invokeFunction('convertToInteractive',\n",
              "                                                    [key], {});\n",
              "        if (!dataTable) return;\n",
              "\n",
              "        const docLinkHtml = 'Like what you see? Visit the ' +\n",
              "          '<a target=\"_blank\" href=https://colab.research.google.com/notebooks/data_table.ipynb>data table notebook</a>'\n",
              "          + ' to learn more about interactive tables.';\n",
              "        element.innerHTML = '';\n",
              "        dataTable['output_type'] = 'display_data';\n",
              "        await google.colab.output.renderOutput(dataTable, element);\n",
              "        const docLink = document.createElement('div');\n",
              "        docLink.innerHTML = docLinkHtml;\n",
              "        element.appendChild(docLink);\n",
              "      }\n",
              "    </script>\n",
              "  </div>\n",
              "\n",
              "\n",
              "<div id=\"df-8b55a565-b3de-43f4-afc8-351086f27405\">\n",
              "  <button class=\"colab-df-quickchart\" onclick=\"quickchart('df-8b55a565-b3de-43f4-afc8-351086f27405')\"\n",
              "            title=\"Suggest charts\"\n",
              "            style=\"display:none;\">\n",
              "\n",
              "<svg xmlns=\"http://www.w3.org/2000/svg\" height=\"24px\"viewBox=\"0 0 24 24\"\n",
              "     width=\"24px\">\n",
              "    <g>\n",
              "        <path d=\"M19 3H5c-1.1 0-2 .9-2 2v14c0 1.1.9 2 2 2h14c1.1 0 2-.9 2-2V5c0-1.1-.9-2-2-2zM9 17H7v-7h2v7zm4 0h-2V7h2v10zm4 0h-2v-4h2v4z\"/>\n",
              "    </g>\n",
              "</svg>\n",
              "  </button>\n",
              "\n",
              "<style>\n",
              "  .colab-df-quickchart {\n",
              "      --bg-color: #E8F0FE;\n",
              "      --fill-color: #1967D2;\n",
              "      --hover-bg-color: #E2EBFA;\n",
              "      --hover-fill-color: #174EA6;\n",
              "      --disabled-fill-color: #AAA;\n",
              "      --disabled-bg-color: #DDD;\n",
              "  }\n",
              "\n",
              "  [theme=dark] .colab-df-quickchart {\n",
              "      --bg-color: #3B4455;\n",
              "      --fill-color: #D2E3FC;\n",
              "      --hover-bg-color: #434B5C;\n",
              "      --hover-fill-color: #FFFFFF;\n",
              "      --disabled-bg-color: #3B4455;\n",
              "      --disabled-fill-color: #666;\n",
              "  }\n",
              "\n",
              "  .colab-df-quickchart {\n",
              "    background-color: var(--bg-color);\n",
              "    border: none;\n",
              "    border-radius: 50%;\n",
              "    cursor: pointer;\n",
              "    display: none;\n",
              "    fill: var(--fill-color);\n",
              "    height: 32px;\n",
              "    padding: 0;\n",
              "    width: 32px;\n",
              "  }\n",
              "\n",
              "  .colab-df-quickchart:hover {\n",
              "    background-color: var(--hover-bg-color);\n",
              "    box-shadow: 0 1px 2px rgba(60, 64, 67, 0.3), 0 1px 3px 1px rgba(60, 64, 67, 0.15);\n",
              "    fill: var(--button-hover-fill-color);\n",
              "  }\n",
              "\n",
              "  .colab-df-quickchart-complete:disabled,\n",
              "  .colab-df-quickchart-complete:disabled:hover {\n",
              "    background-color: var(--disabled-bg-color);\n",
              "    fill: var(--disabled-fill-color);\n",
              "    box-shadow: none;\n",
              "  }\n",
              "\n",
              "  .colab-df-spinner {\n",
              "    border: 2px solid var(--fill-color);\n",
              "    border-color: transparent;\n",
              "    border-bottom-color: var(--fill-color);\n",
              "    animation:\n",
              "      spin 1s steps(1) infinite;\n",
              "  }\n",
              "\n",
              "  @keyframes spin {\n",
              "    0% {\n",
              "      border-color: transparent;\n",
              "      border-bottom-color: var(--fill-color);\n",
              "      border-left-color: var(--fill-color);\n",
              "    }\n",
              "    20% {\n",
              "      border-color: transparent;\n",
              "      border-left-color: var(--fill-color);\n",
              "      border-top-color: var(--fill-color);\n",
              "    }\n",
              "    30% {\n",
              "      border-color: transparent;\n",
              "      border-left-color: var(--fill-color);\n",
              "      border-top-color: var(--fill-color);\n",
              "      border-right-color: var(--fill-color);\n",
              "    }\n",
              "    40% {\n",
              "      border-color: transparent;\n",
              "      border-right-color: var(--fill-color);\n",
              "      border-top-color: var(--fill-color);\n",
              "    }\n",
              "    60% {\n",
              "      border-color: transparent;\n",
              "      border-right-color: var(--fill-color);\n",
              "    }\n",
              "    80% {\n",
              "      border-color: transparent;\n",
              "      border-right-color: var(--fill-color);\n",
              "      border-bottom-color: var(--fill-color);\n",
              "    }\n",
              "    90% {\n",
              "      border-color: transparent;\n",
              "      border-bottom-color: var(--fill-color);\n",
              "    }\n",
              "  }\n",
              "</style>\n",
              "\n",
              "  <script>\n",
              "    async function quickchart(key) {\n",
              "      const quickchartButtonEl =\n",
              "        document.querySelector('#' + key + ' button');\n",
              "      quickchartButtonEl.disabled = true;  // To prevent multiple clicks.\n",
              "      quickchartButtonEl.classList.add('colab-df-spinner');\n",
              "      try {\n",
              "        const charts = await google.colab.kernel.invokeFunction(\n",
              "            'suggestCharts', [key], {});\n",
              "      } catch (error) {\n",
              "        console.error('Error during call to suggestCharts:', error);\n",
              "      }\n",
              "      quickchartButtonEl.classList.remove('colab-df-spinner');\n",
              "      quickchartButtonEl.classList.add('colab-df-quickchart-complete');\n",
              "    }\n",
              "    (() => {\n",
              "      let quickchartButtonEl =\n",
              "        document.querySelector('#df-8b55a565-b3de-43f4-afc8-351086f27405 button');\n",
              "      quickchartButtonEl.style.display =\n",
              "        google.colab.kernel.accessAllowed ? 'block' : 'none';\n",
              "    })();\n",
              "  </script>\n",
              "</div>\n",
              "    </div>\n",
              "  </div>\n"
            ]
          },
          "metadata": {},
          "execution_count": 33
        }
      ]
    },
    {
      "cell_type": "code",
      "source": [
        "test_data.describe(include=\"all\")"
      ],
      "metadata": {
        "colab": {
          "base_uri": "https://localhost:8080/",
          "height": 478
        },
        "id": "Hu8lCyQcQKk5",
        "outputId": "96e5bd8a-6e34-49cb-9fda-c6a2f1281804"
      },
      "execution_count": null,
      "outputs": [
        {
          "output_type": "stream",
          "name": "stderr",
          "text": [
            "/usr/local/lib/python3.10/dist-packages/ipykernel/ipkernel.py:283: DeprecationWarning: `should_run_async` will not call `transform_cell` automatically in the future. Please pass the result to `transformed_cell` argument and any exception that happen during thetransform in `preprocessing_exc_tuple` in IPython 7.17 and above.\n",
            "  and should_run_async(code)\n"
          ]
        },
        {
          "output_type": "execute_result",
          "data": {
            "text/plain": [
              "                 Id   MSSubClass MSZoning  LotFrontage       LotArea Street  \\\n",
              "count   1459.000000  1459.000000     1455  1232.000000   1459.000000   1459   \n",
              "unique          NaN          NaN        5          NaN           NaN      2   \n",
              "top             NaN          NaN       RL          NaN           NaN   Pave   \n",
              "freq            NaN          NaN     1114          NaN           NaN   1453   \n",
              "mean    2190.000000    57.378341      NaN    68.580357   9819.161069    NaN   \n",
              "std      421.321334    42.746880      NaN    22.376841   4955.517327    NaN   \n",
              "min     1461.000000    20.000000      NaN    21.000000   1470.000000    NaN   \n",
              "25%     1825.500000    20.000000      NaN    58.000000   7391.000000    NaN   \n",
              "50%     2190.000000    50.000000      NaN    67.000000   9399.000000    NaN   \n",
              "75%     2554.500000    70.000000      NaN    80.000000  11517.500000    NaN   \n",
              "max     2919.000000   190.000000      NaN   200.000000  56600.000000    NaN   \n",
              "\n",
              "       Alley LotShape LandContour Utilities  ...  ScreenPorch     PoolArea  \\\n",
              "count    107     1459        1459      1457  ...  1459.000000  1459.000000   \n",
              "unique     2        4           4         1  ...          NaN          NaN   \n",
              "top     Grvl      Reg         Lvl    AllPub  ...          NaN          NaN   \n",
              "freq      70      934        1311      1457  ...          NaN          NaN   \n",
              "mean     NaN      NaN         NaN       NaN  ...    17.064428     1.744345   \n",
              "std      NaN      NaN         NaN       NaN  ...    56.609763    30.491646   \n",
              "min      NaN      NaN         NaN       NaN  ...     0.000000     0.000000   \n",
              "25%      NaN      NaN         NaN       NaN  ...     0.000000     0.000000   \n",
              "50%      NaN      NaN         NaN       NaN  ...     0.000000     0.000000   \n",
              "75%      NaN      NaN         NaN       NaN  ...     0.000000     0.000000   \n",
              "max      NaN      NaN         NaN       NaN  ...   576.000000   800.000000   \n",
              "\n",
              "       PoolQC  Fence MiscFeature       MiscVal       MoSold       YrSold  \\\n",
              "count       3    290          51   1459.000000  1459.000000  1459.000000   \n",
              "unique      2      4           3           NaN          NaN          NaN   \n",
              "top        Ex  MnPrv        Shed           NaN          NaN          NaN   \n",
              "freq        2    172          46           NaN          NaN          NaN   \n",
              "mean      NaN    NaN         NaN     58.167923     6.104181  2007.769705   \n",
              "std       NaN    NaN         NaN    630.806978     2.722432     1.301740   \n",
              "min       NaN    NaN         NaN      0.000000     1.000000  2006.000000   \n",
              "25%       NaN    NaN         NaN      0.000000     4.000000  2007.000000   \n",
              "50%       NaN    NaN         NaN      0.000000     6.000000  2008.000000   \n",
              "75%       NaN    NaN         NaN      0.000000     8.000000  2009.000000   \n",
              "max       NaN    NaN         NaN  17000.000000    12.000000  2010.000000   \n",
              "\n",
              "        SaleType  SaleCondition  \n",
              "count       1458           1459  \n",
              "unique         9              6  \n",
              "top           WD         Normal  \n",
              "freq        1258           1204  \n",
              "mean         NaN            NaN  \n",
              "std          NaN            NaN  \n",
              "min          NaN            NaN  \n",
              "25%          NaN            NaN  \n",
              "50%          NaN            NaN  \n",
              "75%          NaN            NaN  \n",
              "max          NaN            NaN  \n",
              "\n",
              "[11 rows x 80 columns]"
            ],
            "text/html": [
              "\n",
              "  <div id=\"df-60b555ae-5e85-4cba-b835-95d603fa9dd5\" class=\"colab-df-container\">\n",
              "    <div>\n",
              "<style scoped>\n",
              "    .dataframe tbody tr th:only-of-type {\n",
              "        vertical-align: middle;\n",
              "    }\n",
              "\n",
              "    .dataframe tbody tr th {\n",
              "        vertical-align: top;\n",
              "    }\n",
              "\n",
              "    .dataframe thead th {\n",
              "        text-align: right;\n",
              "    }\n",
              "</style>\n",
              "<table border=\"1\" class=\"dataframe\">\n",
              "  <thead>\n",
              "    <tr style=\"text-align: right;\">\n",
              "      <th></th>\n",
              "      <th>Id</th>\n",
              "      <th>MSSubClass</th>\n",
              "      <th>MSZoning</th>\n",
              "      <th>LotFrontage</th>\n",
              "      <th>LotArea</th>\n",
              "      <th>Street</th>\n",
              "      <th>Alley</th>\n",
              "      <th>LotShape</th>\n",
              "      <th>LandContour</th>\n",
              "      <th>Utilities</th>\n",
              "      <th>...</th>\n",
              "      <th>ScreenPorch</th>\n",
              "      <th>PoolArea</th>\n",
              "      <th>PoolQC</th>\n",
              "      <th>Fence</th>\n",
              "      <th>MiscFeature</th>\n",
              "      <th>MiscVal</th>\n",
              "      <th>MoSold</th>\n",
              "      <th>YrSold</th>\n",
              "      <th>SaleType</th>\n",
              "      <th>SaleCondition</th>\n",
              "    </tr>\n",
              "  </thead>\n",
              "  <tbody>\n",
              "    <tr>\n",
              "      <th>count</th>\n",
              "      <td>1459.000000</td>\n",
              "      <td>1459.000000</td>\n",
              "      <td>1455</td>\n",
              "      <td>1232.000000</td>\n",
              "      <td>1459.000000</td>\n",
              "      <td>1459</td>\n",
              "      <td>107</td>\n",
              "      <td>1459</td>\n",
              "      <td>1459</td>\n",
              "      <td>1457</td>\n",
              "      <td>...</td>\n",
              "      <td>1459.000000</td>\n",
              "      <td>1459.000000</td>\n",
              "      <td>3</td>\n",
              "      <td>290</td>\n",
              "      <td>51</td>\n",
              "      <td>1459.000000</td>\n",
              "      <td>1459.000000</td>\n",
              "      <td>1459.000000</td>\n",
              "      <td>1458</td>\n",
              "      <td>1459</td>\n",
              "    </tr>\n",
              "    <tr>\n",
              "      <th>unique</th>\n",
              "      <td>NaN</td>\n",
              "      <td>NaN</td>\n",
              "      <td>5</td>\n",
              "      <td>NaN</td>\n",
              "      <td>NaN</td>\n",
              "      <td>2</td>\n",
              "      <td>2</td>\n",
              "      <td>4</td>\n",
              "      <td>4</td>\n",
              "      <td>1</td>\n",
              "      <td>...</td>\n",
              "      <td>NaN</td>\n",
              "      <td>NaN</td>\n",
              "      <td>2</td>\n",
              "      <td>4</td>\n",
              "      <td>3</td>\n",
              "      <td>NaN</td>\n",
              "      <td>NaN</td>\n",
              "      <td>NaN</td>\n",
              "      <td>9</td>\n",
              "      <td>6</td>\n",
              "    </tr>\n",
              "    <tr>\n",
              "      <th>top</th>\n",
              "      <td>NaN</td>\n",
              "      <td>NaN</td>\n",
              "      <td>RL</td>\n",
              "      <td>NaN</td>\n",
              "      <td>NaN</td>\n",
              "      <td>Pave</td>\n",
              "      <td>Grvl</td>\n",
              "      <td>Reg</td>\n",
              "      <td>Lvl</td>\n",
              "      <td>AllPub</td>\n",
              "      <td>...</td>\n",
              "      <td>NaN</td>\n",
              "      <td>NaN</td>\n",
              "      <td>Ex</td>\n",
              "      <td>MnPrv</td>\n",
              "      <td>Shed</td>\n",
              "      <td>NaN</td>\n",
              "      <td>NaN</td>\n",
              "      <td>NaN</td>\n",
              "      <td>WD</td>\n",
              "      <td>Normal</td>\n",
              "    </tr>\n",
              "    <tr>\n",
              "      <th>freq</th>\n",
              "      <td>NaN</td>\n",
              "      <td>NaN</td>\n",
              "      <td>1114</td>\n",
              "      <td>NaN</td>\n",
              "      <td>NaN</td>\n",
              "      <td>1453</td>\n",
              "      <td>70</td>\n",
              "      <td>934</td>\n",
              "      <td>1311</td>\n",
              "      <td>1457</td>\n",
              "      <td>...</td>\n",
              "      <td>NaN</td>\n",
              "      <td>NaN</td>\n",
              "      <td>2</td>\n",
              "      <td>172</td>\n",
              "      <td>46</td>\n",
              "      <td>NaN</td>\n",
              "      <td>NaN</td>\n",
              "      <td>NaN</td>\n",
              "      <td>1258</td>\n",
              "      <td>1204</td>\n",
              "    </tr>\n",
              "    <tr>\n",
              "      <th>mean</th>\n",
              "      <td>2190.000000</td>\n",
              "      <td>57.378341</td>\n",
              "      <td>NaN</td>\n",
              "      <td>68.580357</td>\n",
              "      <td>9819.161069</td>\n",
              "      <td>NaN</td>\n",
              "      <td>NaN</td>\n",
              "      <td>NaN</td>\n",
              "      <td>NaN</td>\n",
              "      <td>NaN</td>\n",
              "      <td>...</td>\n",
              "      <td>17.064428</td>\n",
              "      <td>1.744345</td>\n",
              "      <td>NaN</td>\n",
              "      <td>NaN</td>\n",
              "      <td>NaN</td>\n",
              "      <td>58.167923</td>\n",
              "      <td>6.104181</td>\n",
              "      <td>2007.769705</td>\n",
              "      <td>NaN</td>\n",
              "      <td>NaN</td>\n",
              "    </tr>\n",
              "    <tr>\n",
              "      <th>std</th>\n",
              "      <td>421.321334</td>\n",
              "      <td>42.746880</td>\n",
              "      <td>NaN</td>\n",
              "      <td>22.376841</td>\n",
              "      <td>4955.517327</td>\n",
              "      <td>NaN</td>\n",
              "      <td>NaN</td>\n",
              "      <td>NaN</td>\n",
              "      <td>NaN</td>\n",
              "      <td>NaN</td>\n",
              "      <td>...</td>\n",
              "      <td>56.609763</td>\n",
              "      <td>30.491646</td>\n",
              "      <td>NaN</td>\n",
              "      <td>NaN</td>\n",
              "      <td>NaN</td>\n",
              "      <td>630.806978</td>\n",
              "      <td>2.722432</td>\n",
              "      <td>1.301740</td>\n",
              "      <td>NaN</td>\n",
              "      <td>NaN</td>\n",
              "    </tr>\n",
              "    <tr>\n",
              "      <th>min</th>\n",
              "      <td>1461.000000</td>\n",
              "      <td>20.000000</td>\n",
              "      <td>NaN</td>\n",
              "      <td>21.000000</td>\n",
              "      <td>1470.000000</td>\n",
              "      <td>NaN</td>\n",
              "      <td>NaN</td>\n",
              "      <td>NaN</td>\n",
              "      <td>NaN</td>\n",
              "      <td>NaN</td>\n",
              "      <td>...</td>\n",
              "      <td>0.000000</td>\n",
              "      <td>0.000000</td>\n",
              "      <td>NaN</td>\n",
              "      <td>NaN</td>\n",
              "      <td>NaN</td>\n",
              "      <td>0.000000</td>\n",
              "      <td>1.000000</td>\n",
              "      <td>2006.000000</td>\n",
              "      <td>NaN</td>\n",
              "      <td>NaN</td>\n",
              "    </tr>\n",
              "    <tr>\n",
              "      <th>25%</th>\n",
              "      <td>1825.500000</td>\n",
              "      <td>20.000000</td>\n",
              "      <td>NaN</td>\n",
              "      <td>58.000000</td>\n",
              "      <td>7391.000000</td>\n",
              "      <td>NaN</td>\n",
              "      <td>NaN</td>\n",
              "      <td>NaN</td>\n",
              "      <td>NaN</td>\n",
              "      <td>NaN</td>\n",
              "      <td>...</td>\n",
              "      <td>0.000000</td>\n",
              "      <td>0.000000</td>\n",
              "      <td>NaN</td>\n",
              "      <td>NaN</td>\n",
              "      <td>NaN</td>\n",
              "      <td>0.000000</td>\n",
              "      <td>4.000000</td>\n",
              "      <td>2007.000000</td>\n",
              "      <td>NaN</td>\n",
              "      <td>NaN</td>\n",
              "    </tr>\n",
              "    <tr>\n",
              "      <th>50%</th>\n",
              "      <td>2190.000000</td>\n",
              "      <td>50.000000</td>\n",
              "      <td>NaN</td>\n",
              "      <td>67.000000</td>\n",
              "      <td>9399.000000</td>\n",
              "      <td>NaN</td>\n",
              "      <td>NaN</td>\n",
              "      <td>NaN</td>\n",
              "      <td>NaN</td>\n",
              "      <td>NaN</td>\n",
              "      <td>...</td>\n",
              "      <td>0.000000</td>\n",
              "      <td>0.000000</td>\n",
              "      <td>NaN</td>\n",
              "      <td>NaN</td>\n",
              "      <td>NaN</td>\n",
              "      <td>0.000000</td>\n",
              "      <td>6.000000</td>\n",
              "      <td>2008.000000</td>\n",
              "      <td>NaN</td>\n",
              "      <td>NaN</td>\n",
              "    </tr>\n",
              "    <tr>\n",
              "      <th>75%</th>\n",
              "      <td>2554.500000</td>\n",
              "      <td>70.000000</td>\n",
              "      <td>NaN</td>\n",
              "      <td>80.000000</td>\n",
              "      <td>11517.500000</td>\n",
              "      <td>NaN</td>\n",
              "      <td>NaN</td>\n",
              "      <td>NaN</td>\n",
              "      <td>NaN</td>\n",
              "      <td>NaN</td>\n",
              "      <td>...</td>\n",
              "      <td>0.000000</td>\n",
              "      <td>0.000000</td>\n",
              "      <td>NaN</td>\n",
              "      <td>NaN</td>\n",
              "      <td>NaN</td>\n",
              "      <td>0.000000</td>\n",
              "      <td>8.000000</td>\n",
              "      <td>2009.000000</td>\n",
              "      <td>NaN</td>\n",
              "      <td>NaN</td>\n",
              "    </tr>\n",
              "    <tr>\n",
              "      <th>max</th>\n",
              "      <td>2919.000000</td>\n",
              "      <td>190.000000</td>\n",
              "      <td>NaN</td>\n",
              "      <td>200.000000</td>\n",
              "      <td>56600.000000</td>\n",
              "      <td>NaN</td>\n",
              "      <td>NaN</td>\n",
              "      <td>NaN</td>\n",
              "      <td>NaN</td>\n",
              "      <td>NaN</td>\n",
              "      <td>...</td>\n",
              "      <td>576.000000</td>\n",
              "      <td>800.000000</td>\n",
              "      <td>NaN</td>\n",
              "      <td>NaN</td>\n",
              "      <td>NaN</td>\n",
              "      <td>17000.000000</td>\n",
              "      <td>12.000000</td>\n",
              "      <td>2010.000000</td>\n",
              "      <td>NaN</td>\n",
              "      <td>NaN</td>\n",
              "    </tr>\n",
              "  </tbody>\n",
              "</table>\n",
              "<p>11 rows × 80 columns</p>\n",
              "</div>\n",
              "    <div class=\"colab-df-buttons\">\n",
              "\n",
              "  <div class=\"colab-df-container\">\n",
              "    <button class=\"colab-df-convert\" onclick=\"convertToInteractive('df-60b555ae-5e85-4cba-b835-95d603fa9dd5')\"\n",
              "            title=\"Convert this dataframe to an interactive table.\"\n",
              "            style=\"display:none;\">\n",
              "\n",
              "  <svg xmlns=\"http://www.w3.org/2000/svg\" height=\"24px\" viewBox=\"0 -960 960 960\">\n",
              "    <path d=\"M120-120v-720h720v720H120Zm60-500h600v-160H180v160Zm220 220h160v-160H400v160Zm0 220h160v-160H400v160ZM180-400h160v-160H180v160Zm440 0h160v-160H620v160ZM180-180h160v-160H180v160Zm440 0h160v-160H620v160Z\"/>\n",
              "  </svg>\n",
              "    </button>\n",
              "\n",
              "  <style>\n",
              "    .colab-df-container {\n",
              "      display:flex;\n",
              "      gap: 12px;\n",
              "    }\n",
              "\n",
              "    .colab-df-convert {\n",
              "      background-color: #E8F0FE;\n",
              "      border: none;\n",
              "      border-radius: 50%;\n",
              "      cursor: pointer;\n",
              "      display: none;\n",
              "      fill: #1967D2;\n",
              "      height: 32px;\n",
              "      padding: 0 0 0 0;\n",
              "      width: 32px;\n",
              "    }\n",
              "\n",
              "    .colab-df-convert:hover {\n",
              "      background-color: #E2EBFA;\n",
              "      box-shadow: 0px 1px 2px rgba(60, 64, 67, 0.3), 0px 1px 3px 1px rgba(60, 64, 67, 0.15);\n",
              "      fill: #174EA6;\n",
              "    }\n",
              "\n",
              "    .colab-df-buttons div {\n",
              "      margin-bottom: 4px;\n",
              "    }\n",
              "\n",
              "    [theme=dark] .colab-df-convert {\n",
              "      background-color: #3B4455;\n",
              "      fill: #D2E3FC;\n",
              "    }\n",
              "\n",
              "    [theme=dark] .colab-df-convert:hover {\n",
              "      background-color: #434B5C;\n",
              "      box-shadow: 0px 1px 3px 1px rgba(0, 0, 0, 0.15);\n",
              "      filter: drop-shadow(0px 1px 2px rgba(0, 0, 0, 0.3));\n",
              "      fill: #FFFFFF;\n",
              "    }\n",
              "  </style>\n",
              "\n",
              "    <script>\n",
              "      const buttonEl =\n",
              "        document.querySelector('#df-60b555ae-5e85-4cba-b835-95d603fa9dd5 button.colab-df-convert');\n",
              "      buttonEl.style.display =\n",
              "        google.colab.kernel.accessAllowed ? 'block' : 'none';\n",
              "\n",
              "      async function convertToInteractive(key) {\n",
              "        const element = document.querySelector('#df-60b555ae-5e85-4cba-b835-95d603fa9dd5');\n",
              "        const dataTable =\n",
              "          await google.colab.kernel.invokeFunction('convertToInteractive',\n",
              "                                                    [key], {});\n",
              "        if (!dataTable) return;\n",
              "\n",
              "        const docLinkHtml = 'Like what you see? Visit the ' +\n",
              "          '<a target=\"_blank\" href=https://colab.research.google.com/notebooks/data_table.ipynb>data table notebook</a>'\n",
              "          + ' to learn more about interactive tables.';\n",
              "        element.innerHTML = '';\n",
              "        dataTable['output_type'] = 'display_data';\n",
              "        await google.colab.output.renderOutput(dataTable, element);\n",
              "        const docLink = document.createElement('div');\n",
              "        docLink.innerHTML = docLinkHtml;\n",
              "        element.appendChild(docLink);\n",
              "      }\n",
              "    </script>\n",
              "  </div>\n",
              "\n",
              "\n",
              "<div id=\"df-20ee458f-e79f-432c-a61f-9c48f2fc42d0\">\n",
              "  <button class=\"colab-df-quickchart\" onclick=\"quickchart('df-20ee458f-e79f-432c-a61f-9c48f2fc42d0')\"\n",
              "            title=\"Suggest charts\"\n",
              "            style=\"display:none;\">\n",
              "\n",
              "<svg xmlns=\"http://www.w3.org/2000/svg\" height=\"24px\"viewBox=\"0 0 24 24\"\n",
              "     width=\"24px\">\n",
              "    <g>\n",
              "        <path d=\"M19 3H5c-1.1 0-2 .9-2 2v14c0 1.1.9 2 2 2h14c1.1 0 2-.9 2-2V5c0-1.1-.9-2-2-2zM9 17H7v-7h2v7zm4 0h-2V7h2v10zm4 0h-2v-4h2v4z\"/>\n",
              "    </g>\n",
              "</svg>\n",
              "  </button>\n",
              "\n",
              "<style>\n",
              "  .colab-df-quickchart {\n",
              "      --bg-color: #E8F0FE;\n",
              "      --fill-color: #1967D2;\n",
              "      --hover-bg-color: #E2EBFA;\n",
              "      --hover-fill-color: #174EA6;\n",
              "      --disabled-fill-color: #AAA;\n",
              "      --disabled-bg-color: #DDD;\n",
              "  }\n",
              "\n",
              "  [theme=dark] .colab-df-quickchart {\n",
              "      --bg-color: #3B4455;\n",
              "      --fill-color: #D2E3FC;\n",
              "      --hover-bg-color: #434B5C;\n",
              "      --hover-fill-color: #FFFFFF;\n",
              "      --disabled-bg-color: #3B4455;\n",
              "      --disabled-fill-color: #666;\n",
              "  }\n",
              "\n",
              "  .colab-df-quickchart {\n",
              "    background-color: var(--bg-color);\n",
              "    border: none;\n",
              "    border-radius: 50%;\n",
              "    cursor: pointer;\n",
              "    display: none;\n",
              "    fill: var(--fill-color);\n",
              "    height: 32px;\n",
              "    padding: 0;\n",
              "    width: 32px;\n",
              "  }\n",
              "\n",
              "  .colab-df-quickchart:hover {\n",
              "    background-color: var(--hover-bg-color);\n",
              "    box-shadow: 0 1px 2px rgba(60, 64, 67, 0.3), 0 1px 3px 1px rgba(60, 64, 67, 0.15);\n",
              "    fill: var(--button-hover-fill-color);\n",
              "  }\n",
              "\n",
              "  .colab-df-quickchart-complete:disabled,\n",
              "  .colab-df-quickchart-complete:disabled:hover {\n",
              "    background-color: var(--disabled-bg-color);\n",
              "    fill: var(--disabled-fill-color);\n",
              "    box-shadow: none;\n",
              "  }\n",
              "\n",
              "  .colab-df-spinner {\n",
              "    border: 2px solid var(--fill-color);\n",
              "    border-color: transparent;\n",
              "    border-bottom-color: var(--fill-color);\n",
              "    animation:\n",
              "      spin 1s steps(1) infinite;\n",
              "  }\n",
              "\n",
              "  @keyframes spin {\n",
              "    0% {\n",
              "      border-color: transparent;\n",
              "      border-bottom-color: var(--fill-color);\n",
              "      border-left-color: var(--fill-color);\n",
              "    }\n",
              "    20% {\n",
              "      border-color: transparent;\n",
              "      border-left-color: var(--fill-color);\n",
              "      border-top-color: var(--fill-color);\n",
              "    }\n",
              "    30% {\n",
              "      border-color: transparent;\n",
              "      border-left-color: var(--fill-color);\n",
              "      border-top-color: var(--fill-color);\n",
              "      border-right-color: var(--fill-color);\n",
              "    }\n",
              "    40% {\n",
              "      border-color: transparent;\n",
              "      border-right-color: var(--fill-color);\n",
              "      border-top-color: var(--fill-color);\n",
              "    }\n",
              "    60% {\n",
              "      border-color: transparent;\n",
              "      border-right-color: var(--fill-color);\n",
              "    }\n",
              "    80% {\n",
              "      border-color: transparent;\n",
              "      border-right-color: var(--fill-color);\n",
              "      border-bottom-color: var(--fill-color);\n",
              "    }\n",
              "    90% {\n",
              "      border-color: transparent;\n",
              "      border-bottom-color: var(--fill-color);\n",
              "    }\n",
              "  }\n",
              "</style>\n",
              "\n",
              "  <script>\n",
              "    async function quickchart(key) {\n",
              "      const quickchartButtonEl =\n",
              "        document.querySelector('#' + key + ' button');\n",
              "      quickchartButtonEl.disabled = true;  // To prevent multiple clicks.\n",
              "      quickchartButtonEl.classList.add('colab-df-spinner');\n",
              "      try {\n",
              "        const charts = await google.colab.kernel.invokeFunction(\n",
              "            'suggestCharts', [key], {});\n",
              "      } catch (error) {\n",
              "        console.error('Error during call to suggestCharts:', error);\n",
              "      }\n",
              "      quickchartButtonEl.classList.remove('colab-df-spinner');\n",
              "      quickchartButtonEl.classList.add('colab-df-quickchart-complete');\n",
              "    }\n",
              "    (() => {\n",
              "      let quickchartButtonEl =\n",
              "        document.querySelector('#df-20ee458f-e79f-432c-a61f-9c48f2fc42d0 button');\n",
              "      quickchartButtonEl.style.display =\n",
              "        google.colab.kernel.accessAllowed ? 'block' : 'none';\n",
              "    })();\n",
              "  </script>\n",
              "</div>\n",
              "    </div>\n",
              "  </div>\n"
            ]
          },
          "metadata": {},
          "execution_count": 34
        }
      ]
    },
    {
      "cell_type": "code",
      "source": [
        "train_data.shape"
      ],
      "metadata": {
        "colab": {
          "base_uri": "https://localhost:8080/"
        },
        "id": "oqdxk0GCFOWs",
        "outputId": "431b5746-27ab-4694-fcd8-5660fced991e"
      },
      "execution_count": null,
      "outputs": [
        {
          "output_type": "stream",
          "name": "stderr",
          "text": [
            "/usr/local/lib/python3.10/dist-packages/ipykernel/ipkernel.py:283: DeprecationWarning: `should_run_async` will not call `transform_cell` automatically in the future. Please pass the result to `transformed_cell` argument and any exception that happen during thetransform in `preprocessing_exc_tuple` in IPython 7.17 and above.\n",
            "  and should_run_async(code)\n"
          ]
        },
        {
          "output_type": "execute_result",
          "data": {
            "text/plain": [
              "(1460, 81)"
            ]
          },
          "metadata": {},
          "execution_count": 35
        }
      ]
    },
    {
      "cell_type": "code",
      "source": [
        "test_data.shape"
      ],
      "metadata": {
        "colab": {
          "base_uri": "https://localhost:8080/"
        },
        "id": "YIs_HK8lQRO1",
        "outputId": "4c2ad4a0-9e12-4534-b852-560a5176e9a5"
      },
      "execution_count": null,
      "outputs": [
        {
          "output_type": "stream",
          "name": "stderr",
          "text": [
            "/usr/local/lib/python3.10/dist-packages/ipykernel/ipkernel.py:283: DeprecationWarning: `should_run_async` will not call `transform_cell` automatically in the future. Please pass the result to `transformed_cell` argument and any exception that happen during thetransform in `preprocessing_exc_tuple` in IPython 7.17 and above.\n",
            "  and should_run_async(code)\n"
          ]
        },
        {
          "output_type": "execute_result",
          "data": {
            "text/plain": [
              "(1459, 80)"
            ]
          },
          "metadata": {},
          "execution_count": 36
        }
      ]
    },
    {
      "cell_type": "code",
      "source": [
        "train_data.isna().sum().sum()"
      ],
      "metadata": {
        "colab": {
          "base_uri": "https://localhost:8080/"
        },
        "id": "Z5UOEE2TEqw9",
        "outputId": "5e532239-71bc-499a-ab2a-3cc1a4d4f3a9"
      },
      "execution_count": null,
      "outputs": [
        {
          "output_type": "stream",
          "name": "stderr",
          "text": [
            "/usr/local/lib/python3.10/dist-packages/ipykernel/ipkernel.py:283: DeprecationWarning: `should_run_async` will not call `transform_cell` automatically in the future. Please pass the result to `transformed_cell` argument and any exception that happen during thetransform in `preprocessing_exc_tuple` in IPython 7.17 and above.\n",
            "  and should_run_async(code)\n"
          ]
        },
        {
          "output_type": "execute_result",
          "data": {
            "text/plain": [
              "6965"
            ]
          },
          "metadata": {},
          "execution_count": 37
        }
      ]
    },
    {
      "cell_type": "code",
      "source": [
        "test_data.isna().sum().sum()"
      ],
      "metadata": {
        "colab": {
          "base_uri": "https://localhost:8080/"
        },
        "id": "yh_UeCoDQVNY",
        "outputId": "4ad1cdbf-294f-488a-897f-f932f25e8903"
      },
      "execution_count": null,
      "outputs": [
        {
          "output_type": "stream",
          "name": "stderr",
          "text": [
            "/usr/local/lib/python3.10/dist-packages/ipykernel/ipkernel.py:283: DeprecationWarning: `should_run_async` will not call `transform_cell` automatically in the future. Please pass the result to `transformed_cell` argument and any exception that happen during thetransform in `preprocessing_exc_tuple` in IPython 7.17 and above.\n",
            "  and should_run_async(code)\n"
          ]
        },
        {
          "output_type": "execute_result",
          "data": {
            "text/plain": [
              "7000"
            ]
          },
          "metadata": {},
          "execution_count": 38
        }
      ]
    },
    {
      "cell_type": "code",
      "source": [
        "# Checking for null values in train_data\n",
        "columns_with_nulls = train_data.columns[train_data.isnull().any()]\n",
        "null_counts = train_data[columns_with_nulls].isnull().sum()\n",
        "\n",
        "print(\"Columns with null values and their corresponding counts:\")\n",
        "print(null_counts)"
      ],
      "metadata": {
        "colab": {
          "base_uri": "https://localhost:8080/"
        },
        "id": "4FhGT511E5ud",
        "outputId": "f225ae53-a4c0-4ee0-a37c-e9a6cab074b1"
      },
      "execution_count": null,
      "outputs": [
        {
          "output_type": "stream",
          "name": "stdout",
          "text": [
            "Columns with null values and their corresponding counts:\n",
            "LotFrontage      259\n",
            "Alley           1369\n",
            "MasVnrType         8\n",
            "MasVnrArea         8\n",
            "BsmtQual          37\n",
            "BsmtCond          37\n",
            "BsmtExposure      38\n",
            "BsmtFinType1      37\n",
            "BsmtFinType2      38\n",
            "Electrical         1\n",
            "FireplaceQu      690\n",
            "GarageType        81\n",
            "GarageYrBlt       81\n",
            "GarageFinish      81\n",
            "GarageQual        81\n",
            "GarageCond        81\n",
            "PoolQC          1453\n",
            "Fence           1179\n",
            "MiscFeature     1406\n",
            "dtype: int64\n"
          ]
        },
        {
          "output_type": "stream",
          "name": "stderr",
          "text": [
            "/usr/local/lib/python3.10/dist-packages/ipykernel/ipkernel.py:283: DeprecationWarning: `should_run_async` will not call `transform_cell` automatically in the future. Please pass the result to `transformed_cell` argument and any exception that happen during thetransform in `preprocessing_exc_tuple` in IPython 7.17 and above.\n",
            "  and should_run_async(code)\n"
          ]
        }
      ]
    },
    {
      "cell_type": "code",
      "source": [
        "train_data = train_data.drop(columns=['Alley','LotFrontage','FireplaceQu','PoolQC','Fence','MiscFeature'],axis=1)"
      ],
      "metadata": {
        "colab": {
          "base_uri": "https://localhost:8080/"
        },
        "id": "kwQDAYoEIT6M",
        "outputId": "a40ead7e-f40d-4567-98ed-59981e8714d3"
      },
      "execution_count": null,
      "outputs": [
        {
          "output_type": "stream",
          "name": "stderr",
          "text": [
            "/usr/local/lib/python3.10/dist-packages/ipykernel/ipkernel.py:283: DeprecationWarning: `should_run_async` will not call `transform_cell` automatically in the future. Please pass the result to `transformed_cell` argument and any exception that happen during thetransform in `preprocessing_exc_tuple` in IPython 7.17 and above.\n",
            "  and should_run_async(code)\n"
          ]
        }
      ]
    },
    {
      "cell_type": "code",
      "source": [
        "# Checking for null values in train_data\n",
        "columns_with_nulls = test_data.columns[test_data.isnull().any()]\n",
        "null_counts = test_data[columns_with_nulls].isnull().sum()\n",
        "\n",
        "print(\"Columns with null values and their corresponding counts:\")\n",
        "print(null_counts)"
      ],
      "metadata": {
        "colab": {
          "base_uri": "https://localhost:8080/"
        },
        "id": "Z3I6MusAQZw_",
        "outputId": "b7def3f0-d10f-4a30-d66c-493f46420050"
      },
      "execution_count": null,
      "outputs": [
        {
          "output_type": "stream",
          "name": "stderr",
          "text": [
            "/usr/local/lib/python3.10/dist-packages/ipykernel/ipkernel.py:283: DeprecationWarning: `should_run_async` will not call `transform_cell` automatically in the future. Please pass the result to `transformed_cell` argument and any exception that happen during thetransform in `preprocessing_exc_tuple` in IPython 7.17 and above.\n",
            "  and should_run_async(code)\n"
          ]
        },
        {
          "output_type": "stream",
          "name": "stdout",
          "text": [
            "Columns with null values and their corresponding counts:\n",
            "MSZoning           4\n",
            "LotFrontage      227\n",
            "Alley           1352\n",
            "Utilities          2\n",
            "Exterior1st        1\n",
            "Exterior2nd        1\n",
            "MasVnrType        16\n",
            "MasVnrArea        15\n",
            "BsmtQual          44\n",
            "BsmtCond          45\n",
            "BsmtExposure      44\n",
            "BsmtFinType1      42\n",
            "BsmtFinSF1         1\n",
            "BsmtFinType2      42\n",
            "BsmtFinSF2         1\n",
            "BsmtUnfSF          1\n",
            "TotalBsmtSF        1\n",
            "BsmtFullBath       2\n",
            "BsmtHalfBath       2\n",
            "KitchenQual        1\n",
            "Functional         2\n",
            "FireplaceQu      730\n",
            "GarageType        76\n",
            "GarageYrBlt       78\n",
            "GarageFinish      78\n",
            "GarageCars         1\n",
            "GarageArea         1\n",
            "GarageQual        78\n",
            "GarageCond        78\n",
            "PoolQC          1456\n",
            "Fence           1169\n",
            "MiscFeature     1408\n",
            "SaleType           1\n",
            "dtype: int64\n"
          ]
        }
      ]
    },
    {
      "cell_type": "code",
      "source": [
        "test_data = test_data.drop(columns=['Alley','LotFrontage','FireplaceQu','PoolQC','Fence','MiscFeature'],axis=1)"
      ],
      "metadata": {
        "colab": {
          "base_uri": "https://localhost:8080/"
        },
        "id": "8uvU5DJpQ3X0",
        "outputId": "044d3206-19e1-4c1d-a283-d800b946bbec"
      },
      "execution_count": null,
      "outputs": [
        {
          "output_type": "stream",
          "name": "stderr",
          "text": [
            "/usr/local/lib/python3.10/dist-packages/ipykernel/ipkernel.py:283: DeprecationWarning: `should_run_async` will not call `transform_cell` automatically in the future. Please pass the result to `transformed_cell` argument and any exception that happen during thetransform in `preprocessing_exc_tuple` in IPython 7.17 and above.\n",
            "  and should_run_async(code)\n"
          ]
        }
      ]
    },
    {
      "cell_type": "code",
      "source": [
        "# Handling missing values for training dataset\n",
        "numerical_cols = train_data.select_dtypes(include='number').columns.tolist()\n",
        "train_data[numerical_cols] = train_data[numerical_cols].fillna(train_data[numerical_cols].mean())\n",
        "\n",
        "categorical_cols = train_data.select_dtypes(exclude='number').columns.tolist()\n",
        "train_data[categorical_cols] = train_data[categorical_cols].fillna(train_data[categorical_cols].mode().iloc[0])"
      ],
      "metadata": {
        "colab": {
          "base_uri": "https://localhost:8080/"
        },
        "id": "Kr7U5zP4L1Nc",
        "outputId": "36061df4-e13a-4606-b2e5-ac185a8d1bce"
      },
      "execution_count": null,
      "outputs": [
        {
          "output_type": "stream",
          "name": "stderr",
          "text": [
            "/usr/local/lib/python3.10/dist-packages/ipykernel/ipkernel.py:283: DeprecationWarning: `should_run_async` will not call `transform_cell` automatically in the future. Please pass the result to `transformed_cell` argument and any exception that happen during thetransform in `preprocessing_exc_tuple` in IPython 7.17 and above.\n",
            "  and should_run_async(code)\n"
          ]
        }
      ]
    },
    {
      "cell_type": "code",
      "source": [
        "# Handling missing values for testing dataset\n",
        "numerical_cols = test_data.select_dtypes(include='number').columns.tolist()\n",
        "test_data[numerical_cols] = test_data[numerical_cols].fillna(test_data[numerical_cols].mean())\n",
        "\n",
        "categorical_cols = test_data.select_dtypes(exclude='number').columns.tolist()\n",
        "test_data[categorical_cols] = test_data[categorical_cols].fillna(test_data[categorical_cols].mode().iloc[0])"
      ],
      "metadata": {
        "colab": {
          "base_uri": "https://localhost:8080/"
        },
        "id": "Vp_ME5AhRKO6",
        "outputId": "c9e41ce7-b3b2-4e4b-f4ab-2d1d023ca5ec"
      },
      "execution_count": null,
      "outputs": [
        {
          "output_type": "stream",
          "name": "stderr",
          "text": [
            "/usr/local/lib/python3.10/dist-packages/ipykernel/ipkernel.py:283: DeprecationWarning: `should_run_async` will not call `transform_cell` automatically in the future. Please pass the result to `transformed_cell` argument and any exception that happen during thetransform in `preprocessing_exc_tuple` in IPython 7.17 and above.\n",
            "  and should_run_async(code)\n"
          ]
        }
      ]
    },
    {
      "cell_type": "code",
      "source": [
        "# Identifying categorical columns in training data\n",
        "categorical_cols_train = train_data.select_dtypes(include=['object']).columns.tolist()\n",
        "\n",
        "# Performing one-hot encoding for categorical columns in training data\n",
        "train_data_encoded = pd.get_dummies(train_data, columns=categorical_cols_train)\n",
        "\n",
        "# Displaying the first few rows of the encoded training data\n",
        "print(train_data_encoded.head())\n",
        "\n",
        "# Similarly, performing one-hot encoding for categorical columns in testing data\n",
        "categorical_cols_test = test_data.select_dtypes(include=['object']).columns.tolist()\n",
        "test_data_encoded = pd.get_dummies(test_data, columns=categorical_cols_test)\n",
        "\n",
        "# Displaying the first few rows of the encoded testing data\n",
        "print(test_data_encoded.head())\n"
      ],
      "metadata": {
        "colab": {
          "base_uri": "https://localhost:8080/"
        },
        "id": "Zdjq8Y1tPhEa",
        "outputId": "59d6d414-298d-4b02-9956-7e02a3472f6f"
      },
      "execution_count": null,
      "outputs": [
        {
          "output_type": "stream",
          "name": "stderr",
          "text": [
            "/usr/local/lib/python3.10/dist-packages/ipykernel/ipkernel.py:283: DeprecationWarning: `should_run_async` will not call `transform_cell` automatically in the future. Please pass the result to `transformed_cell` argument and any exception that happen during thetransform in `preprocessing_exc_tuple` in IPython 7.17 and above.\n",
            "  and should_run_async(code)\n"
          ]
        },
        {
          "output_type": "stream",
          "name": "stdout",
          "text": [
            "   Id  MSSubClass  LotArea  OverallQual  OverallCond  YearBuilt  YearRemodAdd  \\\n",
            "0   1          60     8450            7            5       2003          2003   \n",
            "1   2          20     9600            6            8       1976          1976   \n",
            "2   3          60    11250            7            5       2001          2002   \n",
            "3   4          70     9550            7            5       1915          1970   \n",
            "4   5          60    14260            8            5       2000          2000   \n",
            "\n",
            "   MasVnrArea  BsmtFinSF1  BsmtFinSF2  ...  SaleType_ConLw  SaleType_New  \\\n",
            "0       196.0         706           0  ...               0             0   \n",
            "1         0.0         978           0  ...               0             0   \n",
            "2       162.0         486           0  ...               0             0   \n",
            "3         0.0         216           0  ...               0             0   \n",
            "4       350.0         655           0  ...               0             0   \n",
            "\n",
            "   SaleType_Oth  SaleType_WD  SaleCondition_Abnorml  SaleCondition_AdjLand  \\\n",
            "0             0            1                      0                      0   \n",
            "1             0            1                      0                      0   \n",
            "2             0            1                      0                      0   \n",
            "3             0            1                      1                      0   \n",
            "4             0            1                      0                      0   \n",
            "\n",
            "   SaleCondition_Alloca  SaleCondition_Family  SaleCondition_Normal  \\\n",
            "0                     0                     0                     1   \n",
            "1                     0                     0                     1   \n",
            "2                     0                     0                     1   \n",
            "3                     0                     0                     0   \n",
            "4                     0                     0                     1   \n",
            "\n",
            "   SaleCondition_Partial  \n",
            "0                      0  \n",
            "1                      0  \n",
            "2                      0  \n",
            "3                      0  \n",
            "4                      0  \n",
            "\n",
            "[5 rows x 271 columns]\n",
            "     Id  MSSubClass  LotArea  OverallQual  OverallCond  YearBuilt  \\\n",
            "0  1461          20    11622            5            6       1961   \n",
            "1  1462          20    14267            6            6       1958   \n",
            "2  1463          60    13830            5            5       1997   \n",
            "3  1464          60     9978            6            6       1998   \n",
            "4  1465         120     5005            8            5       1992   \n",
            "\n",
            "   YearRemodAdd  MasVnrArea  BsmtFinSF1  BsmtFinSF2  ...  SaleType_ConLw  \\\n",
            "0          1961         0.0       468.0       144.0  ...               0   \n",
            "1          1958       108.0       923.0         0.0  ...               0   \n",
            "2          1998         0.0       791.0         0.0  ...               0   \n",
            "3          1998        20.0       602.0         0.0  ...               0   \n",
            "4          1992         0.0       263.0         0.0  ...               0   \n",
            "\n",
            "   SaleType_New  SaleType_Oth  SaleType_WD  SaleCondition_Abnorml  \\\n",
            "0             0             0            1                      0   \n",
            "1             0             0            1                      0   \n",
            "2             0             0            1                      0   \n",
            "3             0             0            1                      0   \n",
            "4             0             0            1                      0   \n",
            "\n",
            "   SaleCondition_AdjLand  SaleCondition_Alloca  SaleCondition_Family  \\\n",
            "0                      0                     0                     0   \n",
            "1                      0                     0                     0   \n",
            "2                      0                     0                     0   \n",
            "3                      0                     0                     0   \n",
            "4                      0                     0                     0   \n",
            "\n",
            "   SaleCondition_Normal  SaleCondition_Partial  \n",
            "0                     1                      0  \n",
            "1                     1                      0  \n",
            "2                     1                      0  \n",
            "3                     1                      0  \n",
            "4                     1                      0  \n",
            "\n",
            "[5 rows x 254 columns]\n"
          ]
        }
      ]
    },
    {
      "cell_type": "code",
      "source": [
        "train_data_encoded.shape"
      ],
      "metadata": {
        "colab": {
          "base_uri": "https://localhost:8080/"
        },
        "id": "cGzjM78kY0ZV",
        "outputId": "fe79c2e7-5adc-42f8-8bac-b977b78acd86"
      },
      "execution_count": null,
      "outputs": [
        {
          "output_type": "stream",
          "name": "stderr",
          "text": [
            "/usr/local/lib/python3.10/dist-packages/ipykernel/ipkernel.py:283: DeprecationWarning: `should_run_async` will not call `transform_cell` automatically in the future. Please pass the result to `transformed_cell` argument and any exception that happen during thetransform in `preprocessing_exc_tuple` in IPython 7.17 and above.\n",
            "  and should_run_async(code)\n"
          ]
        },
        {
          "output_type": "execute_result",
          "data": {
            "text/plain": [
              "(1460, 271)"
            ]
          },
          "metadata": {},
          "execution_count": 46
        }
      ]
    },
    {
      "cell_type": "code",
      "source": [
        "test_data_encoded.shape"
      ],
      "metadata": {
        "colab": {
          "base_uri": "https://localhost:8080/"
        },
        "id": "A7u0olHJY3s8",
        "outputId": "cde6095d-77fb-4f8e-b90d-ab2aeb0201af"
      },
      "execution_count": null,
      "outputs": [
        {
          "output_type": "stream",
          "name": "stderr",
          "text": [
            "/usr/local/lib/python3.10/dist-packages/ipykernel/ipkernel.py:283: DeprecationWarning: `should_run_async` will not call `transform_cell` automatically in the future. Please pass the result to `transformed_cell` argument and any exception that happen during thetransform in `preprocessing_exc_tuple` in IPython 7.17 and above.\n",
            "  and should_run_async(code)\n"
          ]
        },
        {
          "output_type": "execute_result",
          "data": {
            "text/plain": [
              "(1459, 254)"
            ]
          },
          "metadata": {},
          "execution_count": 47
        }
      ]
    },
    {
      "cell_type": "code",
      "source": [
        "missing_cols = set(train_data_encoded.columns) - set(test_data_encoded.columns)"
      ],
      "metadata": {
        "colab": {
          "base_uri": "https://localhost:8080/"
        },
        "id": "JmGkJooeZH4N",
        "outputId": "d3e2135d-9851-451c-c601-9759970e13ec"
      },
      "execution_count": null,
      "outputs": [
        {
          "output_type": "stream",
          "name": "stderr",
          "text": [
            "/usr/local/lib/python3.10/dist-packages/ipykernel/ipkernel.py:283: DeprecationWarning: `should_run_async` will not call `transform_cell` automatically in the future. Please pass the result to `transformed_cell` argument and any exception that happen during thetransform in `preprocessing_exc_tuple` in IPython 7.17 and above.\n",
            "  and should_run_async(code)\n"
          ]
        }
      ]
    },
    {
      "cell_type": "code",
      "source": [
        "missing_cols"
      ],
      "metadata": {
        "colab": {
          "base_uri": "https://localhost:8080/"
        },
        "id": "ul5xR2BiZKcf",
        "outputId": "ac1ffe89-3b11-4289-c798-91bfa176f139"
      },
      "execution_count": null,
      "outputs": [
        {
          "output_type": "stream",
          "name": "stderr",
          "text": [
            "/usr/local/lib/python3.10/dist-packages/ipykernel/ipkernel.py:283: DeprecationWarning: `should_run_async` will not call `transform_cell` automatically in the future. Please pass the result to `transformed_cell` argument and any exception that happen during thetransform in `preprocessing_exc_tuple` in IPython 7.17 and above.\n",
            "  and should_run_async(code)\n"
          ]
        },
        {
          "output_type": "execute_result",
          "data": {
            "text/plain": [
              "{'Condition2_RRAe',\n",
              " 'Condition2_RRAn',\n",
              " 'Condition2_RRNn',\n",
              " 'Electrical_Mix',\n",
              " 'Exterior1st_ImStucc',\n",
              " 'Exterior1st_Stone',\n",
              " 'Exterior2nd_Other',\n",
              " 'GarageQual_Ex',\n",
              " 'Heating_Floor',\n",
              " 'Heating_OthW',\n",
              " 'HouseStyle_2.5Fin',\n",
              " 'RoofMatl_ClyTile',\n",
              " 'RoofMatl_Membran',\n",
              " 'RoofMatl_Metal',\n",
              " 'RoofMatl_Roll',\n",
              " 'SalePrice',\n",
              " 'Utilities_NoSeWa'}"
            ]
          },
          "metadata": {},
          "execution_count": 49
        }
      ]
    },
    {
      "cell_type": "code",
      "source": [
        "train_data_encoded = train_data_encoded.drop(columns=['Condition2_RRAe',\n",
        " 'Condition2_RRAn',\n",
        " 'Condition2_RRNn',\n",
        " 'Electrical_Mix',\n",
        " 'Exterior1st_ImStucc',\n",
        " 'Exterior1st_Stone',\n",
        " 'Exterior2nd_Other',\n",
        " 'GarageQual_Ex',\n",
        " 'Heating_Floor',\n",
        " 'Heating_OthW',\n",
        " 'HouseStyle_2.5Fin',\n",
        " 'RoofMatl_ClyTile',\n",
        " 'RoofMatl_Membran',\n",
        " 'RoofMatl_Metal',\n",
        " 'RoofMatl_Roll',\n",
        " 'Utilities_NoSeWa'],axis=1)"
      ],
      "metadata": {
        "colab": {
          "base_uri": "https://localhost:8080/"
        },
        "id": "coqz0Yc_Zc2e",
        "outputId": "10a4c55b-fd5b-46b8-a208-45ccf0d3ba68"
      },
      "execution_count": null,
      "outputs": [
        {
          "output_type": "stream",
          "name": "stderr",
          "text": [
            "/usr/local/lib/python3.10/dist-packages/ipykernel/ipkernel.py:283: DeprecationWarning: `should_run_async` will not call `transform_cell` automatically in the future. Please pass the result to `transformed_cell` argument and any exception that happen during thetransform in `preprocessing_exc_tuple` in IPython 7.17 and above.\n",
            "  and should_run_async(code)\n"
          ]
        }
      ]
    },
    {
      "cell_type": "code",
      "source": [
        "missing_cols = set(train_data_encoded.columns) - set(test_data_encoded.columns)"
      ],
      "metadata": {
        "colab": {
          "base_uri": "https://localhost:8080/"
        },
        "id": "pUmFG1ulZlAk",
        "outputId": "3352dbbf-5c6f-485b-d334-c3ab1cb75a16"
      },
      "execution_count": null,
      "outputs": [
        {
          "output_type": "stream",
          "name": "stderr",
          "text": [
            "/usr/local/lib/python3.10/dist-packages/ipykernel/ipkernel.py:283: DeprecationWarning: `should_run_async` will not call `transform_cell` automatically in the future. Please pass the result to `transformed_cell` argument and any exception that happen during thetransform in `preprocessing_exc_tuple` in IPython 7.17 and above.\n",
            "  and should_run_async(code)\n"
          ]
        }
      ]
    },
    {
      "cell_type": "code",
      "source": [
        "missing_cols"
      ],
      "metadata": {
        "colab": {
          "base_uri": "https://localhost:8080/"
        },
        "id": "6JEwxQMnZpki",
        "outputId": "69484b40-9935-4649-fa02-5af1ad27edc5"
      },
      "execution_count": null,
      "outputs": [
        {
          "output_type": "stream",
          "name": "stderr",
          "text": [
            "/usr/local/lib/python3.10/dist-packages/ipykernel/ipkernel.py:283: DeprecationWarning: `should_run_async` will not call `transform_cell` automatically in the future. Please pass the result to `transformed_cell` argument and any exception that happen during thetransform in `preprocessing_exc_tuple` in IPython 7.17 and above.\n",
            "  and should_run_async(code)\n"
          ]
        },
        {
          "output_type": "execute_result",
          "data": {
            "text/plain": [
              "{'SalePrice'}"
            ]
          },
          "metadata": {},
          "execution_count": 52
        }
      ]
    },
    {
      "cell_type": "code",
      "source": [
        "train_data_encoded.isna().sum().sum()"
      ],
      "metadata": {
        "colab": {
          "base_uri": "https://localhost:8080/"
        },
        "id": "uN0Rh_WuL_YN",
        "outputId": "5d6d8ad2-a064-4c2c-fbd8-b5163bbbc919"
      },
      "execution_count": null,
      "outputs": [
        {
          "output_type": "stream",
          "name": "stderr",
          "text": [
            "/usr/local/lib/python3.10/dist-packages/ipykernel/ipkernel.py:283: DeprecationWarning: `should_run_async` will not call `transform_cell` automatically in the future. Please pass the result to `transformed_cell` argument and any exception that happen during thetransform in `preprocessing_exc_tuple` in IPython 7.17 and above.\n",
            "  and should_run_async(code)\n"
          ]
        },
        {
          "output_type": "execute_result",
          "data": {
            "text/plain": [
              "0"
            ]
          },
          "metadata": {},
          "execution_count": 53
        }
      ]
    },
    {
      "cell_type": "code",
      "source": [
        "train_data_encoded.head()"
      ],
      "metadata": {
        "colab": {
          "base_uri": "https://localhost:8080/",
          "height": 290
        },
        "id": "NHkdWpmoSSbt",
        "outputId": "4f1ea124-3c88-4f0e-aeaf-81a76f7ef3bb"
      },
      "execution_count": null,
      "outputs": [
        {
          "output_type": "stream",
          "name": "stderr",
          "text": [
            "/usr/local/lib/python3.10/dist-packages/ipykernel/ipkernel.py:283: DeprecationWarning: `should_run_async` will not call `transform_cell` automatically in the future. Please pass the result to `transformed_cell` argument and any exception that happen during thetransform in `preprocessing_exc_tuple` in IPython 7.17 and above.\n",
            "  and should_run_async(code)\n"
          ]
        },
        {
          "output_type": "execute_result",
          "data": {
            "text/plain": [
              "   Id  MSSubClass  LotArea  OverallQual  OverallCond  YearBuilt  YearRemodAdd  \\\n",
              "0   1          60     8450            7            5       2003          2003   \n",
              "1   2          20     9600            6            8       1976          1976   \n",
              "2   3          60    11250            7            5       2001          2002   \n",
              "3   4          70     9550            7            5       1915          1970   \n",
              "4   5          60    14260            8            5       2000          2000   \n",
              "\n",
              "   MasVnrArea  BsmtFinSF1  BsmtFinSF2  ...  SaleType_ConLw  SaleType_New  \\\n",
              "0       196.0         706           0  ...               0             0   \n",
              "1         0.0         978           0  ...               0             0   \n",
              "2       162.0         486           0  ...               0             0   \n",
              "3         0.0         216           0  ...               0             0   \n",
              "4       350.0         655           0  ...               0             0   \n",
              "\n",
              "   SaleType_Oth  SaleType_WD  SaleCondition_Abnorml  SaleCondition_AdjLand  \\\n",
              "0             0            1                      0                      0   \n",
              "1             0            1                      0                      0   \n",
              "2             0            1                      0                      0   \n",
              "3             0            1                      1                      0   \n",
              "4             0            1                      0                      0   \n",
              "\n",
              "   SaleCondition_Alloca  SaleCondition_Family  SaleCondition_Normal  \\\n",
              "0                     0                     0                     1   \n",
              "1                     0                     0                     1   \n",
              "2                     0                     0                     1   \n",
              "3                     0                     0                     0   \n",
              "4                     0                     0                     1   \n",
              "\n",
              "   SaleCondition_Partial  \n",
              "0                      0  \n",
              "1                      0  \n",
              "2                      0  \n",
              "3                      0  \n",
              "4                      0  \n",
              "\n",
              "[5 rows x 255 columns]"
            ],
            "text/html": [
              "\n",
              "  <div id=\"df-f4574289-7ea1-4e78-9fa7-640daf8239a1\" class=\"colab-df-container\">\n",
              "    <div>\n",
              "<style scoped>\n",
              "    .dataframe tbody tr th:only-of-type {\n",
              "        vertical-align: middle;\n",
              "    }\n",
              "\n",
              "    .dataframe tbody tr th {\n",
              "        vertical-align: top;\n",
              "    }\n",
              "\n",
              "    .dataframe thead th {\n",
              "        text-align: right;\n",
              "    }\n",
              "</style>\n",
              "<table border=\"1\" class=\"dataframe\">\n",
              "  <thead>\n",
              "    <tr style=\"text-align: right;\">\n",
              "      <th></th>\n",
              "      <th>Id</th>\n",
              "      <th>MSSubClass</th>\n",
              "      <th>LotArea</th>\n",
              "      <th>OverallQual</th>\n",
              "      <th>OverallCond</th>\n",
              "      <th>YearBuilt</th>\n",
              "      <th>YearRemodAdd</th>\n",
              "      <th>MasVnrArea</th>\n",
              "      <th>BsmtFinSF1</th>\n",
              "      <th>BsmtFinSF2</th>\n",
              "      <th>...</th>\n",
              "      <th>SaleType_ConLw</th>\n",
              "      <th>SaleType_New</th>\n",
              "      <th>SaleType_Oth</th>\n",
              "      <th>SaleType_WD</th>\n",
              "      <th>SaleCondition_Abnorml</th>\n",
              "      <th>SaleCondition_AdjLand</th>\n",
              "      <th>SaleCondition_Alloca</th>\n",
              "      <th>SaleCondition_Family</th>\n",
              "      <th>SaleCondition_Normal</th>\n",
              "      <th>SaleCondition_Partial</th>\n",
              "    </tr>\n",
              "  </thead>\n",
              "  <tbody>\n",
              "    <tr>\n",
              "      <th>0</th>\n",
              "      <td>1</td>\n",
              "      <td>60</td>\n",
              "      <td>8450</td>\n",
              "      <td>7</td>\n",
              "      <td>5</td>\n",
              "      <td>2003</td>\n",
              "      <td>2003</td>\n",
              "      <td>196.0</td>\n",
              "      <td>706</td>\n",
              "      <td>0</td>\n",
              "      <td>...</td>\n",
              "      <td>0</td>\n",
              "      <td>0</td>\n",
              "      <td>0</td>\n",
              "      <td>1</td>\n",
              "      <td>0</td>\n",
              "      <td>0</td>\n",
              "      <td>0</td>\n",
              "      <td>0</td>\n",
              "      <td>1</td>\n",
              "      <td>0</td>\n",
              "    </tr>\n",
              "    <tr>\n",
              "      <th>1</th>\n",
              "      <td>2</td>\n",
              "      <td>20</td>\n",
              "      <td>9600</td>\n",
              "      <td>6</td>\n",
              "      <td>8</td>\n",
              "      <td>1976</td>\n",
              "      <td>1976</td>\n",
              "      <td>0.0</td>\n",
              "      <td>978</td>\n",
              "      <td>0</td>\n",
              "      <td>...</td>\n",
              "      <td>0</td>\n",
              "      <td>0</td>\n",
              "      <td>0</td>\n",
              "      <td>1</td>\n",
              "      <td>0</td>\n",
              "      <td>0</td>\n",
              "      <td>0</td>\n",
              "      <td>0</td>\n",
              "      <td>1</td>\n",
              "      <td>0</td>\n",
              "    </tr>\n",
              "    <tr>\n",
              "      <th>2</th>\n",
              "      <td>3</td>\n",
              "      <td>60</td>\n",
              "      <td>11250</td>\n",
              "      <td>7</td>\n",
              "      <td>5</td>\n",
              "      <td>2001</td>\n",
              "      <td>2002</td>\n",
              "      <td>162.0</td>\n",
              "      <td>486</td>\n",
              "      <td>0</td>\n",
              "      <td>...</td>\n",
              "      <td>0</td>\n",
              "      <td>0</td>\n",
              "      <td>0</td>\n",
              "      <td>1</td>\n",
              "      <td>0</td>\n",
              "      <td>0</td>\n",
              "      <td>0</td>\n",
              "      <td>0</td>\n",
              "      <td>1</td>\n",
              "      <td>0</td>\n",
              "    </tr>\n",
              "    <tr>\n",
              "      <th>3</th>\n",
              "      <td>4</td>\n",
              "      <td>70</td>\n",
              "      <td>9550</td>\n",
              "      <td>7</td>\n",
              "      <td>5</td>\n",
              "      <td>1915</td>\n",
              "      <td>1970</td>\n",
              "      <td>0.0</td>\n",
              "      <td>216</td>\n",
              "      <td>0</td>\n",
              "      <td>...</td>\n",
              "      <td>0</td>\n",
              "      <td>0</td>\n",
              "      <td>0</td>\n",
              "      <td>1</td>\n",
              "      <td>1</td>\n",
              "      <td>0</td>\n",
              "      <td>0</td>\n",
              "      <td>0</td>\n",
              "      <td>0</td>\n",
              "      <td>0</td>\n",
              "    </tr>\n",
              "    <tr>\n",
              "      <th>4</th>\n",
              "      <td>5</td>\n",
              "      <td>60</td>\n",
              "      <td>14260</td>\n",
              "      <td>8</td>\n",
              "      <td>5</td>\n",
              "      <td>2000</td>\n",
              "      <td>2000</td>\n",
              "      <td>350.0</td>\n",
              "      <td>655</td>\n",
              "      <td>0</td>\n",
              "      <td>...</td>\n",
              "      <td>0</td>\n",
              "      <td>0</td>\n",
              "      <td>0</td>\n",
              "      <td>1</td>\n",
              "      <td>0</td>\n",
              "      <td>0</td>\n",
              "      <td>0</td>\n",
              "      <td>0</td>\n",
              "      <td>1</td>\n",
              "      <td>0</td>\n",
              "    </tr>\n",
              "  </tbody>\n",
              "</table>\n",
              "<p>5 rows × 255 columns</p>\n",
              "</div>\n",
              "    <div class=\"colab-df-buttons\">\n",
              "\n",
              "  <div class=\"colab-df-container\">\n",
              "    <button class=\"colab-df-convert\" onclick=\"convertToInteractive('df-f4574289-7ea1-4e78-9fa7-640daf8239a1')\"\n",
              "            title=\"Convert this dataframe to an interactive table.\"\n",
              "            style=\"display:none;\">\n",
              "\n",
              "  <svg xmlns=\"http://www.w3.org/2000/svg\" height=\"24px\" viewBox=\"0 -960 960 960\">\n",
              "    <path d=\"M120-120v-720h720v720H120Zm60-500h600v-160H180v160Zm220 220h160v-160H400v160Zm0 220h160v-160H400v160ZM180-400h160v-160H180v160Zm440 0h160v-160H620v160ZM180-180h160v-160H180v160Zm440 0h160v-160H620v160Z\"/>\n",
              "  </svg>\n",
              "    </button>\n",
              "\n",
              "  <style>\n",
              "    .colab-df-container {\n",
              "      display:flex;\n",
              "      gap: 12px;\n",
              "    }\n",
              "\n",
              "    .colab-df-convert {\n",
              "      background-color: #E8F0FE;\n",
              "      border: none;\n",
              "      border-radius: 50%;\n",
              "      cursor: pointer;\n",
              "      display: none;\n",
              "      fill: #1967D2;\n",
              "      height: 32px;\n",
              "      padding: 0 0 0 0;\n",
              "      width: 32px;\n",
              "    }\n",
              "\n",
              "    .colab-df-convert:hover {\n",
              "      background-color: #E2EBFA;\n",
              "      box-shadow: 0px 1px 2px rgba(60, 64, 67, 0.3), 0px 1px 3px 1px rgba(60, 64, 67, 0.15);\n",
              "      fill: #174EA6;\n",
              "    }\n",
              "\n",
              "    .colab-df-buttons div {\n",
              "      margin-bottom: 4px;\n",
              "    }\n",
              "\n",
              "    [theme=dark] .colab-df-convert {\n",
              "      background-color: #3B4455;\n",
              "      fill: #D2E3FC;\n",
              "    }\n",
              "\n",
              "    [theme=dark] .colab-df-convert:hover {\n",
              "      background-color: #434B5C;\n",
              "      box-shadow: 0px 1px 3px 1px rgba(0, 0, 0, 0.15);\n",
              "      filter: drop-shadow(0px 1px 2px rgba(0, 0, 0, 0.3));\n",
              "      fill: #FFFFFF;\n",
              "    }\n",
              "  </style>\n",
              "\n",
              "    <script>\n",
              "      const buttonEl =\n",
              "        document.querySelector('#df-f4574289-7ea1-4e78-9fa7-640daf8239a1 button.colab-df-convert');\n",
              "      buttonEl.style.display =\n",
              "        google.colab.kernel.accessAllowed ? 'block' : 'none';\n",
              "\n",
              "      async function convertToInteractive(key) {\n",
              "        const element = document.querySelector('#df-f4574289-7ea1-4e78-9fa7-640daf8239a1');\n",
              "        const dataTable =\n",
              "          await google.colab.kernel.invokeFunction('convertToInteractive',\n",
              "                                                    [key], {});\n",
              "        if (!dataTable) return;\n",
              "\n",
              "        const docLinkHtml = 'Like what you see? Visit the ' +\n",
              "          '<a target=\"_blank\" href=https://colab.research.google.com/notebooks/data_table.ipynb>data table notebook</a>'\n",
              "          + ' to learn more about interactive tables.';\n",
              "        element.innerHTML = '';\n",
              "        dataTable['output_type'] = 'display_data';\n",
              "        await google.colab.output.renderOutput(dataTable, element);\n",
              "        const docLink = document.createElement('div');\n",
              "        docLink.innerHTML = docLinkHtml;\n",
              "        element.appendChild(docLink);\n",
              "      }\n",
              "    </script>\n",
              "  </div>\n",
              "\n",
              "\n",
              "<div id=\"df-b55c9b23-1d14-4eb4-9ce5-6c679f4e3ad2\">\n",
              "  <button class=\"colab-df-quickchart\" onclick=\"quickchart('df-b55c9b23-1d14-4eb4-9ce5-6c679f4e3ad2')\"\n",
              "            title=\"Suggest charts\"\n",
              "            style=\"display:none;\">\n",
              "\n",
              "<svg xmlns=\"http://www.w3.org/2000/svg\" height=\"24px\"viewBox=\"0 0 24 24\"\n",
              "     width=\"24px\">\n",
              "    <g>\n",
              "        <path d=\"M19 3H5c-1.1 0-2 .9-2 2v14c0 1.1.9 2 2 2h14c1.1 0 2-.9 2-2V5c0-1.1-.9-2-2-2zM9 17H7v-7h2v7zm4 0h-2V7h2v10zm4 0h-2v-4h2v4z\"/>\n",
              "    </g>\n",
              "</svg>\n",
              "  </button>\n",
              "\n",
              "<style>\n",
              "  .colab-df-quickchart {\n",
              "      --bg-color: #E8F0FE;\n",
              "      --fill-color: #1967D2;\n",
              "      --hover-bg-color: #E2EBFA;\n",
              "      --hover-fill-color: #174EA6;\n",
              "      --disabled-fill-color: #AAA;\n",
              "      --disabled-bg-color: #DDD;\n",
              "  }\n",
              "\n",
              "  [theme=dark] .colab-df-quickchart {\n",
              "      --bg-color: #3B4455;\n",
              "      --fill-color: #D2E3FC;\n",
              "      --hover-bg-color: #434B5C;\n",
              "      --hover-fill-color: #FFFFFF;\n",
              "      --disabled-bg-color: #3B4455;\n",
              "      --disabled-fill-color: #666;\n",
              "  }\n",
              "\n",
              "  .colab-df-quickchart {\n",
              "    background-color: var(--bg-color);\n",
              "    border: none;\n",
              "    border-radius: 50%;\n",
              "    cursor: pointer;\n",
              "    display: none;\n",
              "    fill: var(--fill-color);\n",
              "    height: 32px;\n",
              "    padding: 0;\n",
              "    width: 32px;\n",
              "  }\n",
              "\n",
              "  .colab-df-quickchart:hover {\n",
              "    background-color: var(--hover-bg-color);\n",
              "    box-shadow: 0 1px 2px rgba(60, 64, 67, 0.3), 0 1px 3px 1px rgba(60, 64, 67, 0.15);\n",
              "    fill: var(--button-hover-fill-color);\n",
              "  }\n",
              "\n",
              "  .colab-df-quickchart-complete:disabled,\n",
              "  .colab-df-quickchart-complete:disabled:hover {\n",
              "    background-color: var(--disabled-bg-color);\n",
              "    fill: var(--disabled-fill-color);\n",
              "    box-shadow: none;\n",
              "  }\n",
              "\n",
              "  .colab-df-spinner {\n",
              "    border: 2px solid var(--fill-color);\n",
              "    border-color: transparent;\n",
              "    border-bottom-color: var(--fill-color);\n",
              "    animation:\n",
              "      spin 1s steps(1) infinite;\n",
              "  }\n",
              "\n",
              "  @keyframes spin {\n",
              "    0% {\n",
              "      border-color: transparent;\n",
              "      border-bottom-color: var(--fill-color);\n",
              "      border-left-color: var(--fill-color);\n",
              "    }\n",
              "    20% {\n",
              "      border-color: transparent;\n",
              "      border-left-color: var(--fill-color);\n",
              "      border-top-color: var(--fill-color);\n",
              "    }\n",
              "    30% {\n",
              "      border-color: transparent;\n",
              "      border-left-color: var(--fill-color);\n",
              "      border-top-color: var(--fill-color);\n",
              "      border-right-color: var(--fill-color);\n",
              "    }\n",
              "    40% {\n",
              "      border-color: transparent;\n",
              "      border-right-color: var(--fill-color);\n",
              "      border-top-color: var(--fill-color);\n",
              "    }\n",
              "    60% {\n",
              "      border-color: transparent;\n",
              "      border-right-color: var(--fill-color);\n",
              "    }\n",
              "    80% {\n",
              "      border-color: transparent;\n",
              "      border-right-color: var(--fill-color);\n",
              "      border-bottom-color: var(--fill-color);\n",
              "    }\n",
              "    90% {\n",
              "      border-color: transparent;\n",
              "      border-bottom-color: var(--fill-color);\n",
              "    }\n",
              "  }\n",
              "</style>\n",
              "\n",
              "  <script>\n",
              "    async function quickchart(key) {\n",
              "      const quickchartButtonEl =\n",
              "        document.querySelector('#' + key + ' button');\n",
              "      quickchartButtonEl.disabled = true;  // To prevent multiple clicks.\n",
              "      quickchartButtonEl.classList.add('colab-df-spinner');\n",
              "      try {\n",
              "        const charts = await google.colab.kernel.invokeFunction(\n",
              "            'suggestCharts', [key], {});\n",
              "      } catch (error) {\n",
              "        console.error('Error during call to suggestCharts:', error);\n",
              "      }\n",
              "      quickchartButtonEl.classList.remove('colab-df-spinner');\n",
              "      quickchartButtonEl.classList.add('colab-df-quickchart-complete');\n",
              "    }\n",
              "    (() => {\n",
              "      let quickchartButtonEl =\n",
              "        document.querySelector('#df-b55c9b23-1d14-4eb4-9ce5-6c679f4e3ad2 button');\n",
              "      quickchartButtonEl.style.display =\n",
              "        google.colab.kernel.accessAllowed ? 'block' : 'none';\n",
              "    })();\n",
              "  </script>\n",
              "</div>\n",
              "    </div>\n",
              "  </div>\n"
            ]
          },
          "metadata": {},
          "execution_count": 54
        }
      ]
    },
    {
      "cell_type": "code",
      "source": [
        "from sklearn.linear_model import LinearRegression\n",
        "from sklearn.preprocessing import StandardScaler\n",
        "\n",
        "# Splitting the data into features and target variable\n",
        "X_train = train_data_encoded.drop('SalePrice', axis=1)  # Features\n",
        "y_train = train_data_encoded['SalePrice']  # Target variable\n",
        "\n",
        "scaler = StandardScaler()\n",
        "X_train_scaled = scaler.fit_transform(X_train)"
      ],
      "metadata": {
        "colab": {
          "base_uri": "https://localhost:8080/"
        },
        "id": "m7e8JQaZMInc",
        "outputId": "2b5964d9-0468-4d6f-9e85-9e750f4373a5"
      },
      "execution_count": null,
      "outputs": [
        {
          "output_type": "stream",
          "name": "stderr",
          "text": [
            "/usr/local/lib/python3.10/dist-packages/ipykernel/ipkernel.py:283: DeprecationWarning: `should_run_async` will not call `transform_cell` automatically in the future. Please pass the result to `transformed_cell` argument and any exception that happen during thetransform in `preprocessing_exc_tuple` in IPython 7.17 and above.\n",
            "  and should_run_async(code)\n"
          ]
        }
      ]
    },
    {
      "cell_type": "code",
      "execution_count": null,
      "metadata": {
        "id": "XfvMKJjIXS5G",
        "colab": {
          "base_uri": "https://localhost:8080/"
        },
        "outputId": "6369da45-34a1-470c-d234-ed5956e2bc48"
      },
      "outputs": [
        {
          "output_type": "stream",
          "name": "stderr",
          "text": [
            "/usr/local/lib/python3.10/dist-packages/ipykernel/ipkernel.py:283: DeprecationWarning: `should_run_async` will not call `transform_cell` automatically in the future. Please pass the result to `transformed_cell` argument and any exception that happen during thetransform in `preprocessing_exc_tuple` in IPython 7.17 and above.\n",
            "  and should_run_async(code)\n"
          ]
        },
        {
          "output_type": "stream",
          "name": "stdout",
          "text": [
            "Training Set - Mean Squared Error: 560864224.0612617\n",
            "Training Set - R-squared: 0.9110697597563121\n"
          ]
        }
      ],
      "source": [
        "from sklearn.metrics import mean_squared_error, r2_score\n",
        "\n",
        "# Initialize and train the model\n",
        "model = LinearRegression()\n",
        "model.fit(X_train_scaled, y_train)\n",
        "\n",
        "# Make predictions on the validation set\n",
        "train_predictions = model.predict(X_train_scaled)\n",
        "\n",
        "# Evaluate the model\n",
        "train_mse = mean_squared_error(y_train, train_predictions)\n",
        "train_r2 = r2_score(y_train, train_predictions)\n",
        "print(f\"Training Set - Mean Squared Error: {train_mse}\")\n",
        "print(f\"Training Set - R-squared: {train_r2}\")"
      ]
    },
    {
      "cell_type": "code",
      "source": [
        "# Maaking predictions on the testing data\n",
        "X_test = test_data_encoded\n",
        "# Feature scaling on the testing data\n",
        "X_test_scaled = scaler.transform(X_test)\n",
        "\n",
        "# Predicting on the testing data using the trained model\n",
        "test_predictions = model.predict(X_test_scaled)"
      ],
      "metadata": {
        "colab": {
          "base_uri": "https://localhost:8080/"
        },
        "id": "iWF0EcAAPZqc",
        "outputId": "4f4c12b3-1f87-4416-e07d-22b2d6dc1d57"
      },
      "execution_count": null,
      "outputs": [
        {
          "output_type": "stream",
          "name": "stderr",
          "text": [
            "/usr/local/lib/python3.10/dist-packages/ipykernel/ipkernel.py:283: DeprecationWarning: `should_run_async` will not call `transform_cell` automatically in the future. Please pass the result to `transformed_cell` argument and any exception that happen during thetransform in `preprocessing_exc_tuple` in IPython 7.17 and above.\n",
            "  and should_run_async(code)\n"
          ]
        }
      ]
    },
    {
      "cell_type": "code",
      "source": [
        "test_predictions"
      ],
      "metadata": {
        "colab": {
          "base_uri": "https://localhost:8080/"
        },
        "id": "o0MUkEO7nvC9",
        "outputId": "5ebeb1ab-7020-4e80-941b-6391449e2592"
      },
      "execution_count": null,
      "outputs": [
        {
          "output_type": "stream",
          "name": "stderr",
          "text": [
            "/usr/local/lib/python3.10/dist-packages/ipykernel/ipkernel.py:283: DeprecationWarning: `should_run_async` will not call `transform_cell` automatically in the future. Please pass the result to `transformed_cell` argument and any exception that happen during thetransform in `preprocessing_exc_tuple` in IPython 7.17 and above.\n",
            "  and should_run_async(code)\n"
          ]
        },
        {
          "output_type": "execute_result",
          "data": {
            "text/plain": [
              "array([107005.95709136, 137709.95709136, 178277.95709136, ...,\n",
              "       165749.95709136,  97593.95709136, 219167.45709136])"
            ]
          },
          "metadata": {},
          "execution_count": 58
        }
      ]
    },
    {
      "cell_type": "markdown",
      "metadata": {
        "id": "_BbswDvnEX-k"
      },
      "source": [
        "# **Question 4: Using Pre-trained LLMs**"
      ]
    },
    {
      "cell_type": "markdown",
      "metadata": {
        "id": "xKwKTnW1EX-k"
      },
      "source": [
        "(20 points)\n",
        "Utilize a **pre-trained Large Language Model (LLM) from the Hugging Face Repository** for your specific task using the data collected in Assignment 3. After creating an account on Hugging Face (https://huggingface.co/), choose a relevant LLM from their repository, such as GPT-3, BERT, or RoBERTa or any Meta based text analysis model. Provide a brief description of the selected LLM, including its original sources, significant parameters, and any task-specific fine-tuning if applied.\n",
        "\n",
        "Perform a detailed analysis of the LLM's performance on your task, including key metrics, strengths, and limitations. Additionally, discuss any challenges encountered during the implementation and potential strategies for improvement. This will enable a comprehensive understanding of the chosen LLM's applicability and effectiveness for the given task.\n"
      ]
    },
    {
      "cell_type": "markdown",
      "source": [
        "Selected LLM: BERT (Bidirectional Encoder Representations from Transformers)\n",
        "\n",
        "Description: BERT, developed by Google, is a transformer-based model that leverages bidirectional context to understand word representations in text. It utilizes attention mechanisms to capture dependencies among words bidirectionally.\n",
        "\n",
        "Original Sources: BERT was introduced in the paper \"BERT: Pre-training of Deep Bidirectional Transformers for Language Understanding\" by Devlin et al. It's available in various sizes: BERT-Base (uncased and cased) and BERT-Large (uncased and cased).\n",
        "\n",
        "Significant Parameters: BERT comprises several layers (12 for BERT-Base and 24 for BERT-Large) and attention heads, enabling it to capture complex relationships in text.\n",
        "\n",
        "Fine-Tuning: BERT can be fine-tuned on specific downstream tasks using task-specific data. Fine-tuning involves training additional layers on top of pre-trained BERT weights."
      ],
      "metadata": {
        "id": "P2-PMDg2vleb"
      }
    },
    {
      "cell_type": "code",
      "source": [
        "pip install transformers"
      ],
      "metadata": {
        "colab": {
          "base_uri": "https://localhost:8080/"
        },
        "id": "pNO-qCvCLdTo",
        "outputId": "0b696641-d400-4b4e-c61b-b7869d5825fa"
      },
      "execution_count": null,
      "outputs": [
        {
          "output_type": "stream",
          "name": "stderr",
          "text": [
            "/usr/local/lib/python3.10/dist-packages/ipykernel/ipkernel.py:283: DeprecationWarning: `should_run_async` will not call `transform_cell` automatically in the future. Please pass the result to `transformed_cell` argument and any exception that happen during thetransform in `preprocessing_exc_tuple` in IPython 7.17 and above.\n",
            "  and should_run_async(code)\n"
          ]
        },
        {
          "output_type": "stream",
          "name": "stdout",
          "text": [
            "Requirement already satisfied: transformers in /usr/local/lib/python3.10/dist-packages (4.35.2)\n",
            "Requirement already satisfied: filelock in /usr/local/lib/python3.10/dist-packages (from transformers) (3.13.1)\n",
            "Requirement already satisfied: huggingface-hub<1.0,>=0.16.4 in /usr/local/lib/python3.10/dist-packages (from transformers) (0.19.4)\n",
            "Requirement already satisfied: numpy>=1.17 in /usr/local/lib/python3.10/dist-packages (from transformers) (1.23.5)\n",
            "Requirement already satisfied: packaging>=20.0 in /usr/local/lib/python3.10/dist-packages (from transformers) (23.2)\n",
            "Requirement already satisfied: pyyaml>=5.1 in /usr/local/lib/python3.10/dist-packages (from transformers) (6.0.1)\n",
            "Requirement already satisfied: regex!=2019.12.17 in /usr/local/lib/python3.10/dist-packages (from transformers) (2023.6.3)\n",
            "Requirement already satisfied: requests in /usr/local/lib/python3.10/dist-packages (from transformers) (2.31.0)\n",
            "Requirement already satisfied: tokenizers<0.19,>=0.14 in /usr/local/lib/python3.10/dist-packages (from transformers) (0.15.0)\n",
            "Requirement already satisfied: safetensors>=0.3.1 in /usr/local/lib/python3.10/dist-packages (from transformers) (0.4.1)\n",
            "Requirement already satisfied: tqdm>=4.27 in /usr/local/lib/python3.10/dist-packages (from transformers) (4.66.1)\n",
            "Requirement already satisfied: fsspec>=2023.5.0 in /usr/local/lib/python3.10/dist-packages (from huggingface-hub<1.0,>=0.16.4->transformers) (2023.6.0)\n",
            "Requirement already satisfied: typing-extensions>=3.7.4.3 in /usr/local/lib/python3.10/dist-packages (from huggingface-hub<1.0,>=0.16.4->transformers) (4.5.0)\n",
            "Requirement already satisfied: charset-normalizer<4,>=2 in /usr/local/lib/python3.10/dist-packages (from requests->transformers) (3.3.2)\n",
            "Requirement already satisfied: idna<4,>=2.5 in /usr/local/lib/python3.10/dist-packages (from requests->transformers) (3.6)\n",
            "Requirement already satisfied: urllib3<3,>=1.21.1 in /usr/local/lib/python3.10/dist-packages (from requests->transformers) (2.0.7)\n",
            "Requirement already satisfied: certifi>=2017.4.17 in /usr/local/lib/python3.10/dist-packages (from requests->transformers) (2023.11.17)\n"
          ]
        }
      ]
    },
    {
      "cell_type": "code",
      "source": [
        "# Write your code here\n",
        "\n",
        "import pandas as pd\n",
        "from transformers import BertTokenizer, BertForSequenceClassification, AdamW\n",
        "from torch.utils.data import DataLoader, Dataset\n",
        "import torch\n",
        "from sklearn.model_selection import train_test_split\n",
        "from tqdm import tqdm\n",
        "from sklearn.preprocessing import LabelEncoder\n",
        "from sklearn.metrics import accuracy_score, precision_score, recall_score, f1_score\n"
      ],
      "metadata": {
        "colab": {
          "base_uri": "https://localhost:8080/"
        },
        "id": "3VIrj7IcoPZw",
        "outputId": "56b3fffb-535f-4df7-945d-96464a91cd8d"
      },
      "execution_count": null,
      "outputs": [
        {
          "output_type": "stream",
          "name": "stderr",
          "text": [
            "/usr/local/lib/python3.10/dist-packages/ipykernel/ipkernel.py:283: DeprecationWarning: `should_run_async` will not call `transform_cell` automatically in the future. Please pass the result to `transformed_cell` argument and any exception that happen during thetransform in `preprocessing_exc_tuple` in IPython 7.17 and above.\n",
            "  and should_run_async(code)\n"
          ]
        }
      ]
    },
    {
      "cell_type": "code",
      "source": [
        "# Loading your dataset\n",
        "Surya_teja_Gongunta_dataset = pd.read_csv('Surya_teja_Gongunta.csv')\n",
        "X = Surya_teja_Gongunta_dataset['reviews'].values\n",
        "y = Surya_teja_Gongunta_dataset['Label'].values"
      ],
      "metadata": {
        "colab": {
          "base_uri": "https://localhost:8080/"
        },
        "id": "DS6NPlGZv9-A",
        "outputId": "e1ba9014-cc32-49d3-e8a6-8582e8007f2f"
      },
      "execution_count": null,
      "outputs": [
        {
          "output_type": "stream",
          "name": "stderr",
          "text": [
            "/usr/local/lib/python3.10/dist-packages/ipykernel/ipkernel.py:283: DeprecationWarning: `should_run_async` will not call `transform_cell` automatically in the future. Please pass the result to `transformed_cell` argument and any exception that happen during thetransform in `preprocessing_exc_tuple` in IPython 7.17 and above.\n",
            "  and should_run_async(code)\n"
          ]
        }
      ]
    },
    {
      "cell_type": "code",
      "source": [
        "# Encoding labels\n",
        "label_encoder = LabelEncoder()\n",
        "y = label_encoder.fit_transform(y)\n",
        "\n",
        "# Splitng data into train and test sets\n",
        "X_train, X_test, y_train, y_test = train_test_split(X, y, test_size=0.2, random_state=42)"
      ],
      "metadata": {
        "colab": {
          "base_uri": "https://localhost:8080/"
        },
        "id": "pr4HCAAewGBI",
        "outputId": "ffaa1f91-03de-446e-be2c-82df2cc84b8b"
      },
      "execution_count": null,
      "outputs": [
        {
          "output_type": "stream",
          "name": "stderr",
          "text": [
            "/usr/local/lib/python3.10/dist-packages/ipykernel/ipkernel.py:283: DeprecationWarning: `should_run_async` will not call `transform_cell` automatically in the future. Please pass the result to `transformed_cell` argument and any exception that happen during thetransform in `preprocessing_exc_tuple` in IPython 7.17 and above.\n",
            "  and should_run_async(code)\n"
          ]
        }
      ]
    },
    {
      "cell_type": "code",
      "source": [
        "# Loading BERT tokenizer and model\n",
        "tokenizer = BertTokenizer.from_pretrained('bert-base-uncased')\n",
        "model = BertForSequenceClassification.from_pretrained('bert-base-uncased', num_labels=len(label_encoder.classes_))"
      ],
      "metadata": {
        "colab": {
          "base_uri": "https://localhost:8080/"
        },
        "id": "ZIzDBxb_wG1o",
        "outputId": "50037f80-fe95-48b7-862c-4154f7dde747"
      },
      "execution_count": null,
      "outputs": [
        {
          "output_type": "stream",
          "name": "stderr",
          "text": [
            "/usr/local/lib/python3.10/dist-packages/ipykernel/ipkernel.py:283: DeprecationWarning: `should_run_async` will not call `transform_cell` automatically in the future. Please pass the result to `transformed_cell` argument and any exception that happen during thetransform in `preprocessing_exc_tuple` in IPython 7.17 and above.\n",
            "  and should_run_async(code)\n",
            "Some weights of BertForSequenceClassification were not initialized from the model checkpoint at bert-base-uncased and are newly initialized: ['classifier.weight', 'classifier.bias']\n",
            "You should probably TRAIN this model on a down-stream task to be able to use it for predictions and inference.\n"
          ]
        }
      ]
    },
    {
      "cell_type": "code",
      "source": [
        "# Tokenizing and encode data\n",
        "def tokenize_data(texts):\n",
        "    return tokenizer.batch_encode_plus(texts, padding=True, truncation=True, return_tensors='pt')\n",
        "\n",
        "train_encodings = tokenize_data(X_train)\n",
        "test_encodings = tokenize_data(X_test)"
      ],
      "metadata": {
        "colab": {
          "base_uri": "https://localhost:8080/"
        },
        "id": "RG9kSGF0wMiK",
        "outputId": "93d4d3f8-deee-4fbd-83a8-26fcaf4735c9"
      },
      "execution_count": null,
      "outputs": [
        {
          "output_type": "stream",
          "name": "stderr",
          "text": [
            "/usr/local/lib/python3.10/dist-packages/ipykernel/ipkernel.py:283: DeprecationWarning: `should_run_async` will not call `transform_cell` automatically in the future. Please pass the result to `transformed_cell` argument and any exception that happen during thetransform in `preprocessing_exc_tuple` in IPython 7.17 and above.\n",
            "  and should_run_async(code)\n"
          ]
        }
      ]
    },
    {
      "cell_type": "code",
      "source": [
        "# Create DataLoader\n",
        "from torch.utils.data import DataLoader, TensorDataset\n",
        "train_dataset = TensorDataset(train_encodings['input_ids'], train_encodings['attention_mask'], torch.tensor(y_train))\n",
        "test_dataset = TensorDataset(test_encodings['input_ids'], test_encodings['attention_mask'], torch.tensor(y_test))\n",
        "\n",
        "train_loader = DataLoader(train_dataset, batch_size=16, shuffle=True)\n",
        "test_loader = DataLoader(test_dataset, batch_size=18, shuffle=False)"
      ],
      "metadata": {
        "colab": {
          "base_uri": "https://localhost:8080/"
        },
        "id": "oZanVmB2wMlZ",
        "outputId": "8c3d2340-e85f-4c73-9c77-e683d18f2995"
      },
      "execution_count": null,
      "outputs": [
        {
          "output_type": "stream",
          "name": "stderr",
          "text": [
            "/usr/local/lib/python3.10/dist-packages/ipykernel/ipkernel.py:283: DeprecationWarning: `should_run_async` will not call `transform_cell` automatically in the future. Please pass the result to `transformed_cell` argument and any exception that happen during thetransform in `preprocessing_exc_tuple` in IPython 7.17 and above.\n",
            "  and should_run_async(code)\n"
          ]
        }
      ]
    },
    {
      "cell_type": "code",
      "source": [
        "# Fine-tuning BERT model\n",
        "optimizer = AdamW(model.parameters(), lr=1e-5)\n",
        "device = torch.device(\"cuda\" if torch.cuda.is_available() else \"cpu\")\n",
        "model.to(device)"
      ],
      "metadata": {
        "colab": {
          "base_uri": "https://localhost:8080/"
        },
        "id": "SITatXr4wbjX",
        "outputId": "3dfadf57-27dc-41e7-b411-bc349c60e368"
      },
      "execution_count": null,
      "outputs": [
        {
          "output_type": "stream",
          "name": "stderr",
          "text": [
            "/usr/local/lib/python3.10/dist-packages/ipykernel/ipkernel.py:283: DeprecationWarning: `should_run_async` will not call `transform_cell` automatically in the future. Please pass the result to `transformed_cell` argument and any exception that happen during thetransform in `preprocessing_exc_tuple` in IPython 7.17 and above.\n",
            "  and should_run_async(code)\n",
            "/usr/local/lib/python3.10/dist-packages/transformers/optimization.py:411: FutureWarning: This implementation of AdamW is deprecated and will be removed in a future version. Use the PyTorch implementation torch.optim.AdamW instead, or set `no_deprecation_warning=True` to disable this warning\n",
            "  warnings.warn(\n"
          ]
        },
        {
          "output_type": "execute_result",
          "data": {
            "text/plain": [
              "BertForSequenceClassification(\n",
              "  (bert): BertModel(\n",
              "    (embeddings): BertEmbeddings(\n",
              "      (word_embeddings): Embedding(30522, 768, padding_idx=0)\n",
              "      (position_embeddings): Embedding(512, 768)\n",
              "      (token_type_embeddings): Embedding(2, 768)\n",
              "      (LayerNorm): LayerNorm((768,), eps=1e-12, elementwise_affine=True)\n",
              "      (dropout): Dropout(p=0.1, inplace=False)\n",
              "    )\n",
              "    (encoder): BertEncoder(\n",
              "      (layer): ModuleList(\n",
              "        (0-11): 12 x BertLayer(\n",
              "          (attention): BertAttention(\n",
              "            (self): BertSelfAttention(\n",
              "              (query): Linear(in_features=768, out_features=768, bias=True)\n",
              "              (key): Linear(in_features=768, out_features=768, bias=True)\n",
              "              (value): Linear(in_features=768, out_features=768, bias=True)\n",
              "              (dropout): Dropout(p=0.1, inplace=False)\n",
              "            )\n",
              "            (output): BertSelfOutput(\n",
              "              (dense): Linear(in_features=768, out_features=768, bias=True)\n",
              "              (LayerNorm): LayerNorm((768,), eps=1e-12, elementwise_affine=True)\n",
              "              (dropout): Dropout(p=0.1, inplace=False)\n",
              "            )\n",
              "          )\n",
              "          (intermediate): BertIntermediate(\n",
              "            (dense): Linear(in_features=768, out_features=3072, bias=True)\n",
              "            (intermediate_act_fn): GELUActivation()\n",
              "          )\n",
              "          (output): BertOutput(\n",
              "            (dense): Linear(in_features=3072, out_features=768, bias=True)\n",
              "            (LayerNorm): LayerNorm((768,), eps=1e-12, elementwise_affine=True)\n",
              "            (dropout): Dropout(p=0.1, inplace=False)\n",
              "          )\n",
              "        )\n",
              "      )\n",
              "    )\n",
              "    (pooler): BertPooler(\n",
              "      (dense): Linear(in_features=768, out_features=768, bias=True)\n",
              "      (activation): Tanh()\n",
              "    )\n",
              "  )\n",
              "  (dropout): Dropout(p=0.1, inplace=False)\n",
              "  (classifier): Linear(in_features=768, out_features=3, bias=True)\n",
              ")"
            ]
          },
          "metadata": {},
          "execution_count": 67
        }
      ]
    },
    {
      "cell_type": "code",
      "source": [
        "epochs = 1\n",
        "for epoch in range(epochs):\n",
        "    model.train()\n",
        "    for batch in train_loader:\n",
        "        input_ids, attention_mask, labels = tuple(t.to(device) for t in batch)\n",
        "\n",
        "        optimizer.zero_grad()\n",
        "        outputs = model(input_ids, attention_mask=attention_mask, labels=labels)\n",
        "        loss = outputs.loss\n",
        "        loss.backward()\n",
        "        optimizer.step()"
      ],
      "metadata": {
        "colab": {
          "base_uri": "https://localhost:8080/"
        },
        "id": "i4QosLE5wbm4",
        "outputId": "cb8da6b1-c894-40aa-8c7b-e3634d69688e"
      },
      "execution_count": null,
      "outputs": [
        {
          "output_type": "stream",
          "name": "stderr",
          "text": [
            "/usr/local/lib/python3.10/dist-packages/ipykernel/ipkernel.py:283: DeprecationWarning: `should_run_async` will not call `transform_cell` automatically in the future. Please pass the result to `transformed_cell` argument and any exception that happen during thetransform in `preprocessing_exc_tuple` in IPython 7.17 and above.\n",
            "  and should_run_async(code)\n"
          ]
        }
      ]
    },
    {
      "cell_type": "code",
      "source": [
        "# Evaluating the fine-tuned model\n",
        "model.eval()\n",
        "predictions = []\n",
        "true_labels = []\n",
        "\n",
        "for batch in test_loader:\n",
        "    input_ids, attention_mask, labels = tuple(t.to(device) for t in batch)\n",
        "\n",
        "    with torch.no_grad():\n",
        "        outputs = model(input_ids, attention_mask=attention_mask)\n",
        "        logits = outputs.logits\n",
        "\n",
        "    predictions.extend(torch.argmax(logits, dim=1).cpu().tolist())\n",
        "    true_labels.extend(labels.cpu().tolist())"
      ],
      "metadata": {
        "colab": {
          "base_uri": "https://localhost:8080/"
        },
        "id": "9xWs8S09wf4-",
        "outputId": "822a4016-30d6-4cad-c74f-6a04f55c58fc"
      },
      "execution_count": null,
      "outputs": [
        {
          "output_type": "stream",
          "name": "stderr",
          "text": [
            "/usr/local/lib/python3.10/dist-packages/ipykernel/ipkernel.py:283: DeprecationWarning: `should_run_async` will not call `transform_cell` automatically in the future. Please pass the result to `transformed_cell` argument and any exception that happen during thetransform in `preprocessing_exc_tuple` in IPython 7.17 and above.\n",
            "  and should_run_async(code)\n"
          ]
        }
      ]
    },
    {
      "cell_type": "code",
      "source": [
        "# Decoding labels back to original form\n",
        "predicted_labels = label_encoder.inverse_transform(predictions)\n",
        "true_labels = label_encoder.inverse_transform(true_labels)"
      ],
      "metadata": {
        "colab": {
          "base_uri": "https://localhost:8080/"
        },
        "id": "-Neq5E9Zwf9y",
        "outputId": "802f35d2-bcb3-475a-8d69-09322224aab9"
      },
      "execution_count": null,
      "outputs": [
        {
          "output_type": "stream",
          "name": "stderr",
          "text": [
            "/usr/local/lib/python3.10/dist-packages/ipykernel/ipkernel.py:283: DeprecationWarning: `should_run_async` will not call `transform_cell` automatically in the future. Please pass the result to `transformed_cell` argument and any exception that happen during thetransform in `preprocessing_exc_tuple` in IPython 7.17 and above.\n",
            "  and should_run_async(code)\n"
          ]
        }
      ]
    },
    {
      "cell_type": "code",
      "source": [
        "# Calculating metrics\n",
        "accuracy = accuracy_score(true_labels, predicted_labels)\n",
        "precision = precision_score(true_labels, predicted_labels, average='weighted')\n",
        "recall = recall_score(true_labels, predicted_labels, average='weighted')\n",
        "f1 = f1_score(true_labels, predicted_labels, average='weighted')\n",
        "\n",
        "print(f\"Accuracy: {accuracy}, Precision: {precision}, Recall: {recall}, F1 Score: {f1}\")\n"
      ],
      "metadata": {
        "colab": {
          "base_uri": "https://localhost:8080/"
        },
        "id": "smfvUhf8rrXN",
        "outputId": "2ed9f2e7-23a8-4429-e504-a38a4deb3d0d"
      },
      "execution_count": null,
      "outputs": [
        {
          "output_type": "stream",
          "name": "stdout",
          "text": [
            "Accuracy: 0.85, Precision: 0.7224999999999999, Recall: 0.85, F1 Score: 0.7810810810810811\n"
          ]
        },
        {
          "output_type": "stream",
          "name": "stderr",
          "text": [
            "/usr/local/lib/python3.10/dist-packages/ipykernel/ipkernel.py:283: DeprecationWarning: `should_run_async` will not call `transform_cell` automatically in the future. Please pass the result to `transformed_cell` argument and any exception that happen during thetransform in `preprocessing_exc_tuple` in IPython 7.17 and above.\n",
            "  and should_run_async(code)\n",
            "/usr/local/lib/python3.10/dist-packages/sklearn/metrics/_classification.py:1344: UndefinedMetricWarning: Precision is ill-defined and being set to 0.0 in labels with no predicted samples. Use `zero_division` parameter to control this behavior.\n",
            "  _warn_prf(average, modifier, msg_start, len(result))\n"
          ]
        }
      ]
    }
  ],
  "metadata": {
    "colab": {
      "provenance": [],
      "include_colab_link": true
    },
    "kernelspec": {
      "display_name": "Python 3 (ipykernel)",
      "language": "python",
      "name": "python3"
    },
    "language_info": {
      "codemirror_mode": {
        "name": "ipython",
        "version": 3
      },
      "file_extension": ".py",
      "mimetype": "text/x-python",
      "name": "python",
      "nbconvert_exporter": "python",
      "pygments_lexer": "ipython3",
      "version": "3.9.12"
    }
  },
  "nbformat": 4,
  "nbformat_minor": 0
}